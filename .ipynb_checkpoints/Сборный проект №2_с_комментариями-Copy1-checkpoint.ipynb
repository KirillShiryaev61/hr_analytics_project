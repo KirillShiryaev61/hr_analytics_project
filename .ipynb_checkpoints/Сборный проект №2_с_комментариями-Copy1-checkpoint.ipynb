{
 "cells": [
  {
   "cell_type": "markdown",
   "id": "e4b55f8a",
   "metadata": {},
   "source": [
    "<span style=\"color: blue; font-size: 20px; font-weight: bold;\">Комментарий ревьюера</span>\n",
    "\n",
    "<span style=\"color: blue\">Привет, Кирилл! Меня зовут Павел Григорьев, и я буду проверять этот проект.<br>Моя основная цель - не указать на совершённые тобой ошибки, а поделиться своим опытом и помочь тебе совершенствоваться как профессионалу.<br>Спасибо за проделанную работу! Предлагаю общаться на «ты».</span>\n",
    "<details>\n",
    "\t<summary><u>Инструкция по организационным моментам (кликабельно)</u>⤵</summary>\n",
    "<span style=\"color: blue\">Я буду использовать различные цвета, чтобы было удобнее воспринимать мои комментарии:</span>\n",
    "\n",
    "\n",
    "---\n",
    "\n",
    "\n",
    "<span style=\"color: blue\">синий текст - просто текст комментария</span>\n",
    "\n",
    "<span style=\"color: green\">✔️ и зеленый текст - все отлично</span>\n",
    "\n",
    "<span style=\"color: orange\">⚠️ и оранжевый текст - сделано все правильно, однако есть рекомендации, на что стоит обратить внимание</span>\n",
    "\n",
    "<span style=\"color: red\">❌ и красный текст - есть недочеты</span>\n",
    "\n",
    "\n",
    "</details>    \n",
    "</br>\n",
    "<span style=\"color: blue\">Пожалуйста, не удаляй мои комментарии в случае возврата работы, так будет проще разобраться, какие были недочеты, а также сразу увидеть исправленное.</span>\n",
    "\n",
    "<span style=\"color: blue\">Ответы на мои комментарии лучше тоже помечать.<br>\n",
    "Например: </span><br><span style=\"color: purple; font-weight: bold\">Комментарий студента</span>\n",
    "\n",
    "<span style=\"color: blue; font-weight: bold;\">Давай смотреть, что получилось!</span>"
   ]
  },
  {
   "cell_type": "markdown",
   "id": "6604a337",
   "metadata": {},
   "source": [
    "# Сборный проект №2"
   ]
  },
  {
   "cell_type": "markdown",
   "id": "1788b899",
   "metadata": {},
   "source": [
    "**Описание проекта:**\n",
    "\n",
    "HR-аналитики компании «Работа с заботой» помогают бизнесу оптимизировать управление персоналом: бизнес предоставляет данные, а аналитики предлагают, как избежать финансовых потерь и оттока сотрудников. \n",
    "\n",
    "Компания предоставила данные с характеристиками сотрудников компании. Среди них — уровень удовлетворённости сотрудника работой в компании. Эту информацию получили из форм обратной связи: сотрудники заполняют тест-опросник, и по его результатам рассчитывается доля их удовлетворённости от **0** до **1**, где **0** — совершенно неудовлетворён, **1** — полностью удовлетворён.\n",
    "\n",
    "Удовлетворённость работой напрямую влияет на отток сотрудников. А предсказание оттока — одна из важнейших задач HR-аналитиков. Внезапные увольнения несут в себе риски для компании, особенно если уходит важный сотрудник.\n",
    "\n",
    "**Цель проекта:**\n",
    "\n",
    "1. Построить модель, которая сможет предсказать уровень удовлетворённости сотрудника на основе данных заказчика.\n",
    "\n",
    "   * Критерий успеха: **SMAPE ≤ 15** на тестовой выборке.\n",
    "   \n",
    "   \n",
    "2. Построить модель, которая сможет на основе данных заказчика предсказать то, что сотрудник уволится из компании.\n",
    "\n",
    "   * Критерий успеха: **ROC-AUC ≥ 0.91** на тестовой выборке.\n",
    "\n",
    "**Описание данных:**\n",
    "\n",
    "Набор признаков для 1 и 2 задач индентичны, поэтому описаны единожды после названий файлов.\n",
    "\n",
    "**Задача 1: предсказание уровня удовлетворённости сотрудника**\n",
    "\n",
    "* Тренировочная выборка: **train_job_satisfaction_rate.csv**\n",
    "* Входные признаки тестовой выборки: **test_features.csv**\n",
    "* Целевой признак тестовой выборки: **test_target_job_satisfaction_rate.csv**\n",
    "\n",
    "**Описание признаков:**\n",
    "\n",
    "* **id** — уникальный идентификатор сотрудника;\n",
    "* **dept** — отдел, в котором работает сотрудник;\n",
    "* **level** — уровень занимаемой должности;\n",
    "* **workload** — уровень загруженности сотрудника;\n",
    "* **employment_years** — длительность работы в компании (в годах);\n",
    "* **last_year_promo** — показывает, было ли повышение за последний год;\n",
    "* **last_year_violations** — показывает, нарушал ли сотрудник трудовой договор за последний год;\n",
    "* **supervisor_evaluation** — оценка качества работы сотрудника, которую дал руководитель;\n",
    "* **salary** — ежемесячная зарплата сотрудника;\n",
    "* **job_satisfaction_rate** — уровень удовлетворённости сотрудника работой в компании (целевой признак).\n",
    "\n",
    "**Задача 2: предсказание увольнения сотрудника из компании**\n",
    "\n",
    "* Тренировочная выборка: **train_quit.csv**\n",
    "* Входные признаки тестовой выборки: **test_features.csv**\n",
    "* Целевой признак тестовой выборки: **test_target_quit.csv**\n",
    "\n",
    "**Описание признаков:**\n",
    "\n",
    "* **id** — уникальный идентификатор сотрудника;\n",
    "* **dept** — отдел, в котором работает сотрудник;\n",
    "* **level** — уровень занимаемой должности;\n",
    "* **workload** — уровень загруженности сотрудника;\n",
    "* **employment_years** — длительность работы в компании (в годах);\n",
    "* **last_year_promo** — показывает, было ли повышение за последний год;\n",
    "* **last_year_violations** — показывает, нарушал ли сотрудник трудовой договор за последний год;\n",
    "* **supervisor_evaluation** — оценка качества работы сотрудника, которую дал руководитель;\n",
    "* **salary** — ежемесячная зарплата сотрудника;\n",
    "* **quit** — увольнение сотрудника из компании (целевой признак).\n",
    "\n",
    "**Ход исследования:**\n",
    "\n",
    "**Задача 1: предсказание уровня удовлетворённости сотрудника**\n",
    "\n",
    "* **Подготовка данных**: загрузка и изучение общей информации из представленных датасетов.\n",
    "* **Предобработка данных**: обработка пропущенных значений, корректировка типов данных, дубликатов и других аномалий.\n",
    "* **Исследовательский анализ данных**: изучение признаков имеющихся в датасетах, их распределение, поиск выбросов/аномалий в данных.\n",
    "* **Корреляционный анализ**: изучение взимосвязей между входными признаками и целевыми, а также и между ними.\n",
    "* **Использование пайплайнов**: написание пайплайнов для подготовки данных и обучения модели для упрощения и ускорения поиска лучшей модели и ее гиперпараметров.\n",
    "* **Поиск лучшей модели**: использование автоматического поиска лучшей модели и ее гиперпараметров с помощью **RandomSearchCV**.\n",
    "* **Анализ важности признаков**: анализ степени важности признков их влияния на принятие решений моделью с помощью метода **SHAP**.\n",
    "* **Промежуточный вывод**: резюмирование полученных результатов.\n",
    "\n",
    "**Задача 2: предсказание увольнения сотрудника из компании**\n",
    "\n",
    "* **Подготовка данных**: загрузка и изучение общей информации из представленных датасетов.\n",
    "* **Предобработка данных**: обработка пропущенных значений, корректировка типов данных, дубликатов и других аномалий.\n",
    "* **Исследовательский анализ данных**: изучение признаков имеющихся в датасетах, их распределение, поиск выбросов/аномалий в данных, построение портрета \"уволившегося сотрудника\", исследование взаимосвязи признаков удовлетворенности работой в компании и вероятности ее покинуть.\n",
    "* **Корреляционный анализ**: изучение взимосвязей между входными признаками и целевыми, а также и между ними.\n",
    "* **Использование пайплайнов**: написание пайплайнов для подготовки данных и обучения модели для упрощения и ускорения поиска лучшей модели и ее гиперпараметров.\n",
    "* **Поиск лучшей модели**: использование автоматического поиска лучшей модели и ее гиперпараметров с помощью **RandomSearchCV**.\n",
    "* **Анализ важности признаков**: анализ степени важности признков их влияния на принятие решений моделью с помощью метода **SHAP**.\n",
    "* **Промежуточный вывод**: резюмирование полученных результатов.\n",
    "\n",
    "**Общий вывод**: резюмирование полученных результатов, формулировка ключевых выводов и рекомендаций."
   ]
  },
  {
   "cell_type": "markdown",
   "id": "076b09b6",
   "metadata": {},
   "source": [
    "## Подготовка рабочей среды и вспомогательные функции:"
   ]
  },
  {
   "cell_type": "markdown",
   "id": "367d7db0",
   "metadata": {},
   "source": [
    "### Установка библиотек:"
   ]
  },
  {
   "cell_type": "raw",
   "id": "72b0d321-1eba-4fb5-8c2b-7b989198dfdf",
   "metadata": {},
   "source": [
    "# Установка библиотеки SHAP\n",
    "!pip install -q shap"
   ]
  },
  {
   "cell_type": "raw",
   "id": "2f12bf72-9c84-4c2b-a61d-89f70b37ccf1",
   "metadata": {},
   "source": [
    "# Установка библиотеки PhiK\n",
    "!pip install -q phik"
   ]
  },
  {
   "cell_type": "markdown",
   "id": "7e78d9a1",
   "metadata": {},
   "source": [
    "### Обновление библиотек:"
   ]
  },
  {
   "cell_type": "raw",
   "id": "11b8f68b-28ba-40a0-9390-535200491748",
   "metadata": {},
   "source": [
    "# Обновление библиотеки sklearn\n",
    "!pip install -qU scikit-learn"
   ]
  },
  {
   "cell_type": "markdown",
   "id": "50546d67",
   "metadata": {},
   "source": [
    "### Импорт библиотек:"
   ]
  },
  {
   "cell_type": "code",
   "execution_count": 1,
   "id": "7f520968",
   "metadata": {},
   "outputs": [],
   "source": [
    "# Импорт библиотек\n",
    "import numpy as np\n",
    "import pandas as pd\n",
    "import matplotlib.pyplot as plt\n",
    "import seaborn as sns\n",
    "from sklearn.model_selection import train_test_split, RandomizedSearchCV\n",
    "from sklearn.preprocessing import (StandardScaler, \n",
    "                                   MinMaxScaler, \n",
    "                                   OneHotEncoder, \n",
    "                                   OrdinalEncoder, \n",
    "                                   LabelEncoder, \n",
    "                                   FunctionTransformer)\n",
    "from sklearn.feature_selection import (SelectKBest,  \n",
    "                                       f_regression, \n",
    "                                       f_classif)\n",
    "from sklearn.pipeline import Pipeline\n",
    "from sklearn.compose import ColumnTransformer\n",
    "from sklearn.impute import SimpleImputer\n",
    "from sklearn.linear_model import (LogisticRegression, \n",
    "                                  LinearRegression, \n",
    "                                  ElasticNet)\n",
    "from sklearn.tree import DecisionTreeClassifier, DecisionTreeRegressor\n",
    "from sklearn.ensemble import RandomForestRegressor, RandomForestClassifier\n",
    "from sklearn.metrics import (roc_auc_score, \n",
    "                             accuracy_score, \n",
    "                             precision_score, \n",
    "                             recall_score, \n",
    "                             confusion_matrix, \n",
    "                             make_scorer, \n",
    "                             r2_score, \n",
    "                             mean_squared_error)\n",
    "from statsmodels.stats.outliers_influence import variance_inflation_factor\n",
    "from scipy.stats import anderson\n",
    "import shap\n",
    "import phik"
   ]
  },
  {
   "cell_type": "markdown",
   "id": "27175eb9",
   "metadata": {},
   "source": [
    "<font color='blue'><b>Комментарий ревьюера: </b></font> ✔️\\\n",
    "<font color='green'> Хорошее оформление импортов! \\\n",
    "Импорты собраны в одной ячейке, разделены на функциональные группы пустой строкой.</font>"
   ]
  },
  {
   "cell_type": "markdown",
   "id": "a35dbbd6",
   "metadata": {},
   "source": [
    "### Базовые настройки блокнота и константы:"
   ]
  },
  {
   "cell_type": "code",
   "execution_count": null,
   "id": "321a0b7a",
   "metadata": {},
   "outputs": [],
   "source": [
    "# Стиль графиков по умолчанию\n",
    "sns.set()\n",
    "# Убираем ограничение на кол-во отображаемых колонок в таблицах\n",
    "pd.set_option('display.max_columns', None)\n",
    "# Убираем ограничение на кол-во символов в ячейках таблиц\n",
    "pd.set_option('display.max_colwidth', None)\n",
    "# Создание константы RANDOM_STATE\n",
    "RANDOM_STATE = 6"
   ]
  },
  {
   "cell_type": "markdown",
   "id": "6e196634",
   "metadata": {},
   "source": [
    "### Функции:"
   ]
  },
  {
   "cell_type": "code",
   "execution_count": null,
   "id": "83cfcca0",
   "metadata": {},
   "outputs": [],
   "source": [
    "# Функция для проверки на наличие явных дубликатов\n",
    "def duplicate_search(df_dict):\n",
    "    '''\n",
    "    Данная функция выводит сумму явных дубликатов \n",
    "    в датафреймах, которые находятся в словаре.\n",
    "    На ввод функция принимает словарь, где\n",
    "    ключ - это строчное название датафрейма,\n",
    "    значение - это переменная датафрейма.\n",
    "    '''\n",
    "    \n",
    "    for name, df in df_dict.items():\n",
    "        print(f' === Датафрейм: {name} === ')\n",
    "        print('-' * 30)\n",
    "        print(df.duplicated().sum())\n",
    "        print()"
   ]
  },
  {
   "cell_type": "code",
   "execution_count": null,
   "id": "c20901b5",
   "metadata": {},
   "outputs": [],
   "source": [
    "# Функция для поиска неявных дубликатов\n",
    "def hidden_dup_search(df):\n",
    "    '''\n",
    "    Данная функция приводит значения категориальных \n",
    "    столбцов к единому стилю и выводит их уникальные \n",
    "    значения.\n",
    "    На ввод функция принимает переменную датафрейма.\n",
    "    '''\n",
    "    \n",
    "    # Список категориальных признаков\n",
    "    df_cat_col = df.select_dtypes(exclude = 'number').columns.tolist()\n",
    "\n",
    "    # Приводим все значения к единому стилю\n",
    "    # и проверяем уникальные значения для \n",
    "    # точечной проработки при необходимости\n",
    "    for feature in df_cat_col:\n",
    "        df[feature] = df[feature].str.lower().str.replace(' ', '_')\n",
    "        print(f'Уникальные значения признака: {str(feature)}')\n",
    "        print(df[feature].unique())\n",
    "        print()"
   ]
  },
  {
   "cell_type": "code",
   "execution_count": null,
   "id": "0c077e50",
   "metadata": {},
   "outputs": [],
   "source": [
    "# Функция для анализа количественных значений\n",
    "\n",
    "def analyzis_quantity(df, name, x_label, y_label='Частота', discrete=False, num=15):\n",
    "    '''\n",
    "    Данная функция выводит \"коробочный\" график и гистограмму \n",
    "    по указанному столбцу датафрейма и его статистические метрики.\n",
    "    Аргументы функции:\n",
    "    df - данные\n",
    "    name - название графика\n",
    "    x_label - подпись для оси Х\n",
    "    y_label - подпись для оси Y (по умолчанию \"Частота\")\n",
    "    discrete - булевое значение, дискретные значение или нет.\n",
    "    num - количество \"корзин\" на гистограмме (по умолчанию 15)\n",
    "    '''\n",
    "    # Создание составного графика\n",
    "    fig, (ax_box, ax_hist) = plt.subplots(2, sharex=True, \n",
    "                                          figsize=(9, 6), \n",
    "                                          gridspec_kw={'height_ratios': (.15, .85)})\n",
    "    sns.boxplot(x=df, orient='h', ax=ax_box)\n",
    "    sns.histplot(x=df, bins=num, discrete=discrete, ax=ax_hist)\n",
    "\n",
    "    # Настройка заголовка и подписей\n",
    "    ax_box.set(xlabel='')\n",
    "    fig.suptitle(name, fontsize=14)\n",
    "    plt.xlabel(x_label)\n",
    "    plt.ylabel(y_label)\n",
    "    \n",
    "    if discrete:\n",
    "        plt.xticks(np.arange(df.min(), df.max() + 1, 1))\n",
    "    else:\n",
    "        pass\n",
    "\n",
    "    # Отображаем график\n",
    "    plt.tight_layout()\n",
    "    plt.show()\n",
    "\n",
    "    # Вывод стат. метрик столбца\n",
    "    print(df.describe())\n",
    "    print()\n",
    "        \n",
    "    # Проверяем нормальность распределения\n",
    "    result = anderson(df)\n",
    "    print('Тест на нормальность распределения (порог=0.05):')\n",
    "    print('------------------------------------------------')\n",
    "    print(\"Статистика:\", result.statistic)\n",
    "    print(\"Критические значения:\", result.critical_values)\n",
    "    \n",
    "    if result.statistic < result.critical_values[2]:\n",
    "        print('Распределение нормальное.')\n",
    "    else:\n",
    "        print('Распределение не является нормальным.')"
   ]
  },
  {
   "cell_type": "code",
   "execution_count": null,
   "id": "ed77282c",
   "metadata": {},
   "outputs": [],
   "source": [
    "# Функция для анализа категорийных значений\n",
    "\n",
    "def analyzis_category(df, name, kind='bar'):\n",
    "    '''\n",
    "    Данная функция выводит столбчатый график\n",
    "    по указанному столбцу датафрейма и его значения \n",
    "    в табличном виде.\n",
    "    Аргументы функции:\n",
    "    df - данные\n",
    "    name - название графика\n",
    "    kind - ориентация графика вертикальная или \n",
    "    горизонтальная, принимает значения \"bar\" и \"barh\".\n",
    "    '''\n",
    "    # Подсчитываем количество каждого значения\n",
    "    category_count = df.value_counts(ascending=True)\n",
    "\n",
    "    # Создание столбчатого графика\n",
    "    plot_bar = category_count.plot(kind=kind, figsize=(9, 6), grid=True)\n",
    "\n",
    "    # Настройка заголовка и подписей\n",
    "    if kind == 'bar':\n",
    "        plt.title(name, fontsize=14)\n",
    "        plt.xlabel('')\n",
    "        plt.ylabel('Частота')\n",
    "        plt.xticks(rotation=0)\n",
    "    \n",
    "    else:\n",
    "        plt.title(name, fontsize=14)\n",
    "        plt.xlabel('Частота')\n",
    "        plt.ylabel('')\n",
    "        plt.xticks(rotation=0)\n",
    "\n",
    "    # Отображаем график\n",
    "    plt.tight_layout()\n",
    "    plt.show()\n",
    "\n",
    "    # Вывод значений в табличном виде\n",
    "    print(category_count)"
   ]
  },
  {
   "cell_type": "code",
   "execution_count": null,
   "id": "627be1fa",
   "metadata": {},
   "outputs": [],
   "source": [
    "# Функция для корректировки значений столбца \"level\"\n",
    "\n",
    "def clean_data(X):\n",
    "    X = X.copy()\n",
    "    X[X == 'sinior'] = 'senior'\n",
    "    return X"
   ]
  },
  {
   "cell_type": "markdown",
   "id": "ec3b7de2",
   "metadata": {},
   "source": [
    "<span style=\"color: blue; font-weight: bold\">Комментарий ревьюера 2: </span> ✔️\\\n",
    "<span style=\"color: green\"> 👍</span>"
   ]
  },
  {
   "cell_type": "code",
   "execution_count": null,
   "id": "1219d462",
   "metadata": {},
   "outputs": [],
   "source": [
    "# Функция для подсчета метрики SMAPE\n",
    "\n",
    "def my_smape_score(y_true, y_pred):\n",
    "    '''\n",
    "    Функция вычисляет метрику Symmetric Mean Absolute Percentage Error (SMAPE).\n",
    "    \n",
    "    Аргументы функции::\n",
    "    y_true - истинные значения.\n",
    "    y_pred - предсказанные значения.\n",
    "    '''\n",
    "    \n",
    "    # Преобразование в одномерные массивы\n",
    "    y_true = np.array(y_true).flatten()\n",
    "    y_pred = np.array(y_pred).flatten()\n",
    "    \n",
    "    # Расчет метрики\n",
    "    smape = 100 * np.mean(np.abs(y_true - y_pred) / ((np.abs(y_true) + np.abs(y_pred))/2))\n",
    "    \n",
    "    return smape"
   ]
  },
  {
   "cell_type": "markdown",
   "id": "fe1cdbd1",
   "metadata": {},
   "source": [
    "<font color='blue'><b>Комментарий ревьюера: </b></font> ✔️\\\n",
    "<font color='green'> `smape` расчитана верно.</font>"
   ]
  },
  {
   "cell_type": "code",
   "execution_count": null,
   "id": "a593d7ec",
   "metadata": {},
   "outputs": [],
   "source": [
    "# Функция для анализа количественных признаков деленных на группы \n",
    "def analyzis_group_quant(data, x, name, hue, x_label, y_label='Частота', discrete=False, stat='count', num=15):\n",
    "    \n",
    "    '''\n",
    "    Данная функция выводит гистограмму по указанному столбцу \n",
    "    датафрейма разделенные цветом по признаку указанному \n",
    "    в параметре hue и его статистические метрики.\n",
    "    Аргументы функции:\n",
    "    data - датафрейм\n",
    "    x - столец с количественными значениями\n",
    "    hue - столбец с категориями, по которым надо разделить значения\n",
    "    name - название графика\n",
    "    x_label - подпись для оси Х\n",
    "    y_label - подпись для оси Y (по умолчанию \"Частота\")\n",
    "    discrete - булевое значение, дискретные значение или нет.\n",
    "    stat - нормализация распределений.\n",
    "    num - количество \"корзин\" на гистограмме (по умолчанию 15)\n",
    "    '''\n",
    "\n",
    "    # Создание составного графика\n",
    "    fig = plt.subplots(figsize=(9, 6))\n",
    "\n",
    "    sns.histplot(data=data, x=x, bins=num, discrete=discrete, hue=hue, stat=stat)\n",
    "\n",
    "    # Настройка заголовка и подписей\n",
    "    plt.title(name, fontsize=14)\n",
    "    plt.xlabel(x_label)\n",
    "    plt.ylabel(y_label)\n",
    "    \n",
    "    if discrete:\n",
    "        plt.xticks(np.arange(data[x].min(), data[x].max() + 1, 1))\n",
    "    else:\n",
    "        pass\n",
    "\n",
    "    # Отображаем график\n",
    "    plt.tight_layout()\n",
    "    plt.show()\n",
    "\n",
    "    # Вывод стат. метрик столбца\n",
    "    print('Уволившийся сотрудник')\n",
    "    print('---------------------')\n",
    "    print(data.query('quit == \"yes\"')[x].describe())\n",
    "    print()\n",
    "    print('Работающий сотрудник')\n",
    "    print('--------------------')\n",
    "    print(data.query('quit == \"no\"')[x].describe())"
   ]
  },
  {
   "cell_type": "markdown",
   "id": "650cfd5b",
   "metadata": {},
   "source": [
    "## Задача №1: Предсказание уровня удовлетворённости сотрудника"
   ]
  },
  {
   "cell_type": "markdown",
   "id": "dcd09ca0",
   "metadata": {},
   "source": [
    "### Общая информация о данных:"
   ]
  },
  {
   "cell_type": "markdown",
   "id": "5d2e1de4",
   "metadata": {},
   "source": [
    "#### Загрузка данных:"
   ]
  },
  {
   "cell_type": "code",
   "execution_count": null,
   "id": "de87b162",
   "metadata": {},
   "outputs": [],
   "source": [
    "# Чтение датафреймов\n",
    "try:\n",
    "    df_train_1 = pd.read_csv('/Users/kirill_shiryaev/Desktop/Обучение/Проекты/Сборный проект №2/Задача №1/train_job_satisfaction_rate_fixed.csv')\n",
    "    X_test_1 = pd.read_csv('/Users/kirill_shiryaev/Desktop/Обучение/Проекты/Сборный проект №2/Задача №1/test_features_1.csv')\n",
    "    y_test_1 = pd.read_csv('/Users/kirill_shiryaev/Desktop/Обучение/Проекты/Сборный проект №2/Задача №1/test_target_job_satisfaction_rate.csv')\n",
    "except:\n",
    "    df_train_1 = pd.read_csv('/datasets/train_job_satisfaction_rate.csv')\n",
    "    X_test_1 = pd.read_csv('/datasets/test_features.csv')\n",
    "    y_test_1 = pd.read_csv('/datasets/test_target_job_satisfaction_rate.csv')"
   ]
  },
  {
   "cell_type": "markdown",
   "id": "5a333819",
   "metadata": {},
   "source": [
    "#### Датафрейм \"df_train_1\":"
   ]
  },
  {
   "cell_type": "markdown",
   "id": "84ca4509",
   "metadata": {},
   "source": [
    "**train_job_satisfaction_rate.csv** - тренировочная выборка.\n",
    "\n",
    "**Описание признаков:**\n",
    "\n",
    "* **id** — уникальный идентификатор сотрудника;\n",
    "* **dept** — отдел, в котором работает сотрудник;\n",
    "* **level** — уровень занимаемой должности;\n",
    "* **workload** — уровень загруженности сотрудника;\n",
    "* **employment_years** — длительность работы в компании (в годах);\n",
    "* **last_year_promo** — показывает, было ли повышение за последний год;\n",
    "* **last_year_violations** — показывает, нарушал ли сотрудник трудовой договор за последний год;\n",
    "* **supervisor_evaluation** — оценка качества работы сотрудника, которую дал руководитель;\n",
    "* **salary** — ежемесячная зарплата сотрудника;\n",
    "* **job_satisfaction_rate** — уровень удовлетворённости сотрудника работой в компании (целевой признак)."
   ]
  },
  {
   "cell_type": "code",
   "execution_count": null,
   "id": "8b2ad40e",
   "metadata": {},
   "outputs": [],
   "source": [
    "# Общая информация о датафрейме\n",
    "df_train_1.info()"
   ]
  },
  {
   "cell_type": "code",
   "execution_count": null,
   "id": "477de616",
   "metadata": {},
   "outputs": [],
   "source": [
    "# Рандомных 5 строк датафрейма\n",
    "df_train_1.sample(5)"
   ]
  },
  {
   "cell_type": "markdown",
   "id": "7d7c7072",
   "metadata": {},
   "source": [
    "#### Датафрейм \"X_test_1\":"
   ]
  },
  {
   "cell_type": "markdown",
   "id": "f1084068",
   "metadata": {},
   "source": [
    "**test_features.csv** - входные признаки тестовой выборки.\n",
    "\n",
    "**Описание признаков:**\n",
    "\n",
    "* **id** — уникальный идентификатор сотрудника;\n",
    "* **dept** — отдел, в котором работает сотрудник;\n",
    "* **level** — уровень занимаемой должности;\n",
    "* **workload** — уровень загруженности сотрудника;\n",
    "* **employment_years** — длительность работы в компании (в годах);\n",
    "* **last_year_promo** — показывает, было ли повышение за последний год;\n",
    "* **last_year_violations** — показывает, нарушал ли сотрудник трудовой договор за последний год;\n",
    "* **supervisor_evaluation** — оценка качества работы сотрудника, которую дал руководитель;\n",
    "* **salary** — ежемесячная зарплата сотрудника."
   ]
  },
  {
   "cell_type": "code",
   "execution_count": null,
   "id": "575da616",
   "metadata": {},
   "outputs": [],
   "source": [
    "# Общая информация о датафрейме\n",
    "X_test_1.info()"
   ]
  },
  {
   "cell_type": "code",
   "execution_count": null,
   "id": "71512989",
   "metadata": {},
   "outputs": [],
   "source": [
    "# Радомные 5 строк датафрейма\n",
    "X_test_1.sample(5)"
   ]
  },
  {
   "cell_type": "markdown",
   "id": "9bde2fc0",
   "metadata": {},
   "source": [
    "#### Датафрейм \"y_test_1\":"
   ]
  },
  {
   "cell_type": "markdown",
   "id": "cb41660e",
   "metadata": {},
   "source": [
    "**test_target_quit.csv** - целевой признак тестовой выборки.\n",
    "\n",
    "**Описание признаков:**\n",
    "\n",
    "* **job_satisfaction_rate** — уровень удовлетворённости сотрудника работой в компании, целевой признак."
   ]
  },
  {
   "cell_type": "code",
   "execution_count": null,
   "id": "605539d5",
   "metadata": {},
   "outputs": [],
   "source": [
    "# Общая информация о датафрейме\n",
    "y_test_1.info()"
   ]
  },
  {
   "cell_type": "code",
   "execution_count": null,
   "id": "c90d3a0d",
   "metadata": {},
   "outputs": [],
   "source": [
    "# Рандомные 5 строк датафрейма\n",
    "y_test_1.sample(5)"
   ]
  },
  {
   "cell_type": "markdown",
   "id": "8cdf0035",
   "metadata": {},
   "source": [
    "#### Вывод:"
   ]
  },
  {
   "cell_type": "markdown",
   "id": "c4600c86",
   "metadata": {},
   "source": [
    "В данном разделе мы получили общую информацию о датафреймах и их структуре, на основе этой информации мы можем составить план предобработки данных:\n",
    "\n",
    "* Устанавливаем индекс по столбцу **\"id\"** во всех датафреймах, необходимо на тестовых файлах проверить их соответствие и порядок, так как они находятся в разных файлах возможно наличие в них ошибок.\n",
    "* Есть малое количество пропусков, эти пропуски будут заполнены на этапе подготовки данных пайплайном.\n",
    "* Типы данных всех колонок заданы корректно.\n",
    "* Необходимо проверить данные на наличие явных и неявных дубликатов."
   ]
  },
  {
   "cell_type": "markdown",
   "id": "ca8cfdbb",
   "metadata": {},
   "source": [
    "<font color='blue'><b>Комментарий ревьюера: </b></font> ✔️\\\n",
    "<font color='green'>Данные загружены корректно, первичный осмотр проведен.</font>"
   ]
  },
  {
   "cell_type": "markdown",
   "id": "73ea1376",
   "metadata": {},
   "source": [
    "### Предобработка данных:"
   ]
  },
  {
   "cell_type": "code",
   "execution_count": null,
   "id": "80348a2a",
   "metadata": {},
   "outputs": [],
   "source": [
    "# Словарь датафреймов\n",
    "df_dict = {'df_train_1': df_train_1, \n",
    "           'X_test_1': X_test_1, \n",
    "           'y_test_1': y_test_1}"
   ]
  },
  {
   "cell_type": "markdown",
   "id": "6aa8b024",
   "metadata": {},
   "source": [
    "#### Явные дубликаты:"
   ]
  },
  {
   "cell_type": "code",
   "execution_count": null,
   "id": "db70cf64",
   "metadata": {},
   "outputs": [],
   "source": [
    "# Поиск явных дубликатов\n",
    "duplicate_search(df_dict)"
   ]
  },
  {
   "cell_type": "markdown",
   "id": "101435bf",
   "metadata": {},
   "source": [
    "Проверим на дубликаты столбцы **\"id\"**."
   ]
  },
  {
   "cell_type": "code",
   "execution_count": null,
   "id": "23f84eca",
   "metadata": {},
   "outputs": [],
   "source": [
    "# Подсчитываем количество уникальных значений \n",
    "# в столбце \"id\" в каждом датафрейме\n",
    "for name, data in df_dict.items():\n",
    "    print(f'Количество уникальных значений в столбце \"id\" датафрейма {name}: {data[\"id\"].nunique()}')"
   ]
  },
  {
   "cell_type": "markdown",
   "id": "44a7772d",
   "metadata": {},
   "source": [
    "Все значения уникальны, может установить данный столбец, как индекс, не опасаясь возникновения проблем в дальнейшем."
   ]
  },
  {
   "cell_type": "code",
   "execution_count": null,
   "id": "7b370637",
   "metadata": {},
   "outputs": [],
   "source": [
    "# Датафрейм \"df_train_1\"\n",
    "\n",
    "# Выделаем колонку \"id\" в индексы\n",
    "df_train_1 = df_train_1.set_index('id')\n",
    "\n",
    "# Убираем название индекса\n",
    "df_train_1.index.name = None\n",
    "\n",
    "# Проверяем полученный результат\n",
    "df_train_1.head()"
   ]
  },
  {
   "cell_type": "code",
   "execution_count": null,
   "id": "543bcef0",
   "metadata": {},
   "outputs": [],
   "source": [
    "# Датафрейм \"X_test_1\"\n",
    "\n",
    "# Выделаем колонку \"id\" в индексы\n",
    "X_test_1 = X_test_1.set_index('id')\n",
    "\n",
    "# Убираем название индекса\n",
    "X_test_1.index.name = None\n",
    "\n",
    "# Проверяем полученный результат\n",
    "X_test_1.head()"
   ]
  },
  {
   "cell_type": "code",
   "execution_count": null,
   "id": "6250fc0f",
   "metadata": {},
   "outputs": [],
   "source": [
    "# Датафрейм \"y_test_1\"\n",
    "\n",
    "# Выделаем колонку \"id\" в индексы\n",
    "y_test_1 = y_test_1.set_index('id')\n",
    "\n",
    "# Убираем название индекса\n",
    "y_test_1.index.name = None\n",
    "\n",
    "# Проверяем полученный результат\n",
    "y_test_1.head()"
   ]
  },
  {
   "cell_type": "markdown",
   "id": "625fe755",
   "metadata": {},
   "source": [
    "Выведя первые строки датафреймов **\"X_test_1\"** и **\"y_test_1\"**, мы видим, что строки в разных порядках, отсортируем их и сделаем проверку, в противном случае у нас будут проблемы на тесте построенной модели."
   ]
  },
  {
   "cell_type": "code",
   "execution_count": null,
   "id": "d36e6cc5",
   "metadata": {},
   "outputs": [],
   "source": [
    "# Сортируем датафреймы по индексу\n",
    "X_test_1.sort_index(inplace=True)\n",
    "y_test_1.sort_index(inplace=True)\n",
    "\n",
    "# Проверяем индексы\n",
    "index1 = X_test_1.index.tolist()\n",
    "index2 = y_test_1.index.tolist()\n",
    "\n",
    "if index1 == index2:\n",
    "    print(\"Индексы полностью совпадают!\")\n",
    "else:\n",
    "    print(\"Индексы различаются.\")"
   ]
  },
  {
   "cell_type": "markdown",
   "id": "1542cd40",
   "metadata": {},
   "source": [
    "Явных дубликатов мы не обнаружили, привели в порядок строки в датафреймах, можем двигаться дальше."
   ]
  },
  {
   "cell_type": "markdown",
   "id": "96e60453",
   "metadata": {},
   "source": [
    "#### Неявные дубликаты:"
   ]
  },
  {
   "cell_type": "code",
   "execution_count": null,
   "id": "981b6c6c",
   "metadata": {},
   "outputs": [],
   "source": [
    "# Неявные дубликаты \"df_train_1\"\n",
    "hidden_dup_search(df_train_1)"
   ]
  },
  {
   "cell_type": "markdown",
   "id": "ce9c979c",
   "metadata": {},
   "source": [
    "Неявных дубликатов не обнаружено, мы видим, что есть ошибка в написании значения **\"sinior\"**, данную ошибку отработаем пайплайном, так как скорее всего она будет регулярно встречаться в данных."
   ]
  },
  {
   "cell_type": "markdown",
   "id": "9eb3fc13",
   "metadata": {},
   "source": [
    "<span style=\"color: blue; font-weight: bold\">Комментарий ревьюера : </span> ✔️\\\n",
    "<span style=\"color: green\"> 👍</span>"
   ]
  },
  {
   "cell_type": "code",
   "execution_count": null,
   "id": "9dbad8ce",
   "metadata": {
    "scrolled": true
   },
   "outputs": [],
   "source": [
    "# Неявные дубликаты \"X_test_1\"\n",
    "hidden_dup_search(X_test_1)"
   ]
  },
  {
   "cell_type": "markdown",
   "id": "579a4a9d",
   "metadata": {},
   "source": [
    "Неявных дубликатов не обнаружено. Некорректные значения оставляем без изменений, для отработки пайплайном, чтобы тест проходил максимально приближенно к реальной ситуации, потому что скорее всего такие ситуации будут происходить регулярно, так как данные заполняются людьми.\n",
    "\n",
    "Дополнительно проверим полные дубликаты в датафреймах, после преобразований таблиц."
   ]
  },
  {
   "cell_type": "code",
   "execution_count": null,
   "id": "c15defbd",
   "metadata": {},
   "outputs": [],
   "source": [
    "# Обновляем словарь датафреймов\n",
    "df_dict = {'df_train_1': df_train_1, \n",
    "           'X_test_1': X_test_1, \n",
    "           'y_test_1': y_test_1}"
   ]
  },
  {
   "cell_type": "code",
   "execution_count": null,
   "id": "9c530fa2",
   "metadata": {},
   "outputs": [],
   "source": [
    "# Поиск явных дубликатов\n",
    "duplicate_search(df_dict)"
   ]
  },
  {
   "cell_type": "markdown",
   "id": "d94465c4",
   "metadata": {},
   "source": [
    "После преобразований таблиц, у нас образовались полные дубликаты. Таблицы **X_test_1** и **y_test_1** более корректно рассматривать объединенно, но наличие в них явных дубликатов это не страшно, это реальные данные и будут использоваться для тестирования модели, оставляем их без изменений, для таблицы **df_train_1** наличие явных дубликатов это критично, так как дубликаты снизят качество модели на тесте, поэтому нам необходимо их удалить."
   ]
  },
  {
   "cell_type": "code",
   "execution_count": null,
   "id": "49bfaeab",
   "metadata": {},
   "outputs": [],
   "source": [
    "# Удаляем явные дубликаты\n",
    "df_train_1 = df_train_1.drop_duplicates()"
   ]
  },
  {
   "cell_type": "code",
   "execution_count": null,
   "id": "0eb30186",
   "metadata": {},
   "outputs": [],
   "source": [
    "# Проверяем изменения\n",
    "df_train_1.duplicated().sum()"
   ]
  },
  {
   "cell_type": "markdown",
   "id": "7e37cc87",
   "metadata": {},
   "source": [
    "<font color='blue'><b>Комментарий ревьюера : </b></font> ✔️\\\n",
    "<font color='green'> Отлично! Удалили явные дубликаты.</font>"
   ]
  },
  {
   "cell_type": "markdown",
   "id": "b8801d17",
   "metadata": {},
   "source": [
    "#### Вывод:"
   ]
  },
  {
   "cell_type": "markdown",
   "id": "077ff098",
   "metadata": {},
   "source": [
    "**Типы данных:**\n",
    "\n",
    "В данных датафреймах все признаки имеют корректный тип данных.\n",
    "\n",
    "**Пропущенные значения:**\n",
    "\n",
    "В датафреймах присутствуют пропуски в категориальных признаках, они будут отработаны пайплайном подготовки данных.\n",
    "\n",
    "**Явные дубликаты:**\n",
    "\n",
    "Явные дубликаты обнаружены во всех датафреймах после преобразования таблиц, для таблиц **X_test_1** и **y_test_1** это не страшно, это реальные данные и будут использоваться для тестирования модели оставляем данные без изменений, то для таблицы **df_train_1** это будет критично, так как дубликаты снизят качество модели на тесте, поэтому нам необходимо их удалить. Из датафрейма **df_train_1** удалено **245** строк.\n",
    "\n",
    "**Неявные дубликаты:**\n",
    "\n",
    "Неявные дубликаты в датафреймах отсутствуют. Некорреткные значения будут отработаны пайплайном подготовки данных, так как эту ошибку придется исправлять каждый раз перед выполнения предсказания моделью, а также она может в течении времени исправиться в данных от заказчика, и чтобы модель не ломалась мы этот этап занесем в пайплайн.\n",
    "\n",
    "**Преобразование таблиц:**\n",
    "\n",
    "Во всех таблицах колонку **\"id\"** мы задали, как индекс, а так же привели в корректный порядок строки таблиц **\"X_test_1\"** и **\"y_test_1\"** для избежания проблем с тестированием модели. "
   ]
  },
  {
   "cell_type": "markdown",
   "id": "3379fdc0",
   "metadata": {},
   "source": [
    "<font color='blue'><b>Комментарий ревьюера: </b></font> ✔️ <br>\n",
    "<font color='green'>Здорово, что не забываешь про промежуточные выводы.</font>"
   ]
  },
  {
   "cell_type": "markdown",
   "id": "e94a6629",
   "metadata": {},
   "source": [
    "### Исследовательский анализ:"
   ]
  },
  {
   "cell_type": "markdown",
   "id": "7e4c7d61",
   "metadata": {},
   "source": [
    "#### Датафрейм \"df_train_1\":"
   ]
  },
  {
   "cell_type": "markdown",
   "id": "c5864433",
   "metadata": {},
   "source": [
    "##### Количественные признаки:"
   ]
  },
  {
   "cell_type": "code",
   "execution_count": null,
   "id": "3e598b52",
   "metadata": {},
   "outputs": [],
   "source": [
    "# Статистики по количественным признакам\n",
    "desc = df_train_1.describe().T\n",
    "\n",
    "# Подсчет коэффициента вариативности значений\n",
    "desc['cv_coef'] = desc['std'] / desc['mean']\n",
    "desc"
   ]
  },
  {
   "cell_type": "markdown",
   "id": "8b73be0c",
   "metadata": {},
   "source": [
    "Явных выбросов и аномальных значений мы не наблюдаем. Коэффициент вариативности значений нам говорит, что каждый признак достаточно сильно вариативен (**>~0.3**) и может быть полезен для построения модели."
   ]
  },
  {
   "cell_type": "code",
   "execution_count": null,
   "id": "5d128b36",
   "metadata": {},
   "outputs": [],
   "source": [
    "# Признак \"employment_years\"\n",
    "analyzis_quantity(df_train_1['employment_years'], \n",
    "                  name='Распределение значений стажа сотрудников', \n",
    "                  x_label='Стаж сотрудников в годах', \n",
    "                  y_label='Количество', \n",
    "                  discrete=True)"
   ]
  },
  {
   "cell_type": "markdown",
   "id": "904ab402",
   "metadata": {},
   "source": [
    "Значения признака **\"employment_years\"** имеет положительно ассиметричное распределение с тяжелым хвостом справа, выбросы отсутствуют. \n",
    "\n",
    "Пик находится на значении **1**, что может нам говорит о высоком уровне текучести кадров, либо о том, что компания очень активно расширяется. \n",
    "\n",
    "* Основной диапозон значений - от **2** до **6**\n",
    "* Минимальное значение - **1**\n",
    "* Среднее значение - **3**\n",
    "* Максимальное значение - **10**"
   ]
  },
  {
   "cell_type": "code",
   "execution_count": null,
   "id": "852c5a8e",
   "metadata": {},
   "outputs": [],
   "source": [
    "# Признак \"supervisor_evaluation\"\n",
    "analyzis_quantity(df_train_1['supervisor_evaluation'], \n",
    "                  name='Распределение оценок качества работы сотрудника', \n",
    "                  x_label='Оценка качества работы сотрудника', \n",
    "                  y_label='Количество', \n",
    "                  discrete=True)"
   ]
  },
  {
   "cell_type": "markdown",
   "id": "cc0eb1cb",
   "metadata": {},
   "source": [
    "Значения признака **\"supervisor_evaluation\"** имеют отрицительно ассиметричное распределение с пиком на значении **4**, выброс показанный на коробчатом графике таковым не является, значения оставляем без изменений. \n",
    "\n",
    "Данный график говорит нам, что основная масса сотрудников имеют хорошую или удовлетворительную оценку своей работы.\n",
    "\n",
    "* Основной диапозон значений - от **3** до **4**\n",
    "* Минимальное значение - **1**\n",
    "* Среднее значение - **4**\n",
    "* Максимальное значение - **5**"
   ]
  },
  {
   "cell_type": "code",
   "execution_count": null,
   "id": "2d6fb345",
   "metadata": {},
   "outputs": [],
   "source": [
    "# Признак \"salary\"\n",
    "analyzis_quantity(df_train_1['salary'], \n",
    "                  name='Распределение ежемесячных зарплат сотрудников', \n",
    "                  x_label='Значения ежемесячных зарплат сотрудников', \n",
    "                  y_label='Количество')"
   ]
  },
  {
   "cell_type": "markdown",
   "id": "afbf2143",
   "metadata": {},
   "source": [
    "Значения признака **\"salary\"** имеют положительно ассиметричное распределение с пиком на значении **~27000**, выбросы показанные на коробчатом графике таковыми не являются, значения оставляем без изменений. \n",
    "\n",
    "* Основной диапозон значений - от **22800** до **44400**\n",
    "* Минимальное значение - **12000**\n",
    "* Среднее значение - **31200**\n",
    "* Максимальное значение - **98400**"
   ]
  },
  {
   "cell_type": "code",
   "execution_count": null,
   "id": "31d439b7",
   "metadata": {},
   "outputs": [],
   "source": [
    "# Признак \"job_satisfaction_rate\"\n",
    "analyzis_quantity(df_train_1['job_satisfaction_rate'], \n",
    "                  name='Распределение значений уровня удовлетворения работой в компании сотрудником', \n",
    "                  x_label='Уровень удовлетворения работой в компании сотрудником', \n",
    "                  y_label='Количество')"
   ]
  },
  {
   "cell_type": "markdown",
   "id": "ff0226b7",
   "metadata": {},
   "source": [
    "Значения признака **\"job_satisfaction_rate\"** имеет отрицательно ассиметричное распределение, оно имеет 1 основой пик на значении **~0.7**, и **2** пика на хвосте на значениях **0.4** и **0.2**. Выбросы отсутствуют. \n",
    "\n",
    "Глядя на график можем сделать вывод, что в основном сотрудники средне удовлетворены работой в компании, но она стремится в сторону хорошего уровня.\n",
    "\n",
    "* Основной диапозон значений - от **0.35** до **0.71**\n",
    "* Минимальное значение - **0.03**\n",
    "* Среднее значение - **0.55**\n",
    "* Максимальное значение - **1**"
   ]
  },
  {
   "cell_type": "markdown",
   "id": "289b35cd",
   "metadata": {},
   "source": [
    "##### Категориальные признаки:"
   ]
  },
  {
   "cell_type": "code",
   "execution_count": null,
   "id": "d7c3ed56",
   "metadata": {},
   "outputs": [],
   "source": [
    "# Признак \"dept\"\n",
    "analyzis_category(df_train_1['dept'], \n",
    "                  name='Соотношение количества сотрудников по отделам')"
   ]
  },
  {
   "cell_type": "markdown",
   "id": "b44cdeb3",
   "metadata": {},
   "source": [
    "Наибольшее количество сотрудников находится в отделе продаж (**sales**), меньше всего сотрудников в отделе кадров (**hr**)."
   ]
  },
  {
   "cell_type": "code",
   "execution_count": null,
   "id": "d4e50de7",
   "metadata": {},
   "outputs": [],
   "source": [
    "# Признак \"level\"\n",
    "analyzis_category(df_train_1['level'], \n",
    "                  name='Соотношение сотрудников по уровню занимаемой должности')"
   ]
  },
  {
   "cell_type": "markdown",
   "id": "060e5dc0",
   "metadata": {},
   "source": [
    "Соотношение сотрудников по уровню занимаемой должности **\"sinior\"**, **\"medium\"** и **\"junior\"** - **1 : 4.5 : 4.5** соответственно. "
   ]
  },
  {
   "cell_type": "code",
   "execution_count": null,
   "id": "c5eb7c3e",
   "metadata": {},
   "outputs": [],
   "source": [
    "# Признак \"workload\"\n",
    "analyzis_category(df_train_1['workload'], \n",
    "                  name='Соотношение сотрудников по уровню загруженности')"
   ]
  },
  {
   "cell_type": "markdown",
   "id": "4178f956",
   "metadata": {},
   "source": [
    "Соотношение сотрудников по уровню загруженности **\"low\"**, **\"medium\"** и **\"high\"** - **3 : 5 : 2** соответственно."
   ]
  },
  {
   "cell_type": "code",
   "execution_count": null,
   "id": "f3cfd73f",
   "metadata": {},
   "outputs": [],
   "source": [
    "# Признак \"last_year_promo\"\n",
    "analyzis_category(df_train_1['last_year_promo'], \n",
    "                  name='Соотношение сотрудников по наличию повышения за последний год')"
   ]
  },
  {
   "cell_type": "markdown",
   "id": "4ceb5f6e",
   "metadata": {},
   "source": [
    "Повышение за последний год получило **3%** сотрудников."
   ]
  },
  {
   "cell_type": "code",
   "execution_count": null,
   "id": "40968388",
   "metadata": {},
   "outputs": [],
   "source": [
    "# Признак \"last_year_violations\"\n",
    "analyzis_category(df_train_1['last_year_violations'], \n",
    "                  name='Соотношение сотрудников по наличию нарушений \\n по трудовому договору за последний год')"
   ]
  },
  {
   "cell_type": "markdown",
   "id": "dd80b1df",
   "metadata": {},
   "source": [
    "Около **15%** сотрудников имели за последний год нарушения по трудовому договору."
   ]
  },
  {
   "cell_type": "markdown",
   "id": "922f4023",
   "metadata": {},
   "source": [
    "#### Датафрейм \"X_test_1\":"
   ]
  },
  {
   "cell_type": "markdown",
   "id": "c08abc5c",
   "metadata": {},
   "source": [
    "<font color='blue'><b>Комментарий ревьюера : </b></font> ✔️\\\n",
    "<font color='green'> Здорово, что сравниваешь выборки!</font>"
   ]
  },
  {
   "cell_type": "markdown",
   "id": "5a366943",
   "metadata": {},
   "source": [
    "##### Количественные признаки:"
   ]
  },
  {
   "cell_type": "code",
   "execution_count": null,
   "id": "92534acb",
   "metadata": {},
   "outputs": [],
   "source": [
    "# Статистики по количественным признакам\n",
    "desc_test = X_test_1.describe().T\n",
    "\n",
    "# Подсчет коэффициента вариативности значений\n",
    "desc_test['cv_coef'] = desc_test['std'] / desc_test['mean']\n",
    "desc_test"
   ]
  },
  {
   "cell_type": "code",
   "execution_count": null,
   "id": "4e2470d0",
   "metadata": {},
   "outputs": [],
   "source": [
    "# Выводим статистики из тренировочной выборки для сравнения\n",
    "desc"
   ]
  },
  {
   "cell_type": "markdown",
   "id": "cf909e33",
   "metadata": {},
   "source": [
    "Значения статистик очень схожи, рассмотрим графики этих признаков, комментарии будут оставлены, если будут замечены какие то отличия."
   ]
  },
  {
   "cell_type": "code",
   "execution_count": null,
   "id": "30e376b0",
   "metadata": {},
   "outputs": [],
   "source": [
    "# Признак \"employment_years\"\n",
    "analyzis_quantity(X_test_1['employment_years'], \n",
    "                  name='Распределение значений стажа сотрудников', \n",
    "                  x_label='Стаж сотрудников в годах', \n",
    "                  y_label='Количество', \n",
    "                  discrete=True)"
   ]
  },
  {
   "cell_type": "code",
   "execution_count": null,
   "id": "290ce1fd",
   "metadata": {},
   "outputs": [],
   "source": [
    "# Признак \"supervisor_evaluation\"\n",
    "analyzis_quantity(X_test_1['supervisor_evaluation'], \n",
    "                  name='Распределение оценок качества работы сотрудника', \n",
    "                  x_label='Оценка качества работы сотрудника', \n",
    "                  y_label='Количество', \n",
    "                  discrete=True)"
   ]
  },
  {
   "cell_type": "code",
   "execution_count": null,
   "id": "2986a3cf",
   "metadata": {},
   "outputs": [],
   "source": [
    "# Признак \"salary\"\n",
    "analyzis_quantity(X_test_1['salary'], \n",
    "                  name='Распределение ежемесячных зарплат сотрудников', \n",
    "                  x_label='Значения ежемесячных зарплат сотрудников', \n",
    "                  y_label='Количество')"
   ]
  },
  {
   "cell_type": "markdown",
   "id": "264580d1",
   "metadata": {},
   "source": [
    "##### Категориальные признаки:"
   ]
  },
  {
   "cell_type": "code",
   "execution_count": null,
   "id": "d88f64bd",
   "metadata": {},
   "outputs": [],
   "source": [
    "# Признак \"dept\"\n",
    "analyzis_category(X_test_1['dept'], \n",
    "                  name='Соотношение количества сотрудников по отделам')"
   ]
  },
  {
   "cell_type": "markdown",
   "id": "68973637",
   "metadata": {},
   "source": [
    "Наибольшее количество сотрудников находится в отделе продаж (**sales**), меньше всего сотрудников в отделе кадров (**hr**). \n",
    "\n",
    "Соотношение сотрудников по отделам примерно одинаковое с тренировочной выборкой, также мы оценили количество некорректных значений, их крайне мало, и мы можем не переживать о том, что оставили их на отработку пайплайном, примерно такое их количество и будет на практике."
   ]
  },
  {
   "cell_type": "code",
   "execution_count": null,
   "id": "f7d48214",
   "metadata": {},
   "outputs": [],
   "source": [
    "# Признак \"level\"\n",
    "analyzis_category(X_test_1['level'], \n",
    "                  name='Соотношение сотрудников по уровню занимаемой должности')"
   ]
  },
  {
   "cell_type": "markdown",
   "id": "9df1bcad",
   "metadata": {},
   "source": [
    "Соотношение сотрудников по уровню занимаемой должности **\"sinior\"**, **\"medium\"** и **\"junior\"** - **0.9 : 4.3 : 4.8** соответственно. \n",
    "\n",
    "Соотношения практически не изменилось в сравнении с тренировочной выборкой."
   ]
  },
  {
   "cell_type": "code",
   "execution_count": null,
   "id": "d8fb7aec",
   "metadata": {},
   "outputs": [],
   "source": [
    "# Признак \"workload\"\n",
    "analyzis_category(X_test_1['workload'], \n",
    "                  name='Соотношение сотрудников по уровню загруженности')"
   ]
  },
  {
   "cell_type": "markdown",
   "id": "6fa03628",
   "metadata": {},
   "source": [
    "Соотношение сотрудников по уровню загруженности **\"low\"**, **\"medium\"** и **\"high\"** - **3 : 5 : 2** соответственно.\n",
    "\n",
    "Соотношение в сравнении с тренировочной выборкой не изменилось."
   ]
  },
  {
   "cell_type": "code",
   "execution_count": null,
   "id": "b761b92d",
   "metadata": {},
   "outputs": [],
   "source": [
    "# Признак \"workload\"\n",
    "analyzis_category(df_train_1['workload'], \n",
    "                  name='Соотношение сотрудников по уровню загруженности')"
   ]
  },
  {
   "cell_type": "code",
   "execution_count": null,
   "id": "cadea811",
   "metadata": {},
   "outputs": [],
   "source": [
    "# Признак \"last_year_promo\"\n",
    "analyzis_category(X_test_1['last_year_promo'], \n",
    "                  name='Соотношение сотрудников по наличию повышения за последний год')"
   ]
  },
  {
   "cell_type": "markdown",
   "id": "8557aa6b",
   "metadata": {},
   "source": [
    "Повышение за последний год получило **3%** сотрудников.\n",
    "\n",
    "Уровень количества повышений тот же, что и у тренировочной выборки."
   ]
  },
  {
   "cell_type": "code",
   "execution_count": null,
   "id": "aa2e14b3",
   "metadata": {},
   "outputs": [],
   "source": [
    "# Признак \"last_year_violations\"\n",
    "analyzis_category(X_test_1['last_year_violations'], \n",
    "                  name='Соотношение сотрудников по наличию нарушений \\n по трудовому договору за последний год')"
   ]
  },
  {
   "cell_type": "markdown",
   "id": "055f42f4",
   "metadata": {},
   "source": [
    "Около **13%** сотрудников имели за последний год нарушения по трудовому договору.\n",
    "\n",
    "Уровень нарушений в тестовой выборке ниже на **2%**, по сравнению с тренировочной."
   ]
  },
  {
   "cell_type": "markdown",
   "id": "29affcec",
   "metadata": {},
   "source": [
    "#### Датафрейм \"y_test_1\":"
   ]
  },
  {
   "cell_type": "markdown",
   "id": "ec3283b4",
   "metadata": {},
   "source": [
    "##### Количественные признаки:"
   ]
  },
  {
   "cell_type": "code",
   "execution_count": null,
   "id": "67442dfc",
   "metadata": {},
   "outputs": [],
   "source": [
    "# Признак \"job_satisfaction_rate\"\n",
    "analyzis_quantity(y_test_1['job_satisfaction_rate'], \n",
    "                  name='Распределение значений уровня удовлетворения работой в компании сотрудником', \n",
    "                  x_label='Уровень удовлетворения работой в компании сотрудником', \n",
    "                  y_label='Количество')"
   ]
  },
  {
   "cell_type": "markdown",
   "id": "3dbe1074",
   "metadata": {},
   "source": [
    "Значения признака **\"job_satisfaction_rate\"** имеет отрицательно ассиметричное распределение, оно имеет 1 основой пик на значении **~0.7**, и **2** пика на хвосте на значениях **0.4** и **0.2**. Выбросы отсутствуют. \n",
    "\n",
    "* Основной диапозон значений - от **0.38** до **0.72**\n",
    "* Минимальное значение - **0.03**\n",
    "* Среднее значение - **0.58**\n",
    "* Максимальное значение - **1**\n",
    "\n",
    "Данный признак так же почти не отличается от значений тренировочной выборки."
   ]
  },
  {
   "cell_type": "markdown",
   "id": "65c67023",
   "metadata": {},
   "source": [
    "#### Вывод:"
   ]
  },
  {
   "cell_type": "markdown",
   "id": "d9442a02",
   "metadata": {},
   "source": [
    "##### Датафрейм \"df_train_1\":"
   ]
  },
  {
   "cell_type": "markdown",
   "id": "bf2266ae",
   "metadata": {},
   "source": [
    "**Количественные признаки:**\n",
    "\n",
    "Значения признака **\"employment_years\"** имеет положительно ассиметричное распределение с тяжелым хвостом справа, выбросы отсутствуют. \n",
    "\n",
    "Пик находится на значении **1**, что может нам говорит о высоком уровне текучести кадров, либо о том, что компания очень активно расширяется. \n",
    "\n",
    "* Основной диапозон значений - от **2** до **6**\n",
    "* Минимальное значение - **1**\n",
    "* Среднее значение - **3**\n",
    "* Максимальное значение - **10**\n",
    "\n",
    "Значения признака **\"supervisor_evaluation\"** имеют отрицительно ассиметричное распределение с пиком на значении **4**, выброс показанный на коробчатом графике таковым не является, значения оставляем без изменений. \n",
    "\n",
    "Данный график говорит нам, что основная масса сотрудников имеют хорошую или удовлетворительную оценку своей работы.\n",
    "\n",
    "* Основной диапозон значений - от **3** до **4**\n",
    "* Минимальное значение - **1**\n",
    "* Среднее значение - **4**\n",
    "* Максимальное значение - **5**\n",
    "\n",
    "Значения признака **\"salary\"** имеют положительно ассиметричное распределение с пиком на значении **~27000**, выбросы показанные на коробчатом графике таковыми не являются, значения оставляем без изменений. \n",
    "\n",
    "* Основной диапозон значений - от **22800** до **44400**\n",
    "* Минимальное значение - **12000**\n",
    "* Среднее значение - **31200**\n",
    "* Максимальное значение - **98400**\n",
    "\n",
    "Значения признака **\"job_satisfaction_rate\"** имеет отрицательно ассиметричное распределение, оно имеет 1 основой пик на значении **~0.7**, и **2** пика на хвосте на значениях **0.4** и **0.2**. Выбросы отсутствуют. \n",
    "\n",
    "Глядя на график можем сделать вывод, что в основном сотрудники средне удовлетворены работой в компании, но она стремится в сторону хорошего уровня.\n",
    "\n",
    "* Основной диапозон значений - от **0.35** до **0.71**\n",
    "* Минимальное значение - **0.03**\n",
    "* Среднее значение - **0.55**\n",
    "* Максимальное значение - **1**\n",
    "\n",
    "**Категориальные признаки:**\n",
    "\n",
    "* Наибольшее количество сотрудников находится в отделе продаж (**sales**), меньше всего сотрудников в отделе кадров (**hr**).\n",
    "* Соотношение сотрудников по уровню занимаемой должности **\"sinior\"**, **\"medium\"** и **\"junior\"** - **1 : 4.5 : 4.5** соответственно. \n",
    "* Соотношение сотрудников по уровню загруженности **\"low\"**, **\"medium\"** и **\"high\"** - **3 : 5 : 2** соответственно.\n",
    "* Повышение за последний год получило **3%** сотрудников.\n",
    "* Около **15%** сотрудников имели за последний год нарушения по трудовому договору."
   ]
  },
  {
   "cell_type": "markdown",
   "id": "6c097f5e",
   "metadata": {},
   "source": [
    "##### Датафрейм \"X_test_1\":"
   ]
  },
  {
   "cell_type": "markdown",
   "id": "a5698f48",
   "metadata": {},
   "source": [
    "**Количественные признаки:**\n",
    "\n",
    "Значения признака **\"employment_years\"** имеет положительно ассиметричное распределение с тяжелым хвостом справа, выбросы отсутствуют. \n",
    "\n",
    "* Основной диапозон значений - от **2** до **6**\n",
    "* Минимальное значение - **1**\n",
    "* Среднее значение - **3**\n",
    "* Максимальное значение - **10**\n",
    "\n",
    "Значения признака **\"supervisor_evaluation\"** имеют отрицительно ассиметричное распределение с пиком на значении **4**, выброс показанный на коробчатом графике таковым не является, значения оставляем без изменений. \n",
    "\n",
    "* Основной диапозон значений - от **3** до **4**\n",
    "* Минимальное значение - **1**\n",
    "* Среднее значение - **4**\n",
    "* Максимальное значение - **5**\n",
    "\n",
    "Значения признака **\"salary\"** имеют положительно ассиметричное распределение с пиком на значении **~30000**, выбросы показанные на коробчатом графике таковыми не являются, значения оставляем без изменений. \n",
    "\n",
    "* Основной диапозон значений - от **22800** до **43200**\n",
    "* Минимальное значение - **12000**\n",
    "* Среднее значение - **30000**\n",
    "* Максимальное значение - **96000**\n",
    "\n",
    "**Категориальные признаки:**\n",
    "\n",
    "* Наибольшее количество сотрудников находится в отделе продаж (**sales**), меньше всего сотрудников в отделе кадров (**hr**). Соотношение сотрудников по отделам примерно одинаковое с тренировочной выборкой, также мы оценили количество некорректных значений, их крайне мало, и мы можем не переживать о том, что оставили их на отработку пайплайном, примерно такое их количество и будет на практике.\n",
    "\n",
    "\n",
    "* Соотношение сотрудников по уровню занимаемой должности **\"sinior\"**, **\"medium\"** и **\"junior\"** - **0.9 : 4.3 : 4.8** соответственно. Соотношения практически не изменилось в сравнении с тренировочной выборкой.\n",
    "\n",
    "\n",
    "* Соотношение сотрудников по уровню загруженности **\"low\"**, **\"medium\"** и **\"high\"** - **3 : 5 : 2** соответственно. Соотношение в сравнении с тренировочной выборкой не изменилось.\n",
    "\n",
    "\n",
    "* Повышение за последний год получило **3%** сотрудников. Уровень количества повышений тот же, что и у тренировочной выборки.\n",
    "\n",
    "\n",
    "* Около **13%** сотрудников имели за последний год нарушения по трудовому договору. Уровень нарушений в тестовой выборке ниже на **2%**, по сравнению с тренировочной.\n"
   ]
  },
  {
   "cell_type": "markdown",
   "id": "369f31c2",
   "metadata": {},
   "source": [
    "##### Датафрейм \"y_test_1\":"
   ]
  },
  {
   "cell_type": "markdown",
   "id": "c8831996",
   "metadata": {},
   "source": [
    "**Количественные признаки:**\n",
    "\n",
    "Значения признака **\"job_satisfaction_rate\"** имеет отрицательно ассиметричное распределение, оно имеет 1 основой пик на значении **~0.7**, и **2** пика на хвосте на значениях **0.4** и **0.2**. Выбросы отсутствуют. \n",
    "\n",
    "* Основной диапозон значений - от **0.38** до **0.72**\n",
    "* Минимальное значение - **0.03**\n",
    "* Среднее значение - **0.58**\n",
    "* Максимальное значение - **1**\n",
    "\n",
    "Данный признак так же почти не отличается от значений тренировочной выборки."
   ]
  },
  {
   "cell_type": "markdown",
   "id": "cb9db90e",
   "metadata": {},
   "source": [
    "##### Общее наблюдение:"
   ]
  },
  {
   "cell_type": "markdown",
   "id": "6d4bf010",
   "metadata": {},
   "source": [
    "* Данные тренировочной и тестовой выборок очень схожи, поэтому модель после обучения должна вести себя стабильно и показывать метрики очень близкие к тренировочным.\n",
    "\n",
    "\n",
    "* Количество некорректных значений, появившихся, вероятно, из-за человеческого фактора крайне мало, на работу модели это повлиять не должно, все некорректные значения будут отработаны пайплайнами подготовки данных."
   ]
  },
  {
   "cell_type": "markdown",
   "id": "65d95f75",
   "metadata": {},
   "source": [
    "<font color='blue'><b>Комментарий ревьюера : </b></font> ✔️\\\n",
    "<font color='green'>Хорошая работа в части исследования данных: молодец, что используешь функции, а также применяешь подходящие для типов данных инструменты.</font>"
   ]
  },
  {
   "cell_type": "markdown",
   "id": "df07c14f",
   "metadata": {},
   "source": [
    "### Корреляционный анализ:"
   ]
  },
  {
   "cell_type": "markdown",
   "id": "3243fa4e",
   "metadata": {},
   "source": [
    "В связи с тем, что наши тестовые данные очень схожи с тренировочными мы их объединим для проведения общего корреляционного анализа."
   ]
  },
  {
   "cell_type": "markdown",
   "id": "467e42e4",
   "metadata": {},
   "source": [
    "#### Объединение таблиц для анализа:"
   ]
  },
  {
   "cell_type": "code",
   "execution_count": null,
   "id": "5d8ae470",
   "metadata": {},
   "outputs": [],
   "source": [
    "# Объединяем тестовые входные признаки с целевым\n",
    "data_full = X_test_1.join(y_test_1)"
   ]
  },
  {
   "cell_type": "code",
   "execution_count": null,
   "id": "d1cbd0d0",
   "metadata": {},
   "outputs": [],
   "source": [
    "# Сравниваем размеры таблиц\n",
    "print('Тренировочные данные: ', df_train_1.shape)\n",
    "print('Тестовые данные: ', data_full.shape)"
   ]
  },
  {
   "cell_type": "code",
   "execution_count": null,
   "id": "f09ac178",
   "metadata": {},
   "outputs": [],
   "source": [
    "# Объединяем тестовые и тренировочные данные\n",
    "data_full = pd.concat([df_train_1, data_full])"
   ]
  },
  {
   "cell_type": "code",
   "execution_count": null,
   "id": "269cc207",
   "metadata": {},
   "outputs": [],
   "source": [
    "# Удаляем явные дубликаты, чтобы не искажать результаты корреляций\n",
    "data_full = data_full.drop_duplicates()\n",
    "\n",
    "# Проверяем результат\n",
    "data_full.duplicated().sum()"
   ]
  },
  {
   "cell_type": "code",
   "execution_count": null,
   "id": "2a2e5ba7",
   "metadata": {},
   "outputs": [],
   "source": [
    "# Проверяем результат\n",
    "data_full.info()"
   ]
  },
  {
   "cell_type": "markdown",
   "id": "97dd5955",
   "metadata": {},
   "source": [
    "Объединение прошло корректно, начнем корреляционный анализ."
   ]
  },
  {
   "cell_type": "markdown",
   "id": "54d7bff5",
   "metadata": {},
   "source": [
    "#### Матрица корреляции:"
   ]
  },
  {
   "cell_type": "markdown",
   "id": "f9d0f8bd",
   "metadata": {},
   "source": [
    "В связи с тем, что у наших количественных признаков не наблюдалось нормальное распределение мы будем использовать для расчета корреляции метод Спирмена."
   ]
  },
  {
   "cell_type": "code",
   "execution_count": null,
   "id": "867c8c82",
   "metadata": {},
   "outputs": [],
   "source": [
    "# Список колонок с количественными значениями\n",
    "quantity_columns = data_full.select_dtypes(include='number').columns.tolist()\n",
    "\n",
    "# Строим тепловую карту\n",
    "f, ax = plt.subplots(figsize=(7, 7))\n",
    "sns.heatmap(data_full[quantity_columns].corr(method='spearman'), annot=True, \n",
    "            fmt='.2f', linewidths=.5, cmap='cividis', ax=ax)\n",
    "\n",
    "# Настройка заголовка и подписей\n",
    "f.suptitle('Матрица корреляции для количественных признаков', fontsize=14)\n",
    "plt.xticks(rotation=90)\n",
    "\n",
    "# Отображаем график\n",
    "plt.tight_layout()\n",
    "plt.show()"
   ]
  },
  {
   "cell_type": "markdown",
   "id": "ba36d8c6",
   "metadata": {},
   "source": [
    "Входные признаки между собой имеют либо **слабую**, либо **умеренную** корреляцию, мультиколлинеарности мы не наблюдаем.\n",
    "\n",
    "Сильную корреляцию с целевым признаком имеет признак **\"supervisor_evaluation\"** - **0.75**, остальные входные признаки имеют слабую корреляцию с таргетом."
   ]
  },
  {
   "cell_type": "markdown",
   "id": "44bf6d01",
   "metadata": {},
   "source": [
    "#### VIF-фактор:"
   ]
  },
  {
   "cell_type": "markdown",
   "id": "ede5acfb",
   "metadata": {},
   "source": [
    "Сделаем дополнительную проверку на мультиколлинеарность."
   ]
  },
  {
   "cell_type": "code",
   "execution_count": null,
   "id": "a81c53a1",
   "metadata": {},
   "outputs": [],
   "source": [
    "# Удаляем целевой признак из списка\n",
    "quantity_columns.remove('job_satisfaction_rate')\n",
    "quantity_columns"
   ]
  },
  {
   "cell_type": "code",
   "execution_count": null,
   "id": "1a2d4122",
   "metadata": {},
   "outputs": [],
   "source": [
    "# Построение таблицы с расчитанным VIF\n",
    "vif_data = pd.DataFrame()\n",
    "vif_data['input attribute'] = quantity_columns\n",
    "vif_data['vif'] = ([variance_inflation_factor(data_full[quantity_columns].values, i) \n",
    "                    for i in range(data_full[quantity_columns].shape[1])])\n",
    "vif_data"
   ]
  },
  {
   "cell_type": "markdown",
   "id": "0e979c72",
   "metadata": {},
   "source": [
    "Все значения ниже **10**, что говорит нам об отсутствии мультиколлинеарности между признаками."
   ]
  },
  {
   "cell_type": "markdown",
   "id": "0d5c8170",
   "metadata": {},
   "source": [
    "#### Матрица Phik:"
   ]
  },
  {
   "cell_type": "markdown",
   "id": "c03a7e53",
   "metadata": {},
   "source": [
    "Проанализируем взаимосвязи категориальных входных признаков с целевым."
   ]
  },
  {
   "cell_type": "code",
   "execution_count": null,
   "id": "e891298e",
   "metadata": {},
   "outputs": [],
   "source": [
    "# Список с непрервными количественными значениями\n",
    "interval_cols = ['job_satisfaction_rate']\n",
    "\n",
    "# Строим тепловую карту\n",
    "f, ax = plt.subplots(figsize=(10, 10))\n",
    "sns.heatmap(data_full.phik_matrix(interval_cols=interval_cols), annot=True, \n",
    "            fmt='.2f', linewidths=.5, cmap='cividis', ax=ax)\n",
    "\n",
    "# Настройка заголовка и подписей\n",
    "f.suptitle('Матрица Phik для анализа взаимосвязей признаков', fontsize=14)\n",
    "\n",
    "# Отображаем график\n",
    "plt.tight_layout()\n",
    "plt.show()"
   ]
  },
  {
   "cell_type": "markdown",
   "id": "947c3b81",
   "metadata": {},
   "source": [
    "На матрице **Phik** мы видим высокую корреляцию признака **\"salary\"** с категориальными: **\"level\"** и **\"workload\"**, так же корреляция стремится к высокой между признаками **\"employment_years\"** и **\"level\"**, в остальных парах корреляция нулевая, слабая, либо умеренная. \n",
    "\n",
    "При формировании новых признаков не удалось исправить ситуацию с мультиколлинеарностью,так как зависимость признаков **\"level\"** и **\"workload\"** с целевым не нулевая, то удалять признаки без проверки не можем, следовательно попробуем эту проблему решить путем отбора признаков методом **SelectKBest** и настройкой регуляризации."
   ]
  },
  {
   "cell_type": "markdown",
   "id": "86bb578a",
   "metadata": {},
   "source": [
    "#### Исследование взаимосвязи удовлетворенности местом работы и остальных признаков:"
   ]
  },
  {
   "cell_type": "code",
   "execution_count": null,
   "id": "70b2f6e8",
   "metadata": {},
   "outputs": [],
   "source": [
    "# Списки категориальных и количественных признаков\n",
    "hue_list = data_full.select_dtypes(exclude='number').columns.tolist()\n",
    "num_list = data_full.select_dtypes(include='number').drop('job_satisfaction_rate', axis=1).columns.tolist()"
   ]
  },
  {
   "cell_type": "code",
   "execution_count": null,
   "id": "f423725e",
   "metadata": {},
   "outputs": [],
   "source": [
    "# Строим графики взаимосвязи целевого признака с входными\n",
    "for hue_ in hue_list:\n",
    "    \n",
    "    plot = sns.pairplot(data_full, \n",
    "                        x_vars=num_list, \n",
    "                        y_vars='job_satisfaction_rate', \n",
    "                        hue=hue_,\n",
    "                        plot_kws=dict(alpha=0.4),\n",
    "                        height=4.2)\n",
    "\n",
    "    # Настройка заголовка и подписей\n",
    "    plot.fig.suptitle(f'Взаимосвязь целевого признака с входными c делением по признаку {hue_}',\n",
    "                  fontsize=14, y=1.01)  \n",
    "    plot.legend.set_bbox_to_anchor((1.1, 0.5))\n",
    "\n",
    "    # Вывод графика\n",
    "    plt.tight_layout()\n",
    "    plt.show()"
   ]
  },
  {
   "cell_type": "markdown",
   "id": "81bb6e41",
   "metadata": {},
   "source": [
    "**Количественные признаки:** \n",
    " \n",
    "* **employment_years** - до 8 лет стажа работы средняя оценка удовлетворенности работой растет, после она начинает снижаться.\n",
    "\n",
    "\n",
    "* **supervisor_evaluation** - чем выше оценивает работу сотрудника руководитель, тем выше удовлетворенность работой.\n",
    "\n",
    "\n",
    "* **salary** - если зарплата ниже **~15000** то средняя удовлетворенность существенно ниже, линейную зависимость можем наблюдать только в зарплатах выше **~50000**, чем она выше, тем выше удовлетворенность работой.\n",
    "\n",
    "**Категориальные признаки:**\n",
    "\n",
    "* **debt** - явной зависимости не наблюдается.\n",
    "\n",
    "\n",
    "* **level** - сотрудники на уровне должности **middle** в среднем дают немного выше оценку, чем все остальные, у сотрудников на уровне **junior** оценки в среднем ниже, чем у остальных.\n",
    "\n",
    "\n",
    "* **workload** - сотрудники с уровнем загруженности **medium** в среднем дают немного выше оценку, чем все остальные, у сотрудников с уровнем загруженности **low** оценки в среднем ниже, чем у остальных.\n",
    "\n",
    "\n",
    "* **last_year_promo** - у сотрудников, которых в последнем году было повышение оценки выше.\n",
    "\n",
    "\n",
    "* **last_year_violations** - у сотрудников, у которых в последнем году были нарушения по трудовому договору оценки ниже."
   ]
  },
  {
   "cell_type": "markdown",
   "id": "7a2d7eba",
   "metadata": {},
   "source": [
    "#### Вывод:"
   ]
  },
  {
   "cell_type": "markdown",
   "id": "24c3fb9b",
   "metadata": {},
   "source": [
    "##### Матрица корреляции:"
   ]
  },
  {
   "cell_type": "markdown",
   "id": "a6210a3f",
   "metadata": {},
   "source": [
    "**Взаимосвязь с целевым признаком:**\n",
    "\n",
    "* **employment_years** - **0.22** - слабая корреляция;\n",
    "* **supervisor_evulation** - **0.75** - высокая корреляция;\n",
    "* **salary** - **0.14** - слабая корреляция.\n",
    "\n",
    "**Взаимосвязь между входными признаками:**\n",
    "\n",
    "Выходные признаки **salary** и **employment_years** имеют между собой умеренную корреляцию - **0.46**, в остальных парах кореляция **слабая**, что не говорит о наличии мультиколлинеарности."
   ]
  },
  {
   "cell_type": "markdown",
   "id": "55a80c71",
   "metadata": {},
   "source": [
    "##### VIF-фактор:"
   ]
  },
  {
   "cell_type": "markdown",
   "id": "5182ac5f",
   "metadata": {},
   "source": [
    "Признаки между собой показали коффициенты ниже **10**, что подтверждает отсутствие мультиколлинеарности между ними."
   ]
  },
  {
   "cell_type": "markdown",
   "id": "5bda1ecb",
   "metadata": {},
   "source": [
    "##### Матрица Phik:"
   ]
  },
  {
   "cell_type": "markdown",
   "id": "e09e58be",
   "metadata": {},
   "source": [
    "**Взаимосвязь с целевым признаком:**\n",
    "\n",
    "1. Слабая корреляция:\n",
    "\n",
    "* **dept** - **0.02**\n",
    "* **workload** - **0.03**\n",
    "* **level** - **0.07**\n",
    "* **last_year_promo** - **0.24**\n",
    "\n",
    "2. Умеренная корреляция:\n",
    "\n",
    "* **employment_years** - **0.32**\n",
    "* **salary** - **0.38**\n",
    "\n",
    "3. Заметная корреляция:\n",
    "\n",
    "* **last_year_violations** - **0.56**\n",
    "\n",
    "4. Высокая корреляция:\n",
    "\n",
    "* **supervisor_evaluation** - **0.77**\n",
    "\n",
    "**Взаимосвязь между входными признаками:**\n",
    "\n",
    "Мы видим высокую корреляцию признака **\"salary\"** с категориальными: **\"level\"** и **\"workload\"**, так же корреляция стремится к высокой между признаками **\"employment_years\"** и **\"level\"**, в остальных парах корреляция нулевая, слабая, либо умеренная.\n",
    "\n",
    "При формировании новых признаков не удалось исправить ситуацию с мультиколлинеарностью,так как зависимость признаков **\"level\"** и **\"workload\"** с целевым не нулевая, то удалять признаки без проверки не можем, следовательно попробуем эту проблему решить путем отбора признаков методом **SelectKBest** и настройкой регуляризации, а так же попробуем использовать модель дерева решений, которая не страдает от мультиколлинеарности в признаках."
   ]
  },
  {
   "cell_type": "markdown",
   "id": "43f127ac",
   "metadata": {},
   "source": [
    "##### Исследование взаимосвязи удовлетворенности местом работы и остальных признаков:"
   ]
  },
  {
   "cell_type": "markdown",
   "id": "130422fa",
   "metadata": {},
   "source": [
    "**Количественные признаки:** \n",
    " \n",
    "* **employment_years** - до 8 лет стажа работы средняя оценка удовлетворенности работой растет, после она начинает снижаться.\n",
    "\n",
    "\n",
    "* **supervisor_evaluation** - чем выше оценивает работу сотрудника руководитель, тем выше удовлетворенность работой.\n",
    "\n",
    "\n",
    "* **salary** - если зарплата ниже **~15000** то средняя удовлетворенность существенно ниже, линейную зависимость можем наблюдать только в зарплатах выше **~50000**, чем она выше, тем выше удовлетворенность работой.\n",
    "\n",
    "**Категориальные признаки:**\n",
    "\n",
    "* **debt** - явной зависимости не наблюдается.\n",
    "\n",
    "\n",
    "* **level** - сотрудники на уровне должности **middle** в среднем дают немного выше оценку, чем все остальные, у сотрудников на уровне **junior** оценки в среднем ниже, чем у остальных.\n",
    "\n",
    "\n",
    "* **workload** - сотрудники с уровнем загруженности **medium** в среднем дают немного выше оценку, чем все остальные, у сотрудников с уровнем загруженности **low** оценки в среднем ниже, чем у остальных.\n",
    "\n",
    "\n",
    "* **last_year_promo** - у сотрудников, которых в последнем году было повышение оценки выше.\n",
    "\n",
    "\n",
    "* **last_year_violations** - у сотрудников, у которых в последнем году были нарушения по трудовому договору оценки ниже."
   ]
  },
  {
   "cell_type": "markdown",
   "id": "82061f96",
   "metadata": {},
   "source": [
    "<font color='blue'><b>Комментарий ревьюера : </b></font> ✔️\\\n",
    "<font color='green'>Здорово,что применена `phik` для анализа и нелинейных зависимостей</font>"
   ]
  },
  {
   "cell_type": "markdown",
   "id": "b1594331",
   "metadata": {},
   "source": [
    "### Обучение модели и подбор гиперпараметров:"
   ]
  },
  {
   "cell_type": "markdown",
   "id": "c48891f3",
   "metadata": {},
   "source": [
    "#### Деление датафрема:"
   ]
  },
  {
   "cell_type": "markdown",
   "id": "5f2f6136",
   "metadata": {},
   "source": [
    "В связи с тем, что тестовая выборка у нас уже есть, тренировочную выборку делить на обучающую и валидационную нам нет нужды, так как будем использовать для обучения и подбора лучшей модели кросс-валидацию, где данные будут делиться автоматически, тем самым мы увеличиваем объем обучающей выборки, что улучшит качество модели.\n",
    "\n",
    "Поэтому просто разделяем обучающую выборку на входные и целевой признаки."
   ]
  },
  {
   "cell_type": "code",
   "execution_count": null,
   "id": "56e2e884",
   "metadata": {},
   "outputs": [],
   "source": [
    "# Разделение обучающей выборки на входные и целевые признаки\n",
    "\n",
    "X_train_1 = df_train_1.drop('job_satisfaction_rate', axis=1)\n",
    "y_train_1 = df_train_1['job_satisfaction_rate']"
   ]
  },
  {
   "cell_type": "markdown",
   "id": "e80ca5b0",
   "metadata": {},
   "source": [
    "#### Списки признаков:"
   ]
  },
  {
   "cell_type": "markdown",
   "id": "bbf97fe9",
   "metadata": {},
   "source": [
    "Количественные признаки у нас делятся на 2 группы: с дискретными значениями и с непрерывными. Нам это важно, так как обрабатывать эти признаки нужно по разному. \n",
    "\n",
    "**Масштабирование:**\n",
    "\n",
    "* **salary**\n",
    "* **employment_years** - хоть тут значения и дискретные, но количество значений у нас превышает 5 шт. и мы не можем его растенивать как категории, так как с каждым годом это значение может расширяться, и соответственно при появлении новых значений качество модели может начать падать.\n",
    "\n",
    "**Оставляем без изменений:**\n",
    "\n",
    "* **supervisor_evaluation** - данный признак оставляем без изменений, так как его бы определяем как категориальным, и он уже является в закодированном виде, он пригоден для обучения моделей без изменений.\n",
    "\n",
    "Категориальные признаки мы разделим на 2 группы, которые будут кодироваться отдельно:\n",
    "\n",
    "**OrdinalEncoder:**\n",
    "\n",
    "* **level**\n",
    "* **workload**\n",
    "* **last_year_promo**\n",
    "* **last_year_violations**\n",
    "\n",
    "**OneHotEncoder:**\n",
    "\n",
    "* **dept**\n",
    "\n",
    "Признаки разделены по группам исходя из того, можно ли из их значений построить порядковую логику, то есть какое то значение больше либо меньше другого."
   ]
  },
  {
   "cell_type": "code",
   "execution_count": null,
   "id": "ac9659c1-3a3c-4aba-9ba6-8384eebe4b16",
   "metadata": {},
   "outputs": [],
   "source": [
    "# Разделение входных признаков на группы\n",
    "drop_feature = ['dept', 'level']\n",
    "\n",
    "num_col_names = (X_train_1.select_dtypes(include='number')\n",
    "                          .drop('supervisor_evaluation', axis=1)\n",
    "                          .columns.tolist())\n",
    "\n",
    "ord_col_names = (X_train_1.select_dtypes(exclude='number')\n",
    "                          .drop(drop_feature, axis=1)\n",
    "                          .columns.tolist())\n",
    "ohe_col_names = ['dept']\n",
    "clean_col_names = ['level']"
   ]
  },
  {
   "cell_type": "markdown",
   "id": "c490437f",
   "metadata": {},
   "source": [
    "<font color='blue'><b>Комментарий ревьюера : </b></font> ✔️\\\n",
    "<font color='green'> Отлично, что разделяешь категории на порядковые и номинальные.</font>"
   ]
  },
  {
   "cell_type": "markdown",
   "id": "df1c90d1",
   "metadata": {},
   "source": [
    "#### Создание пайплайнов:"
   ]
  },
  {
   "cell_type": "markdown",
   "id": "93afbc05",
   "metadata": {},
   "source": [
    "##### Замена на корректные значения и кодирование категориальных признаков:"
   ]
  },
  {
   "cell_type": "code",
   "execution_count": null,
   "id": "52c431db-8895-4cc4-b889-5aacb0ff2077",
   "metadata": {},
   "outputs": [],
   "source": [
    "'''\n",
    "FunctionTransformer + SimpleImputer + ORD + SimpleImputer\n",
    "\n",
    "1. Замена значений на корректные с помощью функции\n",
    "clean_data\n",
    "\n",
    "2. simpleImputer_before_ord - заполняем пропуски самым часто\n",
    "встречающимся значением с помощью SimpleImputer.\n",
    "\n",
    "3. ord - кодируем данные с помощью OrdinalEncoder.\n",
    "\n",
    "4. simpleImputer_after_ord - заполняем пропуски, которые\n",
    "появились после Ordinal-кодирования.\n",
    "'''\n",
    "\n",
    "clean_pipe = Pipeline(\n",
    "    [\n",
    "        ('clean', FunctionTransformer(clean_data, feature_names_out='one-to-one')), \n",
    "        \n",
    "        ('simpleImputer_before_ord', SimpleImputer(strategy='most_frequent')), \n",
    "        \n",
    "        ('ord', OrdinalEncoder(categories=[['junior', 'middle', 'senior']], \n",
    "                               handle_unknown='use_encoded_value', \n",
    "                               unknown_value=np.nan)), \n",
    "\n",
    "        ('simpleImputer_after_ord', SimpleImputer(strategy='most_frequent'))\n",
    "    ])    "
   ]
  },
  {
   "cell_type": "markdown",
   "id": "5ef961ce",
   "metadata": {},
   "source": [
    "<span style=\"color: blue; font-weight: bold\">Комментарий ревьюера : </span> ⚠️\\\n",
    "    <span style=\"color: darkorange\"> Заменить `sinior` на `senior` можно простым SimpleImputer.</span>"
   ]
  },
  {
   "cell_type": "markdown",
   "id": "91854fd5",
   "metadata": {},
   "source": [
    "##### OHE-кодирование категориальных признаков:"
   ]
  },
  {
   "cell_type": "code",
   "execution_count": null,
   "id": "32e50411",
   "metadata": {},
   "outputs": [],
   "source": [
    "'''\n",
    "SimpleImputer + OHE\n",
    "\n",
    "1. simpleImputer_ohe - если в данных есть пропуски, заполняем \n",
    "их самым часто встречающимся значением с помощью SimpleImputer.\n",
    "\n",
    "2. ohe - кодируем данные с помощью OneHotEncoder.\n",
    "'''\n",
    "\n",
    "ohe_pipe = Pipeline(\n",
    "    [\n",
    "        ('simpleImputer_ohe', SimpleImputer(strategy='most_frequent')), \n",
    "        \n",
    "        ('ohe', OneHotEncoder(handle_unknown='ignore', \n",
    "                              sparse_output=False))\n",
    "    ])"
   ]
  },
  {
   "cell_type": "markdown",
   "id": "383bf949",
   "metadata": {},
   "source": [
    "В связи с тем, что у нас могут быть некорректные значения в данных мы убираем параметр **drop='first'**. Так как при их одновременном использовании с **handle_unknown='ignore'** будет наблюдаться следующая проблема: пропущенная (dropped) первая категория, и любые неизвестные категории будут кодироваться одинаково - вектором из всех нулей. Соответственно станет невозможным различить их после трансформации признаков."
   ]
  },
  {
   "cell_type": "markdown",
   "id": "78b57dc6",
   "metadata": {},
   "source": [
    "<span style=\"color: blue; font-weight: bold\">Комментарий ревьюера : </span> ✔️\\\n",
    "<span style=\"color: green\"> Да, в sklearn категории сортируются по алфавиту, а не по частоте (как в Spark, например), поэтому лучше не смешивать.</span>"
   ]
  },
  {
   "cell_type": "markdown",
   "id": "1af9c494",
   "metadata": {},
   "source": [
    "##### Ordinal-кодирование категориальных признаков:"
   ]
  },
  {
   "cell_type": "code",
   "execution_count": null,
   "id": "7f6a4777",
   "metadata": {},
   "outputs": [],
   "source": [
    "'''\n",
    "SimpleImputer + ORD + SimpleImputer\n",
    "\n",
    "1. simpleImputer_before_ord - заполняем пропуски самым часто\n",
    "встречающимся значением с помощью SimpleImputer.\n",
    "\n",
    "2. ord - кодируем данные с помощью OrdinalEncoder.\n",
    "\n",
    "3. simpleImputer_after_ord - заполняем пропуски, которые\n",
    "появились после Ordinal-кодирования.\n",
    "'''\n",
    "\n",
    "ord_pipe = Pipeline(\n",
    "    [ \n",
    "        ('simpleImputer_before_ord', SimpleImputer(strategy='most_frequent')), \n",
    "        \n",
    "        ('ord', OrdinalEncoder(categories=[['low', 'medium', 'high'], \n",
    "                                           ['no', 'yes'], \n",
    "                                           ['no', 'yes']], \n",
    "                               handle_unknown='use_encoded_value', \n",
    "                               unknown_value=np.nan)), \n",
    "\n",
    "        ('simpleImputer_after_ord', SimpleImputer(strategy='most_frequent'))\n",
    "    ])"
   ]
  },
  {
   "cell_type": "markdown",
   "id": "4eb40309",
   "metadata": {},
   "source": [
    "##### Объединение этапов подготовки данных:"
   ]
  },
  {
   "cell_type": "code",
   "execution_count": null,
   "id": "f7b00884",
   "metadata": {},
   "outputs": [],
   "source": [
    "'''\n",
    "Объединение этапов подготовки данных.\n",
    "\n",
    "1. clean - заменяет некорректные значения, и кодирует данные \n",
    "\"clean_col_names\" с помощью пайплайна \"clean_pipe\".\n",
    " \n",
    "2. ohe - кодируем данные \"ohe_col_names\" с помощью пайплайна \"ohe_pipe\".\n",
    "\n",
    "3. ord - кодируем данные \"ord_col_names\" с помощью пайплайна \"ord_pipe\".\n",
    "\n",
    "4. num - полиномизируем и масштабируем данные \"num_col_names\" \n",
    "с помощью пайплайна \"num_pipe\".\n",
    "'''\n",
    "\n",
    "data_preprocessor = ColumnTransformer(\n",
    "    [\n",
    "        ('clean', clean_pipe, clean_col_names),\n",
    "        ('ohe', ohe_pipe, ohe_col_names),\n",
    "        ('ord', ord_pipe, ord_col_names),\n",
    "        ('num', StandardScaler(), num_col_names)\n",
    "    ],  remainder='passthrough', \n",
    "        force_int_remainder_cols=False)"
   ]
  },
  {
   "cell_type": "markdown",
   "id": "f89f3cab",
   "metadata": {},
   "source": [
    "##### Итоговый пайплайн:"
   ]
  },
  {
   "cell_type": "code",
   "execution_count": null,
   "id": "d436e4e6",
   "metadata": {},
   "outputs": [],
   "source": [
    "'''\n",
    "data_preprocessor + select_feature + models\n",
    "\n",
    "1. preprocessor - подготовка данных c помощью data_preprocessor.\n",
    "\n",
    "2. select_feature - отбор входных признаков\n",
    "\n",
    "3. models - инициализация модели.\n",
    "'''\n",
    "\n",
    "pipe_final = Pipeline(\n",
    "    [\n",
    "     ('preprocessor', data_preprocessor), \n",
    "     ('select_feature', SelectKBest(f_regression)),\n",
    "     ('models', LinearRegression())\n",
    "    ])"
   ]
  },
  {
   "cell_type": "markdown",
   "id": "e67f6af0",
   "metadata": {},
   "source": [
    "#### Выбор моделей и метрики:"
   ]
  },
  {
   "cell_type": "markdown",
   "id": "d3787c2f",
   "metadata": {},
   "source": [
    "Для решения данной задачи мы выберем лучшую модель из **4**:\n",
    "\n",
    "* **LinearRegression** - как базовая модель.\n",
    "* **ElasticNet** \n",
    "* **DeсisionTreeRegressor**\n",
    "* **RandomForestRegressor**\n",
    "\n",
    "Модели согласно ТЗ мы будем оценивать с помощью метрики **SMAPE**.\n",
    "\n",
    "* Критерий успеха: **SMAPE ≤15** на тестовой выборке."
   ]
  },
  {
   "cell_type": "code",
   "execution_count": null,
   "id": "4d31a6a5",
   "metadata": {},
   "outputs": [],
   "source": [
    "# Подготавливаем метрику для работы с GridSearchCV и RandomSearchCV\n",
    "smape_score = make_scorer(my_smape_score, \n",
    "                          greater_is_better=False)"
   ]
  },
  {
   "cell_type": "markdown",
   "id": "14a58fbc",
   "metadata": {},
   "source": [
    "<font color='blue'><b>Комментарий ревьюера : </b></font> ✔️ <br>\n",
    "<font color='green'>Верно, что не забываешь указать greater_is_better=False, Это пригодится для SearchCV. SMAPE — ошибка, её минимизируем.</font>"
   ]
  },
  {
   "cell_type": "markdown",
   "id": "486f8a15",
   "metadata": {},
   "source": [
    "#### Подбор модели и ее гиперпараметров:"
   ]
  },
  {
   "cell_type": "code",
   "execution_count": null,
   "id": "7594c861",
   "metadata": {},
   "outputs": [],
   "source": [
    "# Словарь для отбора моделей\n",
    "model_grid = [\n",
    "    {\n",
    "        'models': [LinearRegression()], \n",
    "        'preprocessor__num': [StandardScaler(), \n",
    "                              MinMaxScaler()], \n",
    "        'select_feature__k': range(4, 13)\n",
    "    }, \n",
    "    {\n",
    "        'models': [ElasticNet(random_state=RANDOM_STATE)], \n",
    "        'models__l1_ratio': [0.1, 0.25, 0.5, 0.75, 0.9], \n",
    "        'models__alpha': [0.001, 0.01, 0.1, 1.0, 10], \n",
    "        'preprocessor__num': [StandardScaler(), \n",
    "                              MinMaxScaler()], \n",
    "        'select_feature__k': range(4, 13)\n",
    "    }, \n",
    "    {\n",
    "        'models': [DecisionTreeRegressor(random_state=RANDOM_STATE)], \n",
    "        'models__min_samples_leaf': range(3, 10, 2), \n",
    "        'models__max_depth': range(10, 21, 2),\n",
    "        'preprocessor__num': [StandardScaler(), \n",
    "                             'passthrough'], \n",
    "        'select_feature': [None]\n",
    "    }, \n",
    "    {\n",
    "        'models': [RandomForestRegressor(random_state=RANDOM_STATE)],  \n",
    "        'models__max_depth': [10, 15, 20], \n",
    "        'preprocessor__num': [StandardScaler(), \n",
    "                             'passthrough'],\n",
    "        'select_feature': [None]\n",
    "    }\n",
    "]"
   ]
  },
  {
   "cell_type": "code",
   "execution_count": null,
   "id": "97df8313-4ff3-4f8c-8706-6a2964856ca3",
   "metadata": {},
   "outputs": [],
   "source": [
    "# Поиск лучшей модели и ее гиперпараметров\n",
    "random_search = RandomizedSearchCV(\n",
    "    pipe_final, \n",
    "    model_grid, \n",
    "    cv=4, \n",
    "    n_iter=100, \n",
    "    scoring=smape_score, \n",
    "    n_jobs=-1, \n",
    "    random_state=RANDOM_STATE\n",
    ")\n",
    "random_search.fit(X_train_1, y_train_1)"
   ]
  },
  {
   "cell_type": "markdown",
   "id": "af750888",
   "metadata": {},
   "source": [
    "<font color='blue'><b>Комментарий ревьюера : </b></font> ✔️\\\n",
    "<font color='green'>Подбор гиперпараметров проведён верно. Использована целевая метрика, направление отбора верное ).</font>"
   ]
  },
  {
   "cell_type": "code",
   "execution_count": null,
   "id": "a8c4b04b",
   "metadata": {},
   "outputs": [],
   "source": [
    "# Выводим лучшие результаты\n",
    "result_search = pd.DataFrame(random_search.cv_results_)\n",
    "\n",
    "result_search['model_type'] = result_search['param_models'].apply(lambda x: x.__class__.__name__)\n",
    "\n",
    "best_rows = result_search.loc[\n",
    "    result_search.groupby('model_type')['rank_test_score'].idxmin()]\n",
    "best_rows"
   ]
  },
  {
   "cell_type": "markdown",
   "id": "397cc867",
   "metadata": {},
   "source": [
    "<font color='blue'><b>Комментарий ревьюера: </b></font> ✔️\\\n",
    "<font color='green'> Отлично, что есть табличка результатов для сравнения.</font>"
   ]
  },
  {
   "cell_type": "markdown",
   "id": "888e0a19",
   "metadata": {},
   "source": [
    "<font color='blue'><b>Комментарий ревьюера : </b></font> ⚠️\\\n",
    "<font color='darkorange'> Нужно показать все параметры в поле `params` для анализа.\n",
    "```python\n",
    "# Установка опции для отображения максимальной ширины столбца\n",
    "pd.set_option('display.max_colwidth', None)\n",
    "```\n",
    "И можно ограничиться полями ['rank_test_score', 'mean_test_score','params']</font>"
   ]
  },
  {
   "cell_type": "markdown",
   "id": "e82f0cc3",
   "metadata": {},
   "source": [
    "Модель **RandomForestRegressor** показала себя лучше остальных моделей, средняя метрика **SMAPE** показала уровень удовлетворящий критерий успеха по ТЗ - **13.67**.\n",
    "\n",
    "Проверим данную модель на тестовой выборке."
   ]
  },
  {
   "cell_type": "code",
   "execution_count": null,
   "id": "87a98231",
   "metadata": {},
   "outputs": [],
   "source": [
    "# Проверим нашу модель на тестовой выборке\n",
    "pred = random_search.best_estimator_.predict(X_test_1)\n",
    "\n",
    "print('Значение метрики SMAPE на тестовой выборке:', round(my_smape_score(y_test_1, pred), 3))\n",
    "print('Значение метрики RMSE на тестовой выборке:', round(np.sqrt(mean_squared_error(y_test_1, pred)), 3))\n",
    "print('Значение метрики R2 на тестовой выборке:', round(r2_score(y_test_1, pred), 3))"
   ]
  },
  {
   "cell_type": "markdown",
   "id": "26a070a2",
   "metadata": {},
   "source": [
    "<font color='blue'><b>Комментарий ревьюера: </b></font> ✔️\\\n",
    "<font color='green'>Тестирование проведено верно.</font>"
   ]
  },
  {
   "cell_type": "markdown",
   "id": "43d46734",
   "metadata": {},
   "source": [
    "Метрики **SMAPE** на тестовой выборке даже выросла, что говорит нам о том, что модель не имеет переобучения, хорошо обобщила данные и поняла их взаимосвязи.\n",
    "\n",
    "Выбор останавливаем на данной модели, присвоим модели отдельную переменную для удбства дальнейшей работы."
   ]
  },
  {
   "cell_type": "code",
   "execution_count": null,
   "id": "14cdf0d4",
   "metadata": {},
   "outputs": [],
   "source": [
    "# Переменная для выбранной модели\n",
    "model_1 = random_search.best_estimator_"
   ]
  },
  {
   "cell_type": "markdown",
   "id": "ab4b9f7e",
   "metadata": {},
   "source": [
    "#### Вывод:"
   ]
  },
  {
   "cell_type": "markdown",
   "id": "dce0216e",
   "metadata": {},
   "source": [
    "Мы определили модель и ее гиперпараметры, которая лучше всего справляется с задачей - **RandomForestRegressor**.\n",
    "\n",
    "**Параметры модели:**\n",
    "\n",
    "* max_depth - **15**\n",
    "* Лучший метод масштабирования данных - **StandardScaler**\n",
    "\n",
    "**Значения метрик:**\n",
    "\n",
    "* Значение SMAPE на тренировочных данных - **13.67**\n",
    "* Значение SMAPE на тестовых данных - **12.34**\n",
    "* Значение RMSE на тестовых данных - **0.07**\n",
    "* Значение R2 на тестовых данных - **0.91**\n",
    "\n",
    "Метрика на тестовой выборке выросла, что говорит нам о том, что модель не имеет переобучения, хорошо обобщила данные и поняла их взаимосвязи."
   ]
  },
  {
   "cell_type": "markdown",
   "id": "3ff7da86",
   "metadata": {},
   "source": [
    "<span style=\"color: blue; font-weight: bold\">Комментарий ревьюера : </span> ✔️\\\n",
    "<span style=\"color: green\"> 👍</span>"
   ]
  },
  {
   "cell_type": "markdown",
   "id": "7f156643",
   "metadata": {},
   "source": [
    "### Анализ важности признаков методом SHAP:"
   ]
  },
  {
   "cell_type": "markdown",
   "id": "ddd5eeaa",
   "metadata": {},
   "source": [
    "#### Расчет SHAP-значений:"
   ]
  },
  {
   "cell_type": "code",
   "execution_count": null,
   "id": "bdffffad",
   "metadata": {},
   "outputs": [],
   "source": [
    "# Подготавливаем данные\n",
    "X_test_shap_1 = model_1.named_steps['preprocessor'].transform(X_test_1)\n",
    "\n",
    "# Выделяем модель\n",
    "model_shap_1 = model_1.named_steps['models']"
   ]
  },
  {
   "cell_type": "markdown",
   "id": "ee85bf15",
   "metadata": {},
   "source": [
    "<span style=\"color: blue; font-weight: bold\">Комментарий ревьюера : </span> ✔️\\\n",
    "<span style=\"color: green\"> 👍</span>"
   ]
  },
  {
   "cell_type": "code",
   "execution_count": null,
   "id": "853213f1",
   "metadata": {},
   "outputs": [],
   "source": [
    "# Расчитываем SHAP-значения\n",
    "explainer = shap.TreeExplainer(model_shap_1)\n",
    "shap_values = explainer.shap_values(X_test_shap_1)"
   ]
  },
  {
   "cell_type": "markdown",
   "id": "83dc9163",
   "metadata": {},
   "source": [
    "#### Построение графиков:"
   ]
  },
  {
   "cell_type": "code",
   "execution_count": null,
   "id": "be66703d",
   "metadata": {},
   "outputs": [],
   "source": [
    "# Получаем названия признаков\n",
    "feature_names = model_1.named_steps['preprocessor'].get_feature_names_out().tolist()\n",
    "feature_names"
   ]
  },
  {
   "cell_type": "code",
   "execution_count": null,
   "id": "2d950c6f",
   "metadata": {},
   "outputs": [],
   "source": [
    "# Строим график важности признаков\n",
    "shap.summary_plot(\n",
    "    shap_values, \n",
    "    X_test_shap_1, \n",
    "    rng=np.random.default_rng(42),\n",
    "    feature_names=feature_names,\n",
    "    show=False\n",
    ")\n",
    "# Получаем текущие оси\n",
    "ax = plt.gca()\n",
    "\n",
    "# Меняем размер графика\n",
    "plt.gcf().set_size_inches(15, 15)\n",
    "\n",
    "# Настройка заголовка и подписей\n",
    "plt.title('Анализ важности признаков методом SHAP', fontsize=14)\n",
    "plt.xlabel('SHAP-значение')\n",
    "\n",
    "# Вывод графика\n",
    "plt.tight_layout()\n",
    "plt.show()"
   ]
  },
  {
   "cell_type": "code",
   "execution_count": null,
   "id": "457695d0",
   "metadata": {},
   "outputs": [],
   "source": [
    "# Строим график важности признаков (столбчатый график)\n",
    "shap.summary_plot(\n",
    "    shap_values, \n",
    "    X_test_shap_1, \n",
    "    plot_type='bar',\n",
    "    rng=np.random.default_rng(42),\n",
    "    feature_names=feature_names,\n",
    "    show=False\n",
    ")\n",
    "# Получаем текущие оси\n",
    "ax = plt.gca()\n",
    "\n",
    "# Меняем размер графика\n",
    "plt.gcf().set_size_inches(15, 15)\n",
    "\n",
    "# Настройка заголовка и подписей\n",
    "plt.title('Анализ важности признаков методом SHAP', fontsize=14)\n",
    "plt.xlabel('Важность признаков')\n",
    "\n",
    "# Вывод графика\n",
    "plt.tight_layout()\n",
    "plt.show()"
   ]
  },
  {
   "cell_type": "markdown",
   "id": "71bdc91b",
   "metadata": {},
   "source": [
    "#### Вывод:"
   ]
  },
  {
   "cell_type": "markdown",
   "id": "e4d137bb",
   "metadata": {},
   "source": [
    "Мы расчитали SHAP-значения и на основе их построили графики для анализа важности, благодаря им мы можем составить рейтинг важности:\n",
    "\n",
    "* **remainder__supervisor_evaluation** - **~0.17**\n",
    "* **num__employment_years** - **~0.057**\n",
    "* **clean__level** - **~0.04**\n",
    "* **num__salary** - **~0.037**\n",
    "* **ord__last_year_violations** - **~0.035**\n",
    "* **ord__workload** - **~0.02**\n",
    "* **ohe__dept_technology** - **~0.01**\n",
    "* **ord__last_year_promo** - **~0.007**\n",
    "* **ohe__dept_sales** - **~0.005**\n",
    "* **ohe__dept_purchasing** - **~0.004**\n",
    "* **ohe__dept_hr** - **~0.003**\n",
    "* **ohe__dept_marketing** - **~0.002**\n",
    "\n",
    "Стоит отметить, что признаки, которые указывают на то, в каком отделе работает сотрудник, для большего понимания стоит складывать эти значения, чтобы приблизительно понимать мощность данного признака в целом.\n",
    "\n",
    "* Признак **dept** - **~0.024**\n",
    "\n",
    "Таким образом мы можем сказать, что:\n",
    "\n",
    "* Признак **supervisor_evaluation** - **~0.17** - наиболее важен.\n",
    "* Признак **last_year_promo** - **~0.007** - наименее важен."
   ]
  },
  {
   "cell_type": "markdown",
   "id": "69b74b23",
   "metadata": {},
   "source": [
    "### Промежуточный вывод:"
   ]
  },
  {
   "cell_type": "markdown",
   "id": "18ab4237",
   "metadata": {},
   "source": [
    "#### Лучшая модель для задачи №1:"
   ]
  },
  {
   "cell_type": "markdown",
   "id": "f58785f0",
   "metadata": {},
   "source": [
    "Мы определили модель и ее гиперпараметры, которая лучше всего справляется с задачей - **RandomForestRegressor**.\n",
    "\n",
    "**Параметры модели:**\n",
    "\n",
    "* max_depth - **15**\n",
    "* Лучший метод масштабирования данных - **StandardScaler**\n",
    "\n",
    "**Значения метрик:**\n",
    "\n",
    "* Значение SMAPE на тренировочных данных - **13.67**\n",
    "* Значение SMAPE на тестовых данных - **12.34**\n",
    "* Значение RMSE на тестовых данных - **0.07**\n",
    "* Значение R2 на тестовых данных - **0.91**\n",
    "\n",
    "Метрика на тестовой выборке выросла, что говорит нам о том, что модель не имеет переобучения, хорошо обобщила данные и поняла их взаимосвязи."
   ]
  },
  {
   "cell_type": "markdown",
   "id": "de73b12a",
   "metadata": {},
   "source": [
    "#### Почему данная модель оказалась лучше остальных:"
   ]
  },
  {
   "cell_type": "markdown",
   "id": "d724d7b1",
   "metadata": {},
   "source": [
    "* В данной задаче деревья решений показали себя лучше линейных моделей из за того, что в наших признаках достаточно много категориальных признаков, в таких ситуациях деревья решений показываются себя гораздо лучше.\n",
    "\n",
    "\n",
    "* Случайный лес показал себя лучше одиночного дерева решений из за того, что случайный лес усредняет предсказания множества деревьев (по умолчанию 100), обученных на разных подвыборках данных и признаках, что снижает дисперсию и улучшает обобщающую способность. Из этого и логический вывод, что 100 деревьев (в нашем случае) гораздо лучше работают собща, чем одиночное."
   ]
  },
  {
   "cell_type": "markdown",
   "id": "82891071",
   "metadata": {},
   "source": [
    "#### Важность признаков:"
   ]
  },
  {
   "cell_type": "markdown",
   "id": "0ab3436c",
   "metadata": {},
   "source": [
    "Мы расчитали SHAP-значения и на основе их построили графики для анализа важности, благодаря им мы можем составить рейтинг важности:\n",
    "\n",
    "* **remainder__supervisor_evaluation** - **~0.17**\n",
    "* **num__employment_years** - **~0.057**\n",
    "* **clean__level** - **~0.04**\n",
    "* **num__salary** - **~0.037**\n",
    "* **ord__last_year_violations** - **~0.035**\n",
    "* **ord__workload** - **~0.02**\n",
    "* **ohe__dept_technology** - **~0.01**\n",
    "* **ord__last_year_promo** - **~0.007**\n",
    "* **ohe__dept_sales** - **~0.005**\n",
    "* **ohe__dept_purchasing** - **~0.004**\n",
    "* **ohe__dept_hr** - **~0.003**\n",
    "* **ohe__dept_marketing** - **~0.002**\n",
    "\n",
    "Стоит отметить, что признаки, которые указывают на то, в каком отделе работает сотрудник, для большего понимания стоит складывать эти значения, чтобы приблизительно понимать мощность данного признака в целом.\n",
    "\n",
    "* Признак **dept** - **~0.024**\n",
    "\n",
    "Таким образом мы можем сказать, что:\n",
    "\n",
    "* Признак **supervisor_evaluation** - **~0.17** - наиболее важен.\n",
    "* Признак **last_year_promo** - **~0.007** - наименее важен."
   ]
  },
  {
   "cell_type": "markdown",
   "id": "78c83124",
   "metadata": {},
   "source": [
    "<span style=\"color: blue; font-weight: bold\">Комментарий ревьюера : </span> ✔️\\\n",
    "<span style=\"color: green\"> 👍</span>"
   ]
  },
  {
   "cell_type": "markdown",
   "id": "3dea3248",
   "metadata": {},
   "source": [
    "## Задача №2: Предсказание увольнения сотрудника из компании"
   ]
  },
  {
   "cell_type": "markdown",
   "id": "fe0cd396",
   "metadata": {},
   "source": [
    "### Общая информация о данных:"
   ]
  },
  {
   "cell_type": "markdown",
   "id": "c568ecff",
   "metadata": {},
   "source": [
    "#### Загрузка данных:"
   ]
  },
  {
   "cell_type": "code",
   "execution_count": null,
   "id": "d37438a2",
   "metadata": {},
   "outputs": [],
   "source": [
    "# Чтение датафреймов\n",
    "df_train_2 = pd.read_csv('/datasets/train_quit.csv')\n",
    "X_test_2 = pd.read_csv('/datasets/test_features.csv')\n",
    "y_test_2 = pd.read_csv('/datasets/test_target_quit.csv')"
   ]
  },
  {
   "cell_type": "markdown",
   "id": "587eed1b",
   "metadata": {},
   "source": [
    "#### Датафрейм \"df_train_2\":"
   ]
  },
  {
   "cell_type": "markdown",
   "id": "6c83aa1a",
   "metadata": {},
   "source": [
    "**train_quit.csv** - тренировочная выборка.\n",
    "\n",
    "**Описание признаков:**\n",
    "\n",
    "* **id** — уникальный идентификатор сотрудника;\n",
    "* **dept** — отдел, в котором работает сотрудник;\n",
    "* **level** — уровень занимаемой должности;\n",
    "* **workload** — уровень загруженности сотрудника;\n",
    "* **employment_years** — длительность работы в компании (в годах);\n",
    "* **last_year_promo** — показывает, было ли повышение за последний год;\n",
    "* **last_year_violations** — показывает, нарушал ли сотрудник трудовой договор за последний год;\n",
    "* **supervisor_evaluation** — оценка качества работы сотрудника, которую дал руководитель;\n",
    "* **salary** — ежемесячная зарплата сотрудника;\n",
    "* **quit** — увольнение сотрудника из компании (целевой признак)."
   ]
  },
  {
   "cell_type": "code",
   "execution_count": null,
   "id": "fca53852",
   "metadata": {},
   "outputs": [],
   "source": [
    "# Общая информация о датафрейме\n",
    "df_train_2.info()"
   ]
  },
  {
   "cell_type": "code",
   "execution_count": null,
   "id": "18d59529",
   "metadata": {},
   "outputs": [],
   "source": [
    "# Рандомные 5 строк из датафрейма\n",
    "df_train_2.sample(5)"
   ]
  },
  {
   "cell_type": "markdown",
   "id": "a23af559",
   "metadata": {},
   "source": [
    "#### Датафрейм \"X_test_2\":"
   ]
  },
  {
   "cell_type": "markdown",
   "id": "1c43d35d",
   "metadata": {},
   "source": [
    "**test_features.csv** - входные признаки тестовой выборки.\n",
    "\n",
    "**Описание признаков:**\n",
    "\n",
    "* **id** — уникальный идентификатор сотрудника;\n",
    "* **dept** — отдел, в котором работает сотрудник;\n",
    "* **level** — уровень занимаемой должности;\n",
    "* **workload** — уровень загруженности сотрудника;\n",
    "* **employment_years** — длительность работы в компании (в годах);\n",
    "* **last_year_promo** — показывает, было ли повышение за последний год;\n",
    "* **last_year_violations** — показывает, нарушал ли сотрудник трудовой договор за последний год;\n",
    "* **supervisor_evaluation** — оценка качества работы сотрудника, которую дал руководитель;\n",
    "* **salary** — ежемесячная зарплата сотрудника."
   ]
  },
  {
   "cell_type": "code",
   "execution_count": null,
   "id": "0a546818",
   "metadata": {},
   "outputs": [],
   "source": [
    "# Общая информация о датафрейме\n",
    "X_test_2.info()"
   ]
  },
  {
   "cell_type": "code",
   "execution_count": null,
   "id": "ec6740f7",
   "metadata": {},
   "outputs": [],
   "source": [
    "# Рандомные 5 строк из датафрейма\n",
    "X_test_2.sample(5)"
   ]
  },
  {
   "cell_type": "markdown",
   "id": "11bc2de9",
   "metadata": {},
   "source": [
    "#### Датафрейм \"y_test_2\":"
   ]
  },
  {
   "cell_type": "markdown",
   "id": "bbd1eafa",
   "metadata": {},
   "source": [
    "**test_target_quit.csv** - целевой признак тестовой выборки.\n",
    "\n",
    "**Описание признаков:**\n",
    "\n",
    "* **quit** — увольнение сотрудника из компании."
   ]
  },
  {
   "cell_type": "code",
   "execution_count": null,
   "id": "ee1b976e",
   "metadata": {},
   "outputs": [],
   "source": [
    "# Общая информация о датафрейме\n",
    "y_test_2.info()"
   ]
  },
  {
   "cell_type": "code",
   "execution_count": null,
   "id": "ace662e4",
   "metadata": {},
   "outputs": [],
   "source": [
    "# Рандомные 5 строк датафрейма\n",
    "y_test_2.sample(5)"
   ]
  },
  {
   "cell_type": "markdown",
   "id": "e407c674",
   "metadata": {},
   "source": [
    "#### Вывод:"
   ]
  },
  {
   "cell_type": "markdown",
   "id": "30996363",
   "metadata": {},
   "source": [
    "В данном разделе мы получили общую информацию о датафреймах и их структуре, на основе этой информации мы можем составить план предобработки данных:\n",
    "\n",
    "* Устанавливаем индекс по столбцу **\"id\"** во всех датафреймах, необходимо на тестовых файлах проверить их соответствие и порядок, так как они находятся в разных файлах возможно наличие в них ошибок.\n",
    "* Есть малое количество пропусков в тестовой выборке, эти пропуски будут заполнены на этапе подготовки данных пайплайном.\n",
    "* Типы данных всех колонок заданы корректно.\n",
    "* Необходимо проверить данные на наличие явных и неявных дубликатов."
   ]
  },
  {
   "cell_type": "markdown",
   "id": "978f22a1",
   "metadata": {},
   "source": [
    "<span style=\"color: blue; font-weight: bold\">Комментарий ревьюера : </span> ✔️\\\n",
    "<span style=\"color: green\"> 👍</span>"
   ]
  },
  {
   "cell_type": "markdown",
   "id": "2bbf5115",
   "metadata": {},
   "source": [
    "### Предобработка данных:"
   ]
  },
  {
   "cell_type": "code",
   "execution_count": null,
   "id": "dff805ac",
   "metadata": {},
   "outputs": [],
   "source": [
    "# Словарь датафреймов\n",
    "df_dict_2 = {'df_train_2': df_train_2, \n",
    "             'X_test_2': X_test_2, \n",
    "             'y_test_2': y_test_2}"
   ]
  },
  {
   "cell_type": "markdown",
   "id": "dd591e5f",
   "metadata": {},
   "source": [
    "#### Явные дубликаты:"
   ]
  },
  {
   "cell_type": "code",
   "execution_count": null,
   "id": "02a2d8f2",
   "metadata": {},
   "outputs": [],
   "source": [
    "# Поиск явных дубликатов\n",
    "duplicate_search(df_dict_2)"
   ]
  },
  {
   "cell_type": "markdown",
   "id": "d5282738",
   "metadata": {},
   "source": [
    "Проверим дубликаты в колонках **\"id\"**."
   ]
  },
  {
   "cell_type": "code",
   "execution_count": null,
   "id": "6521be31",
   "metadata": {},
   "outputs": [],
   "source": [
    "# Подсчитываем количество уникальных значений \n",
    "# в столбце \"id\" в каждом датафрейме\n",
    "for name, data in df_dict_2.items():\n",
    "    print(f'Количество уникальных значений в столбце \"id\" датафрейма {name}: {data[\"id\"].nunique()}')"
   ]
  },
  {
   "cell_type": "markdown",
   "id": "b562a33b",
   "metadata": {},
   "source": [
    "Все значения уникальны, может установить данный столбец, как индекс, не опасаясь возникновения проблем в дальнейшем."
   ]
  },
  {
   "cell_type": "code",
   "execution_count": null,
   "id": "302aee90",
   "metadata": {},
   "outputs": [],
   "source": [
    "# Датафрейм \"df_train_2\"\n",
    "\n",
    "# Выделаем колонку \"id\" в индексы\n",
    "df_train_2 = df_train_2.set_index('id')\n",
    "\n",
    "# Убираем название индекса\n",
    "df_train_2.index.name = None\n",
    "\n",
    "# Проверяем полученный результат\n",
    "df_train_1.head()"
   ]
  },
  {
   "cell_type": "code",
   "execution_count": null,
   "id": "7da9a94d",
   "metadata": {},
   "outputs": [],
   "source": [
    "# Датафрейм \"X_test_2\"\n",
    "\n",
    "# Выделаем колонку \"id\" в индексы\n",
    "X_test_2 = X_test_2.set_index('id')\n",
    "\n",
    "# Убираем название индекса\n",
    "X_test_2.index.name = None\n",
    "\n",
    "# Проверяем полученный результат\n",
    "X_test_2.head()"
   ]
  },
  {
   "cell_type": "code",
   "execution_count": null,
   "id": "fbbd55be",
   "metadata": {},
   "outputs": [],
   "source": [
    "# Датафрейм \"y_test_2\"\n",
    "\n",
    "# Выделаем колонку \"id\" в индексы\n",
    "y_test_2 = y_test_2.set_index('id')\n",
    "\n",
    "# Убираем название индекса\n",
    "y_test_2.index.name = None\n",
    "\n",
    "# Проверяем полученный результат\n",
    "y_test_2.head()"
   ]
  },
  {
   "cell_type": "markdown",
   "id": "6bc7024f",
   "metadata": {},
   "source": [
    "Выведя первые строки датафреймов **\"X_test_2\"** и **\"y_test_2\"**, мы видим, что строки в разных порядках, отсортируем их и сделаем проверку, в противном случае у нас будут проблемы на тесте построенной модели."
   ]
  },
  {
   "cell_type": "code",
   "execution_count": null,
   "id": "153b1e45",
   "metadata": {},
   "outputs": [],
   "source": [
    "# Сортируем датафреймы по индексу\n",
    "X_test_2.sort_index(inplace=True)\n",
    "y_test_2.sort_index(inplace=True)\n",
    "\n",
    "# Проверяем индексы\n",
    "index1 = X_test_2.index.tolist()\n",
    "index2 = y_test_2.index.tolist()\n",
    "\n",
    "if index1 == index2:\n",
    "    print(\"Индексы полностью совпадают!\")\n",
    "else:\n",
    "    print(\"Индексы различаются.\")"
   ]
  },
  {
   "cell_type": "markdown",
   "id": "a20d3690",
   "metadata": {},
   "source": [
    "Явных дубликатов мы не обнаружили, привели в порядок строки в датафреймах, можем двигаться дальше."
   ]
  },
  {
   "cell_type": "markdown",
   "id": "56deb3d6",
   "metadata": {},
   "source": [
    "#### Неявные дубликаты:"
   ]
  },
  {
   "cell_type": "code",
   "execution_count": null,
   "id": "3e613c08",
   "metadata": {},
   "outputs": [],
   "source": [
    "# Неявные дубликаты \"df_train_2\"\n",
    "hidden_dup_search(df_train_2)"
   ]
  },
  {
   "cell_type": "markdown",
   "id": "246b7fe7",
   "metadata": {},
   "source": [
    "Неявных дубликатов не обнаружено, в данных присутствует та же ошибка, что и в данных первой задачи, данное значение преобразуем в пайплайне."
   ]
  },
  {
   "cell_type": "code",
   "execution_count": null,
   "id": "17cb9964",
   "metadata": {},
   "outputs": [],
   "source": [
    "# Неявные дубликаты \"X_test_2\"\n",
    "hidden_dup_search(X_test_2)"
   ]
  },
  {
   "cell_type": "markdown",
   "id": "cbceeb0d",
   "metadata": {},
   "source": [
    "Неявных дубликатов не обнаружено. Некорректные значения оставляем без изменений, для отработки пайплайном, чтобы тест проходил максимально приближенно к реальной ситуации, потому что скорее всего такие ситуации будут происходить регулярно, так как данные заполняются людьми."
   ]
  },
  {
   "cell_type": "code",
   "execution_count": null,
   "id": "ff5c142e",
   "metadata": {},
   "outputs": [],
   "source": [
    "# Неявные дубликаты \"y_test_2\"\n",
    "hidden_dup_search(y_test_2)"
   ]
  },
  {
   "cell_type": "markdown",
   "id": "cddcfe5c",
   "metadata": {},
   "source": [
    "Неявных дубликатов не обнаружено.\n",
    "\n",
    "Проведем дополнительно проверку полных дубликатов после всех преобразований в таблицах."
   ]
  },
  {
   "cell_type": "code",
   "execution_count": null,
   "id": "12407827",
   "metadata": {},
   "outputs": [],
   "source": [
    "# Обновляем словарь датафреймов\n",
    "df_dict_2 = {'df_train_2': df_train_2, \n",
    "             'X_test_2': X_test_2, \n",
    "             'y_test_2': y_test_2}"
   ]
  },
  {
   "cell_type": "code",
   "execution_count": null,
   "id": "58f1af16",
   "metadata": {},
   "outputs": [],
   "source": [
    "# Поиск явных дубликатов\n",
    "duplicate_search(df_dict_2)"
   ]
  },
  {
   "cell_type": "markdown",
   "id": "d5819c07",
   "metadata": {},
   "source": [
    "После преобразований таблиц, у нас образовались полные дубликаты. Таблицы **X_test_2** и **y_test_2** более корректно рассматривать объединенно, но наличие в них явных дубликатов это не страшно, это реальные данные и будут использоваться для тестирования модели, оставляем их без изменений, для таблицы **df_train_2** наличие явных дубликатов это критично, так как дубликаты снизят качество модели на тесте, поэтому нам необходимо их удалить."
   ]
  },
  {
   "cell_type": "code",
   "execution_count": null,
   "id": "c50241cd",
   "metadata": {},
   "outputs": [],
   "source": [
    "# Удаляем явные дубликаты\n",
    "df_train_2 = df_train_2.drop_duplicates()"
   ]
  },
  {
   "cell_type": "code",
   "execution_count": null,
   "id": "df30dce5",
   "metadata": {},
   "outputs": [],
   "source": [
    "# Проверяем изменения\n",
    "df_train_2.duplicated().sum()"
   ]
  },
  {
   "cell_type": "markdown",
   "id": "34bf1baa",
   "metadata": {},
   "source": [
    "#### Вывод:"
   ]
  },
  {
   "cell_type": "markdown",
   "id": "49d1e861",
   "metadata": {},
   "source": [
    "**Типы данных:**\n",
    "\n",
    "В данных датафреймах все признаки имеют корректный тип данных.\n",
    "\n",
    "**Пропущенные значения:**\n",
    "\n",
    "В датафреймах присутствуют пропуски в категориальных признаках, они будут отработаны пайплайном подготовки данных.\n",
    "\n",
    "**Явные дубликаты:**\n",
    "\n",
    "Явные дубликаты обнаружены во всех датафреймах после преобразования таблиц, для таблиц **X_test_2** и **y_test_2** это не страшно, это реальные данные и будут использоваться для тестирования модели оставляем данные без изменений, то для таблицы **df_train_2** это будет критично, так как дубликаты снизят качество модели на тесте, поэтому нам необходимо их удалить. Из датафрейма **df_train_2** удалено **1413** строк.\n",
    "\n",
    "**Неявные дубликаты:**\n",
    "\n",
    "Неявные дубликаты в датафреймах отсутствуют. Некорреткные значения будут отработаны пайплайном подготовки данных, так как эту ошибку придется исправлять каждый раз перед выполнения предсказания моделью, а также она может в течении времени исправиться в данных от заказчика, и чтобы модель не ломалась мы этот этап занесем в пайплайн.\n",
    "\n",
    "**Преобразование таблиц:**\n",
    "\n",
    "Во всех таблицах колонку **\"id\"** мы задали, как индекс, а так же привели в корректный порядок строки таблиц **\"X_test_2\"** и **\"y_test_2\"** для избежания проблем с тестированием модели. "
   ]
  },
  {
   "cell_type": "markdown",
   "id": "e7842ed8",
   "metadata": {},
   "source": [
    "<span style=\"color: blue; font-weight: bold\">Комментарий ревьюера : </span> ✔️\\\n",
    "<span style=\"color: green\"> 👍</span>"
   ]
  },
  {
   "cell_type": "markdown",
   "id": "c51d1c06",
   "metadata": {},
   "source": [
    "### Исследовательский анализ:"
   ]
  },
  {
   "cell_type": "markdown",
   "id": "3a2e4bcc",
   "metadata": {},
   "source": [
    "#### Датафрейм \"df_train_2\":"
   ]
  },
  {
   "cell_type": "markdown",
   "id": "7f332eea",
   "metadata": {},
   "source": [
    "##### Количественные признаки:"
   ]
  },
  {
   "cell_type": "code",
   "execution_count": null,
   "id": "27409df8",
   "metadata": {},
   "outputs": [],
   "source": [
    "# Статистики по количественным признакам\n",
    "desc_2 = df_train_2.describe().T\n",
    "\n",
    "# Подсчет коэффициента вариативности значений\n",
    "desc_2['cv_coef'] = desc_2['std'] / desc_2['mean']\n",
    "desc_2"
   ]
  },
  {
   "cell_type": "markdown",
   "id": "ac8c27c2",
   "metadata": {},
   "source": [
    "Явных выбросов и аномальных значений мы не наблюдаем. Коэффициент вариативности значений нам говорит, что каждый признак достаточно сильно вариативен (**>0.3**) и может быть полезен для построения модели."
   ]
  },
  {
   "cell_type": "code",
   "execution_count": null,
   "id": "ed96b4ba",
   "metadata": {},
   "outputs": [],
   "source": [
    "# Признак \"employment_years\"\n",
    "analyzis_quantity(df_train_2['employment_years'], \n",
    "                  name='Распределение значений стажа сотрудников', \n",
    "                  x_label='Стаж сотрудников в годах', \n",
    "                  y_label='Количество', \n",
    "                  discrete=True)"
   ]
  },
  {
   "cell_type": "markdown",
   "id": "d91b0fef",
   "metadata": {},
   "source": [
    "Значения признака **\"employment_years\"** имеет положительно ассиметричное распределение с тяжелым хвостом справа, выбросы отсутствуют. \n",
    "\n",
    "Пик находится на значении **1**, что может нам говорит о высоком уровне текучести кадров, либо о том, что компания очень активно расширяется. \n",
    "\n",
    "* Основной диапозон значений - от **2** до **6**\n",
    "* Минимальное значение - **1**\n",
    "* Среднее значение - **4**\n",
    "* Максимальное значение - **10**"
   ]
  },
  {
   "cell_type": "code",
   "execution_count": null,
   "id": "d0a64f84",
   "metadata": {},
   "outputs": [],
   "source": [
    "# Признак \"supervisor_evaluation\"\n",
    "analyzis_quantity(df_train_2['supervisor_evaluation'], \n",
    "                  name='Распределение оценок качества работы сотрудника', \n",
    "                  x_label='Оценка качества работы сотрудника', \n",
    "                  y_label='Количество', \n",
    "                  discrete=True)"
   ]
  },
  {
   "cell_type": "markdown",
   "id": "0016e55f",
   "metadata": {},
   "source": [
    "Значения признака **\"supervisor_evaluation\"** имеют отрицительно ассиметричное распределение с пиком на значении **4**, выброс показанный на коробчатом графике таковым не является, значения оставляем без изменений. \n",
    "\n",
    "Данный график говорит нам, что основная масса сотрудников имеют хорошую или удовлетворительную оценку своей работы.\n",
    "\n",
    "* Основной диапозон значений - от **3** до **4**\n",
    "* Минимальное значение - **1**\n",
    "* Среднее значение - **3**\n",
    "* Максимальное значение - **5**"
   ]
  },
  {
   "cell_type": "code",
   "execution_count": null,
   "id": "1b9862e2",
   "metadata": {},
   "outputs": [],
   "source": [
    "# Признак \"salary\"\n",
    "analyzis_quantity(df_train_2['salary'], \n",
    "                  name='Распределение ежемесячных зарплат сотрудников', \n",
    "                  x_label='Значения ежемесячных зарплат сотрудников', \n",
    "                  y_label='Количество')"
   ]
  },
  {
   "cell_type": "markdown",
   "id": "f60c28f0",
   "metadata": {},
   "source": [
    "Значения признака **\"salary\"** имеют положительно ассиметричное распределение с пиком на значении **~20000**, выбросы показанные на коробчатом графике таковыми не являются, значения оставляем без изменений. \n",
    "\n",
    "* Основной диапозон значений - от **24000** до **46800**\n",
    "* Минимальное значение - **12000**\n",
    "* Среднее значение - **33600**\n",
    "* Максимальное значение - **96000**"
   ]
  },
  {
   "cell_type": "markdown",
   "id": "41192451",
   "metadata": {},
   "source": [
    "##### Категориальные признаки:"
   ]
  },
  {
   "cell_type": "code",
   "execution_count": null,
   "id": "13350ab8",
   "metadata": {},
   "outputs": [],
   "source": [
    "# Признак \"dept\"\n",
    "analyzis_category(df_train_2['dept'], \n",
    "                  name='Соотношение количества сотрудников по отделам')"
   ]
  },
  {
   "cell_type": "markdown",
   "id": "7a8cc581",
   "metadata": {},
   "source": [
    "Наибольшее количество сотрудников находится в отделе продаж (**sales**), меньше всего сотрудников в отделе кадров (**hr**)."
   ]
  },
  {
   "cell_type": "code",
   "execution_count": null,
   "id": "d0252edd",
   "metadata": {},
   "outputs": [],
   "source": [
    "# Признак \"level\"\n",
    "analyzis_category(df_train_2['level'], \n",
    "                  name='Соотношение сотрудников по уровню занимаемой должности')"
   ]
  },
  {
   "cell_type": "markdown",
   "id": "906f8c24",
   "metadata": {},
   "source": [
    "Соотношение сотрудников по уровню занимаемой должности **\"sinior\"**, **\"medium\"** и **\"junior\"** - **1.3 : 5 : 3.7** соответственно. "
   ]
  },
  {
   "cell_type": "code",
   "execution_count": null,
   "id": "bfd548dd",
   "metadata": {},
   "outputs": [],
   "source": [
    "# Признак \"workload\"\n",
    "analyzis_category(df_train_2['workload'], \n",
    "                  name='Соотношение сотрудников по уровню загруженности')"
   ]
  },
  {
   "cell_type": "markdown",
   "id": "c9e14ab7",
   "metadata": {},
   "source": [
    "Соотношение сотрудников по уровню загруженности **\"low\"**, **\"medium\"** и **\"high\"** - **3 : 5 : 2** соответственно."
   ]
  },
  {
   "cell_type": "code",
   "execution_count": null,
   "id": "dc01a275",
   "metadata": {},
   "outputs": [],
   "source": [
    "# Признак \"last_year_promo\"\n",
    "analyzis_category(df_train_2['last_year_promo'], \n",
    "                  name='Соотношение сотрудников по наличию повышения за последний год')"
   ]
  },
  {
   "cell_type": "markdown",
   "id": "5d53cc8b",
   "metadata": {},
   "source": [
    "Повышение за последний год получило **~4%** сотрудников."
   ]
  },
  {
   "cell_type": "code",
   "execution_count": null,
   "id": "21ccae69",
   "metadata": {},
   "outputs": [],
   "source": [
    "# Признак \"last_year_violations\"\n",
    "analyzis_category(df_train_2['last_year_violations'], \n",
    "                  name='Соотношение сотрудников по наличию нарушений \\n по трудовому договору за последний год')"
   ]
  },
  {
   "cell_type": "markdown",
   "id": "a8553b7f",
   "metadata": {},
   "source": [
    "Около **18%** сотрудников имели за последний год нарушения по трудовому договору."
   ]
  },
  {
   "cell_type": "code",
   "execution_count": null,
   "id": "2b137a66",
   "metadata": {},
   "outputs": [],
   "source": [
    "# Признак \"quit\"\n",
    "analyzis_category(df_train_2['quit'], \n",
    "                  name='Соотношение уволившихся и работающих сотрудников компании')"
   ]
  },
  {
   "cell_type": "markdown",
   "id": "e7687fa9",
   "metadata": {},
   "source": [
    "В тренировочной выборке **25%** уволившихся сотрудников."
   ]
  },
  {
   "cell_type": "markdown",
   "id": "31cfa5fe",
   "metadata": {},
   "source": [
    "#### Датафрейм \"X_test_2\":"
   ]
  },
  {
   "cell_type": "markdown",
   "id": "0bd88232",
   "metadata": {},
   "source": [
    "##### Количественные признаки:"
   ]
  },
  {
   "cell_type": "code",
   "execution_count": null,
   "id": "c3771c85",
   "metadata": {},
   "outputs": [],
   "source": [
    "# Статистики по количественным признакам\n",
    "desc_test_2 = X_test_2.describe().T\n",
    "\n",
    "# Подсчет коэффициента вариативности значений\n",
    "desc_test_2['cv_coef'] = desc_test_2['std'] / desc_test_2['mean']\n",
    "desc_test_2"
   ]
  },
  {
   "cell_type": "code",
   "execution_count": null,
   "id": "7bfa97aa",
   "metadata": {},
   "outputs": [],
   "source": [
    "# Выводим статистики из тренировочной выборки для сравнения\n",
    "desc_2"
   ]
  },
  {
   "cell_type": "markdown",
   "id": "13a70c50",
   "metadata": {},
   "source": [
    "Значения статистик очень схожи, рассмотрим графики этих признаков, комментарии будут оставлены, если будут замечены какие то отличия."
   ]
  },
  {
   "cell_type": "code",
   "execution_count": null,
   "id": "c082676d",
   "metadata": {},
   "outputs": [],
   "source": [
    "# Признак \"employment_years\"\n",
    "analyzis_quantity(X_test_2['employment_years'], \n",
    "                  name='Распределение значений стажа сотрудников', \n",
    "                  x_label='Стаж сотрудников в годах', \n",
    "                  y_label='Количество', \n",
    "                  discrete=True)"
   ]
  },
  {
   "cell_type": "markdown",
   "id": "2dfa77b9",
   "metadata": {},
   "source": [
    "Значения признака **\"employment_years\"** имеет положительно ассиметричное распределение, выбросы отсутствуют. \n",
    "\n",
    "В тестовой выборке больше сотрудников с маленьким стажем работы.\n",
    "\n",
    "* Основной диапозон значений - от **1** до **6**\n",
    "* Минимальное значение - **1**\n",
    "* Среднее значение - **3**\n",
    "* Максимальное значение - **10**"
   ]
  },
  {
   "cell_type": "code",
   "execution_count": null,
   "id": "7951a557",
   "metadata": {},
   "outputs": [],
   "source": [
    "# Признак \"supervisor_evaluation\"\n",
    "analyzis_quantity(X_test_2['supervisor_evaluation'], \n",
    "                  name='Распределение оценок качества работы сотрудника', \n",
    "                  x_label='Оценка качества работы сотрудника', \n",
    "                  y_label='Количество', \n",
    "                  discrete=True)"
   ]
  },
  {
   "cell_type": "code",
   "execution_count": null,
   "id": "5d61090b",
   "metadata": {},
   "outputs": [],
   "source": [
    "# Признак \"salary\"\n",
    "analyzis_quantity(X_test_2['salary'], \n",
    "                  name='Распределение ежемесячных зарплат сотрудников', \n",
    "                  x_label='Значения ежемесячных зарплат сотрудников', \n",
    "                  y_label='Количество')"
   ]
  },
  {
   "cell_type": "markdown",
   "id": "4ffbd277",
   "metadata": {},
   "source": [
    "##### Категориальные признаки:"
   ]
  },
  {
   "cell_type": "code",
   "execution_count": null,
   "id": "9fc5ceb6",
   "metadata": {},
   "outputs": [],
   "source": [
    "# Признак \"dept\"\n",
    "analyzis_category(X_test_2['dept'], \n",
    "                  name='Соотношение количества сотрудников по отделам')"
   ]
  },
  {
   "cell_type": "code",
   "execution_count": null,
   "id": "bc436679",
   "metadata": {},
   "outputs": [],
   "source": [
    "# Признак \"level\"\n",
    "analyzis_category(X_test_2['level'], \n",
    "                  name='Соотношение сотрудников по уровню занимаемой должности')"
   ]
  },
  {
   "cell_type": "markdown",
   "id": "038ede6a",
   "metadata": {},
   "source": [
    "Соотношение сотрудников по уровню занимаемой должности **\"sinior\"**, **\"medium\"** и **\"junior\"** - **0.9 : 4.3 : 4.8** соответственно. "
   ]
  },
  {
   "cell_type": "code",
   "execution_count": null,
   "id": "629e9acc",
   "metadata": {},
   "outputs": [],
   "source": [
    "# Признак \"workload\"\n",
    "analyzis_category(X_test_2['workload'], \n",
    "                  name='Соотношение сотрудников по уровню загруженности')"
   ]
  },
  {
   "cell_type": "code",
   "execution_count": null,
   "id": "a59d6e4f",
   "metadata": {},
   "outputs": [],
   "source": [
    "# Признак \"last_year_promo\"\n",
    "analyzis_category(X_test_2['last_year_promo'], \n",
    "                  name='Соотношение сотрудников по наличию повышения за последний год')"
   ]
  },
  {
   "cell_type": "markdown",
   "id": "d82e0bf5",
   "metadata": {},
   "source": [
    "В тестовой выборке повышение за последний год получило **~3%** сотрудников."
   ]
  },
  {
   "cell_type": "code",
   "execution_count": null,
   "id": "5266e2ad",
   "metadata": {},
   "outputs": [],
   "source": [
    "# Признак \"last_year_violations\"\n",
    "analyzis_category(X_test_2['last_year_violations'], \n",
    "                  name='Соотношение сотрудников по наличию нарушений \\n по трудовому договору за последний год')"
   ]
  },
  {
   "cell_type": "markdown",
   "id": "041a1532",
   "metadata": {},
   "source": [
    "В тестовой выборке около **13%** сотрудников имели за последний год нарушения по трудовому договору."
   ]
  },
  {
   "cell_type": "markdown",
   "id": "7b6a84b3",
   "metadata": {},
   "source": [
    "#### Датафрейм \"y_test_2\":"
   ]
  },
  {
   "cell_type": "markdown",
   "id": "c371887b",
   "metadata": {},
   "source": [
    "##### Категориальные признаки:"
   ]
  },
  {
   "cell_type": "code",
   "execution_count": null,
   "id": "1b19fb29",
   "metadata": {},
   "outputs": [],
   "source": [
    "# Признак \"quit\"\n",
    "analyzis_category(y_test_2['quit'], \n",
    "                  name='Соотношение уволившихся и работающих сотрудников компании')"
   ]
  },
  {
   "cell_type": "markdown",
   "id": "9e4aac3b",
   "metadata": {},
   "source": [
    "В тестовой выборке **28%** уволившихся сотрудников."
   ]
  },
  {
   "cell_type": "markdown",
   "id": "ad624be2",
   "metadata": {},
   "source": [
    "#### Портрет «уволившегося сотрудника»:"
   ]
  },
  {
   "cell_type": "markdown",
   "id": "3816d1d9",
   "metadata": {},
   "source": [
    "##### Объединение таблиц:"
   ]
  },
  {
   "cell_type": "markdown",
   "id": "8e2ac655",
   "metadata": {},
   "source": [
    "Для построение портрета \"уволившиегося сотрудника\" будем использовать обе выборки (тренировочную и тестовую), для получения более точных результатов."
   ]
  },
  {
   "cell_type": "code",
   "execution_count": null,
   "id": "cba8e053",
   "metadata": {},
   "outputs": [],
   "source": [
    "# Объединяем тестовые входные признаки с целевым\n",
    "data_full_2 = X_test_2.join(y_test_2)\n",
    "\n",
    "# Сравниваем размеры таблиц\n",
    "print('Тренировочные данные: ', df_train_2.shape)\n",
    "print('Тестовые данные: ', data_full_2.shape)"
   ]
  },
  {
   "cell_type": "code",
   "execution_count": null,
   "id": "6b9f0e71",
   "metadata": {},
   "outputs": [],
   "source": [
    "# Объединяем тестовые и тренировочные данные\n",
    "data_full_2 = pd.concat([df_train_2, data_full_2])\n",
    "\n",
    "# Проверяем результат объединения таблиц\n",
    "data_full_2.info()"
   ]
  },
  {
   "cell_type": "markdown",
   "id": "5a696d2a",
   "metadata": {},
   "source": [
    "Объединение таблиц прошло корректно, можем приступать к построению портрета \"уволившиегося сотрудника\"."
   ]
  },
  {
   "cell_type": "markdown",
   "id": "b48694f6",
   "metadata": {},
   "source": [
    "##### Построение портрета \"уволившиегося сотрудника\":"
   ]
  },
  {
   "cell_type": "markdown",
   "id": "ae6c3911",
   "metadata": {},
   "source": [
    "Узнаем, в каком отделе наивысшая вероятность, что сотрудник уволится:"
   ]
  },
  {
   "cell_type": "code",
   "execution_count": null,
   "id": "b39b1132",
   "metadata": {},
   "outputs": [],
   "source": [
    "# Строим сводную таблицу\n",
    "proba_dept = data_full_2.pivot_table(index='dept', columns='quit', values='salary', aggfunc=('count'))\n",
    "\n",
    "# Приводим названия колонок в порядок\n",
    "proba_dept = proba_dept.reset_index()\n",
    "proba_dept = proba_dept.rename_axis(None, axis=1)\n",
    "\n",
    "# Убираем некорректные строки\n",
    "proba_dept.drop(index=0, inplace=True)\n",
    "\n",
    "# Считаем вероятность\n",
    "proba_dept['proba'] = proba_dept['yes'] / (proba_dept['yes'] + proba_dept['no'])\n",
    "\n",
    "# Сортируем строки\n",
    "proba_dept = proba_dept.sort_values(by='proba')\n",
    "\n",
    "# Строим график\n",
    "f = plt.subplots(figsize=(9, 6))\n",
    "sns.barplot(data=proba_dept, x='dept', y='proba')\n",
    "\n",
    "# Настройка заголовков и подписей\n",
    "plt.title('Вероятность увольнения в зависимости от отдела компании', fontsize=14)\n",
    "plt.xlabel('')\n",
    "plt.ylabel('Вероятность')\n",
    "\n",
    "# Вывод графика\n",
    "plt.tight_layout()\n",
    "plt.show()\n",
    " \n",
    "proba_dept"
   ]
  },
  {
   "cell_type": "markdown",
   "id": "cacbaae6",
   "metadata": {},
   "source": [
    "<span style=\"color: blue; font-weight: bold\">Комментарий ревьюера : </span> ✔️\\\n",
    "<span style=\"color: green\"> 👍</span>"
   ]
  },
  {
   "cell_type": "markdown",
   "id": "c91820e3",
   "metadata": {},
   "source": [
    "Критической разницы в вероятностях между отделами нет, но наиболее высокий риск увольнения в отделе **\"purchasing\" - 28%**, наименьшая вероятность увольнения в отделе **\"marketing\" - 25%**."
   ]
  },
  {
   "cell_type": "markdown",
   "id": "67bcd206",
   "metadata": {},
   "source": [
    "Рассмотрим взимосвязь с уровнем должности сотрудника."
   ]
  },
  {
   "cell_type": "code",
   "execution_count": null,
   "id": "e80cea5d",
   "metadata": {},
   "outputs": [],
   "source": [
    "# Строим сводную таблицу\n",
    "proba_level = data_full_2.pivot_table(index='level', columns='quit', values='salary', aggfunc=('count'))\n",
    "\n",
    "# Приводим названия колонок в порядок\n",
    "proba_level = proba_level.reset_index()\n",
    "proba_level = proba_level.rename_axis(None, axis=1)\n",
    "\n",
    "# Считаем вероятность\n",
    "proba_level['proba'] = proba_level['yes'] / (proba_level['yes'] + proba_level['no'])\n",
    "\n",
    "# Сортируем строки\n",
    "proba_level = proba_level.sort_values(by='proba')\n",
    "\n",
    "# Строим график\n",
    "f = plt.subplots(figsize=(9, 6))\n",
    "sns.barplot(data=proba_level, x='level', y='proba')\n",
    "\n",
    "# Настройка заголовков и подписей\n",
    "plt.title('Вероятность увольнения в зависимости от уровня должности', fontsize=14)\n",
    "plt.xlabel('')\n",
    "plt.ylabel('Вероятность')\n",
    "\n",
    "# Вывод графика\n",
    "plt.tight_layout()\n",
    "plt.show()\n",
    "\n",
    "proba_level"
   ]
  },
  {
   "cell_type": "markdown",
   "id": "de8aa7f5",
   "metadata": {},
   "source": [
    "Очень высокий уровень вероятности увольнения у сотрудников на уровне должности **\"junior\" - 53%**.\n",
    "\n",
    "Этот момент может обяснять причину, почему в компании очень много сотрудников с маленьким стажем работы, и гипотеза с высокой текучестью кадров не может быть отвергнута."
   ]
  },
  {
   "cell_type": "markdown",
   "id": "4703a3be",
   "metadata": {},
   "source": [
    "Рассмотрим взимосвязь с рабочей нагрузкой на сотрудников."
   ]
  },
  {
   "cell_type": "code",
   "execution_count": null,
   "id": "c1ff38b8",
   "metadata": {},
   "outputs": [],
   "source": [
    "# Строим сводную таблицу\n",
    "proba_workload = data_full_2.pivot_table(index='workload', columns='quit', values='salary', aggfunc=('count'))\n",
    "\n",
    "# Приводим названия колонок в порядок\n",
    "proba_workload = proba_workload.reset_index()\n",
    "proba_workload = proba_workload.rename_axis(None, axis=1)\n",
    "\n",
    "# Убираем некорректные строки\n",
    "proba_workload.drop(index=0, inplace=True)\n",
    "\n",
    "# Считаем вероятность\n",
    "proba_workload['proba'] = proba_workload['yes'] / (proba_workload['yes'] + proba_workload['no'])\n",
    "\n",
    "# Сортируем строки\n",
    "proba_workload = proba_workload.sort_values(by='proba')\n",
    "\n",
    "# Строим график\n",
    "f = plt.subplots(figsize=(9, 6))\n",
    "sns.barplot(data=proba_workload, x='workload', y='proba')\n",
    "\n",
    "# Настройка заголовков и подписей\n",
    "plt.title('Вероятность увольнения в зависимости от уровня рабочей нагрузки', fontsize=14)\n",
    "plt.xlabel('')\n",
    "plt.ylabel('Вероятность')\n",
    "\n",
    "# Вывод графика\n",
    "plt.tight_layout()\n",
    "plt.show()\n",
    "\n",
    "proba_workload"
   ]
  },
  {
   "cell_type": "markdown",
   "id": "ec4463b7",
   "metadata": {},
   "source": [
    "Наиболее высокая вероятность увольнения сотрудника с **низким** уровнем рабочей нагрузки, она составляет - **39%**. "
   ]
  },
  {
   "cell_type": "markdown",
   "id": "375bfa5f",
   "metadata": {},
   "source": [
    "Рассмотрим связь вероятности уволнения и с наличием повышения за последний год."
   ]
  },
  {
   "cell_type": "code",
   "execution_count": null,
   "id": "0b8d7062",
   "metadata": {},
   "outputs": [],
   "source": [
    "# Строим сводную таблицу\n",
    "proba_promo = data_full_2.pivot_table(index='last_year_promo', columns='quit', values='salary', aggfunc=('count'))\n",
    "\n",
    "# Приводим названия колонок в порядок\n",
    "proba_promo = proba_promo.reset_index()\n",
    "proba_promo = proba_promo.rename_axis(None, axis=1)\n",
    "\n",
    "# Считаем вероятность\n",
    "proba_promo['proba'] = proba_promo['yes'] / (proba_promo['yes'] + proba_promo['no'])\n",
    "\n",
    "# Сортируем строки\n",
    "proba_promo = proba_promo.sort_values(by='proba')\n",
    "\n",
    "# Строим график\n",
    "f = plt.subplots(figsize=(9, 6))\n",
    "sns.barplot(data=proba_promo, x='last_year_promo', y='proba')\n",
    "\n",
    "# Настройка заголовков и подписей\n",
    "plt.title('Вероятность увольнения в зависимости от наличия повышения за последний год.', fontsize=14)\n",
    "plt.xlabel('')\n",
    "plt.ylabel('Вероятность')\n",
    "\n",
    "# Вывод графика\n",
    "plt.tight_layout()\n",
    "plt.show()\n",
    "\n",
    "proba_promo"
   ]
  },
  {
   "cell_type": "markdown",
   "id": "4eee549f",
   "metadata": {},
   "source": [
    "Отсутствие повышения за последний год существенно увеличивает вероятность увольнения сотрудника, такая вероятность составляет - **27.5%**"
   ]
  },
  {
   "cell_type": "markdown",
   "id": "74736437",
   "metadata": {},
   "source": [
    "Рассмотрим взаимосвязь вероятности увольнения с наличием нарушений по трудовому договору за последний год."
   ]
  },
  {
   "cell_type": "code",
   "execution_count": null,
   "id": "38bda285",
   "metadata": {},
   "outputs": [],
   "source": [
    "# Строим сводную таблицу\n",
    "proba_viol = data_full_2.pivot_table(index='last_year_violations', \n",
    "                                     columns='quit', values='salary', \n",
    "                                     aggfunc=('count'))\n",
    "\n",
    "# Приводим названия колонок в порядок\n",
    "proba_viol = proba_viol.reset_index()\n",
    "proba_viol = proba_viol.rename_axis(None, axis=1)\n",
    "\n",
    "# Считаем вероятность\n",
    "proba_viol['proba'] = proba_viol['yes'] / (proba_viol['yes'] + proba_viol['no'])\n",
    "\n",
    "# Сортируем строки\n",
    "proba_viol = proba_viol.sort_values(by='proba')\n",
    "\n",
    "# Строим график\n",
    "f = plt.subplots(figsize=(9, 6))\n",
    "sns.barplot(data=proba_viol, x='last_year_violations', y='proba')\n",
    "\n",
    "# Настройка заголовков и подписей\n",
    "plt.title('Вероятность увольнения в зависимости от наличия нарушений за последний год.', fontsize=14)\n",
    "plt.xlabel('')\n",
    "plt.ylabel('Вероятность')\n",
    "\n",
    "# Вывод графика\n",
    "plt.tight_layout()\n",
    "plt.show()\n",
    "\n",
    "\n",
    "proba_viol"
   ]
  },
  {
   "cell_type": "markdown",
   "id": "dbd4ea2e",
   "metadata": {},
   "source": [
    "Наличие нарушений по трудовому договору за последний год увеличивается вероятность уволнения в **2** раза, она составляет - **39%**."
   ]
  },
  {
   "cell_type": "markdown",
   "id": "aedb3728",
   "metadata": {},
   "source": [
    "Рассмотрим на какой год стажа приходится наибольшее количество уволившихся."
   ]
  },
  {
   "cell_type": "code",
   "execution_count": null,
   "id": "6484d8bc",
   "metadata": {},
   "outputs": [],
   "source": [
    "# Отфильтруем нашу таблицу и оставим только уволившихся\n",
    "data_quit = data_full_2.query('quit == \"yes\"')"
   ]
  },
  {
   "cell_type": "code",
   "execution_count": null,
   "id": "fcdc848b",
   "metadata": {},
   "outputs": [],
   "source": [
    "# Строим график\n",
    "analyzis_quantity(data_quit['employment_years'], \n",
    "                  name='Распределение значений стажа уволившихся сотрудников', \n",
    "                  x_label='Стаж сотрудников в годах', \n",
    "                  y_label='Количество', \n",
    "                  discrete=True)"
   ]
  },
  {
   "cell_type": "markdown",
   "id": "d0710d6d",
   "metadata": {},
   "source": [
    "Основная масса сотрудников увольняется в первые **3** года работы в компании, наиболее высокая вероятность увольнения на первом году работы."
   ]
  },
  {
   "cell_type": "markdown",
   "id": "776c33d4",
   "metadata": {},
   "source": [
    "Рассмотрим с какой оценкой работы руководителем сотрудники чаще увольняются."
   ]
  },
  {
   "cell_type": "code",
   "execution_count": null,
   "id": "89dbb6b5",
   "metadata": {},
   "outputs": [],
   "source": [
    "# Строим график\n",
    "analyzis_quantity(data_quit['supervisor_evaluation'], \n",
    "                  name='Распределение оценок качества работы уволившихся сотрудников', \n",
    "                  x_label='Оценка качества работы сотрудника', \n",
    "                  y_label='Количество', \n",
    "                  discrete=True)"
   ]
  },
  {
   "cell_type": "markdown",
   "id": "4244b398",
   "metadata": {},
   "source": [
    "Чаще всего сотрудники увольняются с оценкой **3**."
   ]
  },
  {
   "cell_type": "markdown",
   "id": "123665df",
   "metadata": {},
   "source": [
    "Рассмотрим взаимосвязь уровня зарплаты и вероятностью увольнения сотрудника."
   ]
  },
  {
   "cell_type": "code",
   "execution_count": null,
   "id": "a66fb282",
   "metadata": {},
   "outputs": [],
   "source": [
    "# Строим график\n",
    "analyzis_quantity(data_quit['salary'], \n",
    "                  name='Распределение ежемесячных зарплат уволившихся сотрудников', \n",
    "                  x_label='Значения ежемесячных зарплат сотрудников', \n",
    "                  y_label='Количество')"
   ]
  },
  {
   "cell_type": "markdown",
   "id": "205e45f7",
   "metadata": {},
   "source": [
    "Наибольшее количество уволившихся сотрудников имели зарплату в диапозоне от **12000** до **30000**."
   ]
  },
  {
   "cell_type": "markdown",
   "id": "ac589b5a",
   "metadata": {},
   "source": [
    "##### Вывод:"
   ]
  },
  {
   "cell_type": "markdown",
   "id": "754db52d",
   "metadata": {},
   "source": [
    "Ниже мы собрали все выводы, которые мы получили из рассмотрения графиков, из которых мы сможем собрать портрет \"уволившегося сотрудника\":\n",
    "\n",
    "* Критической разницы в вероятностях между отделами нет, но наиболее высокий риск увольнения в отделе **\"purchasing\" - 28%**, наименьшая вероятность увольнения в отделе **\"marketing\" - 25%**;\n",
    "\n",
    "* Очень высокий уровень вероятности увольнения у сотрудников на уровне должности **\"junior\" - 53%**;\n",
    "\n",
    "* Наиболее высокая вероятность увольнения сотрудника с **низким** уровнем рабочей нагрузки, она составляет - **39%**;\n",
    "\n",
    "* Отсутствие повышения за последний год существенно увеличивает вероятность увольнения сотрудника, такая вероятность составляет - **27.5%**;\n",
    "\n",
    "* Наличие нарушений по трудовому договору за последний год увеличивается вероятность уволнения в **2** раза, она составляет - **39%**;\n",
    "\n",
    "* Основная масса сотрудников увольняется в первые **3** года работы в компании, наиболее высокая вероятность увольнения на первом году работы;\n",
    "\n",
    "* Чаще всего сотрудники увольняются с оценкой **3**;\n",
    "\n",
    "* Наибольшее количество уволившихся сотрудников имели зарплату в диапозоне от **12000** до **30000**.\n",
    "\n",
    "**Портрет \"уволившиегося сотрудника\":**\n",
    "\n",
    "* Вероятнее всего работает в отделе - **purchasing**;\n",
    "* Уровень должности - **junior**;\n",
    "* Уровень рабочей нагрузки - **low**;\n",
    "* **Не получал повышения** за последний год;\n",
    "* **Имеет нарушения** по трудовому договору за последний год;\n",
    "* Стаж работы сотрудника от **1** до **3** лет;\n",
    "* Имеет оценку своей работы от руководителя на уровне - **3**;\n",
    "* Имеет зарплату в диапозоне от **12000** до **30000**."
   ]
  },
  {
   "cell_type": "markdown",
   "id": "27d976bd",
   "metadata": {},
   "source": [
    "#### Взаимосвязь уровня удовлетворения работой сотрудника и его увольнением:"
   ]
  },
  {
   "cell_type": "markdown",
   "id": "940786fc",
   "metadata": {},
   "source": [
    "Аналитики утверждают, что уровень удовлетворённости сотрудника работой в компании влияет на то, уволится ли сотрудник. \n",
    "\n",
    "Проверим данное утверждение."
   ]
  },
  {
   "cell_type": "code",
   "execution_count": null,
   "id": "a898b4b4",
   "metadata": {},
   "outputs": [],
   "source": [
    "# Оставляем только необходимые входные признаки\n",
    "data_satisfaction = data_full_2.drop('quit', axis=1)\n",
    "\n",
    "# Предсказание удовлетворенности работой в компании\n",
    "data_full_2['job_satisfaction_rate'] = model_1.predict(data_satisfaction)\n",
    "\n",
    "# Выводим превые 5 строк\n",
    "data_full_2.head()"
   ]
  },
  {
   "cell_type": "markdown",
   "id": "4e82cdf9",
   "metadata": {},
   "source": [
    "Сравним распределение признака **\"job_satisfaction_rate\"** для ушедших и оставшихся сотрудников."
   ]
  },
  {
   "cell_type": "code",
   "execution_count": null,
   "id": "30e223c7",
   "metadata": {},
   "outputs": [],
   "source": [
    "# Строим график\n",
    "analyzis_group_quant(data=data_full_2, \n",
    "                     x='job_satisfaction_rate', \n",
    "                     name='Распределение значений удовлетворенности работой в компании \\n для уволившихся и оставшихся сотрудников', \n",
    "                     hue='quit', \n",
    "                     x_label='Значения удовлетворенности работой в компании', \n",
    "                     y_label='Количество', \n",
    "                     stat='probability', \n",
    "                     num=5)"
   ]
  },
  {
   "cell_type": "markdown",
   "id": "8d8e4d0a",
   "metadata": {},
   "source": [
    "<font color='blue'><b>Комментарий ревьюера: </b></font> ❌\\\n",
    "<font color='darkorange'> Здесь нужны тестовые данные</font>\n",
    "\n",
    "> Проверьте это утверждение: визуализируйте и сравните распределения признака job_satisfaction_rate для ушедших и оставшихся сотрудников. Используйте данные с обоими целевыми признаками тестовой выборки.\n"
   ]
  },
  {
   "cell_type": "markdown",
   "id": "e07e774d",
   "metadata": {},
   "source": [
    "Мы действительно наблюдаем взаимосвязь, пик удовлетворенностью работой в компании уволившихся сотрудников смещен влево и распределение имеет медиану на значении **0.35**, как у оставшихся сотрудников обратная ситуация пик смещен вправо, а медианное значение равно - **0.64**."
   ]
  },
  {
   "cell_type": "markdown",
   "id": "f89ad1c7",
   "metadata": {},
   "source": [
    "#### Вывод:"
   ]
  },
  {
   "cell_type": "markdown",
   "id": "abbbb1d3",
   "metadata": {},
   "source": [
    "##### Исследовательский анализ:"
   ]
  },
  {
   "cell_type": "markdown",
   "id": "e698c9c6",
   "metadata": {},
   "source": [
    "**Датафрейм \"df_train_2\"**\n",
    "\n",
    "**Количественные признаки:**\n",
    "\n",
    "Значения признака **\"employment_years\"** имеет положительно ассиметричное распределение с тяжелым хвостом справа, выбросы отсутствуют. \n",
    "\n",
    "Пик находится на значении **1**, что может нам говорит о высоком уровне текучести кадров, либо о том, что компания очень активно расширяется. \n",
    "\n",
    "* Основной диапозон значений - от **2** до **6**\n",
    "* Минимальное значение - **1**\n",
    "* Среднее значение - **4**\n",
    "* Максимальное значение - **10**\n",
    "\n",
    "Значения признака **\"supervisor_evaluation\"** имеют отрицительно ассиметричное распределение с пиком на значении **4**, выброс показанный на коробчатом графике таковым не является, значения оставляем без изменений. \n",
    "\n",
    "Данный график говорит нам, что основная масса сотрудников имеют хорошую или удовлетворительную оценку своей работы.\n",
    "\n",
    "* Основной диапозон значений - от **3** до **4**\n",
    "* Минимальное значение - **1**\n",
    "* Среднее значение - **3**\n",
    "* Максимальное значение - **5**\n",
    "\n",
    "Значения признака **\"salary\"** имеют положительно ассиметричное распределение с пиком на значении **~20000**, выбросы показанные на коробчатом графике таковыми не являются, значения оставляем без изменений. \n",
    "\n",
    "* Основной диапозон значений - от **24000** до **46800**\n",
    "* Минимальное значение - **12000**\n",
    "* Среднее значение - **33600**\n",
    "* Максимальное значение - **96000**\n",
    "\n",
    "**Категориальные признаки:**\n",
    "\n",
    "* Наибольшее количество сотрудников находится в отделе продаж (**sales**), меньше всего сотрудников в отделе кадров (**hr**).\n",
    "* Соотношение сотрудников по уровню занимаемой должности **\"sinior\"**, **\"medium\"** и **\"junior\"** - **1.3 : 5 : 3.7** соответственно. \n",
    "* Соотношение сотрудников по уровню загруженности **\"low\"**, **\"medium\"** и **\"high\"** - **3 : 5 : 2** соответственно.\n",
    "* Повышение за последний год получило **~4%** сотрудников.\n",
    "* Около **18%** сотрудников имели за последний год нарушения по трудовому договору.\n",
    "* В тренировочной выборке **25%** уволившихся сотрудников.\n",
    "\n",
    "**Датафрейм \"X_test_2\"**\n",
    "\n",
    "**Количественные признаки:**\n",
    "\n",
    "Значения признака **\"employment_years\"** имеет положительно ассиметричное распределение, выбросы отсутствуют. \n",
    "\n",
    "В тестовой выборке больше сотрудников с маленьким стажем работы.\n",
    "\n",
    "* Основной диапозон значений - от **1** до **6**\n",
    "* Минимальное значение - **1**\n",
    "* Среднее значение - **3**\n",
    "* Максимальное значение - **10**\n",
    "\n",
    "Значения признака **\"supervisor_evaluation\"** имеют отрицительно ассиметричное распределение с пиком на значении **4**, выброс показанный на коробчатом графике таковым не является, значения оставляем без изменений. \n",
    "\n",
    "Данный график говорит нам, что основная масса сотрудников имеют хорошую оценку своей работы.\n",
    "\n",
    "* Основной диапозон значений - от **3** до **4**\n",
    "* Минимальное значение - **1**\n",
    "* Среднее значение - **4**\n",
    "* Максимальное значение - **5**\n",
    "\n",
    "Значения признака **\"salary\"** имеют положительно ассиметричное распределение с пиком на значении **~30000**, выбросы показанные на коробчатом графике таковыми не являются, значения оставляем без изменений. \n",
    "\n",
    "* Основной диапозон значений - от **22800** до **43200**\n",
    "* Минимальное значение - **12000**\n",
    "* Среднее значение - **30000**\n",
    "* Максимальное значение - **96000**\n",
    "\n",
    "**Категориальные признаки:**\n",
    "\n",
    "* Наибольшее количество сотрудников находится в отделе продаж (**sales**), меньше всего сотрудников в отделе кадров (**hr**).\n",
    "* Соотношение сотрудников по уровню занимаемой должности **\"sinior\"**, **\"medium\"** и **\"junior\"** - **0.9 : 4.3 : 4.8** соответственно.\n",
    "* Соотношение сотрудников по уровню загруженности **\"low\"**, **\"medium\"** и **\"high\"** - **3 : 5 : 2** соответственно.\n",
    "* Повышение за последний год получило **~3%** сотрудников.\n",
    "* Около **13%** сотрудников имели за последний год нарушения по трудовому договору.\n",
    "\n",
    "**Датафрейм \"y_test_2\"**\n",
    "\n",
    "**Категориальные признаки:**\n",
    "\n",
    "* В тестовой выборке **28%** уволившихся сотрудников."
   ]
  },
  {
   "cell_type": "markdown",
   "id": "5554c141",
   "metadata": {},
   "source": [
    "##### Портрет \"уволившиегося сотрудника\":"
   ]
  },
  {
   "cell_type": "markdown",
   "id": "a7ec0b03",
   "metadata": {},
   "source": [
    "* Вероятнее всего работает в отделе - **purchasing**;\n",
    "* Уровень должности - **junior**;\n",
    "* Уровень рабочей нагрузки - **low**;\n",
    "* **Не получал повышения** за последний год;\n",
    "* **Имеет нарушения** по трудовому договору за последний год;\n",
    "* Стаж работы сотрудника от **1** до **3** лет;\n",
    "* Имеет оценку своей работы от руководителя на уровне - **3**;\n",
    "* Имеет зарплату в диапозоне от **12000** до **30000**."
   ]
  },
  {
   "cell_type": "markdown",
   "id": "321df6cd",
   "metadata": {},
   "source": [
    "##### Взаимосвязь уровня удовлетворения работой сотрудника и его увольнением:"
   ]
  },
  {
   "cell_type": "markdown",
   "id": "405812a8",
   "metadata": {},
   "source": [
    "Мы действительно наблюдаем взаимосвязь, пик удовлетворенностью работой в компании уволившихся сотрудников смещен влево и распределение имеет медиану на значении **0.35**, как у оставшихся сотрудников обратная ситуация пик смещен вправо, а медианное значение равно - **0.64**."
   ]
  },
  {
   "cell_type": "markdown",
   "id": "c0fa1e5b",
   "metadata": {},
   "source": [
    "### Добавление признака \"job_satisfaction_rate\":"
   ]
  },
  {
   "cell_type": "code",
   "execution_count": null,
   "id": "2e04a13f",
   "metadata": {},
   "outputs": [],
   "source": [
    "# Оставляем только необходимые входные признаки для тренировочной выборки\n",
    "train_satisfaction = df_train_2.drop('quit', axis=1)"
   ]
  },
  {
   "cell_type": "code",
   "execution_count": null,
   "id": "59cfce8b",
   "metadata": {},
   "outputs": [],
   "source": [
    "# Делаем копию датафрейма, чтобы не возникало предупреждений\n",
    "data_train_2 = df_train_2.copy()"
   ]
  },
  {
   "cell_type": "code",
   "execution_count": null,
   "id": "50f02f2d",
   "metadata": {},
   "outputs": [],
   "source": [
    "# Добавляем новый признак в тренировочную выборку\n",
    "data_train_2['job_satisfaction_rate'] = model_1.predict(train_satisfaction)"
   ]
  },
  {
   "cell_type": "code",
   "execution_count": null,
   "id": "06c346be",
   "metadata": {},
   "outputs": [],
   "source": [
    "# Проверяем результат\n",
    "print(data_train_2.info())\n",
    "data_train_2.head()"
   ]
  },
  {
   "cell_type": "code",
   "execution_count": null,
   "id": "46b2404a",
   "metadata": {},
   "outputs": [],
   "source": [
    "# Добавляем новый признак в тестовую выборку\n",
    "X_test_2['job_satisfaction_rate'] = model_1.predict(X_test_2)"
   ]
  },
  {
   "cell_type": "code",
   "execution_count": null,
   "id": "c5b983c9",
   "metadata": {},
   "outputs": [],
   "source": [
    "# Проверяем результат\n",
    "print(X_test_2.info())\n",
    "X_test_2.head()"
   ]
  },
  {
   "cell_type": "markdown",
   "id": "db101fb7",
   "metadata": {},
   "source": [
    "#### Вывод:"
   ]
  },
  {
   "cell_type": "markdown",
   "id": "ad97877b",
   "metadata": {},
   "source": [
    "Добавили новый признак в наши выборки, новый признак должен хорошо помочь моделям предсказывать увольнение сотрудников."
   ]
  },
  {
   "cell_type": "markdown",
   "id": "fa43f93a",
   "metadata": {},
   "source": [
    "<font color='blue'><b>Комментарий ревьюера : </b></font> ✔️\\\n",
    "<font color='green'> Отлично, что добавляется предсказание предыдущей модели.</font>"
   ]
  },
  {
   "cell_type": "markdown",
   "id": "74483455",
   "metadata": {},
   "source": [
    "### Корреляционный анализ:"
   ]
  },
  {
   "cell_type": "markdown",
   "id": "0e2a8367",
   "metadata": {},
   "source": [
    "#### Объединение таблиц для анализа:"
   ]
  },
  {
   "cell_type": "code",
   "execution_count": null,
   "id": "4bc0409b",
   "metadata": {},
   "outputs": [],
   "source": [
    "# Объединяем тестовые входные признаки с целевым\n",
    "# Мы обновляем старую переменную, так как добавился новый признак\n",
    "data_full_2 = X_test_2.join(y_test_2)"
   ]
  },
  {
   "cell_type": "code",
   "execution_count": null,
   "id": "c4701b3c",
   "metadata": {},
   "outputs": [],
   "source": [
    "# Сравниваем размеры таблиц\n",
    "print('Тренировочные данные: ', data_train_2.shape)\n",
    "print('Тестовые данные: ', data_full_2.shape)"
   ]
  },
  {
   "cell_type": "code",
   "execution_count": null,
   "id": "7ff85004",
   "metadata": {},
   "outputs": [],
   "source": [
    "# Объединяем тестовые и тренировочные данные\n",
    "data_full_2 = pd.concat([data_train_2, data_full_2])"
   ]
  },
  {
   "cell_type": "code",
   "execution_count": null,
   "id": "dedfc9ea",
   "metadata": {},
   "outputs": [],
   "source": [
    "# Удаляем явные дубликаты, чтобы не искажать результаты корреляций\n",
    "data_full_2 = data_full_2.drop_duplicates()\n",
    "\n",
    "# Проверяем результат\n",
    "data_full_2.duplicated().sum()"
   ]
  },
  {
   "cell_type": "code",
   "execution_count": null,
   "id": "24a0301d",
   "metadata": {},
   "outputs": [],
   "source": [
    "# Проверяем результат\n",
    "data_full_2.info()"
   ]
  },
  {
   "cell_type": "markdown",
   "id": "a2953e36",
   "metadata": {},
   "source": [
    "Объединение прошло корректно, начнем корреляционный анализ."
   ]
  },
  {
   "cell_type": "markdown",
   "id": "d26e296a",
   "metadata": {},
   "source": [
    "#### Матрица корреляций:"
   ]
  },
  {
   "cell_type": "markdown",
   "id": "7bccf579",
   "metadata": {},
   "source": [
    "В связи с тем, что у наших количественных признаков не наблюдалось нормальное распределение мы будем использовать для расчета корреляции метод Спирмена."
   ]
  },
  {
   "cell_type": "code",
   "execution_count": null,
   "id": "7530f101",
   "metadata": {},
   "outputs": [],
   "source": [
    "# Список колонок с количественными значениями\n",
    "quantity_columns = data_full_2.select_dtypes(include='number').columns.tolist()\n",
    "\n",
    "# Строим тепловую карту\n",
    "f, ax = plt.subplots(figsize=(7, 7))\n",
    "sns.heatmap(data_full_2[quantity_columns].corr(method='spearman'), annot=True, \n",
    "            fmt='.2f', linewidths=.5, cmap='cividis', ax=ax)\n",
    "\n",
    "# Настройка заголовка и подписей\n",
    "f.suptitle('Матрица корреляции для количественных признаков', fontsize=14)\n",
    "plt.xticks(rotation=90)\n",
    "\n",
    "# Отображаем график\n",
    "plt.tight_layout()\n",
    "plt.show()"
   ]
  },
  {
   "cell_type": "markdown",
   "id": "7b1bcdc6",
   "metadata": {},
   "source": [
    "Входные признаки между собой имеют либо **слабую**, либо **умеренную** корреляцию, мультиколлинеарности мы не наблюдаем.\n",
    "\n",
    "Сильную корреляцию с признаком **\"job_satisfaction_rate\"** имеет признак **\"supervisor_evaluation\"** - **0.78**.\n",
    "\n",
    "В целом картина не сильно отличается от данных в первой задаче."
   ]
  },
  {
   "cell_type": "markdown",
   "id": "36d72b33",
   "metadata": {},
   "source": [
    "#### VIF-фактор:"
   ]
  },
  {
   "cell_type": "code",
   "execution_count": null,
   "id": "5637c371",
   "metadata": {},
   "outputs": [],
   "source": [
    "# Построение таблицы с расчитанным VIF\n",
    "vif_data = pd.DataFrame()\n",
    "vif_data['input attribute'] = quantity_columns\n",
    "vif_data['vif'] = ([variance_inflation_factor(data_full_2[quantity_columns].values, i) \n",
    "                    for i in range(data_full_2[quantity_columns].shape[1])])\n",
    "vif_data"
   ]
  },
  {
   "cell_type": "markdown",
   "id": "cb6f5c1b",
   "metadata": {},
   "source": [
    "Признаки **\"job_satisfaction_rate\"** и **\"supervisor_evaluation\"** имеют значения превышающие **10**, что может говорить о небольшой мультиколлениарности между ними.\n",
    "\n",
    "Чтобы избежать проблем с этим при подборе моделей мы будем использовать деревья решений, которые не страдают от мультиколлениарности, а так же использовать **SelectKBest** и регуляризацию для остальных моделей."
   ]
  },
  {
   "cell_type": "markdown",
   "id": "ddd9e265",
   "metadata": {},
   "source": [
    "#### Матрица Phik:"
   ]
  },
  {
   "cell_type": "code",
   "execution_count": null,
   "id": "4c5652eb",
   "metadata": {},
   "outputs": [],
   "source": [
    "# Список с непрервными количественными значениями\n",
    "interval_cols = ['job_satisfaction_rate']\n",
    "\n",
    "# Строим тепловую карту\n",
    "f, ax = plt.subplots(figsize=(10, 10))\n",
    "sns.heatmap(data_full_2.phik_matrix(interval_cols=interval_cols), annot=True, \n",
    "            fmt='.2f', linewidths=.5, cmap='cividis', ax=ax)\n",
    "\n",
    "# Настройка заголовка и подписей\n",
    "f.suptitle('Матрица Phik для анализа взаимосвязей признаков', fontsize=14)\n",
    "\n",
    "# Отображаем график\n",
    "plt.tight_layout()\n",
    "plt.show()"
   ]
  },
  {
   "cell_type": "markdown",
   "id": "bc86a507",
   "metadata": {},
   "source": [
    "**Взаимосвязь с целевым признаком:**\n",
    "\n",
    "1. Нулевая корреляция:\n",
    "\n",
    "* **dept** - **0**\n",
    "\n",
    "2. Слабая корреляция:\n",
    "\n",
    "* **last_year_promo** - **0.18**\n",
    "* **supervisor_evaluation** - **0.18**\n",
    "* **last_year_violations** - **0.20**\n",
    "* **workload** - **0.29**\n",
    "\n",
    "3. Умеренная корреляция:\n",
    "\n",
    "* **level** - **0.33**\n",
    "* **job_satisfaction** - **0.39**\n",
    "\n",
    "4. Заметная корреляция:\n",
    "\n",
    "* **salary** - **0.54**\n",
    "* **employment_years** - **0.64**\n",
    "\n",
    "В связи с тем, что в данной задаче признак **\"dept\"** имеет с целевым признаком **нулевую** корреляцию, мы можем от него отказаться, тем самым уменьшив размерность таблицы и облегчив задачу для моделей.\n",
    "\n",
    "**Взаимосвязь между входными признаками:**\n",
    "\n",
    "Между входными признаками напблюдается похожая картина, что и в первой задаче.\n",
    "\n",
    "Мы видим высокую корреляцию признака **\"salary\"** с категориальными: **\"level\"** и **\"workload\"**, так же корреляция стремится к высокой между признаками **\"employment_years\"** и **\"level\"**, в остальных парах корреляция нулевая, слабая, либо умеренная. \n",
    "\n",
    "Так же признак **job_satisfaction** имеет умеренную и высокую корреляцию с следующими признаками:\n",
    "\n",
    "* **employment_years**\n",
    "* **last_year_promo**\n",
    "* **last_year_violations**\n",
    "* **supervisor_evaluation**\n",
    "* **salary**\n",
    "\n",
    "Остальные пары признаков имеют либо слабую, либо нулевую корреляцию.\n",
    "\n",
    "**Общее заключение:**\n",
    "\n",
    "Наличие заметной и высокой корреляции между входными признаками может говорить о наличии мультиколлинеарности, чтобы избежать проблем с этим при подборе моделей мы будем использовать деревья решений, которые не страдают от мультиколлениарности, а так же использовать **SelectKBest** и регуляризацию для остальных моделей."
   ]
  },
  {
   "cell_type": "markdown",
   "id": "374ffa17",
   "metadata": {},
   "source": [
    "#### Исследование взаимосвязи целевого с входными количественными признаками:"
   ]
  },
  {
   "cell_type": "markdown",
   "id": "582e6b1b",
   "metadata": {},
   "source": [
    "Рассмотрим взимосвязь удовлетворенности работой компании с количественными признаками с групировкой по целевому признаку, так как ранее в первой задаче он не был рассмотрен."
   ]
  },
  {
   "cell_type": "code",
   "execution_count": null,
   "id": "ab99e64d",
   "metadata": {},
   "outputs": [],
   "source": [
    "# Списки количественных признаков\n",
    "num_list = data_full_2.select_dtypes(include='number').drop('job_satisfaction_rate', axis=1).columns.tolist()"
   ]
  },
  {
   "cell_type": "code",
   "execution_count": null,
   "id": "a1c3a5fa",
   "metadata": {},
   "outputs": [],
   "source": [
    "# Строим графики взаимосвязи целевого признака с входными\n",
    "plot = sns.pairplot(data_full_2, \n",
    "                    x_vars=num_list, \n",
    "                    y_vars='job_satisfaction_rate', \n",
    "                    hue='quit', \n",
    "                    plot_kws=dict(alpha=0.5),\n",
    "                    height=4.2)\n",
    "\n",
    "# Настройка заголовка и подписей\n",
    "plot.fig.suptitle(f'Взаимосвязь целевого признака с входными количественными признаками',\n",
    "                  fontsize=14, y=1.01)  \n",
    "plot.legend.set_bbox_to_anchor((1.05, 0.5))\n",
    "\n",
    "# Вывод графика\n",
    "plt.tight_layout()\n",
    "plt.show()"
   ]
  },
  {
   "cell_type": "markdown",
   "id": "1d567777",
   "metadata": {},
   "source": [
    "Мы действительно наблюдаем скопление меток уволившихся сотрудников в нижнем левом углу на всех графиках, что подтверждает все наши предшествующие выводы по портрету уволившегося сотрудника."
   ]
  },
  {
   "cell_type": "markdown",
   "id": "ad3abd6f",
   "metadata": {},
   "source": [
    "#### Вывод:"
   ]
  },
  {
   "cell_type": "markdown",
   "id": "1eb45cf4",
   "metadata": {},
   "source": [
    "##### Матрица корреляции:"
   ]
  },
  {
   "cell_type": "markdown",
   "id": "987fcb60",
   "metadata": {},
   "source": [
    "Входные признаки между собой имеют либо **слабую**, либо **умеренную** корреляцию, мультиколлинеарности мы не наблюдаем.\n",
    "\n",
    "Сильную корреляцию с признаком **\"job_satisfaction_rate\"** имеет признак **\"supervisor_evaluation\"** - **0.78**.\n",
    "\n",
    "В целом картина не сильно отличается от данных в первой задаче."
   ]
  },
  {
   "cell_type": "markdown",
   "id": "03310c84",
   "metadata": {},
   "source": [
    "##### VIF-фактор:"
   ]
  },
  {
   "cell_type": "markdown",
   "id": "9f05fdb1",
   "metadata": {},
   "source": [
    "Признаки **\"job_satisfaction_rate\"** и **\"supervisor_evaluation\"** имеют значения превышающие **10**, что может говорить о небольшой мультиколлениарности между ними.\n",
    "\n",
    "Чтобы избежать проблем с этим при подборе моделей мы будем использовать деревья решений, которые не страдают от мультиколлениарности, а так же использовать **SelectKBest** и регуляризацию для остальных моделей."
   ]
  },
  {
   "cell_type": "markdown",
   "id": "ca9fa572",
   "metadata": {},
   "source": [
    "##### Матрица Phik:"
   ]
  },
  {
   "cell_type": "markdown",
   "id": "1b38c04a",
   "metadata": {},
   "source": [
    "**Взаимосвязь с целевым признаком:**\n",
    "\n",
    "1. Нулевая корреляция:\n",
    "\n",
    "* **dept** - **0**\n",
    "\n",
    "2. Слабая корреляция:\n",
    "\n",
    "* **last_year_promo** - **0.18**\n",
    "* **supervisor_evaluation** - **0.18**\n",
    "* **last_year_violations** - **0.20**\n",
    "* **workload** - **0.29**\n",
    "\n",
    "3. Умеренная корреляция:\n",
    "\n",
    "* **level** - **0.33**\n",
    "* **job_satisfaction_rate** - **0.39**\n",
    "\n",
    "4. Заметная корреляция:\n",
    "\n",
    "* **salary** - **0.54**\n",
    "* **employment_years** - **0.64**\n",
    "\n",
    "В связи с тем, что в данной задаче признак **\"dept\"** имеет с целевым признаком **нулевую** корреляцию, мы можем от него отказаться, тем самым уменьшив размерность таблицы и облегчив задачу для моделей.\n",
    "\n",
    "**Взаимосвязь между входными признаками:**\n",
    "\n",
    "Между входными признаками напблюдается похожая картина, что и в первой задаче.\n",
    "\n",
    "Мы видим высокую корреляцию признака **\"salary\"** с категориальными: **\"level\"** и **\"workload\"**, так же корреляция стремится к высокой между признаками **\"employment_years\"** и **\"level\"**, в остальных парах корреляция нулевая, слабая, либо умеренная. \n",
    "\n",
    "Так же признак **job_satisfaction_rate** имеет умеренную и высокую корреляцию с следующими признаками:\n",
    "\n",
    "* **employment_years**\n",
    "* **last_year_promo**\n",
    "* **last_year_violations**\n",
    "* **supervisor_evaluation**\n",
    "* **salary**\n",
    "\n",
    "Остальные пары признаков имеют либо слабую, либо нулевую корреляцию.\n",
    "\n",
    "**Общее заключение:**\n",
    "\n",
    "Наличие заметной и высокой корреляции между входными признаками может говорить о наличии мультиколлинеарности, чтобы избежать проблем с этим при подборе моделей мы будем использовать деревья решений, которые не страдают от мультиколлениарности, а так же использовать **SelectKBest** и регуляризацию для остальных моделей."
   ]
  },
  {
   "cell_type": "markdown",
   "id": "3726d75a",
   "metadata": {},
   "source": [
    "##### Исследование взаимосвязи целевого с входными количественными признаками:"
   ]
  },
  {
   "cell_type": "markdown",
   "id": "3705231d",
   "metadata": {},
   "source": [
    "Мы действительно наблюдаем скопление меток уволившихся сотрудников в нижнем левом углу на всех графиках, что подтверждает все наши предшествующие выводы по портрету уволившегося сотрудника."
   ]
  },
  {
   "cell_type": "markdown",
   "id": "983ad9f1",
   "metadata": {},
   "source": [
    "<span style=\"color: blue; font-weight: bold\">Комментарий ревьюера : </span> ✔️\\\n",
    "<span style=\"color: green\"> 👍</span>"
   ]
  },
  {
   "cell_type": "markdown",
   "id": "f265c08b",
   "metadata": {},
   "source": [
    "### Обучение модели и подбор гиперпараметров:"
   ]
  },
  {
   "cell_type": "markdown",
   "id": "f327fc85",
   "metadata": {},
   "source": [
    "#### Подготовка тренировочных данных:"
   ]
  },
  {
   "cell_type": "markdown",
   "id": "63cd82ac",
   "metadata": {},
   "source": [
    "В связи с тем, что тестовая выборка у нас уже есть, тренировочную выборку делить на обучающую и валидационную нам нет нужды, так как будем использовать для обучения и подбора лучшей модели кросс-валидацию, где данные будут делиться автоматически, тем самым мы увеличиваем объем обучающей выборки, что улучшит качество модели.\n",
    "\n",
    "Поэтому просто разделяем обучающую выборку на входные и целевой признаки."
   ]
  },
  {
   "cell_type": "code",
   "execution_count": null,
   "id": "62c6f250",
   "metadata": {},
   "outputs": [],
   "source": [
    "# Разделение обучающей выборки на входные и целевые признаки\n",
    "# И удаляем признак с нулевой корреляцией\n",
    "drop_features = ['quit', 'dept']\n",
    "\n",
    "X_train_2 = data_train_2.drop(drop_features, axis=1)\n",
    "y_train_2 = data_train_2['quit']"
   ]
  },
  {
   "cell_type": "code",
   "execution_count": null,
   "id": "f58c5bc4",
   "metadata": {},
   "outputs": [],
   "source": [
    "# Кодирование целевого признака\n",
    "encoder = LabelEncoder()\n",
    "y_train_2 = encoder.fit_transform(y_train_2)"
   ]
  },
  {
   "cell_type": "code",
   "execution_count": null,
   "id": "83700bbd",
   "metadata": {},
   "outputs": [],
   "source": [
    "# Проверяем кодировку\n",
    "encoder.transform(['yes', 'no'])"
   ]
  },
  {
   "cell_type": "markdown",
   "id": "7c3a2640",
   "metadata": {},
   "source": [
    "<font color='blue'><b>Комментарий ревьюера: </b></font> ⚠️\\\n",
    "<font color='darkorange'>Можно так посмотреть порядок классов:</font>\n",
    "```python\n",
    "label_encoder.classes_\n",
    "```"
   ]
  },
  {
   "cell_type": "markdown",
   "id": "c424b969",
   "metadata": {},
   "source": [
    "Таким образом мы получились следующую кодировку целевого признака:\n",
    "\n",
    "* **0** - \"no\".\n",
    "* **1** - \"yes\"."
   ]
  },
  {
   "cell_type": "markdown",
   "id": "c60d207d",
   "metadata": {},
   "source": [
    "#### Списки признаков:"
   ]
  },
  {
   "cell_type": "markdown",
   "id": "9e645f57",
   "metadata": {},
   "source": [
    "Количественные признаки у нас делятся на 2 группы: с дискретными значениями и с непрерывными. Нам это важно, так как обрабатывать эти признаки нужно по разному. \n",
    "\n",
    "**Масштабирование:**\n",
    "\n",
    "* **salary**\n",
    "* **employment_years** - хоть тут значения и дискретные, но количество значений у нас превышает 5 шт. и мы не можем его растенивать как категории, так как с каждым годом это значение может расширяться, и соответственно при появлении новых значений качество модели может начать падать.\n",
    "* **job_satisfaction_rate** - несмотря на то, что диапозон значения у нас от 0 до 1, мы все равно будем масштабировать данный признак, так как в методе StandardScaler используется другой алгоритм, то есть, если предыдущие признаки мы будем уменьшать в масштабе, то этот признак увеличивать.\n",
    "\n",
    "**Оставляем без изменений:**\n",
    "\n",
    "* **supervisor_evaluation** - данный признак оставляем без изменений, так как его мы определяем как категориальный, и он уже является в закодированном виде, он пригоден для обучения моделей без изменений.\n",
    "\n",
    "Все категориальные признаки разделим на 2 группы:\n",
    "\n",
    "**OrdinalEncoder:** кодирование с порядковой логикой.\n",
    "\n",
    "* **level**\n",
    "* **workload**\n",
    "\n",
    "**OneHotEncoder:** кодирование без порядковой логики.\n",
    "\n",
    "* **last_year_promo**\n",
    "* **last_year_violations**"
   ]
  },
  {
   "cell_type": "code",
   "execution_count": null,
   "id": "430c3f74",
   "metadata": {},
   "outputs": [],
   "source": [
    "# Разделение входных признаков на группы\n",
    "drop_feature = ['level', 'last_year_promo', 'last_year_violations']\n",
    "\n",
    "num_col_names_2 = (X_train_2.select_dtypes(include='number')\n",
    "                          .drop('supervisor_evaluation', axis=1)\n",
    "                          .columns.tolist())\n",
    "\n",
    "ord_col_names_2 = (X_train_2.select_dtypes(exclude='number')\n",
    "                          .drop(drop_feature, axis=1)\n",
    "                          .columns.tolist())\n",
    "\n",
    "ohe_col_names_2 = ['last_year_promo', 'last_year_violations']\n",
    "clean_col_names_2 = ['level']"
   ]
  },
  {
   "cell_type": "markdown",
   "id": "ae833040",
   "metadata": {},
   "source": [
    "#### Создание пайплайнов:"
   ]
  },
  {
   "cell_type": "markdown",
   "id": "56b0b5e5",
   "metadata": {},
   "source": [
    "##### Замена на корректные значение и кодирование категориальных признаков:"
   ]
  },
  {
   "cell_type": "code",
   "execution_count": null,
   "id": "f69c6839",
   "metadata": {},
   "outputs": [],
   "source": [
    "'''\n",
    "FunctionTransformer + SimpleImputer + ORD + SimpleImputer\n",
    "\n",
    "1. Замена значений на корректные с помощью функции\n",
    "clean_data\n",
    "\n",
    "2. simpleImputer_before_ord - заполняем пропуски самым часто\n",
    "встречающимся значением с помощью SimpleImputer.\n",
    "\n",
    "3. ord - кодируем данные с помощью OrdinalEncoder.\n",
    "\n",
    "4. simpleImputer_after_ord - заполняем пропуски, которые\n",
    "появились после Ordinal-кодирования.\n",
    "'''\n",
    "\n",
    "clean_pipe_2 = Pipeline(\n",
    "    [\n",
    "        ('clean', FunctionTransformer(clean_data, feature_names_out='one-to-one')), \n",
    "        \n",
    "        ('simpleImputer_before_ord', SimpleImputer(missing_values=np.nan, \n",
    "                                                   strategy='most_frequent')), \n",
    "        \n",
    "        ('ord', OrdinalEncoder(categories=[['junior', 'middle', 'senior']], \n",
    "                               handle_unknown='use_encoded_value', \n",
    "                               unknown_value=np.nan)), \n",
    "\n",
    "        ('simpleImputer_after_ord', SimpleImputer(missing_values=np.nan, \n",
    "                                                   strategy='most_frequent'))\n",
    "    ])  "
   ]
  },
  {
   "cell_type": "markdown",
   "id": "e61dbf20",
   "metadata": {},
   "source": [
    "##### Ordinal-кодирование категориальных признаков:"
   ]
  },
  {
   "cell_type": "code",
   "execution_count": null,
   "id": "96501865",
   "metadata": {},
   "outputs": [],
   "source": [
    "'''\n",
    "SimpleImputer + ORD + SimpleImputer\n",
    "\n",
    "1. simpleImputer_before_ord - заполняем пропуски самым часто\n",
    "встречающимся значением с помощью SimpleImputer.\n",
    "\n",
    "2. ord - кодируем данные с помощью OrdinalEncoder.\n",
    "\n",
    "3. simpleImputer_after_ord - заполняем пропуски, которые\n",
    "появились после Ordinal-кодирования.\n",
    "'''\n",
    "\n",
    "ord_pipe_2 = Pipeline(\n",
    "    [\n",
    "        ('simpleImputer_before_ord', SimpleImputer(missing_values=np.nan, \n",
    "                                                   strategy='most_frequent')), \n",
    "        \n",
    "        ('ord', OrdinalEncoder(categories=[['low', 'medium', 'high']], \n",
    "                               handle_unknown='use_encoded_value', \n",
    "                               unknown_value=np.nan)), \n",
    "\n",
    "        ('simpleImputer_after_ord', SimpleImputer(missing_values=np.nan, \n",
    "                                                   strategy='most_frequent'))\n",
    "    ])"
   ]
  },
  {
   "cell_type": "markdown",
   "id": "aaa8bb54",
   "metadata": {},
   "source": [
    "##### OHE-кодирование категориальных признаков:"
   ]
  },
  {
   "cell_type": "code",
   "execution_count": null,
   "id": "8af66c4e",
   "metadata": {},
   "outputs": [],
   "source": [
    "'''\n",
    "SimpleImputer + OHE\n",
    "\n",
    "1. simpleImputer_ohe - если в данных есть пропуски, заполняем \n",
    "их самым часто встречающимся значением с помощью SimpleImputer.\n",
    "\n",
    "2. ohe - кодируем данные с помощью OneHotEncoder.\n",
    "'''\n",
    "\n",
    "ohe_pipe_2 = Pipeline(\n",
    "    [\n",
    "        ('simpleImputer_ohe', SimpleImputer(missing_values=np.nan, \n",
    "                                            strategy='most_frequent')), \n",
    "        \n",
    "        ('ohe', OneHotEncoder(handle_unknown='ignore', \n",
    "                              sparse_output=False))\n",
    "    ])"
   ]
  },
  {
   "cell_type": "markdown",
   "id": "b3a27ca0",
   "metadata": {},
   "source": [
    "На случай, если в признаках списка **ohe_col_names_2** возникнут некорректные значения, мы не используем настройку **drop='first'**."
   ]
  },
  {
   "cell_type": "markdown",
   "id": "db849759",
   "metadata": {},
   "source": [
    "##### Объединение этапов подготовки данных:"
   ]
  },
  {
   "cell_type": "code",
   "execution_count": null,
   "id": "8c855337",
   "metadata": {},
   "outputs": [],
   "source": [
    "'''\n",
    "Объединение этапов подготовки данных.\n",
    "\n",
    "1. clean - заменяет некорректные значения, и кодирует данные \n",
    "\"clean_col_names\" с помощью пайплайна \"clean_pipe\".\n",
    "\n",
    "2. ord - кодируем данные \"ord_col_names\" с помощью пайплайна \"ord_pipe\".\n",
    "\n",
    "3. num - полиномизируем и масштабируем данные \"num_col_names\" \n",
    "с помощью пайплайна \"num_pipe\".\n",
    "'''\n",
    "\n",
    "data_preprocessor_2 = ColumnTransformer(\n",
    "    [\n",
    "        ('clean', clean_pipe_2, clean_col_names_2),\n",
    "        ('ohe', ohe_pipe_2, ohe_col_names_2),\n",
    "        ('ord', ord_pipe_2, ord_col_names_2),\n",
    "        ('num', StandardScaler(), num_col_names_2)\n",
    "    ],  remainder='passthrough', \n",
    "        force_int_remainder_cols=False)"
   ]
  },
  {
   "cell_type": "markdown",
   "id": "abd8e717",
   "metadata": {},
   "source": [
    "##### Итоговый пайплайн:"
   ]
  },
  {
   "cell_type": "code",
   "execution_count": null,
   "id": "a435ea5f",
   "metadata": {},
   "outputs": [],
   "source": [
    "'''\n",
    "data_preprocessor + select_feature + models\n",
    "\n",
    "1. preprocessor - подготовка данных c помощью data_preprocessor.\n",
    "\n",
    "2. select_feature - отбор входных признаков.\n",
    "\n",
    "3. models - инициализация модели.\n",
    "'''\n",
    "\n",
    "pipe_final_2 = Pipeline(\n",
    "    [\n",
    "     ('preprocessor', data_preprocessor_2), \n",
    "     ('select_feature', SelectKBest(f_classif)),\n",
    "     ('models', LogisticRegression())\n",
    "    ])"
   ]
  },
  {
   "cell_type": "markdown",
   "id": "f85e4832",
   "metadata": {},
   "source": [
    "#### Выбор моделей и метрики:"
   ]
  },
  {
   "cell_type": "markdown",
   "id": "cb498fad",
   "metadata": {},
   "source": [
    "Для решения данной задачи мы выберем лучшую модель из **3**:\n",
    "\n",
    "* **LogisticRegression** - как базовая модель, если она хорошо себя покажет это будет лучше, чем использование более сложных моделей.\n",
    "* **DecisionTreeClassifier** - так как модель дерева решений хорошо работает с категориальными данными.\n",
    "* **RandomForestClassifier** - так как данная модель хорошо себя показала на этих данных.\n",
    "\n",
    "Модели согласно ТЗ мы будем оценивать с помощью метрики **ROC-AUC**.\n",
    "\n",
    "* Критерий успеха: **ROC-AUC ≥ 0.91** на тестовой выборке."
   ]
  },
  {
   "cell_type": "markdown",
   "id": "e8e4c800",
   "metadata": {},
   "source": [
    "#### Подбор модели и ее гиперпараметров:"
   ]
  },
  {
   "cell_type": "code",
   "execution_count": null,
   "id": "ed38a82e",
   "metadata": {},
   "outputs": [],
   "source": [
    "# Словарь для отбора моделей\n",
    "model_grid_2 = [\n",
    "    {\n",
    "        'models': [LogisticRegression(solver='saga', \n",
    "                                      penalty='elasticnet', \n",
    "                                      max_iter=5000, \n",
    "                                      random_state=RANDOM_STATE)], \n",
    "        'models__l1_ratio': [0.1, 0.25, 0.5, 0.75, 0.9], \n",
    "        'models__C': [0.001, 0.01, 0.1, 1, 10], \n",
    "        'preprocessor__num': [StandardScaler(), \n",
    "                              MinMaxScaler()], \n",
    "        'select_feature__k': range(5, 11)\n",
    "    }, \n",
    "    {\n",
    "        'models': [DecisionTreeClassifier(random_state=RANDOM_STATE)], \n",
    "        'models__min_samples_leaf': range(3, 10, 2), \n",
    "        'models__max_depth': range(3, 11), \n",
    "        'preprocessor__num': [StandardScaler(), \n",
    "                              'passthrough'], \n",
    "        'select_feature': [None]\n",
    "    },\n",
    "    {\n",
    "        'models': [RandomForestClassifier(random_state=RANDOM_STATE)],  \n",
    "        'models__max_depth': range(3, 11), \n",
    "        'preprocessor__num': [StandardScaler(), \n",
    "                              'passthrough'], \n",
    "        'select_feature': [None]\n",
    "    }\n",
    "]"
   ]
  },
  {
   "cell_type": "code",
   "execution_count": null,
   "id": "8dade8fb",
   "metadata": {},
   "outputs": [],
   "source": [
    "# Поиск лучшей модели и ее гиперпараметров\n",
    "random_search_2 = RandomizedSearchCV(\n",
    "    pipe_final_2, \n",
    "    model_grid_2, \n",
    "    cv=4, \n",
    "    n_iter=100, \n",
    "    scoring='roc_auc', \n",
    "    n_jobs=-1, \n",
    "    random_state=RANDOM_STATE\n",
    ")\n",
    "random_search_2.fit(X_train_2, y_train_2)"
   ]
  },
  {
   "cell_type": "markdown",
   "id": "44d68e6b",
   "metadata": {},
   "source": [
    "<span style=\"color: blue; font-weight: bold\">Комментарий ревьюера : </span> ✔️\\\n",
    "<span style=\"color: green\"> 👍</span>"
   ]
  },
  {
   "cell_type": "code",
   "execution_count": null,
   "id": "a3641463",
   "metadata": {},
   "outputs": [],
   "source": [
    "# Выводим лучшие результаты\n",
    "result_search_2 = pd.DataFrame(random_search_2.cv_results_)\n",
    "\n",
    "result_search_2['model_type'] = result_search_2['param_models'].apply(lambda x: x.__class__.__name__)\n",
    "\n",
    "best_rows_2 = result_search_2.loc[\n",
    "    result_search_2.groupby('model_type')['rank_test_score'].idxmin()]\n",
    "best_rows_2"
   ]
  },
  {
   "cell_type": "markdown",
   "id": "467254e7",
   "metadata": {},
   "source": [
    "<span style=\"color: blue; font-weight: bold\">Комментарий ревьюера : </span> ✔️\\\n",
    "<span style=\"color: green\"> 👍</span>"
   ]
  },
  {
   "cell_type": "markdown",
   "id": "5e65edab",
   "metadata": {},
   "source": [
    "Модель **RandomForestClassifier** показала себя лучше остальных моделей, средняя метрика **ROC-AUC** показала уровень удовлетворящий критерий успеха по ТЗ - **0.92**.\n",
    "\n",
    "Проверим данную модель на тестовой выборке."
   ]
  },
  {
   "cell_type": "code",
   "execution_count": null,
   "id": "e51642e2",
   "metadata": {},
   "outputs": [],
   "source": [
    "# Подготовка тестовых данных\n",
    "X_test_2 = X_test_2.drop('dept', axis=1)"
   ]
  },
  {
   "cell_type": "code",
   "execution_count": null,
   "id": "f5de6fd4",
   "metadata": {},
   "outputs": [],
   "source": [
    "# Кодирование целевого признака\n",
    "y_test_2 = y_test_2['quit']\n",
    "y_test_2 = encoder.transform(y_test_2)"
   ]
  },
  {
   "cell_type": "code",
   "execution_count": null,
   "id": "2b2e26eb",
   "metadata": {},
   "outputs": [],
   "source": [
    "# Делаем предсказание на тестовой выборке\n",
    "pred_proba_2 = random_search_2.best_estimator_.predict_proba(X_test_2)[:, 1]\n",
    "pred_2 = random_search_2.best_estimator_.predict(X_test_2)"
   ]
  },
  {
   "cell_type": "markdown",
   "id": "f005b225",
   "metadata": {},
   "source": [
    "<font color='blue'><b>Комментарий ревьюера: </b></font> ✔️\\\n",
    "<font color='green'>Тестирование проведено верно.</font>"
   ]
  },
  {
   "cell_type": "code",
   "execution_count": null,
   "id": "ef44a314",
   "metadata": {},
   "outputs": [],
   "source": [
    "# Расчитываем метрики\n",
    "print('Значение метрики ROC-AUC на тестовой выборке:', roc_auc_score(y_test_2, pred_proba_2))\n",
    "print('Значение метрики Accuracy на тестовой выборке:', accuracy_score(y_test_2, pred_2))\n",
    "print('Значение метрики Recall на тестовой выборке:', recall_score(y_test_2, pred_2))\n",
    "print('Значение метрики Precision на тестовой выборке:', precision_score(y_test_2, pred_2))"
   ]
  },
  {
   "cell_type": "code",
   "execution_count": null,
   "id": "4bcf24aa",
   "metadata": {},
   "outputs": [],
   "source": [
    "# Рассмотрим матрицу ошибок\n",
    "cm = confusion_matrix(y_test_2, pred_2)\n",
    "matrix_plot = sns.heatmap(cm, annot=True, fmt='d', cmap='Blues_r')\n",
    "\n",
    "# Настройка заголовка и подписей\n",
    "plt.title('Матрица ошибок', fontsize=14)\n",
    "plt.xlabel('Predicted')\n",
    "plt.ylabel('True')\n",
    "    \n",
    "# Вывод результатов\n",
    "plt.show()"
   ]
  },
  {
   "cell_type": "markdown",
   "id": "7664f6b1",
   "metadata": {},
   "source": [
    "Наша модель показала результат удовлетворяющий критерий успеха: метрика **ROC-AUC** на тестовых данных ровна - **0.926**.\n",
    "\n",
    "При рассмотрении матрицы ошибок мы видим, что модель ошибается в классах в равной степени."
   ]
  },
  {
   "cell_type": "code",
   "execution_count": null,
   "id": "401d5d03",
   "metadata": {},
   "outputs": [],
   "source": [
    "# Переменная для выбранной модели\n",
    "model_2 = random_search_2.best_estimator_"
   ]
  },
  {
   "cell_type": "markdown",
   "id": "4daf1ab0",
   "metadata": {},
   "source": [
    "#### Вывод:"
   ]
  },
  {
   "cell_type": "markdown",
   "id": "aeb15de7",
   "metadata": {},
   "source": [
    "Мы определили модель и ее гиперпараметры, которая лучше всего справляется с задачей - **RandomForestClassifier**.\n",
    "\n",
    "**Параметры модели:**\n",
    "\n",
    "* max_depth - **7**\n",
    "* Лучший метод масштабирования данных - **Без масштабирования**\n",
    "\n",
    "**Значения метрик:**\n",
    "\n",
    "* Значение ROC-AUC на тренировочных данных - **0.917**\n",
    "* Значение ROC-AUC на тестовых данных - **0.926**\n",
    "* Значение Accuracy - **0.9**\n",
    "* Значение Precision - **0.83**\n",
    "* Значени Recall - **0.83**\n",
    "\n",
    "При рассмотрении матрицы ошибок мы определили, что модель ошибается в классах в равной степени."
   ]
  },
  {
   "cell_type": "markdown",
   "id": "cdd69465",
   "metadata": {},
   "source": [
    "<span style=\"color: blue; font-weight: bold\">Комментарий ревьюера : </span> ✔️\\\n",
    "<span style=\"color: green\"> 👍</span>"
   ]
  },
  {
   "cell_type": "markdown",
   "id": "6c677513",
   "metadata": {},
   "source": [
    "### Анализ важности признаков методом SHAP:"
   ]
  },
  {
   "cell_type": "markdown",
   "id": "d43f7ae4",
   "metadata": {},
   "source": [
    "#### Расчет SHAP-значений:"
   ]
  },
  {
   "cell_type": "code",
   "execution_count": null,
   "id": "4959358f",
   "metadata": {},
   "outputs": [],
   "source": [
    "# Подготавливаем данные\n",
    "X_test_shap_2 = model_2.named_steps['preprocessor'].transform(X_test_2)\n",
    "\n",
    "# Выделяем модель\n",
    "model_shap_2 = model_2.named_steps['models']"
   ]
  },
  {
   "cell_type": "markdown",
   "id": "dbb3b80b",
   "metadata": {},
   "source": [
    "<span style=\"color: blue; font-weight: bold\">Комментарий ревьюера : </span> ⚠️\\\n",
    "<span style=\"color: darkorange\"> В shap можно подавать весь Pipeline целиком.</span>\n",
    "https://github.com/shap/shap/issues/1362"
   ]
  },
  {
   "cell_type": "code",
   "execution_count": null,
   "id": "197538db",
   "metadata": {},
   "outputs": [],
   "source": [
    "# Расчитываем SHAP-значения\n",
    "explainer_2 = shap.TreeExplainer(model_shap_2)\n",
    "shap_values_2 = explainer_2.shap_values(X_test_shap_2)"
   ]
  },
  {
   "cell_type": "markdown",
   "id": "c4c97993",
   "metadata": {},
   "source": [
    "#### Построение графиков:"
   ]
  },
  {
   "cell_type": "code",
   "execution_count": null,
   "id": "a71665a0",
   "metadata": {
    "scrolled": true
   },
   "outputs": [],
   "source": [
    "# Получаем названия признаков\n",
    "feature_names_2 = model_2.named_steps['preprocessor'].get_feature_names_out().tolist()\n",
    "feature_names_2"
   ]
  },
  {
   "cell_type": "code",
   "execution_count": null,
   "id": "658e65d8",
   "metadata": {},
   "outputs": [],
   "source": [
    "# Строим график важности признаков\n",
    "shap.summary_plot(\n",
    "    shap_values_2[:, :, 1], \n",
    "    X_test_shap_2, \n",
    "    rng=np.random.default_rng(42),\n",
    "    feature_names=feature_names_2,\n",
    "    show=False\n",
    ")\n",
    "# Получаем текущие оси\n",
    "ax = plt.gca()\n",
    "\n",
    "# Меняем размер графика\n",
    "plt.gcf().set_size_inches(15, 15)\n",
    "\n",
    "# Настройка заголовка и подписей\n",
    "plt.title('Анализ важности признаков методом SHAP', fontsize=14)\n",
    "plt.xlabel('SHAP-значение')\n",
    "\n",
    "# Вывод графика\n",
    "plt.tight_layout()\n",
    "plt.show()"
   ]
  },
  {
   "cell_type": "code",
   "execution_count": null,
   "id": "4118b0ee",
   "metadata": {},
   "outputs": [],
   "source": [
    "# Строим график важности признаков (столбчатый график)\n",
    "shap.summary_plot(\n",
    "    shap_values_2[:, :, 1], \n",
    "    X_test_shap_2, \n",
    "    plot_type='bar',\n",
    "    rng=np.random.default_rng(42),\n",
    "    feature_names=feature_names_2,\n",
    "    show=False\n",
    ")\n",
    "# Получаем текущие оси\n",
    "ax = plt.gca()\n",
    "\n",
    "# Меняем размер графика\n",
    "plt.gcf().set_size_inches(15, 15)\n",
    "\n",
    "# Настройка заголовка и подписей\n",
    "plt.title('Анализ важности признаков методом SHAP', fontsize=14)\n",
    "plt.xlabel('Важность признаков')\n",
    "\n",
    "# Вывод графика\n",
    "plt.tight_layout()\n",
    "plt.show()"
   ]
  },
  {
   "cell_type": "markdown",
   "id": "33ed2e3f",
   "metadata": {},
   "source": [
    "#### Вывод:"
   ]
  },
  {
   "cell_type": "markdown",
   "id": "84254215",
   "metadata": {},
   "source": [
    "Мы расчитали SHAP-значения и на основе их построили графики для анализа важности, благодаря им мы можем составить рейтинг важности:\n",
    "\n",
    "* **clean__level** - **~0.12**\n",
    "* **num__employment_years** - **~0.12**\n",
    "* **num__job_satisfaction_rate** - **~0.07**\n",
    "* **num__salary** - **~0.05**\n",
    "* **remainder__supervisor_evaluation** - **~0.4**\n",
    "* **ord__workload** - **~0.03**\n",
    "\n",
    "Рассматриваем совместно: \n",
    "\n",
    "* **last_year_violations** - **~0.015**\n",
    "* **last_year_promo** - **~0.005**\n",
    "\n",
    "Рассматриваем отдельно:\n",
    "\n",
    "* **ohe__last_year_violations_yes** - **~0.008**\n",
    "* **ohe__last_year_violations_no** - **~0.007**\n",
    "* **ohe__last_year_promo_yes** - **~0.003**\n",
    "* **ohe__last_year_promo_no** - **~0.002**\n",
    "\n",
    "Таким образом мы можем сказать, что:\n",
    "\n",
    "* Признаки **level** и  **employment_years** - **~0.12** - наиболее важны.\n",
    "* Признак **last_year_promo** - **~0.005** - наименее важен."
   ]
  },
  {
   "cell_type": "markdown",
   "id": "d3e6fc71",
   "metadata": {},
   "source": [
    "### Промежуточный вывод:"
   ]
  },
  {
   "cell_type": "markdown",
   "id": "545c3264",
   "metadata": {},
   "source": [
    "#### Лучшая модель для задачи №2:"
   ]
  },
  {
   "cell_type": "markdown",
   "id": "9f032732",
   "metadata": {},
   "source": [
    "Мы определили модель и ее гиперпараметры, которая лучше всего справляется с задачей - **RandomForestClassifier**.\n",
    "\n",
    "**Параметры модели:**\n",
    "\n",
    "* max_depth - **7**\n",
    "* Лучший метод масштабирования данных - **Без масштабирования**\n",
    "\n",
    "**Значения метрик:**\n",
    "\n",
    "* Значение ROC-AUC на тренировочных данных - **0.917**\n",
    "* Значение ROC-AUC на тестовых данных - **0.926**\n",
    "* Значение Accuracy - **0.9**\n",
    "* Значение Precision - **0.83**\n",
    "* Значени Recall - **0.83**\n",
    "\n",
    "При рассмотрении матрицы ошибок мы определили, что модель ошибается в классах в равной степени."
   ]
  },
  {
   "cell_type": "markdown",
   "id": "d6227a63",
   "metadata": {},
   "source": [
    "#### Почему данная модель оказалась лучше остальных:"
   ]
  },
  {
   "cell_type": "markdown",
   "id": "fbac7264",
   "metadata": {},
   "source": [
    "* В данной задаче деревья решений показали себя лучше линейных моделей из за того, что в наших признаках достаточно много категориальных признаков, в таких ситуациях деревья решений показываются себя гораздо лучше.\n",
    "\n",
    "\n",
    "* Случайный лес показал себя лучше одиночного дерева решений из за того, что случайный лес усредняет предсказания множества деревьев (по умолчанию 100), обученных на разных подвыборках данных и признаках, что снижает дисперсию и улучшает обобщающую способность. Из этого и логический вывод, что 100 деревьев (в нашем случае) гораздо лучше работают собща, чем одиночное."
   ]
  },
  {
   "cell_type": "markdown",
   "id": "8e923bf8",
   "metadata": {},
   "source": [
    "#### Важность признаков:"
   ]
  },
  {
   "cell_type": "markdown",
   "id": "13c42cdd",
   "metadata": {},
   "source": [
    "Мы расчитали SHAP-значения и на основе их построили графики для анализа важности, благодаря им мы можем составить рейтинг важности:\n",
    "\n",
    "* **clean__level** - **~0.12**\n",
    "* **num__employment_years** - **~0.12**\n",
    "* **num__job_satisfaction_rate** - **~0.07**\n",
    "* **num__salary** - **~0.05**\n",
    "* **remainder__supervisor_evaluation** - **~0.4**\n",
    "* **ord__workload** - **~0.03**\n",
    "\n",
    "Рассматриваем совместно: \n",
    "\n",
    "* **last_year_violations** - **~0.015**\n",
    "* **last_year_promo** - **~0.005**\n",
    "\n",
    "Рассматриваем отдельно:\n",
    "\n",
    "* **ohe__last_year_violations_yes** - **~0.008**\n",
    "* **ohe__last_year_violations_no** - **~0.007**\n",
    "* **ohe__last_year_promo_yes** - **~0.003**\n",
    "* **ohe__last_year_promo_no** - **~0.002**\n",
    "\n",
    "Таким образом мы можем сказать, что:\n",
    "\n",
    "* Признаки **level** и  **employment_years** - **~0.12** - наиболее важны.\n",
    "* Признак **last_year_promo** - **~0.005** - наименее важен."
   ]
  },
  {
   "cell_type": "markdown",
   "id": "a83c8816",
   "metadata": {},
   "source": [
    "## Общий вывод:"
   ]
  },
  {
   "cell_type": "markdown",
   "id": "c8ace2a1",
   "metadata": {},
   "source": [
    "### Описание проекта:"
   ]
  },
  {
   "cell_type": "markdown",
   "id": "460b8ef3",
   "metadata": {},
   "source": [
    "HR-аналитики компании «Работа с заботой» помогают бизнесу оптимизировать управление персоналом: бизнес предоставляет данные, а аналитики предлагают, как избежать финансовых потерь и оттока сотрудников. \n",
    "\n",
    "Компания предоставила данные с характеристиками сотрудников компании. Среди них — уровень удовлетворённости сотрудника работой в компании. Эту информацию получили из форм обратной связи: сотрудники заполняют тест-опросник, и по его результатам рассчитывается доля их удовлетворённости от **0** до **1**, где **0** — совершенно неудовлетворён, **1** — полностью удовлетворён.\n",
    "\n",
    "Удовлетворённость работой напрямую влияет на отток сотрудников. А предсказание оттока — одна из важнейших задач HR-аналитиков. Внезапные увольнения несут в себе риски для компании, особенно если уходит важный сотрудник.\n",
    "\n",
    "**Цель проекта:**\n",
    "\n",
    "1. Построить модель, которая сможет предсказать уровень удовлетворённости сотрудника на основе данных заказчика.\n",
    "\n",
    "   * Критерий успеха: **SMAPE ≤ 15** на тестовой выборке.\n",
    "   \n",
    "   \n",
    "2. Построить модель, которая сможет на основе данных заказчика предсказать то, что сотрудник уволится из компании.\n",
    "\n",
    "   * Критерий успеха: **ROC-AUC ≥ 0.91** на тестовой выборке.\n",
    "\n",
    "**Описание данных:**\n",
    "\n",
    "Набор признаков для 1 и 2 задач индентичны, поэтому описаны единожды после названий файлов.\n",
    "\n",
    "**Задача 1: предсказание уровня удовлетворённости сотрудника**\n",
    "\n",
    "* Тренировочная выборка: **train_job_satisfaction_rate.csv**\n",
    "* Входные признаки тестовой выборки: **test_features.csv**\n",
    "* Целевой признак тестовой выборки: **test_target_job_satisfaction_rate.csv**\n",
    "\n",
    "**Описание признаков:**\n",
    "\n",
    "* **id** — уникальный идентификатор сотрудника;\n",
    "* **dept** — отдел, в котором работает сотрудник;\n",
    "* **level** — уровень занимаемой должности;\n",
    "* **workload** — уровень загруженности сотрудника;\n",
    "* **employment_years** — длительность работы в компании (в годах);\n",
    "* **last_year_promo** — показывает, было ли повышение за последний год;\n",
    "* **last_year_violations** — показывает, нарушал ли сотрудник трудовой договор за последний год;\n",
    "* **supervisor_evaluation** — оценка качества работы сотрудника, которую дал руководитель;\n",
    "* **salary** — ежемесячная зарплата сотрудника;\n",
    "* **job_satisfaction_rate** — уровень удовлетворённости сотрудника работой в компании (целевой признак).\n",
    "\n",
    "**Задача 2: предсказание увольнения сотрудника из компании**\n",
    "\n",
    "* Тренировочная выборка: **train_quit.csv**\n",
    "* Входные признаки тестовой выборки: **test_features.csv**\n",
    "* Целевой признак тестовой выборки: **test_target_quit.csv**\n",
    "\n",
    "**Описание признаков:**\n",
    "\n",
    "* **id** — уникальный идентификатор сотрудника;\n",
    "* **dept** — отдел, в котором работает сотрудник;\n",
    "* **level** — уровень занимаемой должности;\n",
    "* **workload** — уровень загруженности сотрудника;\n",
    "* **employment_years** — длительность работы в компании (в годах);\n",
    "* **last_year_promo** — показывает, было ли повышение за последний год;\n",
    "* **last_year_violations** — показывает, нарушал ли сотрудник трудовой договор за последний год;\n",
    "* **supervisor_evaluation** — оценка качества работы сотрудника, которую дал руководитель;\n",
    "* **salary** — ежемесячная зарплата сотрудника;\n",
    "* **quit** — увольнение сотрудника из компании (целевой признак)."
   ]
  },
  {
   "cell_type": "markdown",
   "id": "a32a7a72",
   "metadata": {},
   "source": [
    "### Ход исследования:"
   ]
  },
  {
   "cell_type": "markdown",
   "id": "d915e72b",
   "metadata": {},
   "source": [
    "**Задача 1: предсказание уровня удовлетворённости сотрудника**\n",
    "\n",
    "* **Подготовка данных**: загрузка и изучение общей информации из представленных датасетов.\n",
    "* **Предобработка данных**: обработка пропущенных значений, корректировка типов данных, дубликатов и других аномалий.\n",
    "* **Исследовательский анализ данных**: изучение признаков имеющихся в датасетах, их распределение, поиск выбросов/аномалий в данных.\n",
    "* **Корреляционный анализ**: изучение взимосвязей между входными признаками и целевыми, а также и между ними.\n",
    "* **Использование пайплайнов**: написание пайплайнов для подготовки данных и обучения модели для упрощения и ускорения поиска лучшей модели и ее гиперпараметров.\n",
    "* **Поиск лучшей модели**: использование автоматического поиска лучшей модели и ее гиперпараметров с помощью **RandomSearchCV**.\n",
    "* **Анализ важности признаков**: анализ степени важности признков их влияния на принятие решений моделью с помощью метода **SHAP**.\n",
    "* **Промежуточный вывод**: резюмирование полученных результатов.\n",
    "\n",
    "**Задача 2: предсказание увольнения сотрудника из компании**\n",
    "\n",
    "* **Подготовка данных**: загрузка и изучение общей информации из представленных датасетов.\n",
    "* **Предобработка данных**: обработка пропущенных значений, корректировка типов данных, дубликатов и других аномалий.\n",
    "* **Исследовательский анализ данных**: изучение признаков имеющихся в датасетах, их распределение, поиск выбросов/аномалий в данных, построение портрета \"уволившегося сотрудника\", исследование взаимосвязи признаков удовлетворенности работой в компании и вероятности ее покинуть.\n",
    "* **Корреляционный анализ**: изучение взимосвязей между входными признаками и целевыми, а также и между ними.\n",
    "* **Использование пайплайнов**: написание пайплайнов для подготовки данных и обучения модели для упрощения и ускорения поиска лучшей модели и ее гиперпараметров.\n",
    "* **Поиск лучшей модели**: использование автоматического поиска лучшей модели и ее гиперпараметров с помощью **RandomSearchCV**.\n",
    "* **Анализ важности признаков**: анализ степени важности признков их влияния на принятие решений моделью с помощью метода **SHAP**.\n",
    "* **Промежуточный вывод**: резюмирование полученных результатов.\n",
    "\n",
    "**Общий вывод**: резюмирование полученных результатов, формулировка ключевых выводов и рекомендаций."
   ]
  },
  {
   "cell_type": "markdown",
   "id": "28328aee",
   "metadata": {},
   "source": [
    "### Вывод по задаче №1:"
   ]
  },
  {
   "cell_type": "markdown",
   "id": "fc2f538e",
   "metadata": {},
   "source": [
    "#### Лучшая модель:"
   ]
  },
  {
   "cell_type": "markdown",
   "id": "746d5f37",
   "metadata": {},
   "source": [
    "Мы определили модель и ее гиперпараметры, которая лучше всего справляется с задачей - **RandomForestRegressor**.\n",
    "\n",
    "**Параметры модели:**\n",
    "\n",
    "* max_depth - **15**\n",
    "* Лучший метод масштабирования данных - **StandardScaler**\n",
    "\n",
    "**Значения метрик:**\n",
    "\n",
    "* Значение SMAPE на тренировочных данных - **13.67**\n",
    "* Значение SMAPE на тестовых данных - **12.34**\n",
    "* Значение RMSE на тестовых данных - **0.07**\n",
    "* Значение R2 на тестовых данных - **0.91**\n",
    "\n",
    "Метрика на тестовой выборке выросла, что говорит нам о том, что модель не имеет переобучения, хорошо обобщила данные и поняла их взаимосвязи."
   ]
  },
  {
   "cell_type": "markdown",
   "id": "f159bf7e",
   "metadata": {},
   "source": [
    "#### Почему эта модель справилась лучше остальных:"
   ]
  },
  {
   "cell_type": "markdown",
   "id": "bd4fcffd",
   "metadata": {},
   "source": [
    "* В данной задаче деревья решений показали себя лучше линейных моделей из за того, что в наших признаках достаточно много категориальных признаков, в таких ситуациях деревья решений показываются себя гораздо лучше.\n",
    "\n",
    "\n",
    "* Случайный лес показал себя лучше одиночного дерева решений из за того, что случайный лес усредняет предсказания множества деревьев (по умолчанию 100), обученных на разных подвыборках данных и признаках, что снижает дисперсию и улучшает обобщающую способность. Из этого и логический вывод, что 100 деревьев (в нашем случае) гораздо лучше работают собща, чем одиночное."
   ]
  },
  {
   "cell_type": "markdown",
   "id": "6e02875d",
   "metadata": {},
   "source": [
    "#### Важность признаков:"
   ]
  },
  {
   "cell_type": "markdown",
   "id": "41723594",
   "metadata": {},
   "source": [
    "Мы расчитали SHAP-значения и на основе их построили графики для анализа важности, благодаря им мы можем составить рейтинг важности:\n",
    "\n",
    "* **remainder__supervisor_evaluation** - **~0.17**\n",
    "* **num__employment_years** - **~0.057**\n",
    "* **clean__level** - **~0.04**\n",
    "* **num__salary** - **~0.037**\n",
    "* **ord__last_year_violations** - **~0.035**\n",
    "* **ord__workload** - **~0.02**\n",
    "* **ohe__dept_technology** - **~0.01**\n",
    "* **ord__last_year_promo** - **~0.007**\n",
    "* **ohe__dept_sales** - **~0.005**\n",
    "* **ohe__dept_purchasing** - **~0.004**\n",
    "* **ohe__dept_hr** - **~0.003**\n",
    "* **ohe__dept_marketing** - **~0.002**\n",
    "\n",
    "Стоит отметить, что признаки, которые указывают на то, в каком отделе работает сотрудник, для большего понимания стоит складывать эти значения, чтобы приблизительно понимать мощность данного признака в целом.\n",
    "\n",
    "* Признак **dept** - **~0.024**\n",
    "\n",
    "Таким образом мы можем сказать, что:\n",
    "\n",
    "* Признак **supervisor_evaluation** - **~0.17** - наиболее важен.\n",
    "* Признак **last_year_promo** - **~0.007** - наименее важен."
   ]
  },
  {
   "cell_type": "markdown",
   "id": "17d16843",
   "metadata": {},
   "source": [
    "### Вывод по задаче №2:"
   ]
  },
  {
   "cell_type": "markdown",
   "id": "6053a0f1",
   "metadata": {},
   "source": [
    "#### Портрет уволившегося сотрудника:"
   ]
  },
  {
   "cell_type": "markdown",
   "id": "f9f9e522",
   "metadata": {},
   "source": [
    "* Вероятнее всего работает в отделе - **purchasing**;\n",
    "* Уровень должности - **junior**;\n",
    "* Уровень рабочей нагрузки - **low**;\n",
    "* **Не получал повышения** за последний год;\n",
    "* **Имеет нарушения** по трудовому договору за последний год;\n",
    "* Стаж работы сотрудника от **1** до **3** лет;\n",
    "* Имеет оценку своей работы от руководителя на уровне - **3**;\n",
    "* Имеет зарплату в диапозоне от **12000** до **30000**."
   ]
  },
  {
   "cell_type": "markdown",
   "id": "c5a28944",
   "metadata": {},
   "source": [
    "#### Взаимосвязь уровня удовлетворения работой сотрудника и его увольнением:"
   ]
  },
  {
   "cell_type": "markdown",
   "id": "8e0efa74",
   "metadata": {},
   "source": [
    "Мы действительно наблюдаем взаимосвязь, пик удовлетворенностью работой в компании уволившихся сотрудников смещен влево и распределение имеет медиану на значении **0.35**, как у оставшихся сотрудников обратная ситуация пик смещен вправо, а медианное значение равно - **0.64**."
   ]
  },
  {
   "cell_type": "markdown",
   "id": "7c5dd573",
   "metadata": {},
   "source": [
    "#### Лучшая модель:"
   ]
  },
  {
   "cell_type": "markdown",
   "id": "66bd28f3",
   "metadata": {},
   "source": [
    "Мы определили модель и ее гиперпараметры, которая лучше всего справляется с задачей - **RandomForestClassifier**.\n",
    "\n",
    "**Параметры модели:**\n",
    "\n",
    "* max_depth - **7**\n",
    "* Лучший метод масштабирования данных - **Без масштабирования**\n",
    "\n",
    "**Значения метрик:**\n",
    "\n",
    "* Значение ROC-AUC на тренировочных данных - **0.917**\n",
    "* Значение ROC-AUC на тестовых данных - **0.926**\n",
    "* Значение Accuracy - **0.9**\n",
    "* Значение Precision - **0.83**\n",
    "* Значени Recall - **0.83**\n",
    "\n",
    "При рассмотрении матрицы ошибок мы определили, что модель ошибается в классах в равной степени."
   ]
  },
  {
   "cell_type": "markdown",
   "id": "20be7df5",
   "metadata": {},
   "source": [
    "#### Почему эта модель справилась лучше остальных:"
   ]
  },
  {
   "cell_type": "markdown",
   "id": "5162f640",
   "metadata": {},
   "source": [
    "* В данной задаче деревья решений показали себя лучше линейных моделей из за того, что в наших признаках достаточно много категориальных признаков, в таких ситуациях деревья решений показываются себя гораздо лучше.\n",
    "\n",
    "\n",
    "* Случайный лес показал себя лучше одиночного дерева решений из за того, что случайный лес усредняет предсказания множества деревьев (по умолчанию 100), обученных на разных подвыборках данных и признаках, что снижает дисперсию и улучшает обобщающую способность. Из этого и логический вывод, что 100 деревьев (в нашем случае) гораздо лучше работают собща, чем одиночное."
   ]
  },
  {
   "cell_type": "markdown",
   "id": "259cbc16",
   "metadata": {},
   "source": [
    "#### Важность признаков:"
   ]
  },
  {
   "cell_type": "markdown",
   "id": "3edd1b38",
   "metadata": {},
   "source": [
    "Мы расчитали SHAP-значения и на основе их построили графики для анализа важности, благодаря им мы можем составить рейтинг важности:\n",
    "\n",
    "* **remainder__supervisor_evaluation** - **~0.17**\n",
    "* **num__employment_years** - **~0.057**\n",
    "* **clean__level** - **~0.04**\n",
    "* **num__salary** - **~0.037**\n",
    "* **ord__last_year_violations** - **~0.035**\n",
    "* **ord__workload** - **~0.02**\n",
    "* **ohe__dept_technology** - **~0.01**\n",
    "* **ord__last_year_promo** - **~0.007**\n",
    "* **ohe__dept_sales** - **~0.005**\n",
    "* **ohe__dept_purchasing** - **~0.004**\n",
    "* **ohe__dept_hr** - **~0.003**\n",
    "* **ohe__dept_marketing** - **~0.002**\n",
    "\n",
    "Стоит отметить, что признаки, которые указывают на то, в каком отделе работает сотрудник, для большего понимания стоит складывать эти значения, чтобы приблизительно понимать мощность данного признака в целом.\n",
    "\n",
    "* Признак **dept** - **~0.024**\n",
    "\n",
    "Таким образом мы можем сказать, что:\n",
    "\n",
    "* Признак **supervisor_evaluation** - **~0.17** - наиболее важен.\n",
    "* Признак **last_year_promo** - **~0.007** - наименее важен."
   ]
  },
  {
   "cell_type": "markdown",
   "id": "f10add6d",
   "metadata": {},
   "source": [
    "### Дополнительные предложения для бизнеса:"
   ]
  },
  {
   "cell_type": "markdown",
   "id": "06613235",
   "metadata": {},
   "source": [
    "Одна из ключевых проблем бизнеса это огромная текучесть кадров уровня **Junior**. Если нам удасться справится с этой проблемой мы сможем снизить нагрузку с сотрудников **Middle** и **Senior**, что увеличит показатели их удовлетворенности местом работы. \n",
    "\n",
    "Ниже несколько рекомендаций по решений данной проблемы: \n",
    "\n",
    "* Необходимо пересмотреть подход по оценке работы сотрудника руководителем, данный показатель сильно демотивирует сотрудников, оттуда и нежелание работать в компании.\n",
    "\n",
    "\n",
    "* У сотрудников наблюдается дисбаланс в нагрузке, сотрудники с низкой и высокой нагрузкой более склонны к уволнению, необходимо сбалансировать данный уровень.\n",
    "\n",
    "\n",
    "* Пересмотреть стратегию мотивации сотрудников, направить фокус на рост в компании, процент сотрудников получивших повышение за последний год крайне мал, юные сотрудники которые стремятся к росту и повышению зарплаты не могут пробиться и дойдя до определенного уровня усталости уходят. Другими словами хотя бы небольшой рост в должностных обязанностях и заработной плате будет удерживать сотрудников.\n",
    "\n",
    "\n",
    "* После проведение изменений описаных выше и отследив в статистике снижение текучести молодых кадров можно будет рассмотреть возможность поднятия уровня заработной платы для сотрудников уровня **Junior**, до уровня минимального уровня **30000**, что еще крепче будет удерживать молодых сотрудников и стараться на своем рабочем месте."
   ]
  },
  {
   "cell_type": "markdown",
   "id": "c90f2d97",
   "metadata": {},
   "source": [
    "<font color='blue'><b>Комментарий ревьюера: </b></font> ✔️\\\n",
    "<font color='green'> Очень приятно видеть вывод в конце проекта!\\\n",
    "Приведены ответы на главные вопросы проекта.</font>"
   ]
  },
  {
   "cell_type": "markdown",
   "id": "520c909a",
   "metadata": {},
   "source": [
    "<font color='blue'><b>Итоговый комментарий ревьюера </b></font> \\\n",
    "<font color='green'>Кирилл, хороший проект получился! Большое спасибо за проделанную работу. Видно, что приложено много усилий.\n",
    "\n",
    "<font color='blue'>Что можно сделать лучше:</font>\n",
    "<ul><font color='darkorange'>В работе я оставил несколько советов. Буду рад, если ты учтешь их.</font></ul>\n",
    "\n",
    "<font color='green'>Все основные задачи были решены верно, поэтому проект принят! Но, если у тебя остались вопросы или какие-то комментарии, то их можно передать мне через куратора — я обязательно отвечу.</font>"
   ]
  }
 ],
 "metadata": {
  "ExecuteTimeLog": [
   {
    "duration": 4358,
    "start_time": "2025-05-26T17:54:39.910Z"
   },
   {
    "duration": 3021,
    "start_time": "2025-05-26T17:55:02.570Z"
   },
   {
    "duration": 6671,
    "start_time": "2025-05-26T17:55:53.635Z"
   },
   {
    "duration": 1894,
    "start_time": "2025-05-26T17:57:00.170Z"
   },
   {
    "duration": 4,
    "start_time": "2025-05-26T17:57:22.735Z"
   },
   {
    "duration": 3,
    "start_time": "2025-05-26T17:58:25.331Z"
   },
   {
    "duration": 3,
    "start_time": "2025-05-26T17:58:39.506Z"
   },
   {
    "duration": 4,
    "start_time": "2025-05-26T17:58:48.842Z"
   },
   {
    "duration": 6,
    "start_time": "2025-05-26T17:59:09.447Z"
   },
   {
    "duration": 6,
    "start_time": "2025-05-26T17:59:42.033Z"
   },
   {
    "duration": 5,
    "start_time": "2025-05-26T17:59:55.483Z"
   },
   {
    "duration": 5,
    "start_time": "2025-05-26T18:00:01.475Z"
   },
   {
    "duration": 3,
    "start_time": "2025-05-26T18:11:32.232Z"
   },
   {
    "duration": 4491,
    "start_time": "2025-05-27T06:10:53.104Z"
   },
   {
    "duration": 3206,
    "start_time": "2025-05-27T06:10:57.597Z"
   },
   {
    "duration": 7551,
    "start_time": "2025-05-27T06:11:00.805Z"
   },
   {
    "duration": 2076,
    "start_time": "2025-05-27T06:11:08.360Z"
   },
   {
    "duration": 4,
    "start_time": "2025-05-27T06:11:10.438Z"
   },
   {
    "duration": 8,
    "start_time": "2025-05-27T06:11:10.443Z"
   },
   {
    "duration": 17,
    "start_time": "2025-05-27T06:11:10.453Z"
   },
   {
    "duration": 7,
    "start_time": "2025-05-27T06:11:10.472Z"
   },
   {
    "duration": 8,
    "start_time": "2025-05-27T06:11:10.480Z"
   },
   {
    "duration": 7,
    "start_time": "2025-05-27T06:11:58.123Z"
   },
   {
    "duration": 224,
    "start_time": "2025-05-27T06:20:27.194Z"
   },
   {
    "duration": 81,
    "start_time": "2025-05-27T06:20:55.882Z"
   },
   {
    "duration": 22,
    "start_time": "2025-05-27T06:24:17.054Z"
   },
   {
    "duration": 17,
    "start_time": "2025-05-27T06:25:12.697Z"
   },
   {
    "duration": 11,
    "start_time": "2025-05-27T06:30:51.026Z"
   },
   {
    "duration": 11,
    "start_time": "2025-05-27T06:32:26.406Z"
   },
   {
    "duration": 12,
    "start_time": "2025-05-27T06:32:34.040Z"
   },
   {
    "duration": 10,
    "start_time": "2025-05-27T06:34:53.832Z"
   },
   {
    "duration": 8,
    "start_time": "2025-05-27T06:38:56.570Z"
   },
   {
    "duration": 4636,
    "start_time": "2025-05-27T17:03:30.036Z"
   },
   {
    "duration": 3315,
    "start_time": "2025-05-27T17:03:34.675Z"
   },
   {
    "duration": 7106,
    "start_time": "2025-05-27T17:03:37.993Z"
   },
   {
    "duration": 2127,
    "start_time": "2025-05-27T17:03:45.101Z"
   },
   {
    "duration": 4,
    "start_time": "2025-05-27T17:03:47.230Z"
   },
   {
    "duration": 6,
    "start_time": "2025-05-27T17:03:47.236Z"
   },
   {
    "duration": 23,
    "start_time": "2025-05-27T17:03:47.244Z"
   },
   {
    "duration": 7,
    "start_time": "2025-05-27T17:03:47.269Z"
   },
   {
    "duration": 8,
    "start_time": "2025-05-27T17:03:47.278Z"
   },
   {
    "duration": 94,
    "start_time": "2025-05-27T17:03:47.287Z"
   },
   {
    "duration": 14,
    "start_time": "2025-05-27T17:03:47.383Z"
   },
   {
    "duration": 96,
    "start_time": "2025-05-27T17:03:47.398Z"
   },
   {
    "duration": 12,
    "start_time": "2025-05-27T17:03:47.496Z"
   },
   {
    "duration": 13,
    "start_time": "2025-05-27T17:03:47.510Z"
   },
   {
    "duration": 11,
    "start_time": "2025-05-27T17:03:47.525Z"
   },
   {
    "duration": 9,
    "start_time": "2025-05-27T17:03:47.537Z"
   },
   {
    "duration": 3,
    "start_time": "2025-05-27T17:08:45.470Z"
   },
   {
    "duration": 3,
    "start_time": "2025-05-27T17:09:37.430Z"
   },
   {
    "duration": 12,
    "start_time": "2025-05-27T17:09:42.057Z"
   },
   {
    "duration": 6,
    "start_time": "2025-05-27T17:13:39.686Z"
   },
   {
    "duration": 14,
    "start_time": "2025-05-27T17:17:46.454Z"
   },
   {
    "duration": 13,
    "start_time": "2025-05-27T17:18:29.398Z"
   },
   {
    "duration": 9,
    "start_time": "2025-05-27T17:19:06.895Z"
   },
   {
    "duration": 4,
    "start_time": "2025-05-27T17:25:31.267Z"
   },
   {
    "duration": 5,
    "start_time": "2025-05-27T17:26:14.998Z"
   },
   {
    "duration": 4,
    "start_time": "2025-05-27T17:28:31.470Z"
   },
   {
    "duration": 5,
    "start_time": "2025-05-27T17:28:42.678Z"
   },
   {
    "duration": 28,
    "start_time": "2025-05-27T17:36:47.943Z"
   },
   {
    "duration": 27,
    "start_time": "2025-05-27T17:38:41.122Z"
   },
   {
    "duration": 8,
    "start_time": "2025-05-27T17:40:58.764Z"
   },
   {
    "duration": 155,
    "start_time": "2025-05-27T17:42:03.334Z"
   },
   {
    "duration": 21,
    "start_time": "2025-05-27T17:42:19.615Z"
   },
   {
    "duration": 25,
    "start_time": "2025-05-27T18:07:09.814Z"
   },
   {
    "duration": 2727,
    "start_time": "2025-05-27T18:41:11.495Z"
   },
   {
    "duration": 2724,
    "start_time": "2025-05-27T18:41:14.226Z"
   },
   {
    "duration": 3289,
    "start_time": "2025-05-27T18:41:16.953Z"
   },
   {
    "duration": 1862,
    "start_time": "2025-05-27T18:41:20.245Z"
   },
   {
    "duration": 3,
    "start_time": "2025-05-27T18:41:22.111Z"
   },
   {
    "duration": 4,
    "start_time": "2025-05-27T18:41:22.116Z"
   },
   {
    "duration": 6,
    "start_time": "2025-05-27T18:41:22.122Z"
   },
   {
    "duration": 8,
    "start_time": "2025-05-27T18:41:22.130Z"
   },
   {
    "duration": 17,
    "start_time": "2025-05-27T18:41:22.139Z"
   },
   {
    "duration": 77,
    "start_time": "2025-05-27T18:41:22.157Z"
   },
   {
    "duration": 14,
    "start_time": "2025-05-27T18:41:22.235Z"
   },
   {
    "duration": 17,
    "start_time": "2025-05-27T18:41:22.251Z"
   },
   {
    "duration": 12,
    "start_time": "2025-05-27T18:41:22.269Z"
   },
   {
    "duration": 13,
    "start_time": "2025-05-27T18:41:22.284Z"
   },
   {
    "duration": 23,
    "start_time": "2025-05-27T18:41:22.309Z"
   },
   {
    "duration": 13,
    "start_time": "2025-05-27T18:41:22.334Z"
   },
   {
    "duration": 3,
    "start_time": "2025-05-27T18:41:22.349Z"
   },
   {
    "duration": 14,
    "start_time": "2025-05-27T18:41:22.354Z"
   },
   {
    "duration": 5,
    "start_time": "2025-05-27T18:41:22.369Z"
   },
   {
    "duration": 14,
    "start_time": "2025-05-27T18:41:22.376Z"
   },
   {
    "duration": 12,
    "start_time": "2025-05-27T18:41:22.406Z"
   },
   {
    "duration": 13,
    "start_time": "2025-05-27T18:41:22.420Z"
   },
   {
    "duration": 6,
    "start_time": "2025-05-27T18:41:22.435Z"
   },
   {
    "duration": 6,
    "start_time": "2025-05-27T18:41:22.442Z"
   },
   {
    "duration": 61,
    "start_time": "2025-05-27T18:41:22.450Z"
   },
   {
    "duration": 21,
    "start_time": "2025-05-27T18:41:22.513Z"
   },
   {
    "duration": 4744,
    "start_time": "2025-05-28T05:58:35.671Z"
   },
   {
    "duration": 3505,
    "start_time": "2025-05-28T05:58:40.418Z"
   },
   {
    "duration": 7359,
    "start_time": "2025-05-28T05:58:43.925Z"
   },
   {
    "duration": 2142,
    "start_time": "2025-05-28T05:58:51.287Z"
   },
   {
    "duration": 4,
    "start_time": "2025-05-28T05:58:53.431Z"
   },
   {
    "duration": 21,
    "start_time": "2025-05-28T05:58:53.437Z"
   },
   {
    "duration": 9,
    "start_time": "2025-05-28T05:58:53.460Z"
   },
   {
    "duration": 11,
    "start_time": "2025-05-28T05:58:53.475Z"
   },
   {
    "duration": 11,
    "start_time": "2025-05-28T05:58:53.488Z"
   },
   {
    "duration": 92,
    "start_time": "2025-05-28T05:58:53.501Z"
   },
   {
    "duration": 15,
    "start_time": "2025-05-28T05:58:53.594Z"
   },
   {
    "duration": 37,
    "start_time": "2025-05-28T05:58:53.611Z"
   },
   {
    "duration": 12,
    "start_time": "2025-05-28T05:58:53.650Z"
   },
   {
    "duration": 36,
    "start_time": "2025-05-28T05:58:53.665Z"
   },
   {
    "duration": 52,
    "start_time": "2025-05-28T05:58:53.703Z"
   },
   {
    "duration": 27,
    "start_time": "2025-05-28T05:58:53.757Z"
   },
   {
    "duration": 4,
    "start_time": "2025-05-28T05:58:53.786Z"
   },
   {
    "duration": 12,
    "start_time": "2025-05-28T05:58:53.792Z"
   },
   {
    "duration": 5,
    "start_time": "2025-05-28T05:58:53.805Z"
   },
   {
    "duration": 14,
    "start_time": "2025-05-28T05:58:53.812Z"
   },
   {
    "duration": 28,
    "start_time": "2025-05-28T05:58:53.828Z"
   },
   {
    "duration": 26,
    "start_time": "2025-05-28T05:58:53.858Z"
   },
   {
    "duration": 6,
    "start_time": "2025-05-28T05:58:53.887Z"
   },
   {
    "duration": 5,
    "start_time": "2025-05-28T05:58:53.895Z"
   },
   {
    "duration": 29,
    "start_time": "2025-05-28T05:58:53.902Z"
   },
   {
    "duration": 63,
    "start_time": "2025-05-28T05:58:53.932Z"
   },
   {
    "duration": 98,
    "start_time": "2025-05-28T06:00:02.960Z"
   },
   {
    "duration": 161,
    "start_time": "2025-05-28T06:00:31.852Z"
   },
   {
    "duration": 12,
    "start_time": "2025-05-28T06:00:38.323Z"
   },
   {
    "duration": 22,
    "start_time": "2025-05-28T06:01:20.428Z"
   },
   {
    "duration": 26,
    "start_time": "2025-05-28T06:02:57.184Z"
   },
   {
    "duration": 1435,
    "start_time": "2025-05-28T06:10:34.123Z"
   },
   {
    "duration": 526,
    "start_time": "2025-05-28T06:10:48.269Z"
   },
   {
    "duration": 365,
    "start_time": "2025-05-28T06:20:34.348Z"
   },
   {
    "duration": 398,
    "start_time": "2025-05-28T06:27:45.460Z"
   },
   {
    "duration": 445,
    "start_time": "2025-05-28T06:31:09.284Z"
   },
   {
    "duration": 531,
    "start_time": "2025-05-28T06:31:19.171Z"
   },
   {
    "duration": 431,
    "start_time": "2025-05-28T06:31:25.011Z"
   },
   {
    "duration": 409,
    "start_time": "2025-05-28T06:31:37.331Z"
   },
   {
    "duration": 457,
    "start_time": "2025-05-28T06:37:10.669Z"
   },
   {
    "duration": 413,
    "start_time": "2025-05-28T06:37:32.860Z"
   },
   {
    "duration": 413,
    "start_time": "2025-05-28T06:37:46.380Z"
   },
   {
    "duration": 293,
    "start_time": "2025-05-28T07:00:43.189Z"
   },
   {
    "duration": 297,
    "start_time": "2025-05-28T07:05:37.413Z"
   },
   {
    "duration": 273,
    "start_time": "2025-05-28T07:11:00.151Z"
   },
   {
    "duration": 293,
    "start_time": "2025-05-28T07:17:31.907Z"
   },
   {
    "duration": 298,
    "start_time": "2025-05-28T07:20:22.918Z"
   },
   {
    "duration": 435,
    "start_time": "2025-05-28T07:20:31.172Z"
   },
   {
    "duration": 275,
    "start_time": "2025-05-28T07:20:45.572Z"
   },
   {
    "duration": 6,
    "start_time": "2025-05-28T07:21:16.854Z"
   },
   {
    "duration": 290,
    "start_time": "2025-05-28T07:21:26.221Z"
   },
   {
    "duration": 11,
    "start_time": "2025-05-28T07:30:44.702Z"
   },
   {
    "duration": 4164,
    "start_time": "2025-05-28T16:55:16.564Z"
   },
   {
    "duration": 2929,
    "start_time": "2025-05-28T16:55:20.731Z"
   },
   {
    "duration": 7099,
    "start_time": "2025-05-28T16:55:23.662Z"
   },
   {
    "duration": 2147,
    "start_time": "2025-05-28T16:55:30.763Z"
   },
   {
    "duration": 4,
    "start_time": "2025-05-28T16:55:32.912Z"
   },
   {
    "duration": 34,
    "start_time": "2025-05-28T16:55:32.918Z"
   },
   {
    "duration": 131,
    "start_time": "2025-05-28T16:55:32.954Z"
   },
   {
    "duration": 7,
    "start_time": "2025-05-28T16:55:33.087Z"
   },
   {
    "duration": 5,
    "start_time": "2025-05-28T16:55:33.095Z"
   },
   {
    "duration": 91,
    "start_time": "2025-05-28T16:55:33.102Z"
   },
   {
    "duration": 15,
    "start_time": "2025-05-28T16:55:33.195Z"
   },
   {
    "duration": 14,
    "start_time": "2025-05-28T16:55:33.212Z"
   },
   {
    "duration": 10,
    "start_time": "2025-05-28T16:55:33.228Z"
   },
   {
    "duration": 23,
    "start_time": "2025-05-28T16:55:33.242Z"
   },
   {
    "duration": 10,
    "start_time": "2025-05-28T16:55:33.267Z"
   },
   {
    "duration": 20,
    "start_time": "2025-05-28T16:55:33.279Z"
   },
   {
    "duration": 3,
    "start_time": "2025-05-28T16:55:33.301Z"
   },
   {
    "duration": 12,
    "start_time": "2025-05-28T16:55:33.305Z"
   },
   {
    "duration": 5,
    "start_time": "2025-05-28T16:55:33.318Z"
   },
   {
    "duration": 12,
    "start_time": "2025-05-28T16:55:33.325Z"
   },
   {
    "duration": 12,
    "start_time": "2025-05-28T16:55:33.358Z"
   },
   {
    "duration": 8,
    "start_time": "2025-05-28T16:55:33.371Z"
   },
   {
    "duration": 13,
    "start_time": "2025-05-28T16:55:33.381Z"
   },
   {
    "duration": 5,
    "start_time": "2025-05-28T16:55:33.396Z"
   },
   {
    "duration": 28,
    "start_time": "2025-05-28T16:55:33.403Z"
   },
   {
    "duration": 20,
    "start_time": "2025-05-28T16:55:33.459Z"
   },
   {
    "duration": 24,
    "start_time": "2025-05-28T16:55:33.481Z"
   },
   {
    "duration": 509,
    "start_time": "2025-05-28T16:55:33.506Z"
   },
   {
    "duration": 388,
    "start_time": "2025-05-28T16:55:34.016Z"
   },
   {
    "duration": 418,
    "start_time": "2025-05-28T16:55:34.407Z"
   },
   {
    "duration": 422,
    "start_time": "2025-05-28T16:55:34.826Z"
   },
   {
    "duration": 392,
    "start_time": "2025-05-28T16:55:35.250Z"
   },
   {
    "duration": 270,
    "start_time": "2025-05-28T16:55:35.644Z"
   },
   {
    "duration": 297,
    "start_time": "2025-05-28T16:55:35.915Z"
   },
   {
    "duration": 288,
    "start_time": "2025-05-28T16:55:36.214Z"
   },
   {
    "duration": 294,
    "start_time": "2025-05-28T16:55:36.504Z"
   },
   {
    "duration": 10,
    "start_time": "2025-05-28T16:55:36.800Z"
   },
   {
    "duration": 24,
    "start_time": "2025-05-28T16:58:15.538Z"
   },
   {
    "duration": 13,
    "start_time": "2025-05-28T16:58:34.346Z"
   },
   {
    "duration": 400,
    "start_time": "2025-05-28T17:05:02.790Z"
   },
   {
    "duration": 399,
    "start_time": "2025-05-28T17:05:28.814Z"
   },
   {
    "duration": 370,
    "start_time": "2025-05-28T17:07:14.010Z"
   },
   {
    "duration": 381,
    "start_time": "2025-05-28T17:07:23.695Z"
   },
   {
    "duration": 404,
    "start_time": "2025-05-28T17:09:17.834Z"
   },
   {
    "duration": 410,
    "start_time": "2025-05-28T17:09:26.495Z"
   },
   {
    "duration": 503,
    "start_time": "2025-05-28T17:10:37.040Z"
   },
   {
    "duration": 1204,
    "start_time": "2025-05-28T17:10:47.586Z"
   },
   {
    "duration": 289,
    "start_time": "2025-05-28T17:12:49.983Z"
   },
   {
    "duration": 259,
    "start_time": "2025-05-28T17:18:23.239Z"
   },
   {
    "duration": 13,
    "start_time": "2025-05-28T17:18:40.015Z"
   },
   {
    "duration": 321,
    "start_time": "2025-05-28T17:18:46.783Z"
   },
   {
    "duration": 270,
    "start_time": "2025-05-28T17:23:30.334Z"
   },
   {
    "duration": 258,
    "start_time": "2025-05-28T17:23:43.039Z"
   },
   {
    "duration": 276,
    "start_time": "2025-05-28T17:26:28.711Z"
   },
   {
    "duration": 281,
    "start_time": "2025-05-28T17:26:42.327Z"
   },
   {
    "duration": 322,
    "start_time": "2025-05-28T17:28:56.292Z"
   },
   {
    "duration": 282,
    "start_time": "2025-05-28T17:29:07.503Z"
   },
   {
    "duration": 448,
    "start_time": "2025-05-28T17:32:04.827Z"
   },
   {
    "duration": 460,
    "start_time": "2025-05-28T17:32:14.929Z"
   },
   {
    "duration": 526,
    "start_time": "2025-05-28T17:54:29.203Z"
   },
   {
    "duration": 589,
    "start_time": "2025-05-28T17:54:49.256Z"
   },
   {
    "duration": 27,
    "start_time": "2025-05-28T18:05:19.339Z"
   },
   {
    "duration": 4,
    "start_time": "2025-05-28T18:05:59.374Z"
   },
   {
    "duration": 12,
    "start_time": "2025-05-28T18:09:12.404Z"
   },
   {
    "duration": 13,
    "start_time": "2025-05-28T18:09:41.014Z"
   },
   {
    "duration": 13,
    "start_time": "2025-05-28T18:10:44.774Z"
   },
   {
    "duration": 13,
    "start_time": "2025-05-28T18:11:00.112Z"
   },
   {
    "duration": 4,
    "start_time": "2025-05-28T18:11:11.274Z"
   },
   {
    "duration": 2586,
    "start_time": "2025-05-28T18:11:33.011Z"
   },
   {
    "duration": 2572,
    "start_time": "2025-05-28T18:11:35.599Z"
   },
   {
    "duration": 3151,
    "start_time": "2025-05-28T18:11:38.172Z"
   },
   {
    "duration": 1885,
    "start_time": "2025-05-28T18:11:41.326Z"
   },
   {
    "duration": 3,
    "start_time": "2025-05-28T18:11:43.213Z"
   },
   {
    "duration": 34,
    "start_time": "2025-05-28T18:11:43.218Z"
   },
   {
    "duration": 12,
    "start_time": "2025-05-28T18:11:43.253Z"
   },
   {
    "duration": 12,
    "start_time": "2025-05-28T18:11:43.266Z"
   },
   {
    "duration": 10,
    "start_time": "2025-05-28T18:11:43.279Z"
   },
   {
    "duration": 64,
    "start_time": "2025-05-28T18:11:43.291Z"
   },
   {
    "duration": 25,
    "start_time": "2025-05-28T18:11:43.356Z"
   },
   {
    "duration": 14,
    "start_time": "2025-05-28T18:11:43.383Z"
   },
   {
    "duration": 11,
    "start_time": "2025-05-28T18:11:43.398Z"
   },
   {
    "duration": 9,
    "start_time": "2025-05-28T18:11:43.411Z"
   },
   {
    "duration": 9,
    "start_time": "2025-05-28T18:11:43.422Z"
   },
   {
    "duration": 37,
    "start_time": "2025-05-28T18:11:43.432Z"
   },
   {
    "duration": 3,
    "start_time": "2025-05-28T18:11:43.472Z"
   },
   {
    "duration": 12,
    "start_time": "2025-05-28T18:11:43.476Z"
   },
   {
    "duration": 5,
    "start_time": "2025-05-28T18:11:43.489Z"
   },
   {
    "duration": 11,
    "start_time": "2025-05-28T18:11:43.495Z"
   },
   {
    "duration": 10,
    "start_time": "2025-05-28T18:11:43.508Z"
   },
   {
    "duration": 52,
    "start_time": "2025-05-28T18:11:43.519Z"
   },
   {
    "duration": 5,
    "start_time": "2025-05-28T18:11:43.572Z"
   },
   {
    "duration": 12,
    "start_time": "2025-05-28T18:11:43.578Z"
   },
   {
    "duration": 25,
    "start_time": "2025-05-28T18:11:43.591Z"
   },
   {
    "duration": 19,
    "start_time": "2025-05-28T18:11:43.618Z"
   },
   {
    "duration": 43,
    "start_time": "2025-05-28T18:11:43.639Z"
   },
   {
    "duration": 453,
    "start_time": "2025-05-28T18:11:43.685Z"
   },
   {
    "duration": 380,
    "start_time": "2025-05-28T18:11:44.139Z"
   },
   {
    "duration": 413,
    "start_time": "2025-05-28T18:11:44.521Z"
   },
   {
    "duration": 433,
    "start_time": "2025-05-28T18:11:44.936Z"
   },
   {
    "duration": 403,
    "start_time": "2025-05-28T18:11:45.371Z"
   },
   {
    "duration": 250,
    "start_time": "2025-05-28T18:11:45.776Z"
   },
   {
    "duration": 297,
    "start_time": "2025-05-28T18:11:46.027Z"
   },
   {
    "duration": 292,
    "start_time": "2025-05-28T18:11:46.326Z"
   },
   {
    "duration": 306,
    "start_time": "2025-05-28T18:11:46.620Z"
   },
   {
    "duration": 38,
    "start_time": "2025-05-28T18:11:46.927Z"
   },
   {
    "duration": 14,
    "start_time": "2025-05-28T18:11:46.967Z"
   },
   {
    "duration": 497,
    "start_time": "2025-05-28T18:11:46.982Z"
   },
   {
    "duration": 400,
    "start_time": "2025-05-28T18:11:47.480Z"
   },
   {
    "duration": 430,
    "start_time": "2025-05-28T18:11:47.882Z"
   },
   {
    "duration": 310,
    "start_time": "2025-05-28T18:11:48.314Z"
   },
   {
    "duration": 278,
    "start_time": "2025-05-28T18:11:48.626Z"
   },
   {
    "duration": 313,
    "start_time": "2025-05-28T18:11:48.906Z"
   },
   {
    "duration": 308,
    "start_time": "2025-05-28T18:11:49.221Z"
   },
   {
    "duration": 277,
    "start_time": "2025-05-28T18:11:49.530Z"
   },
   {
    "duration": 404,
    "start_time": "2025-05-28T18:11:49.809Z"
   },
   {
    "duration": 415,
    "start_time": "2025-05-28T18:11:50.215Z"
   },
   {
    "duration": 534,
    "start_time": "2025-05-28T18:11:50.632Z"
   },
   {
    "duration": 1262,
    "start_time": "2025-05-28T18:11:51.169Z"
   },
   {
    "duration": 2,
    "start_time": "2025-05-28T18:12:56.036Z"
   },
   {
    "duration": 2,
    "start_time": "2025-05-28T18:13:00.724Z"
   },
   {
    "duration": 2575,
    "start_time": "2025-05-28T18:14:13.214Z"
   },
   {
    "duration": 2520,
    "start_time": "2025-05-28T18:14:15.792Z"
   },
   {
    "duration": 3296,
    "start_time": "2025-05-28T18:14:18.315Z"
   },
   {
    "duration": 1875,
    "start_time": "2025-05-28T18:14:21.614Z"
   },
   {
    "duration": 4,
    "start_time": "2025-05-28T18:14:23.492Z"
   },
   {
    "duration": 20,
    "start_time": "2025-05-28T18:14:23.498Z"
   },
   {
    "duration": 6,
    "start_time": "2025-05-28T18:14:23.520Z"
   },
   {
    "duration": 11,
    "start_time": "2025-05-28T18:14:23.528Z"
   },
   {
    "duration": 7,
    "start_time": "2025-05-28T18:14:23.542Z"
   },
   {
    "duration": 101,
    "start_time": "2025-05-28T18:14:23.551Z"
   },
   {
    "duration": 15,
    "start_time": "2025-05-28T18:14:23.654Z"
   },
   {
    "duration": 17,
    "start_time": "2025-05-28T18:14:23.670Z"
   },
   {
    "duration": 15,
    "start_time": "2025-05-28T18:14:23.690Z"
   },
   {
    "duration": 10,
    "start_time": "2025-05-28T18:14:23.708Z"
   },
   {
    "duration": 45,
    "start_time": "2025-05-28T18:14:23.720Z"
   },
   {
    "duration": 11,
    "start_time": "2025-05-28T18:14:23.767Z"
   },
   {
    "duration": 3,
    "start_time": "2025-05-28T18:14:23.780Z"
   },
   {
    "duration": 14,
    "start_time": "2025-05-28T18:14:23.785Z"
   },
   {
    "duration": 6,
    "start_time": "2025-05-28T18:14:23.800Z"
   },
   {
    "duration": 51,
    "start_time": "2025-05-28T18:14:23.807Z"
   },
   {
    "duration": 88,
    "start_time": "2025-05-28T18:14:23.860Z"
   },
   {
    "duration": 14,
    "start_time": "2025-05-28T18:14:23.949Z"
   },
   {
    "duration": 78,
    "start_time": "2025-05-28T18:14:23.965Z"
   },
   {
    "duration": 5,
    "start_time": "2025-05-28T18:14:24.045Z"
   },
   {
    "duration": 26,
    "start_time": "2025-05-28T18:14:24.052Z"
   },
   {
    "duration": 20,
    "start_time": "2025-05-28T18:14:24.080Z"
   },
   {
    "duration": 159,
    "start_time": "2025-05-28T18:14:24.102Z"
   },
   {
    "duration": 443,
    "start_time": "2025-05-28T18:14:24.263Z"
   },
   {
    "duration": 411,
    "start_time": "2025-05-28T18:14:24.708Z"
   },
   {
    "duration": 519,
    "start_time": "2025-05-28T18:14:25.121Z"
   },
   {
    "duration": 420,
    "start_time": "2025-05-28T18:14:25.641Z"
   },
   {
    "duration": 416,
    "start_time": "2025-05-28T18:14:26.062Z"
   },
   {
    "duration": 284,
    "start_time": "2025-05-28T18:14:26.480Z"
   },
   {
    "duration": 252,
    "start_time": "2025-05-28T18:14:26.766Z"
   },
   {
    "duration": 285,
    "start_time": "2025-05-28T18:14:27.020Z"
   },
   {
    "duration": 292,
    "start_time": "2025-05-28T18:14:27.308Z"
   },
   {
    "duration": 35,
    "start_time": "2025-05-28T18:14:27.602Z"
   },
   {
    "duration": 30,
    "start_time": "2025-05-28T18:14:27.639Z"
   },
   {
    "duration": 451,
    "start_time": "2025-05-28T18:14:27.671Z"
   },
   {
    "duration": 379,
    "start_time": "2025-05-28T18:14:28.124Z"
   },
   {
    "duration": 419,
    "start_time": "2025-05-28T18:14:28.507Z"
   },
   {
    "duration": 354,
    "start_time": "2025-05-28T18:14:28.927Z"
   },
   {
    "duration": 320,
    "start_time": "2025-05-28T18:14:29.284Z"
   },
   {
    "duration": 299,
    "start_time": "2025-05-28T18:14:29.606Z"
   },
   {
    "duration": 296,
    "start_time": "2025-05-28T18:14:29.907Z"
   },
   {
    "duration": 294,
    "start_time": "2025-05-28T18:14:30.204Z"
   },
   {
    "duration": 400,
    "start_time": "2025-05-28T18:14:30.500Z"
   },
   {
    "duration": 440,
    "start_time": "2025-05-28T18:14:30.902Z"
   },
   {
    "duration": 528,
    "start_time": "2025-05-28T18:14:31.344Z"
   },
   {
    "duration": 7,
    "start_time": "2025-05-28T18:14:43.333Z"
   },
   {
    "duration": 4,
    "start_time": "2025-05-28T18:15:54.923Z"
   },
   {
    "duration": 15,
    "start_time": "2025-05-28T18:16:01.398Z"
   },
   {
    "duration": 12,
    "start_time": "2025-05-28T18:19:22.022Z"
   },
   {
    "duration": 325,
    "start_time": "2025-05-28T18:20:00.679Z"
   },
   {
    "duration": 1435,
    "start_time": "2025-05-28T18:20:16.479Z"
   },
   {
    "duration": 1340,
    "start_time": "2025-05-28T18:20:29.706Z"
   },
   {
    "duration": 3942,
    "start_time": "2025-05-29T13:26:20.365Z"
   },
   {
    "duration": 2898,
    "start_time": "2025-05-29T13:26:24.310Z"
   },
   {
    "duration": 6444,
    "start_time": "2025-05-29T13:26:27.211Z"
   },
   {
    "duration": 1908,
    "start_time": "2025-05-29T13:26:33.658Z"
   },
   {
    "duration": 4,
    "start_time": "2025-05-29T13:26:35.568Z"
   },
   {
    "duration": 29,
    "start_time": "2025-05-29T13:26:35.573Z"
   },
   {
    "duration": 124,
    "start_time": "2025-05-29T13:26:35.604Z"
   },
   {
    "duration": 15,
    "start_time": "2025-05-29T13:26:35.730Z"
   },
   {
    "duration": 11,
    "start_time": "2025-05-29T13:26:35.746Z"
   },
   {
    "duration": 92,
    "start_time": "2025-05-29T13:26:35.759Z"
   },
   {
    "duration": 14,
    "start_time": "2025-05-29T13:26:35.852Z"
   },
   {
    "duration": 31,
    "start_time": "2025-05-29T13:26:35.868Z"
   },
   {
    "duration": 10,
    "start_time": "2025-05-29T13:26:35.901Z"
   },
   {
    "duration": 27,
    "start_time": "2025-05-29T13:26:35.913Z"
   },
   {
    "duration": 98,
    "start_time": "2025-05-29T13:26:35.941Z"
   },
   {
    "duration": 12,
    "start_time": "2025-05-29T13:26:36.040Z"
   },
   {
    "duration": 5,
    "start_time": "2025-05-29T13:26:36.054Z"
   },
   {
    "duration": 37,
    "start_time": "2025-05-29T13:26:36.060Z"
   },
   {
    "duration": 6,
    "start_time": "2025-05-29T13:26:36.099Z"
   },
   {
    "duration": 13,
    "start_time": "2025-05-29T13:26:36.107Z"
   },
   {
    "duration": 10,
    "start_time": "2025-05-29T13:26:36.121Z"
   },
   {
    "duration": 33,
    "start_time": "2025-05-29T13:26:36.133Z"
   },
   {
    "duration": 12,
    "start_time": "2025-05-29T13:26:36.167Z"
   },
   {
    "duration": 12,
    "start_time": "2025-05-29T13:26:36.180Z"
   },
   {
    "duration": 74,
    "start_time": "2025-05-29T13:26:36.194Z"
   },
   {
    "duration": 281,
    "start_time": "2025-05-29T13:26:36.270Z"
   },
   {
    "duration": 30,
    "start_time": "2025-05-29T13:26:36.553Z"
   },
   {
    "duration": 448,
    "start_time": "2025-05-29T13:26:36.588Z"
   },
   {
    "duration": 370,
    "start_time": "2025-05-29T13:26:37.037Z"
   },
   {
    "duration": 372,
    "start_time": "2025-05-29T13:26:37.409Z"
   },
   {
    "duration": 392,
    "start_time": "2025-05-29T13:26:37.783Z"
   },
   {
    "duration": 368,
    "start_time": "2025-05-29T13:26:38.176Z"
   },
   {
    "duration": 242,
    "start_time": "2025-05-29T13:26:38.545Z"
   },
   {
    "duration": 279,
    "start_time": "2025-05-29T13:26:38.789Z"
   },
   {
    "duration": 294,
    "start_time": "2025-05-29T13:26:39.069Z"
   },
   {
    "duration": 232,
    "start_time": "2025-05-29T13:26:39.365Z"
   },
   {
    "duration": 56,
    "start_time": "2025-05-29T13:26:39.599Z"
   },
   {
    "duration": 32,
    "start_time": "2025-05-29T13:26:39.656Z"
   },
   {
    "duration": 387,
    "start_time": "2025-05-29T13:26:39.690Z"
   },
   {
    "duration": 366,
    "start_time": "2025-05-29T13:26:40.079Z"
   },
   {
    "duration": 378,
    "start_time": "2025-05-29T13:26:40.447Z"
   },
   {
    "duration": 267,
    "start_time": "2025-05-29T13:26:40.834Z"
   },
   {
    "duration": 267,
    "start_time": "2025-05-29T13:26:41.102Z"
   },
   {
    "duration": 285,
    "start_time": "2025-05-29T13:26:41.370Z"
   },
   {
    "duration": 237,
    "start_time": "2025-05-29T13:26:41.656Z"
   },
   {
    "duration": 278,
    "start_time": "2025-05-29T13:26:41.894Z"
   },
   {
    "duration": 393,
    "start_time": "2025-05-29T13:26:42.174Z"
   },
   {
    "duration": 404,
    "start_time": "2025-05-29T13:26:42.568Z"
   },
   {
    "duration": 447,
    "start_time": "2025-05-29T13:26:42.973Z"
   },
   {
    "duration": 3,
    "start_time": "2025-05-29T13:26:43.422Z"
   },
   {
    "duration": 15,
    "start_time": "2025-05-29T13:26:43.435Z"
   },
   {
    "duration": 1305,
    "start_time": "2025-05-29T13:26:43.451Z"
   },
   {
    "duration": 10,
    "start_time": "2025-05-29T13:26:44.758Z"
   },
   {
    "duration": 5,
    "start_time": "2025-05-29T13:29:29.221Z"
   },
   {
    "duration": 3,
    "start_time": "2025-05-29T13:40:34.165Z"
   },
   {
    "duration": 7,
    "start_time": "2025-05-29T13:42:26.340Z"
   },
   {
    "duration": 11,
    "start_time": "2025-05-29T13:42:29.174Z"
   },
   {
    "duration": 2537,
    "start_time": "2025-05-29T13:48:35.160Z"
   },
   {
    "duration": 2482,
    "start_time": "2025-05-29T13:48:37.699Z"
   },
   {
    "duration": 2995,
    "start_time": "2025-05-29T13:48:40.183Z"
   },
   {
    "duration": 1789,
    "start_time": "2025-05-29T13:48:43.180Z"
   },
   {
    "duration": 4,
    "start_time": "2025-05-29T13:48:44.970Z"
   },
   {
    "duration": 11,
    "start_time": "2025-05-29T13:48:44.975Z"
   },
   {
    "duration": 11,
    "start_time": "2025-05-29T13:48:44.988Z"
   },
   {
    "duration": 36,
    "start_time": "2025-05-29T13:48:45.001Z"
   },
   {
    "duration": 33,
    "start_time": "2025-05-29T13:48:45.039Z"
   },
   {
    "duration": 98,
    "start_time": "2025-05-29T13:48:45.075Z"
   },
   {
    "duration": 13,
    "start_time": "2025-05-29T13:48:45.174Z"
   },
   {
    "duration": 45,
    "start_time": "2025-05-29T13:48:45.188Z"
   },
   {
    "duration": 27,
    "start_time": "2025-05-29T13:48:45.235Z"
   },
   {
    "duration": 20,
    "start_time": "2025-05-29T13:48:45.264Z"
   },
   {
    "duration": 25,
    "start_time": "2025-05-29T13:48:45.285Z"
   },
   {
    "duration": 29,
    "start_time": "2025-05-29T13:48:45.311Z"
   },
   {
    "duration": 8,
    "start_time": "2025-05-29T13:48:45.342Z"
   },
   {
    "duration": 52,
    "start_time": "2025-05-29T13:48:45.351Z"
   },
   {
    "duration": 20,
    "start_time": "2025-05-29T13:48:45.404Z"
   },
   {
    "duration": 14,
    "start_time": "2025-05-29T13:48:45.426Z"
   },
   {
    "duration": 10,
    "start_time": "2025-05-29T13:48:45.441Z"
   },
   {
    "duration": 7,
    "start_time": "2025-05-29T13:48:45.453Z"
   },
   {
    "duration": 5,
    "start_time": "2025-05-29T13:48:45.461Z"
   },
   {
    "duration": 4,
    "start_time": "2025-05-29T13:48:45.467Z"
   },
   {
    "duration": 22,
    "start_time": "2025-05-29T13:48:45.473Z"
   },
   {
    "duration": 52,
    "start_time": "2025-05-29T13:48:45.496Z"
   },
   {
    "duration": 25,
    "start_time": "2025-05-29T13:48:45.549Z"
   },
   {
    "duration": 420,
    "start_time": "2025-05-29T13:48:45.577Z"
   },
   {
    "duration": 357,
    "start_time": "2025-05-29T13:48:45.999Z"
   },
   {
    "duration": 424,
    "start_time": "2025-05-29T13:48:46.358Z"
   },
   {
    "duration": 408,
    "start_time": "2025-05-29T13:48:46.783Z"
   },
   {
    "duration": 381,
    "start_time": "2025-05-29T13:48:47.193Z"
   },
   {
    "duration": 285,
    "start_time": "2025-05-29T13:48:47.576Z"
   },
   {
    "duration": 229,
    "start_time": "2025-05-29T13:48:47.862Z"
   },
   {
    "duration": 281,
    "start_time": "2025-05-29T13:48:48.093Z"
   },
   {
    "duration": 284,
    "start_time": "2025-05-29T13:48:48.376Z"
   },
   {
    "duration": 21,
    "start_time": "2025-05-29T13:48:48.662Z"
   },
   {
    "duration": 10,
    "start_time": "2025-05-29T13:48:48.685Z"
   },
   {
    "duration": 388,
    "start_time": "2025-05-29T13:48:48.697Z"
   },
   {
    "duration": 366,
    "start_time": "2025-05-29T13:48:49.087Z"
   },
   {
    "duration": 428,
    "start_time": "2025-05-29T13:48:49.455Z"
   },
   {
    "duration": 300,
    "start_time": "2025-05-29T13:48:49.884Z"
   },
   {
    "duration": 275,
    "start_time": "2025-05-29T13:48:50.186Z"
   },
   {
    "duration": 232,
    "start_time": "2025-05-29T13:48:50.463Z"
   },
   {
    "duration": 281,
    "start_time": "2025-05-29T13:48:50.697Z"
   },
   {
    "duration": 281,
    "start_time": "2025-05-29T13:48:50.979Z"
   },
   {
    "duration": 396,
    "start_time": "2025-05-29T13:48:51.262Z"
   },
   {
    "duration": 418,
    "start_time": "2025-05-29T13:48:51.660Z"
   },
   {
    "duration": 535,
    "start_time": "2025-05-29T13:48:52.080Z"
   },
   {
    "duration": 5,
    "start_time": "2025-05-29T13:48:52.617Z"
   },
   {
    "duration": 26,
    "start_time": "2025-05-29T13:48:52.623Z"
   },
   {
    "duration": 1310,
    "start_time": "2025-05-29T13:48:52.650Z"
   },
   {
    "duration": 8,
    "start_time": "2025-05-29T13:48:53.962Z"
   },
   {
    "duration": 15,
    "start_time": "2025-05-29T13:48:53.971Z"
   },
   {
    "duration": 95,
    "start_time": "2025-05-29T13:48:53.988Z"
   },
   {
    "duration": 149,
    "start_time": "2025-05-29T13:49:19.544Z"
   },
   {
    "duration": 11,
    "start_time": "2025-05-29T13:49:23.716Z"
   },
   {
    "duration": 2557,
    "start_time": "2025-05-29T13:53:49.330Z"
   },
   {
    "duration": 2472,
    "start_time": "2025-05-29T13:53:51.889Z"
   },
   {
    "duration": 3029,
    "start_time": "2025-05-29T13:53:54.363Z"
   },
   {
    "duration": 1693,
    "start_time": "2025-05-29T13:53:57.395Z"
   },
   {
    "duration": 3,
    "start_time": "2025-05-29T13:53:59.091Z"
   },
   {
    "duration": 7,
    "start_time": "2025-05-29T13:53:59.095Z"
   },
   {
    "duration": 7,
    "start_time": "2025-05-29T13:53:59.103Z"
   },
   {
    "duration": 11,
    "start_time": "2025-05-29T13:53:59.111Z"
   },
   {
    "duration": 9,
    "start_time": "2025-05-29T13:53:59.123Z"
   },
   {
    "duration": 83,
    "start_time": "2025-05-29T13:53:59.134Z"
   },
   {
    "duration": 14,
    "start_time": "2025-05-29T13:53:59.218Z"
   },
   {
    "duration": 17,
    "start_time": "2025-05-29T13:53:59.233Z"
   },
   {
    "duration": 12,
    "start_time": "2025-05-29T13:53:59.252Z"
   },
   {
    "duration": 57,
    "start_time": "2025-05-29T13:53:59.265Z"
   },
   {
    "duration": 10,
    "start_time": "2025-05-29T13:53:59.324Z"
   },
   {
    "duration": 12,
    "start_time": "2025-05-29T13:53:59.336Z"
   },
   {
    "duration": 9,
    "start_time": "2025-05-29T13:53:59.350Z"
   },
   {
    "duration": 29,
    "start_time": "2025-05-29T13:53:59.360Z"
   },
   {
    "duration": 6,
    "start_time": "2025-05-29T13:53:59.390Z"
   },
   {
    "duration": 15,
    "start_time": "2025-05-29T13:53:59.398Z"
   },
   {
    "duration": 12,
    "start_time": "2025-05-29T13:53:59.414Z"
   },
   {
    "duration": 46,
    "start_time": "2025-05-29T13:53:59.428Z"
   },
   {
    "duration": 56,
    "start_time": "2025-05-29T13:53:59.476Z"
   },
   {
    "duration": 35,
    "start_time": "2025-05-29T13:53:59.534Z"
   },
   {
    "duration": 46,
    "start_time": "2025-05-29T13:53:59.571Z"
   },
   {
    "duration": 18,
    "start_time": "2025-05-29T13:53:59.618Z"
   },
   {
    "duration": 39,
    "start_time": "2025-05-29T13:53:59.638Z"
   },
   {
    "duration": 421,
    "start_time": "2025-05-29T13:53:59.681Z"
   },
   {
    "duration": 362,
    "start_time": "2025-05-29T13:54:00.104Z"
   },
   {
    "duration": 423,
    "start_time": "2025-05-29T13:54:00.468Z"
   },
   {
    "duration": 405,
    "start_time": "2025-05-29T13:54:00.892Z"
   },
   {
    "duration": 398,
    "start_time": "2025-05-29T13:54:01.299Z"
   },
   {
    "duration": 280,
    "start_time": "2025-05-29T13:54:01.698Z"
   },
   {
    "duration": 297,
    "start_time": "2025-05-29T13:54:01.980Z"
   },
   {
    "duration": 281,
    "start_time": "2025-05-29T13:54:02.279Z"
   },
   {
    "duration": 236,
    "start_time": "2025-05-29T13:54:02.561Z"
   },
   {
    "duration": 53,
    "start_time": "2025-05-29T13:54:02.799Z"
   },
   {
    "duration": 12,
    "start_time": "2025-05-29T13:54:02.854Z"
   },
   {
    "duration": 418,
    "start_time": "2025-05-29T13:54:02.868Z"
   },
   {
    "duration": 380,
    "start_time": "2025-05-29T13:54:03.287Z"
   },
   {
    "duration": 407,
    "start_time": "2025-05-29T13:54:03.668Z"
   },
   {
    "duration": 322,
    "start_time": "2025-05-29T13:54:04.076Z"
   },
   {
    "duration": 278,
    "start_time": "2025-05-29T13:54:04.399Z"
   },
   {
    "duration": 297,
    "start_time": "2025-05-29T13:54:04.678Z"
   },
   {
    "duration": 300,
    "start_time": "2025-05-29T13:54:04.977Z"
   },
   {
    "duration": 296,
    "start_time": "2025-05-29T13:54:05.279Z"
   },
   {
    "duration": 403,
    "start_time": "2025-05-29T13:54:05.577Z"
   },
   {
    "duration": 416,
    "start_time": "2025-05-29T13:54:05.983Z"
   },
   {
    "duration": 521,
    "start_time": "2025-05-29T13:54:06.400Z"
   },
   {
    "duration": 4,
    "start_time": "2025-05-29T13:54:06.922Z"
   },
   {
    "duration": 22,
    "start_time": "2025-05-29T13:54:06.935Z"
   },
   {
    "duration": 1353,
    "start_time": "2025-05-29T13:54:06.959Z"
   },
   {
    "duration": 11,
    "start_time": "2025-05-29T13:54:08.314Z"
   },
   {
    "duration": 11,
    "start_time": "2025-05-29T13:54:08.327Z"
   },
   {
    "duration": 15,
    "start_time": "2025-05-29T13:54:08.339Z"
   },
   {
    "duration": 5,
    "start_time": "2025-05-29T13:54:08.356Z"
   },
   {
    "duration": 6,
    "start_time": "2025-05-29T13:59:24.422Z"
   },
   {
    "duration": 5,
    "start_time": "2025-05-29T14:00:59.759Z"
   },
   {
    "duration": 10,
    "start_time": "2025-05-29T14:01:10.630Z"
   },
   {
    "duration": 1140,
    "start_time": "2025-05-29T14:02:56.974Z"
   },
   {
    "duration": 2457,
    "start_time": "2025-05-29T14:05:54.942Z"
   },
   {
    "duration": 2419,
    "start_time": "2025-05-29T14:05:57.401Z"
   },
   {
    "duration": 3056,
    "start_time": "2025-05-29T14:05:59.823Z"
   },
   {
    "duration": 1780,
    "start_time": "2025-05-29T14:06:02.882Z"
   },
   {
    "duration": 4,
    "start_time": "2025-05-29T14:06:04.663Z"
   },
   {
    "duration": 44,
    "start_time": "2025-05-29T14:06:04.668Z"
   },
   {
    "duration": 6,
    "start_time": "2025-05-29T14:06:04.713Z"
   },
   {
    "duration": 28,
    "start_time": "2025-05-29T14:06:04.720Z"
   },
   {
    "duration": 14,
    "start_time": "2025-05-29T14:06:04.750Z"
   },
   {
    "duration": 84,
    "start_time": "2025-05-29T14:06:04.767Z"
   },
   {
    "duration": 12,
    "start_time": "2025-05-29T14:06:04.853Z"
   },
   {
    "duration": 30,
    "start_time": "2025-05-29T14:06:04.867Z"
   },
   {
    "duration": 10,
    "start_time": "2025-05-29T14:06:04.899Z"
   },
   {
    "duration": 9,
    "start_time": "2025-05-29T14:06:04.911Z"
   },
   {
    "duration": 15,
    "start_time": "2025-05-29T14:06:04.921Z"
   },
   {
    "duration": 27,
    "start_time": "2025-05-29T14:06:04.937Z"
   },
   {
    "duration": 7,
    "start_time": "2025-05-29T14:06:04.966Z"
   },
   {
    "duration": 16,
    "start_time": "2025-05-29T14:06:04.974Z"
   },
   {
    "duration": 4,
    "start_time": "2025-05-29T14:06:04.992Z"
   },
   {
    "duration": 11,
    "start_time": "2025-05-29T14:06:04.998Z"
   },
   {
    "duration": 10,
    "start_time": "2025-05-29T14:06:05.010Z"
   },
   {
    "duration": 15,
    "start_time": "2025-05-29T14:06:05.022Z"
   },
   {
    "duration": 5,
    "start_time": "2025-05-29T14:06:05.038Z"
   },
   {
    "duration": 4,
    "start_time": "2025-05-29T14:06:05.045Z"
   },
   {
    "duration": 34,
    "start_time": "2025-05-29T14:06:05.051Z"
   },
   {
    "duration": 18,
    "start_time": "2025-05-29T14:06:05.086Z"
   },
   {
    "duration": 49,
    "start_time": "2025-05-29T14:06:05.106Z"
   },
   {
    "duration": 438,
    "start_time": "2025-05-29T14:06:05.158Z"
   },
   {
    "duration": 374,
    "start_time": "2025-05-29T14:06:05.598Z"
   },
   {
    "duration": 412,
    "start_time": "2025-05-29T14:06:05.973Z"
   },
   {
    "duration": 414,
    "start_time": "2025-05-29T14:06:06.387Z"
   },
   {
    "duration": 394,
    "start_time": "2025-05-29T14:06:06.803Z"
   },
   {
    "duration": 275,
    "start_time": "2025-05-29T14:06:07.199Z"
   },
   {
    "duration": 294,
    "start_time": "2025-05-29T14:06:07.476Z"
   },
   {
    "duration": 286,
    "start_time": "2025-05-29T14:06:07.772Z"
   },
   {
    "duration": 226,
    "start_time": "2025-05-29T14:06:08.060Z"
   },
   {
    "duration": 51,
    "start_time": "2025-05-29T14:06:08.288Z"
   },
   {
    "duration": 12,
    "start_time": "2025-05-29T14:06:08.341Z"
   },
   {
    "duration": 442,
    "start_time": "2025-05-29T14:06:08.355Z"
   },
   {
    "duration": 360,
    "start_time": "2025-05-29T14:06:08.799Z"
   },
   {
    "duration": 404,
    "start_time": "2025-05-29T14:06:09.161Z"
   },
   {
    "duration": 326,
    "start_time": "2025-05-29T14:06:09.566Z"
   },
   {
    "duration": 263,
    "start_time": "2025-05-29T14:06:09.894Z"
   },
   {
    "duration": 230,
    "start_time": "2025-05-29T14:06:10.159Z"
   },
   {
    "duration": 290,
    "start_time": "2025-05-29T14:06:10.390Z"
   },
   {
    "duration": 281,
    "start_time": "2025-05-29T14:06:10.682Z"
   },
   {
    "duration": 401,
    "start_time": "2025-05-29T14:06:10.965Z"
   },
   {
    "duration": 417,
    "start_time": "2025-05-29T14:06:11.367Z"
   },
   {
    "duration": 451,
    "start_time": "2025-05-29T14:06:11.786Z"
   },
   {
    "duration": 4,
    "start_time": "2025-05-29T14:06:12.239Z"
   },
   {
    "duration": 20,
    "start_time": "2025-05-29T14:06:12.244Z"
   },
   {
    "duration": 1323,
    "start_time": "2025-05-29T14:06:12.265Z"
   },
   {
    "duration": 11,
    "start_time": "2025-05-29T14:06:13.590Z"
   },
   {
    "duration": 7,
    "start_time": "2025-05-29T14:08:16.524Z"
   },
   {
    "duration": 1260,
    "start_time": "2025-05-29T14:08:28.091Z"
   },
   {
    "duration": 11,
    "start_time": "2025-05-29T14:08:49.883Z"
   },
   {
    "duration": 6,
    "start_time": "2025-05-29T14:16:48.841Z"
   },
   {
    "duration": 11,
    "start_time": "2025-05-29T14:16:50.724Z"
   },
   {
    "duration": 2413,
    "start_time": "2025-05-29T14:17:10.582Z"
   },
   {
    "duration": 2409,
    "start_time": "2025-05-29T14:17:12.997Z"
   },
   {
    "duration": 2898,
    "start_time": "2025-05-29T14:17:15.408Z"
   },
   {
    "duration": 1753,
    "start_time": "2025-05-29T14:17:18.308Z"
   },
   {
    "duration": 4,
    "start_time": "2025-05-29T14:17:20.062Z"
   },
   {
    "duration": 7,
    "start_time": "2025-05-29T14:17:20.067Z"
   },
   {
    "duration": 55,
    "start_time": "2025-05-29T14:17:20.076Z"
   },
   {
    "duration": 49,
    "start_time": "2025-05-29T14:17:20.132Z"
   },
   {
    "duration": 6,
    "start_time": "2025-05-29T14:17:20.183Z"
   },
   {
    "duration": 87,
    "start_time": "2025-05-29T14:17:20.192Z"
   },
   {
    "duration": 12,
    "start_time": "2025-05-29T14:17:20.281Z"
   },
   {
    "duration": 18,
    "start_time": "2025-05-29T14:17:20.295Z"
   },
   {
    "duration": 11,
    "start_time": "2025-05-29T14:17:20.314Z"
   },
   {
    "duration": 12,
    "start_time": "2025-05-29T14:17:20.327Z"
   },
   {
    "duration": 10,
    "start_time": "2025-05-29T14:17:20.340Z"
   },
   {
    "duration": 9,
    "start_time": "2025-05-29T14:17:20.351Z"
   },
   {
    "duration": 8,
    "start_time": "2025-05-29T14:17:20.361Z"
   },
   {
    "duration": 11,
    "start_time": "2025-05-29T14:17:20.370Z"
   },
   {
    "duration": 5,
    "start_time": "2025-05-29T14:17:20.382Z"
   },
   {
    "duration": 13,
    "start_time": "2025-05-29T14:17:20.389Z"
   },
   {
    "duration": 36,
    "start_time": "2025-05-29T14:17:20.403Z"
   },
   {
    "duration": 12,
    "start_time": "2025-05-29T14:17:20.440Z"
   },
   {
    "duration": 11,
    "start_time": "2025-05-29T14:17:20.453Z"
   },
   {
    "duration": 122,
    "start_time": "2025-05-29T14:17:20.465Z"
   },
   {
    "duration": 28,
    "start_time": "2025-05-29T14:17:20.589Z"
   },
   {
    "duration": 22,
    "start_time": "2025-05-29T14:17:20.618Z"
   },
   {
    "duration": 87,
    "start_time": "2025-05-29T14:17:20.641Z"
   },
   {
    "duration": 405,
    "start_time": "2025-05-29T14:17:20.731Z"
   },
   {
    "duration": 337,
    "start_time": "2025-05-29T14:17:21.138Z"
   },
   {
    "duration": 404,
    "start_time": "2025-05-29T14:17:21.477Z"
   },
   {
    "duration": 418,
    "start_time": "2025-05-29T14:17:21.882Z"
   },
   {
    "duration": 394,
    "start_time": "2025-05-29T14:17:22.302Z"
   },
   {
    "duration": 284,
    "start_time": "2025-05-29T14:17:22.697Z"
   },
   {
    "duration": 286,
    "start_time": "2025-05-29T14:17:22.983Z"
   },
   {
    "duration": 289,
    "start_time": "2025-05-29T14:17:23.271Z"
   },
   {
    "duration": 225,
    "start_time": "2025-05-29T14:17:23.562Z"
   },
   {
    "duration": 56,
    "start_time": "2025-05-29T14:17:23.789Z"
   },
   {
    "duration": 13,
    "start_time": "2025-05-29T14:17:23.846Z"
   },
   {
    "duration": 431,
    "start_time": "2025-05-29T14:17:23.860Z"
   },
   {
    "duration": 370,
    "start_time": "2025-05-29T14:17:24.292Z"
   },
   {
    "duration": 404,
    "start_time": "2025-05-29T14:17:24.663Z"
   },
   {
    "duration": 307,
    "start_time": "2025-05-29T14:17:25.068Z"
   },
   {
    "duration": 260,
    "start_time": "2025-05-29T14:17:25.376Z"
   },
   {
    "duration": 245,
    "start_time": "2025-05-29T14:17:25.638Z"
   },
   {
    "duration": 288,
    "start_time": "2025-05-29T14:17:25.885Z"
   },
   {
    "duration": 285,
    "start_time": "2025-05-29T14:17:26.174Z"
   },
   {
    "duration": 401,
    "start_time": "2025-05-29T14:17:26.461Z"
   },
   {
    "duration": 439,
    "start_time": "2025-05-29T14:17:26.864Z"
   },
   {
    "duration": 503,
    "start_time": "2025-05-29T14:17:27.304Z"
   },
   {
    "duration": 3,
    "start_time": "2025-05-29T14:17:27.809Z"
   },
   {
    "duration": 27,
    "start_time": "2025-05-29T14:17:27.814Z"
   },
   {
    "duration": 1329,
    "start_time": "2025-05-29T14:17:27.843Z"
   },
   {
    "duration": 6,
    "start_time": "2025-05-29T14:17:29.174Z"
   },
   {
    "duration": 13,
    "start_time": "2025-05-29T14:17:29.181Z"
   },
   {
    "duration": 5,
    "start_time": "2025-05-29T14:18:42.509Z"
   },
   {
    "duration": 1114,
    "start_time": "2025-05-29T14:18:54.653Z"
   },
   {
    "duration": 8,
    "start_time": "2025-05-29T14:35:42.530Z"
   },
   {
    "duration": 3,
    "start_time": "2025-05-29T14:35:51.789Z"
   },
   {
    "duration": 4,
    "start_time": "2025-05-29T14:36:02.861Z"
   },
   {
    "duration": 1526,
    "start_time": "2025-05-29T14:36:33.309Z"
   },
   {
    "duration": 8,
    "start_time": "2025-05-29T14:36:34.837Z"
   },
   {
    "duration": 11,
    "start_time": "2025-05-29T14:36:34.846Z"
   },
   {
    "duration": 2508,
    "start_time": "2025-05-29T14:36:51.472Z"
   },
   {
    "duration": 2534,
    "start_time": "2025-05-29T14:36:53.982Z"
   },
   {
    "duration": 3154,
    "start_time": "2025-05-29T14:36:56.520Z"
   },
   {
    "duration": 1816,
    "start_time": "2025-05-29T14:36:59.676Z"
   },
   {
    "duration": 5,
    "start_time": "2025-05-29T14:37:01.493Z"
   },
   {
    "duration": 6,
    "start_time": "2025-05-29T14:37:01.499Z"
   },
   {
    "duration": 22,
    "start_time": "2025-05-29T14:37:01.507Z"
   },
   {
    "duration": 13,
    "start_time": "2025-05-29T14:37:01.531Z"
   },
   {
    "duration": 39,
    "start_time": "2025-05-29T14:37:01.545Z"
   },
   {
    "duration": 120,
    "start_time": "2025-05-29T14:37:01.587Z"
   },
   {
    "duration": 11,
    "start_time": "2025-05-29T14:37:01.709Z"
   },
   {
    "duration": 39,
    "start_time": "2025-05-29T14:37:01.722Z"
   },
   {
    "duration": 11,
    "start_time": "2025-05-29T14:37:01.762Z"
   },
   {
    "duration": 117,
    "start_time": "2025-05-29T14:37:01.774Z"
   },
   {
    "duration": 10,
    "start_time": "2025-05-29T14:37:01.893Z"
   },
   {
    "duration": 17,
    "start_time": "2025-05-29T14:37:01.905Z"
   },
   {
    "duration": 12,
    "start_time": "2025-05-29T14:37:01.924Z"
   },
   {
    "duration": 12,
    "start_time": "2025-05-29T14:37:01.938Z"
   },
   {
    "duration": 5,
    "start_time": "2025-05-29T14:37:01.952Z"
   },
   {
    "duration": 15,
    "start_time": "2025-05-29T14:37:01.958Z"
   },
   {
    "duration": 21,
    "start_time": "2025-05-29T14:37:01.975Z"
   },
   {
    "duration": 45,
    "start_time": "2025-05-29T14:37:01.997Z"
   },
   {
    "duration": 49,
    "start_time": "2025-05-29T14:37:02.044Z"
   },
   {
    "duration": 5,
    "start_time": "2025-05-29T14:37:02.095Z"
   },
   {
    "duration": 41,
    "start_time": "2025-05-29T14:37:02.101Z"
   },
   {
    "duration": 17,
    "start_time": "2025-05-29T14:37:02.144Z"
   },
   {
    "duration": 88,
    "start_time": "2025-05-29T14:37:02.162Z"
   },
   {
    "duration": 433,
    "start_time": "2025-05-29T14:37:02.253Z"
   },
   {
    "duration": 385,
    "start_time": "2025-05-29T14:37:02.688Z"
   },
   {
    "duration": 431,
    "start_time": "2025-05-29T14:37:03.075Z"
   },
   {
    "duration": 400,
    "start_time": "2025-05-29T14:37:03.508Z"
   },
   {
    "duration": 401,
    "start_time": "2025-05-29T14:37:03.910Z"
   },
   {
    "duration": 269,
    "start_time": "2025-05-29T14:37:04.313Z"
   },
   {
    "duration": 294,
    "start_time": "2025-05-29T14:37:04.584Z"
   },
   {
    "duration": 300,
    "start_time": "2025-05-29T14:37:04.879Z"
   },
   {
    "duration": 288,
    "start_time": "2025-05-29T14:37:05.181Z"
   },
   {
    "duration": 24,
    "start_time": "2025-05-29T14:37:05.471Z"
   },
   {
    "duration": 13,
    "start_time": "2025-05-29T14:37:05.496Z"
   },
   {
    "duration": 433,
    "start_time": "2025-05-29T14:37:05.510Z"
   },
   {
    "duration": 377,
    "start_time": "2025-05-29T14:37:05.945Z"
   },
   {
    "duration": 420,
    "start_time": "2025-05-29T14:37:06.324Z"
   },
   {
    "duration": 277,
    "start_time": "2025-05-29T14:37:06.745Z"
   },
   {
    "duration": 272,
    "start_time": "2025-05-29T14:37:07.023Z"
   },
   {
    "duration": 279,
    "start_time": "2025-05-29T14:37:07.296Z"
   },
   {
    "duration": 292,
    "start_time": "2025-05-29T14:37:07.576Z"
   },
   {
    "duration": 287,
    "start_time": "2025-05-29T14:37:07.869Z"
   },
   {
    "duration": 398,
    "start_time": "2025-05-29T14:37:08.158Z"
   },
   {
    "duration": 423,
    "start_time": "2025-05-29T14:37:08.558Z"
   },
   {
    "duration": 448,
    "start_time": "2025-05-29T14:37:08.982Z"
   },
   {
    "duration": 5,
    "start_time": "2025-05-29T14:37:09.435Z"
   },
   {
    "duration": 18,
    "start_time": "2025-05-29T14:37:09.441Z"
   },
   {
    "duration": 1315,
    "start_time": "2025-05-29T14:37:09.461Z"
   },
   {
    "duration": 7,
    "start_time": "2025-05-29T14:37:10.778Z"
   },
   {
    "duration": 20,
    "start_time": "2025-05-29T14:37:10.787Z"
   },
   {
    "duration": 9251,
    "start_time": "2025-05-29T14:41:31.197Z"
   },
   {
    "duration": 9019,
    "start_time": "2025-05-29T14:43:11.497Z"
   },
   {
    "duration": 97,
    "start_time": "2025-05-29T15:06:55.658Z"
   },
   {
    "duration": 9040,
    "start_time": "2025-05-29T15:07:01.109Z"
   },
   {
    "duration": 5097,
    "start_time": "2025-05-29T15:08:45.087Z"
   },
   {
    "duration": 5000,
    "start_time": "2025-05-29T15:08:55.217Z"
   },
   {
    "duration": 9099,
    "start_time": "2025-05-29T15:09:13.206Z"
   },
   {
    "duration": 9127,
    "start_time": "2025-05-29T15:09:59.978Z"
   },
   {
    "duration": 4,
    "start_time": "2025-05-29T17:41:34.198Z"
   },
   {
    "duration": 3842,
    "start_time": "2025-05-30T12:22:57.856Z"
   },
   {
    "duration": 2992,
    "start_time": "2025-05-30T12:23:01.701Z"
   },
   {
    "duration": 6220,
    "start_time": "2025-05-30T12:23:04.695Z"
   },
   {
    "duration": 1914,
    "start_time": "2025-05-30T12:23:10.917Z"
   },
   {
    "duration": 4,
    "start_time": "2025-05-30T12:23:12.833Z"
   },
   {
    "duration": 39,
    "start_time": "2025-05-30T12:23:12.838Z"
   },
   {
    "duration": 18,
    "start_time": "2025-05-30T12:23:12.878Z"
   },
   {
    "duration": 47,
    "start_time": "2025-05-30T12:23:12.898Z"
   },
   {
    "duration": 66,
    "start_time": "2025-05-30T12:23:12.947Z"
   },
   {
    "duration": 97,
    "start_time": "2025-05-30T12:23:13.016Z"
   },
   {
    "duration": 12,
    "start_time": "2025-05-30T12:23:13.115Z"
   },
   {
    "duration": 20,
    "start_time": "2025-05-30T12:23:13.129Z"
   },
   {
    "duration": 13,
    "start_time": "2025-05-30T12:23:13.151Z"
   },
   {
    "duration": 53,
    "start_time": "2025-05-30T12:23:13.166Z"
   },
   {
    "duration": 54,
    "start_time": "2025-05-30T12:23:13.221Z"
   },
   {
    "duration": 34,
    "start_time": "2025-05-30T12:23:13.277Z"
   },
   {
    "duration": 10,
    "start_time": "2025-05-30T12:23:13.312Z"
   },
   {
    "duration": 51,
    "start_time": "2025-05-30T12:23:13.324Z"
   },
   {
    "duration": 20,
    "start_time": "2025-05-30T12:23:13.377Z"
   },
   {
    "duration": 23,
    "start_time": "2025-05-30T12:23:13.399Z"
   },
   {
    "duration": 22,
    "start_time": "2025-05-30T12:23:13.423Z"
   },
   {
    "duration": 24,
    "start_time": "2025-05-30T12:23:13.447Z"
   },
   {
    "duration": 34,
    "start_time": "2025-05-30T12:23:13.474Z"
   },
   {
    "duration": 65,
    "start_time": "2025-05-30T12:23:13.509Z"
   },
   {
    "duration": 140,
    "start_time": "2025-05-30T12:23:13.576Z"
   },
   {
    "duration": 16,
    "start_time": "2025-05-30T12:23:13.718Z"
   },
   {
    "duration": 23,
    "start_time": "2025-05-30T12:23:13.736Z"
   },
   {
    "duration": 455,
    "start_time": "2025-05-30T12:23:13.762Z"
   },
   {
    "duration": 355,
    "start_time": "2025-05-30T12:23:14.218Z"
   },
   {
    "duration": 385,
    "start_time": "2025-05-30T12:23:14.575Z"
   },
   {
    "duration": 407,
    "start_time": "2025-05-30T12:23:14.962Z"
   },
   {
    "duration": 395,
    "start_time": "2025-05-30T12:23:15.371Z"
   },
   {
    "duration": 214,
    "start_time": "2025-05-30T12:23:15.768Z"
   },
   {
    "duration": 285,
    "start_time": "2025-05-30T12:23:15.984Z"
   },
   {
    "duration": 216,
    "start_time": "2025-05-30T12:23:16.271Z"
   },
   {
    "duration": 279,
    "start_time": "2025-05-30T12:23:16.489Z"
   },
   {
    "duration": 21,
    "start_time": "2025-05-30T12:23:16.770Z"
   },
   {
    "duration": 11,
    "start_time": "2025-05-30T12:23:16.792Z"
   },
   {
    "duration": 387,
    "start_time": "2025-05-30T12:23:16.805Z"
   },
   {
    "duration": 380,
    "start_time": "2025-05-30T12:23:17.194Z"
   },
   {
    "duration": 395,
    "start_time": "2025-05-30T12:23:17.576Z"
   },
   {
    "duration": 280,
    "start_time": "2025-05-30T12:23:17.973Z"
   },
   {
    "duration": 220,
    "start_time": "2025-05-30T12:23:18.254Z"
   },
   {
    "duration": 274,
    "start_time": "2025-05-30T12:23:18.475Z"
   },
   {
    "duration": 234,
    "start_time": "2025-05-30T12:23:18.751Z"
   },
   {
    "duration": 272,
    "start_time": "2025-05-30T12:23:18.986Z"
   },
   {
    "duration": 392,
    "start_time": "2025-05-30T12:23:19.260Z"
   },
   {
    "duration": 364,
    "start_time": "2025-05-30T12:23:19.654Z"
   },
   {
    "duration": 481,
    "start_time": "2025-05-30T12:23:20.020Z"
   },
   {
    "duration": 4,
    "start_time": "2025-05-30T12:23:20.503Z"
   },
   {
    "duration": 92,
    "start_time": "2025-05-30T12:23:20.509Z"
   },
   {
    "duration": 1237,
    "start_time": "2025-05-30T12:23:20.603Z"
   },
   {
    "duration": 8,
    "start_time": "2025-05-30T12:23:21.842Z"
   },
   {
    "duration": 8333,
    "start_time": "2025-05-30T12:23:21.851Z"
   },
   {
    "duration": 12,
    "start_time": "2025-05-30T12:28:37.772Z"
   },
   {
    "duration": 4,
    "start_time": "2025-05-30T12:29:40.175Z"
   },
   {
    "duration": 9,
    "start_time": "2025-05-30T12:30:08.652Z"
   },
   {
    "duration": 6,
    "start_time": "2025-05-30T12:56:48.501Z"
   },
   {
    "duration": 3,
    "start_time": "2025-05-30T12:56:56.220Z"
   },
   {
    "duration": 4,
    "start_time": "2025-05-30T12:57:02.761Z"
   },
   {
    "duration": 4,
    "start_time": "2025-05-30T13:04:45.517Z"
   },
   {
    "duration": 4,
    "start_time": "2025-05-30T13:07:41.717Z"
   },
   {
    "duration": 4,
    "start_time": "2025-05-30T13:10:13.628Z"
   },
   {
    "duration": 4,
    "start_time": "2025-05-30T13:10:39.637Z"
   },
   {
    "duration": 4,
    "start_time": "2025-05-30T13:14:09.749Z"
   },
   {
    "duration": 3,
    "start_time": "2025-05-30T13:34:32.990Z"
   },
   {
    "duration": 7,
    "start_time": "2025-05-30T13:49:02.454Z"
   },
   {
    "duration": 133,
    "start_time": "2025-05-30T13:52:46.663Z"
   },
   {
    "duration": 5,
    "start_time": "2025-05-30T13:53:49.431Z"
   },
   {
    "duration": 4,
    "start_time": "2025-05-30T13:53:57.979Z"
   },
   {
    "duration": 5,
    "start_time": "2025-05-30T13:59:10.277Z"
   },
   {
    "duration": 14,
    "start_time": "2025-05-30T14:00:16.056Z"
   },
   {
    "duration": 11,
    "start_time": "2025-05-30T14:00:35.711Z"
   },
   {
    "duration": 5,
    "start_time": "2025-05-30T14:00:52.478Z"
   },
   {
    "duration": 14,
    "start_time": "2025-05-30T14:02:03.125Z"
   },
   {
    "duration": 3,
    "start_time": "2025-05-30T14:03:07.886Z"
   },
   {
    "duration": 12,
    "start_time": "2025-05-30T14:03:10.553Z"
   },
   {
    "duration": 4,
    "start_time": "2025-05-30T14:03:34.527Z"
   },
   {
    "duration": 12,
    "start_time": "2025-05-30T14:08:41.613Z"
   },
   {
    "duration": 1088,
    "start_time": "2025-05-30T14:08:48.727Z"
   },
   {
    "duration": 1054,
    "start_time": "2025-05-30T14:09:31.678Z"
   },
   {
    "duration": 7,
    "start_time": "2025-05-30T14:10:31.997Z"
   },
   {
    "duration": 1022,
    "start_time": "2025-05-30T14:10:36.467Z"
   },
   {
    "duration": 3,
    "start_time": "2025-05-30T14:12:42.314Z"
   },
   {
    "duration": 1470,
    "start_time": "2025-05-30T14:12:50.324Z"
   },
   {
    "duration": 4,
    "start_time": "2025-05-30T14:16:47.296Z"
   },
   {
    "duration": 3,
    "start_time": "2025-05-30T14:17:18.440Z"
   },
   {
    "duration": 569,
    "start_time": "2025-05-30T14:17:27.481Z"
   },
   {
    "duration": 3,
    "start_time": "2025-05-30T14:18:01.407Z"
   },
   {
    "duration": 535,
    "start_time": "2025-05-30T14:18:13.024Z"
   },
   {
    "duration": 3,
    "start_time": "2025-05-30T14:18:46.552Z"
   },
   {
    "duration": 684,
    "start_time": "2025-05-30T14:18:52.464Z"
   },
   {
    "duration": 3,
    "start_time": "2025-05-30T14:23:32.687Z"
   },
   {
    "duration": 943,
    "start_time": "2025-05-30T14:23:47.057Z"
   },
   {
    "duration": 535,
    "start_time": "2025-05-30T14:25:28.798Z"
   },
   {
    "duration": 3,
    "start_time": "2025-05-30T14:25:43.387Z"
   },
   {
    "duration": 3,
    "start_time": "2025-05-30T14:25:55.264Z"
   },
   {
    "duration": 10,
    "start_time": "2025-05-30T14:26:02.195Z"
   },
   {
    "duration": 19,
    "start_time": "2025-05-30T14:27:53.736Z"
   },
   {
    "duration": 9,
    "start_time": "2025-05-30T14:30:34.601Z"
   },
   {
    "duration": 13,
    "start_time": "2025-05-30T14:30:53.752Z"
   },
   {
    "duration": 3,
    "start_time": "2025-05-30T14:32:08.467Z"
   },
   {
    "duration": 3,
    "start_time": "2025-05-30T14:32:58.449Z"
   },
   {
    "duration": 9,
    "start_time": "2025-05-30T14:33:03.423Z"
   },
   {
    "duration": 4,
    "start_time": "2025-05-30T14:33:05.370Z"
   },
   {
    "duration": 3,
    "start_time": "2025-05-30T14:33:51.673Z"
   },
   {
    "duration": 3,
    "start_time": "2025-05-30T14:34:06.846Z"
   },
   {
    "duration": 11,
    "start_time": "2025-05-30T14:34:10.451Z"
   },
   {
    "duration": 4,
    "start_time": "2025-05-30T14:34:11.277Z"
   },
   {
    "duration": 4,
    "start_time": "2025-05-30T14:35:10.266Z"
   },
   {
    "duration": 11,
    "start_time": "2025-05-30T14:35:20.914Z"
   },
   {
    "duration": 12,
    "start_time": "2025-05-30T14:35:27.508Z"
   },
   {
    "duration": 9,
    "start_time": "2025-05-30T14:39:19.934Z"
   },
   {
    "duration": 14,
    "start_time": "2025-05-30T14:40:04.658Z"
   },
   {
    "duration": 28,
    "start_time": "2025-05-30T14:40:32.961Z"
   },
   {
    "duration": 4,
    "start_time": "2025-05-30T14:40:43.985Z"
   },
   {
    "duration": 16,
    "start_time": "2025-05-30T14:41:09.651Z"
   },
   {
    "duration": 4,
    "start_time": "2025-05-30T14:41:20.073Z"
   },
   {
    "duration": 14,
    "start_time": "2025-05-30T14:41:30.890Z"
   },
   {
    "duration": 19,
    "start_time": "2025-05-30T14:41:37.182Z"
   },
   {
    "duration": 3,
    "start_time": "2025-05-30T14:46:27.992Z"
   },
   {
    "duration": 3,
    "start_time": "2025-05-30T14:46:43.091Z"
   },
   {
    "duration": 18,
    "start_time": "2025-05-30T14:47:21.494Z"
   },
   {
    "duration": 2309,
    "start_time": "2025-05-30T14:48:38.583Z"
   },
   {
    "duration": 2315,
    "start_time": "2025-05-30T14:48:40.895Z"
   },
   {
    "duration": 2782,
    "start_time": "2025-05-30T14:48:43.213Z"
   },
   {
    "duration": 1669,
    "start_time": "2025-05-30T14:48:45.998Z"
   },
   {
    "duration": 4,
    "start_time": "2025-05-30T14:48:47.669Z"
   },
   {
    "duration": 8,
    "start_time": "2025-05-30T14:48:47.674Z"
   },
   {
    "duration": 5,
    "start_time": "2025-05-30T14:48:47.684Z"
   },
   {
    "duration": 8,
    "start_time": "2025-05-30T14:48:47.690Z"
   },
   {
    "duration": 17,
    "start_time": "2025-05-30T14:48:47.699Z"
   },
   {
    "duration": 8,
    "start_time": "2025-05-30T14:48:47.719Z"
   },
   {
    "duration": 67,
    "start_time": "2025-05-30T14:48:47.728Z"
   },
   {
    "duration": 12,
    "start_time": "2025-05-30T14:48:47.796Z"
   },
   {
    "duration": 20,
    "start_time": "2025-05-30T14:48:47.810Z"
   },
   {
    "duration": 9,
    "start_time": "2025-05-30T14:48:47.832Z"
   },
   {
    "duration": 21,
    "start_time": "2025-05-30T14:48:47.843Z"
   },
   {
    "duration": 24,
    "start_time": "2025-05-30T14:48:47.865Z"
   },
   {
    "duration": 10,
    "start_time": "2025-05-30T14:48:47.891Z"
   },
   {
    "duration": 44,
    "start_time": "2025-05-30T14:48:47.903Z"
   },
   {
    "duration": 40,
    "start_time": "2025-05-30T14:48:47.949Z"
   },
   {
    "duration": 5,
    "start_time": "2025-05-30T14:48:47.990Z"
   },
   {
    "duration": 14,
    "start_time": "2025-05-30T14:48:47.997Z"
   },
   {
    "duration": 14,
    "start_time": "2025-05-30T14:48:48.012Z"
   },
   {
    "duration": 18,
    "start_time": "2025-05-30T14:48:48.028Z"
   },
   {
    "duration": 10,
    "start_time": "2025-05-30T14:48:48.047Z"
   },
   {
    "duration": 6,
    "start_time": "2025-05-30T14:48:48.058Z"
   },
   {
    "duration": 25,
    "start_time": "2025-05-30T14:48:48.065Z"
   },
   {
    "duration": 16,
    "start_time": "2025-05-30T14:48:48.092Z"
   },
   {
    "duration": 152,
    "start_time": "2025-05-30T14:48:48.112Z"
   },
   {
    "duration": 396,
    "start_time": "2025-05-30T14:48:48.265Z"
   },
   {
    "duration": 377,
    "start_time": "2025-05-30T14:48:48.663Z"
   },
   {
    "duration": 356,
    "start_time": "2025-05-30T14:48:49.041Z"
   },
   {
    "duration": 378,
    "start_time": "2025-05-30T14:48:49.398Z"
   },
   {
    "duration": 395,
    "start_time": "2025-05-30T14:48:49.777Z"
   },
   {
    "duration": 217,
    "start_time": "2025-05-30T14:48:50.174Z"
   },
   {
    "duration": 288,
    "start_time": "2025-05-30T14:48:50.393Z"
   },
   {
    "duration": 276,
    "start_time": "2025-05-30T14:48:50.683Z"
   },
   {
    "duration": 228,
    "start_time": "2025-05-30T14:48:50.961Z"
   },
   {
    "duration": 49,
    "start_time": "2025-05-30T14:48:51.191Z"
   },
   {
    "duration": 12,
    "start_time": "2025-05-30T14:48:51.242Z"
   },
   {
    "duration": 405,
    "start_time": "2025-05-30T14:48:51.255Z"
   },
   {
    "duration": 378,
    "start_time": "2025-05-30T14:48:51.661Z"
   },
   {
    "duration": 350,
    "start_time": "2025-05-30T14:48:52.040Z"
   },
   {
    "duration": 293,
    "start_time": "2025-05-30T14:48:52.391Z"
   },
   {
    "duration": 274,
    "start_time": "2025-05-30T14:48:52.685Z"
   },
   {
    "duration": 228,
    "start_time": "2025-05-30T14:48:52.960Z"
   },
   {
    "duration": 287,
    "start_time": "2025-05-30T14:48:53.189Z"
   },
   {
    "duration": 289,
    "start_time": "2025-05-30T14:48:53.478Z"
   },
   {
    "duration": 281,
    "start_time": "2025-05-30T14:48:53.774Z"
   },
   {
    "duration": 507,
    "start_time": "2025-05-30T14:48:54.056Z"
   },
   {
    "duration": 445,
    "start_time": "2025-05-30T14:48:54.565Z"
   },
   {
    "duration": 4,
    "start_time": "2025-05-30T14:48:55.012Z"
   },
   {
    "duration": 56,
    "start_time": "2025-05-30T14:48:55.018Z"
   },
   {
    "duration": 1256,
    "start_time": "2025-05-30T14:48:55.076Z"
   },
   {
    "duration": 7,
    "start_time": "2025-05-30T14:48:56.333Z"
   },
   {
    "duration": 8277,
    "start_time": "2025-05-30T14:48:56.342Z"
   },
   {
    "duration": 5,
    "start_time": "2025-05-30T14:49:04.620Z"
   },
   {
    "duration": 7,
    "start_time": "2025-05-30T14:49:04.638Z"
   },
   {
    "duration": 101,
    "start_time": "2025-05-30T14:49:04.646Z"
   },
   {
    "duration": 9,
    "start_time": "2025-05-30T14:49:04.749Z"
   },
   {
    "duration": 7,
    "start_time": "2025-05-30T14:49:04.760Z"
   },
   {
    "duration": 89,
    "start_time": "2025-05-30T14:49:04.769Z"
   },
   {
    "duration": 53,
    "start_time": "2025-05-30T14:49:04.860Z"
   },
   {
    "duration": 19,
    "start_time": "2025-05-30T14:49:04.914Z"
   },
   {
    "duration": 131,
    "start_time": "2025-05-30T14:49:44.577Z"
   },
   {
    "duration": 8,
    "start_time": "2025-05-30T14:49:49.249Z"
   },
   {
    "duration": 4,
    "start_time": "2025-05-30T14:49:56.153Z"
   },
   {
    "duration": 3,
    "start_time": "2025-05-30T14:53:28.264Z"
   },
   {
    "duration": 3,
    "start_time": "2025-05-30T14:54:23.425Z"
   },
   {
    "duration": 25,
    "start_time": "2025-05-30T14:55:05.786Z"
   },
   {
    "duration": 3,
    "start_time": "2025-05-30T14:57:00.481Z"
   },
   {
    "duration": 2334,
    "start_time": "2025-05-30T14:58:35.988Z"
   },
   {
    "duration": 2354,
    "start_time": "2025-05-30T14:58:38.324Z"
   },
   {
    "duration": 2795,
    "start_time": "2025-05-30T14:58:40.681Z"
   },
   {
    "duration": 1663,
    "start_time": "2025-05-30T14:58:43.478Z"
   },
   {
    "duration": 4,
    "start_time": "2025-05-30T14:58:45.142Z"
   },
   {
    "duration": 60,
    "start_time": "2025-05-30T14:58:45.147Z"
   },
   {
    "duration": 18,
    "start_time": "2025-05-30T14:58:45.208Z"
   },
   {
    "duration": 71,
    "start_time": "2025-05-30T14:58:45.228Z"
   },
   {
    "duration": 136,
    "start_time": "2025-05-30T14:58:45.300Z"
   },
   {
    "duration": 14,
    "start_time": "2025-05-30T14:58:45.438Z"
   },
   {
    "duration": 68,
    "start_time": "2025-05-30T14:58:45.453Z"
   },
   {
    "duration": 12,
    "start_time": "2025-05-30T14:58:45.523Z"
   },
   {
    "duration": 20,
    "start_time": "2025-05-30T14:58:45.536Z"
   },
   {
    "duration": 12,
    "start_time": "2025-05-30T14:58:45.557Z"
   },
   {
    "duration": 34,
    "start_time": "2025-05-30T14:58:45.570Z"
   },
   {
    "duration": 10,
    "start_time": "2025-05-30T14:58:45.606Z"
   },
   {
    "duration": 21,
    "start_time": "2025-05-30T14:58:45.617Z"
   },
   {
    "duration": 24,
    "start_time": "2025-05-30T14:58:45.639Z"
   },
   {
    "duration": 37,
    "start_time": "2025-05-30T14:58:45.664Z"
   },
   {
    "duration": 54,
    "start_time": "2025-05-30T14:58:45.703Z"
   },
   {
    "duration": 36,
    "start_time": "2025-05-30T14:58:45.758Z"
   },
   {
    "duration": 10,
    "start_time": "2025-05-30T14:58:45.795Z"
   },
   {
    "duration": 15,
    "start_time": "2025-05-30T14:58:45.807Z"
   },
   {
    "duration": 30,
    "start_time": "2025-05-30T14:58:45.824Z"
   },
   {
    "duration": 17,
    "start_time": "2025-05-30T14:58:45.855Z"
   },
   {
    "duration": 29,
    "start_time": "2025-05-30T14:58:45.873Z"
   },
   {
    "duration": 15,
    "start_time": "2025-05-30T14:58:45.904Z"
   },
   {
    "duration": 21,
    "start_time": "2025-05-30T14:58:45.923Z"
   },
   {
    "duration": 405,
    "start_time": "2025-05-30T14:58:45.946Z"
   },
   {
    "duration": 318,
    "start_time": "2025-05-30T14:58:46.352Z"
   },
   {
    "duration": 392,
    "start_time": "2025-05-30T14:58:46.672Z"
   },
   {
    "duration": 399,
    "start_time": "2025-05-30T14:58:47.066Z"
   },
   {
    "duration": 413,
    "start_time": "2025-05-30T14:58:47.467Z"
   },
   {
    "duration": 281,
    "start_time": "2025-05-30T14:58:47.882Z"
   },
   {
    "duration": 226,
    "start_time": "2025-05-30T14:58:48.164Z"
   },
   {
    "duration": 272,
    "start_time": "2025-05-30T14:58:48.391Z"
   },
   {
    "duration": 225,
    "start_time": "2025-05-30T14:58:48.664Z"
   },
   {
    "duration": 20,
    "start_time": "2025-05-30T14:58:48.891Z"
   },
   {
    "duration": 12,
    "start_time": "2025-05-30T14:58:48.938Z"
   },
   {
    "duration": 355,
    "start_time": "2025-05-30T14:58:48.952Z"
   },
   {
    "duration": 341,
    "start_time": "2025-05-30T14:58:49.308Z"
   },
   {
    "duration": 359,
    "start_time": "2025-05-30T14:58:49.651Z"
   },
   {
    "duration": 274,
    "start_time": "2025-05-30T14:58:50.012Z"
   },
   {
    "duration": 269,
    "start_time": "2025-05-30T14:58:50.288Z"
   },
   {
    "duration": 227,
    "start_time": "2025-05-30T14:58:50.558Z"
   },
   {
    "duration": 282,
    "start_time": "2025-05-30T14:58:50.786Z"
   },
   {
    "duration": 213,
    "start_time": "2025-05-30T14:58:51.070Z"
   },
   {
    "duration": 280,
    "start_time": "2025-05-30T14:58:51.285Z"
   },
   {
    "duration": 504,
    "start_time": "2025-05-30T14:58:51.566Z"
   },
   {
    "duration": 457,
    "start_time": "2025-05-30T14:58:52.071Z"
   },
   {
    "duration": 10,
    "start_time": "2025-05-30T14:58:52.530Z"
   },
   {
    "duration": 14,
    "start_time": "2025-05-30T14:58:52.541Z"
   },
   {
    "duration": 1275,
    "start_time": "2025-05-30T14:58:52.556Z"
   },
   {
    "duration": 7,
    "start_time": "2025-05-30T14:58:53.833Z"
   },
   {
    "duration": 8136,
    "start_time": "2025-05-30T14:58:53.841Z"
   },
   {
    "duration": 5,
    "start_time": "2025-05-30T14:59:01.978Z"
   },
   {
    "duration": 46,
    "start_time": "2025-05-30T14:59:01.984Z"
   },
   {
    "duration": 32,
    "start_time": "2025-05-30T14:59:02.031Z"
   },
   {
    "duration": 22,
    "start_time": "2025-05-30T14:59:02.064Z"
   },
   {
    "duration": 44,
    "start_time": "2025-05-30T14:59:02.088Z"
   },
   {
    "duration": 56,
    "start_time": "2025-05-30T14:59:02.134Z"
   },
   {
    "duration": 40,
    "start_time": "2025-05-30T14:59:02.192Z"
   },
   {
    "duration": 42,
    "start_time": "2025-05-30T14:59:02.234Z"
   },
   {
    "duration": 147,
    "start_time": "2025-05-30T14:59:14.246Z"
   },
   {
    "duration": 3,
    "start_time": "2025-05-30T15:03:03.528Z"
   },
   {
    "duration": 3,
    "start_time": "2025-05-30T15:03:24.778Z"
   },
   {
    "duration": 4,
    "start_time": "2025-05-30T15:03:46.960Z"
   },
   {
    "duration": 26,
    "start_time": "2025-05-30T15:03:49.602Z"
   },
   {
    "duration": 9,
    "start_time": "2025-05-30T15:04:25.306Z"
   },
   {
    "duration": 4,
    "start_time": "2025-05-30T15:04:35.548Z"
   },
   {
    "duration": 2341,
    "start_time": "2025-05-30T15:12:48.701Z"
   },
   {
    "duration": 2328,
    "start_time": "2025-05-30T15:12:51.045Z"
   },
   {
    "duration": 2861,
    "start_time": "2025-05-30T15:12:53.376Z"
   },
   {
    "duration": 1852,
    "start_time": "2025-05-30T15:12:56.239Z"
   },
   {
    "duration": 4,
    "start_time": "2025-05-30T15:12:58.093Z"
   },
   {
    "duration": 12,
    "start_time": "2025-05-30T15:12:58.098Z"
   },
   {
    "duration": 6,
    "start_time": "2025-05-30T15:12:58.112Z"
   },
   {
    "duration": 9,
    "start_time": "2025-05-30T15:12:58.119Z"
   },
   {
    "duration": 14,
    "start_time": "2025-05-30T15:12:58.129Z"
   },
   {
    "duration": 5,
    "start_time": "2025-05-30T15:12:58.144Z"
   },
   {
    "duration": 74,
    "start_time": "2025-05-30T15:12:58.150Z"
   },
   {
    "duration": 79,
    "start_time": "2025-05-30T15:12:58.226Z"
   },
   {
    "duration": 22,
    "start_time": "2025-05-30T15:12:58.306Z"
   },
   {
    "duration": 11,
    "start_time": "2025-05-30T15:12:58.331Z"
   },
   {
    "duration": 14,
    "start_time": "2025-05-30T15:12:58.343Z"
   },
   {
    "duration": 17,
    "start_time": "2025-05-30T15:12:58.358Z"
   },
   {
    "duration": 8,
    "start_time": "2025-05-30T15:12:58.376Z"
   },
   {
    "duration": 4,
    "start_time": "2025-05-30T15:12:58.385Z"
   },
   {
    "duration": 14,
    "start_time": "2025-05-30T15:12:58.391Z"
   },
   {
    "duration": 148,
    "start_time": "2025-05-30T15:12:58.407Z"
   },
   {
    "duration": 20,
    "start_time": "2025-05-30T15:12:58.557Z"
   },
   {
    "duration": 15,
    "start_time": "2025-05-30T15:12:58.579Z"
   },
   {
    "duration": 8,
    "start_time": "2025-05-30T15:12:58.596Z"
   },
   {
    "duration": 11,
    "start_time": "2025-05-30T15:12:58.606Z"
   },
   {
    "duration": 5,
    "start_time": "2025-05-30T15:12:58.618Z"
   },
   {
    "duration": 33,
    "start_time": "2025-05-30T15:12:58.625Z"
   },
   {
    "duration": 17,
    "start_time": "2025-05-30T15:12:58.660Z"
   },
   {
    "duration": 25,
    "start_time": "2025-05-30T15:12:58.678Z"
   },
   {
    "duration": 392,
    "start_time": "2025-05-30T15:12:58.704Z"
   },
   {
    "duration": 355,
    "start_time": "2025-05-30T15:12:59.098Z"
   },
   {
    "duration": 404,
    "start_time": "2025-05-30T15:12:59.455Z"
   },
   {
    "duration": 398,
    "start_time": "2025-05-30T15:12:59.860Z"
   },
   {
    "duration": 433,
    "start_time": "2025-05-30T15:13:00.260Z"
   },
   {
    "duration": 280,
    "start_time": "2025-05-30T15:13:00.695Z"
   },
   {
    "duration": 309,
    "start_time": "2025-05-30T15:13:00.981Z"
   },
   {
    "duration": 291,
    "start_time": "2025-05-30T15:13:01.291Z"
   },
   {
    "duration": 287,
    "start_time": "2025-05-30T15:13:01.584Z"
   },
   {
    "duration": 23,
    "start_time": "2025-05-30T15:13:01.872Z"
   },
   {
    "duration": 29,
    "start_time": "2025-05-30T15:13:01.896Z"
   },
   {
    "duration": 401,
    "start_time": "2025-05-30T15:13:01.927Z"
   },
   {
    "duration": 333,
    "start_time": "2025-05-30T15:13:02.331Z"
   },
   {
    "duration": 421,
    "start_time": "2025-05-30T15:13:02.665Z"
   },
   {
    "duration": 297,
    "start_time": "2025-05-30T15:13:03.088Z"
   },
   {
    "duration": 297,
    "start_time": "2025-05-30T15:13:03.387Z"
   },
   {
    "duration": 298,
    "start_time": "2025-05-30T15:13:03.686Z"
   },
   {
    "duration": 283,
    "start_time": "2025-05-30T15:13:03.985Z"
   },
   {
    "duration": 221,
    "start_time": "2025-05-30T15:13:04.269Z"
   },
   {
    "duration": 390,
    "start_time": "2025-05-30T15:13:04.493Z"
   },
   {
    "duration": 418,
    "start_time": "2025-05-30T15:13:04.885Z"
   },
   {
    "duration": 501,
    "start_time": "2025-05-30T15:13:05.304Z"
   },
   {
    "duration": 4,
    "start_time": "2025-05-30T15:13:05.807Z"
   },
   {
    "duration": 45,
    "start_time": "2025-05-30T15:13:05.812Z"
   },
   {
    "duration": 1278,
    "start_time": "2025-05-30T15:13:05.858Z"
   },
   {
    "duration": 7,
    "start_time": "2025-05-30T15:13:07.138Z"
   },
   {
    "duration": 8470,
    "start_time": "2025-05-30T15:13:07.146Z"
   },
   {
    "duration": 4,
    "start_time": "2025-05-30T15:13:15.618Z"
   },
   {
    "duration": 55,
    "start_time": "2025-05-30T15:13:15.624Z"
   },
   {
    "duration": 199,
    "start_time": "2025-05-30T15:13:15.681Z"
   },
   {
    "duration": 0,
    "start_time": "2025-05-30T15:13:15.881Z"
   },
   {
    "duration": 0,
    "start_time": "2025-05-30T15:13:15.883Z"
   },
   {
    "duration": 0,
    "start_time": "2025-05-30T15:13:15.884Z"
   },
   {
    "duration": 0,
    "start_time": "2025-05-30T15:13:15.885Z"
   },
   {
    "duration": 0,
    "start_time": "2025-05-30T15:13:15.886Z"
   },
   {
    "duration": 8,
    "start_time": "2025-05-30T15:14:26.056Z"
   },
   {
    "duration": 3,
    "start_time": "2025-05-30T15:14:28.395Z"
   },
   {
    "duration": 3,
    "start_time": "2025-05-30T15:14:30.567Z"
   },
   {
    "duration": 5,
    "start_time": "2025-05-30T15:14:32.266Z"
   },
   {
    "duration": 4,
    "start_time": "2025-05-30T15:14:33.760Z"
   },
   {
    "duration": 4,
    "start_time": "2025-05-30T15:14:35.258Z"
   },
   {
    "duration": 10,
    "start_time": "2025-05-30T15:14:38.135Z"
   },
   {
    "duration": 32,
    "start_time": "2025-05-30T15:15:22.359Z"
   },
   {
    "duration": 4,
    "start_time": "2025-05-30T15:15:32.298Z"
   },
   {
    "duration": 15,
    "start_time": "2025-05-30T15:16:26.818Z"
   },
   {
    "duration": 4,
    "start_time": "2025-05-30T15:20:36.410Z"
   },
   {
    "duration": 4,
    "start_time": "2025-05-30T15:20:40.881Z"
   },
   {
    "duration": 4,
    "start_time": "2025-05-30T15:20:41.834Z"
   },
   {
    "duration": 41,
    "start_time": "2025-05-30T15:20:44.887Z"
   },
   {
    "duration": 5,
    "start_time": "2025-05-30T15:20:46.130Z"
   },
   {
    "duration": 18,
    "start_time": "2025-05-30T15:21:02.272Z"
   },
   {
    "duration": 18,
    "start_time": "2025-05-30T15:21:27.322Z"
   },
   {
    "duration": 11,
    "start_time": "2025-05-30T15:22:11.434Z"
   },
   {
    "duration": 5,
    "start_time": "2025-05-30T15:22:21.026Z"
   },
   {
    "duration": 9,
    "start_time": "2025-05-30T15:22:40.210Z"
   },
   {
    "duration": 4,
    "start_time": "2025-05-30T15:26:49.114Z"
   },
   {
    "duration": 4912,
    "start_time": "2025-05-30T17:02:14.844Z"
   },
   {
    "duration": 3661,
    "start_time": "2025-05-30T17:02:19.759Z"
   },
   {
    "duration": 7557,
    "start_time": "2025-05-30T17:02:23.422Z"
   },
   {
    "duration": 2131,
    "start_time": "2025-05-30T17:02:30.982Z"
   },
   {
    "duration": 4,
    "start_time": "2025-05-30T17:02:33.116Z"
   },
   {
    "duration": 99,
    "start_time": "2025-05-30T17:02:33.121Z"
   },
   {
    "duration": 91,
    "start_time": "2025-05-30T17:02:33.221Z"
   },
   {
    "duration": 13,
    "start_time": "2025-05-30T17:02:33.314Z"
   },
   {
    "duration": 13,
    "start_time": "2025-05-30T17:02:33.329Z"
   },
   {
    "duration": 51,
    "start_time": "2025-05-30T17:02:33.344Z"
   },
   {
    "duration": 98,
    "start_time": "2025-05-30T17:02:33.397Z"
   },
   {
    "duration": 14,
    "start_time": "2025-05-30T17:02:33.497Z"
   },
   {
    "duration": 41,
    "start_time": "2025-05-30T17:02:33.513Z"
   },
   {
    "duration": 16,
    "start_time": "2025-05-30T17:02:33.560Z"
   },
   {
    "duration": 23,
    "start_time": "2025-05-30T17:02:33.578Z"
   },
   {
    "duration": 23,
    "start_time": "2025-05-30T17:02:33.603Z"
   },
   {
    "duration": 54,
    "start_time": "2025-05-30T17:02:33.628Z"
   },
   {
    "duration": 16,
    "start_time": "2025-05-30T17:02:33.684Z"
   },
   {
    "duration": 33,
    "start_time": "2025-05-30T17:02:33.702Z"
   },
   {
    "duration": 97,
    "start_time": "2025-05-30T17:02:33.738Z"
   },
   {
    "duration": 278,
    "start_time": "2025-05-30T17:02:33.837Z"
   },
   {
    "duration": 42,
    "start_time": "2025-05-30T17:02:34.117Z"
   },
   {
    "duration": 21,
    "start_time": "2025-05-30T17:02:34.160Z"
   },
   {
    "duration": 54,
    "start_time": "2025-05-30T17:02:34.182Z"
   },
   {
    "duration": 27,
    "start_time": "2025-05-30T17:02:34.238Z"
   },
   {
    "duration": 36,
    "start_time": "2025-05-30T17:02:34.267Z"
   },
   {
    "duration": 37,
    "start_time": "2025-05-30T17:02:34.305Z"
   },
   {
    "duration": 70,
    "start_time": "2025-05-30T17:02:34.344Z"
   },
   {
    "duration": 601,
    "start_time": "2025-05-30T17:02:34.417Z"
   },
   {
    "duration": 403,
    "start_time": "2025-05-30T17:02:35.020Z"
   },
   {
    "duration": 419,
    "start_time": "2025-05-30T17:02:35.425Z"
   },
   {
    "duration": 422,
    "start_time": "2025-05-30T17:02:35.845Z"
   },
   {
    "duration": 454,
    "start_time": "2025-05-30T17:02:36.269Z"
   },
   {
    "duration": 306,
    "start_time": "2025-05-30T17:02:36.726Z"
   },
   {
    "duration": 283,
    "start_time": "2025-05-30T17:02:37.034Z"
   },
   {
    "duration": 304,
    "start_time": "2025-05-30T17:02:37.319Z"
   },
   {
    "duration": 281,
    "start_time": "2025-05-30T17:02:37.625Z"
   },
   {
    "duration": 23,
    "start_time": "2025-05-30T17:02:37.908Z"
   },
   {
    "duration": 55,
    "start_time": "2025-05-30T17:02:37.933Z"
   },
   {
    "duration": 446,
    "start_time": "2025-05-30T17:02:37.989Z"
   },
   {
    "duration": 412,
    "start_time": "2025-05-30T17:02:38.440Z"
   },
   {
    "duration": 465,
    "start_time": "2025-05-30T17:02:38.861Z"
   },
   {
    "duration": 317,
    "start_time": "2025-05-30T17:02:39.328Z"
   },
   {
    "duration": 267,
    "start_time": "2025-05-30T17:02:39.646Z"
   },
   {
    "duration": 414,
    "start_time": "2025-05-30T17:02:39.916Z"
   },
   {
    "duration": 290,
    "start_time": "2025-05-30T17:02:40.332Z"
   },
   {
    "duration": 283,
    "start_time": "2025-05-30T17:02:40.624Z"
   },
   {
    "duration": 403,
    "start_time": "2025-05-30T17:02:40.909Z"
   },
   {
    "duration": 449,
    "start_time": "2025-05-30T17:02:41.315Z"
   },
   {
    "duration": 519,
    "start_time": "2025-05-30T17:02:41.766Z"
   },
   {
    "duration": 4,
    "start_time": "2025-05-30T17:02:42.287Z"
   },
   {
    "duration": 101,
    "start_time": "2025-05-30T17:02:42.292Z"
   },
   {
    "duration": 1390,
    "start_time": "2025-05-30T17:02:42.395Z"
   },
   {
    "duration": 8,
    "start_time": "2025-05-30T17:02:43.787Z"
   },
   {
    "duration": 9621,
    "start_time": "2025-05-30T17:02:43.797Z"
   },
   {
    "duration": 5,
    "start_time": "2025-05-30T17:02:53.419Z"
   },
   {
    "duration": 10,
    "start_time": "2025-05-30T17:02:53.426Z"
   },
   {
    "duration": 9,
    "start_time": "2025-05-30T17:02:53.437Z"
   },
   {
    "duration": 4,
    "start_time": "2025-05-30T17:02:53.460Z"
   },
   {
    "duration": 11,
    "start_time": "2025-05-30T17:02:53.466Z"
   },
   {
    "duration": 22,
    "start_time": "2025-05-30T17:02:53.478Z"
   },
   {
    "duration": 17,
    "start_time": "2025-05-30T17:02:53.502Z"
   },
   {
    "duration": 12,
    "start_time": "2025-05-30T17:03:07.379Z"
   },
   {
    "duration": 42,
    "start_time": "2025-05-30T17:04:29.184Z"
   },
   {
    "duration": 1243,
    "start_time": "2025-05-30T17:04:56.518Z"
   },
   {
    "duration": 18,
    "start_time": "2025-05-30T17:05:08.380Z"
   },
   {
    "duration": 6,
    "start_time": "2025-05-30T17:05:32.165Z"
   },
   {
    "duration": 6,
    "start_time": "2025-05-30T17:05:50.997Z"
   },
   {
    "duration": 3969,
    "start_time": "2025-05-31T12:33:56.268Z"
   },
   {
    "duration": 2956,
    "start_time": "2025-05-31T12:34:00.239Z"
   },
   {
    "duration": 6166,
    "start_time": "2025-05-31T12:34:03.197Z"
   },
   {
    "duration": 1866,
    "start_time": "2025-05-31T12:34:09.366Z"
   },
   {
    "duration": 4,
    "start_time": "2025-05-31T12:34:11.233Z"
   },
   {
    "duration": 67,
    "start_time": "2025-05-31T12:34:11.239Z"
   },
   {
    "duration": 5,
    "start_time": "2025-05-31T12:34:11.307Z"
   },
   {
    "duration": 7,
    "start_time": "2025-05-31T12:34:11.313Z"
   },
   {
    "duration": 21,
    "start_time": "2025-05-31T12:34:11.322Z"
   },
   {
    "duration": 13,
    "start_time": "2025-05-31T12:34:11.345Z"
   },
   {
    "duration": 5,
    "start_time": "2025-05-31T12:34:11.360Z"
   },
   {
    "duration": 75,
    "start_time": "2025-05-31T12:34:11.367Z"
   },
   {
    "duration": 13,
    "start_time": "2025-05-31T12:34:11.444Z"
   },
   {
    "duration": 15,
    "start_time": "2025-05-31T12:34:11.459Z"
   },
   {
    "duration": 20,
    "start_time": "2025-05-31T12:34:11.476Z"
   },
   {
    "duration": 18,
    "start_time": "2025-05-31T12:34:11.498Z"
   },
   {
    "duration": 13,
    "start_time": "2025-05-31T12:34:11.517Z"
   },
   {
    "duration": 7,
    "start_time": "2025-05-31T12:34:11.534Z"
   },
   {
    "duration": 4,
    "start_time": "2025-05-31T12:34:11.542Z"
   },
   {
    "duration": 21,
    "start_time": "2025-05-31T12:34:11.547Z"
   },
   {
    "duration": 4,
    "start_time": "2025-05-31T12:34:11.570Z"
   },
   {
    "duration": 13,
    "start_time": "2025-05-31T12:34:11.575Z"
   },
   {
    "duration": 83,
    "start_time": "2025-05-31T12:34:11.590Z"
   },
   {
    "duration": 31,
    "start_time": "2025-05-31T12:34:11.675Z"
   },
   {
    "duration": 11,
    "start_time": "2025-05-31T12:34:11.708Z"
   },
   {
    "duration": 7,
    "start_time": "2025-05-31T12:34:11.720Z"
   },
   {
    "duration": 27,
    "start_time": "2025-05-31T12:34:11.729Z"
   },
   {
    "duration": 2267,
    "start_time": "2025-05-31T12:34:49.679Z"
   },
   {
    "duration": 2292,
    "start_time": "2025-05-31T12:34:51.948Z"
   },
   {
    "duration": 2801,
    "start_time": "2025-05-31T12:34:54.242Z"
   },
   {
    "duration": 1711,
    "start_time": "2025-05-31T12:34:57.045Z"
   },
   {
    "duration": 3,
    "start_time": "2025-05-31T12:34:58.758Z"
   },
   {
    "duration": 146,
    "start_time": "2025-05-31T12:34:58.762Z"
   },
   {
    "duration": 17,
    "start_time": "2025-05-31T12:34:58.910Z"
   },
   {
    "duration": 8,
    "start_time": "2025-05-31T12:34:58.928Z"
   },
   {
    "duration": 6,
    "start_time": "2025-05-31T12:34:58.937Z"
   },
   {
    "duration": 9,
    "start_time": "2025-05-31T12:34:58.945Z"
   },
   {
    "duration": 3,
    "start_time": "2025-05-31T12:34:58.955Z"
   },
   {
    "duration": 69,
    "start_time": "2025-05-31T12:34:58.959Z"
   },
   {
    "duration": 12,
    "start_time": "2025-05-31T12:34:59.030Z"
   },
   {
    "duration": 13,
    "start_time": "2025-05-31T12:34:59.045Z"
   },
   {
    "duration": 12,
    "start_time": "2025-05-31T12:34:59.060Z"
   },
   {
    "duration": 14,
    "start_time": "2025-05-31T12:34:59.074Z"
   },
   {
    "duration": 9,
    "start_time": "2025-05-31T12:34:59.090Z"
   },
   {
    "duration": 36,
    "start_time": "2025-05-31T12:34:59.101Z"
   },
   {
    "duration": 3,
    "start_time": "2025-05-31T12:34:59.139Z"
   },
   {
    "duration": 11,
    "start_time": "2025-05-31T12:34:59.144Z"
   },
   {
    "duration": 6,
    "start_time": "2025-05-31T12:34:59.157Z"
   },
   {
    "duration": 13,
    "start_time": "2025-05-31T12:34:59.164Z"
   },
   {
    "duration": 10,
    "start_time": "2025-05-31T12:34:59.179Z"
   },
   {
    "duration": 130,
    "start_time": "2025-05-31T12:34:59.191Z"
   },
   {
    "duration": 7,
    "start_time": "2025-05-31T12:34:59.323Z"
   },
   {
    "duration": 4,
    "start_time": "2025-05-31T12:34:59.331Z"
   },
   {
    "duration": 29,
    "start_time": "2025-05-31T12:34:59.337Z"
   },
   {
    "duration": 19,
    "start_time": "2025-05-31T12:34:59.367Z"
   },
   {
    "duration": 11,
    "start_time": "2025-05-31T12:36:31.694Z"
   },
   {
    "duration": 4,
    "start_time": "2025-05-31T12:36:56.526Z"
   },
   {
    "duration": 11,
    "start_time": "2025-05-31T12:36:58.378Z"
   },
   {
    "duration": 181,
    "start_time": "2025-05-31T12:44:39.868Z"
   },
   {
    "duration": 7,
    "start_time": "2025-05-31T12:46:41.422Z"
   },
   {
    "duration": 9,
    "start_time": "2025-05-31T12:47:10.774Z"
   },
   {
    "duration": 8,
    "start_time": "2025-05-31T12:47:14.374Z"
   },
   {
    "duration": 10,
    "start_time": "2025-05-31T12:48:21.653Z"
   },
   {
    "duration": 17,
    "start_time": "2025-05-31T12:48:26.453Z"
   },
   {
    "duration": 2510,
    "start_time": "2025-05-31T12:49:41.051Z"
   },
   {
    "duration": 2459,
    "start_time": "2025-05-31T12:49:43.565Z"
   },
   {
    "duration": 3094,
    "start_time": "2025-05-31T12:49:46.028Z"
   },
   {
    "duration": 1847,
    "start_time": "2025-05-31T12:49:49.124Z"
   },
   {
    "duration": 4,
    "start_time": "2025-05-31T12:49:50.973Z"
   },
   {
    "duration": 18,
    "start_time": "2025-05-31T12:49:50.979Z"
   },
   {
    "duration": 12,
    "start_time": "2025-05-31T12:49:50.998Z"
   },
   {
    "duration": 18,
    "start_time": "2025-05-31T12:49:51.012Z"
   },
   {
    "duration": 52,
    "start_time": "2025-05-31T12:49:51.031Z"
   },
   {
    "duration": 60,
    "start_time": "2025-05-31T12:49:51.086Z"
   },
   {
    "duration": 5,
    "start_time": "2025-05-31T12:49:51.149Z"
   },
   {
    "duration": 95,
    "start_time": "2025-05-31T12:49:51.155Z"
   },
   {
    "duration": 14,
    "start_time": "2025-05-31T12:49:51.252Z"
   },
   {
    "duration": 79,
    "start_time": "2025-05-31T12:49:51.267Z"
   },
   {
    "duration": 11,
    "start_time": "2025-05-31T12:49:51.348Z"
   },
   {
    "duration": 19,
    "start_time": "2025-05-31T12:49:51.361Z"
   },
   {
    "duration": 12,
    "start_time": "2025-05-31T12:49:51.382Z"
   },
   {
    "duration": 21,
    "start_time": "2025-05-31T12:49:51.395Z"
   },
   {
    "duration": 4,
    "start_time": "2025-05-31T12:49:51.418Z"
   },
   {
    "duration": 17,
    "start_time": "2025-05-31T12:49:51.423Z"
   },
   {
    "duration": 9,
    "start_time": "2025-05-31T12:49:51.442Z"
   },
   {
    "duration": 12,
    "start_time": "2025-05-31T12:49:51.452Z"
   },
   {
    "duration": 11,
    "start_time": "2025-05-31T12:49:51.466Z"
   },
   {
    "duration": 7,
    "start_time": "2025-05-31T12:49:51.479Z"
   },
   {
    "duration": 6,
    "start_time": "2025-05-31T12:49:51.488Z"
   },
   {
    "duration": 10,
    "start_time": "2025-05-31T12:49:51.495Z"
   },
   {
    "duration": 62,
    "start_time": "2025-05-31T12:49:51.506Z"
   },
   {
    "duration": 16,
    "start_time": "2025-05-31T12:49:51.572Z"
   },
   {
    "duration": 3,
    "start_time": "2025-05-31T12:49:51.590Z"
   },
   {
    "duration": 57,
    "start_time": "2025-05-31T12:49:51.594Z"
   },
   {
    "duration": 7,
    "start_time": "2025-05-31T12:49:51.653Z"
   },
   {
    "duration": 12,
    "start_time": "2025-05-31T12:49:51.661Z"
   },
   {
    "duration": 12,
    "start_time": "2025-05-31T12:49:51.675Z"
   },
   {
    "duration": 25,
    "start_time": "2025-05-31T13:01:05.058Z"
   },
   {
    "duration": 510,
    "start_time": "2025-05-31T13:01:15.244Z"
   },
   {
    "duration": 380,
    "start_time": "2025-05-31T13:01:33.301Z"
   },
   {
    "duration": 431,
    "start_time": "2025-05-31T13:01:47.371Z"
   },
   {
    "duration": 464,
    "start_time": "2025-05-31T13:02:43.563Z"
   },
   {
    "duration": 401,
    "start_time": "2025-05-31T13:04:34.512Z"
   },
   {
    "duration": 286,
    "start_time": "2025-05-31T13:04:40.910Z"
   },
   {
    "duration": 293,
    "start_time": "2025-05-31T13:06:31.706Z"
   },
   {
    "duration": 289,
    "start_time": "2025-05-31T13:07:03.786Z"
   },
   {
    "duration": 240,
    "start_time": "2025-05-31T13:07:22.446Z"
   },
   {
    "duration": 23,
    "start_time": "2025-05-31T13:08:24.896Z"
   },
   {
    "duration": 13,
    "start_time": "2025-05-31T13:08:26.992Z"
   },
   {
    "duration": 434,
    "start_time": "2025-05-31T13:08:58.066Z"
   },
   {
    "duration": 396,
    "start_time": "2025-05-31T13:09:02.460Z"
   },
   {
    "duration": 384,
    "start_time": "2025-05-31T13:09:05.916Z"
   },
   {
    "duration": 247,
    "start_time": "2025-05-31T13:09:11.055Z"
   },
   {
    "duration": 247,
    "start_time": "2025-05-31T13:09:30.038Z"
   },
   {
    "duration": 263,
    "start_time": "2025-05-31T13:09:43.226Z"
   },
   {
    "duration": 229,
    "start_time": "2025-05-31T13:10:14.665Z"
   },
   {
    "duration": 273,
    "start_time": "2025-05-31T13:10:18.100Z"
   },
   {
    "duration": 359,
    "start_time": "2025-05-31T13:10:22.524Z"
   },
   {
    "duration": 408,
    "start_time": "2025-05-31T13:11:25.164Z"
   },
   {
    "duration": 5,
    "start_time": "2025-05-31T13:19:23.661Z"
   },
   {
    "duration": 20,
    "start_time": "2025-05-31T13:19:34.333Z"
   },
   {
    "duration": 12,
    "start_time": "2025-05-31T13:20:00.455Z"
   },
   {
    "duration": 3,
    "start_time": "2025-05-31T13:21:27.491Z"
   },
   {
    "duration": 6,
    "start_time": "2025-05-31T13:24:36.988Z"
   },
   {
    "duration": 12,
    "start_time": "2025-05-31T13:25:05.893Z"
   },
   {
    "duration": 478,
    "start_time": "2025-05-31T13:26:20.221Z"
   },
   {
    "duration": 4,
    "start_time": "2025-05-31T13:26:48.205Z"
   },
   {
    "duration": 60,
    "start_time": "2025-05-31T13:27:06.980Z"
   },
   {
    "duration": 1302,
    "start_time": "2025-05-31T13:27:32.542Z"
   },
   {
    "duration": 6,
    "start_time": "2025-05-31T13:29:13.132Z"
   },
   {
    "duration": 9721,
    "start_time": "2025-05-31T13:29:30.357Z"
   },
   {
    "duration": 4,
    "start_time": "2025-05-31T13:38:04.384Z"
   },
   {
    "duration": 11,
    "start_time": "2025-05-31T13:42:05.998Z"
   },
   {
    "duration": 8,
    "start_time": "2025-05-31T13:50:40.794Z"
   },
   {
    "duration": 5,
    "start_time": "2025-05-31T13:50:54.130Z"
   },
   {
    "duration": 3,
    "start_time": "2025-05-31T13:50:59.788Z"
   },
   {
    "duration": 4,
    "start_time": "2025-05-31T13:51:12.110Z"
   },
   {
    "duration": 3,
    "start_time": "2025-05-31T13:51:13.979Z"
   },
   {
    "duration": 6,
    "start_time": "2025-05-31T13:51:19.692Z"
   },
   {
    "duration": 4,
    "start_time": "2025-05-31T13:51:22.875Z"
   },
   {
    "duration": 3,
    "start_time": "2025-05-31T13:51:28.775Z"
   },
   {
    "duration": 137,
    "start_time": "2025-05-31T13:52:32.363Z"
   },
   {
    "duration": 35,
    "start_time": "2025-05-31T13:52:36.965Z"
   },
   {
    "duration": 4,
    "start_time": "2025-05-31T13:53:24.522Z"
   },
   {
    "duration": 18,
    "start_time": "2025-05-31T13:53:36.588Z"
   },
   {
    "duration": 10,
    "start_time": "2025-05-31T13:54:17.214Z"
   },
   {
    "duration": 38,
    "start_time": "2025-05-31T13:54:55.000Z"
   },
   {
    "duration": 2452,
    "start_time": "2025-05-31T13:57:47.375Z"
   },
   {
    "duration": 2376,
    "start_time": "2025-05-31T13:57:49.829Z"
   },
   {
    "duration": 3056,
    "start_time": "2025-05-31T13:57:52.207Z"
   },
   {
    "duration": 1783,
    "start_time": "2025-05-31T13:57:55.265Z"
   },
   {
    "duration": 4,
    "start_time": "2025-05-31T13:57:57.049Z"
   },
   {
    "duration": 36,
    "start_time": "2025-05-31T13:57:57.054Z"
   },
   {
    "duration": 179,
    "start_time": "2025-05-31T13:57:57.091Z"
   },
   {
    "duration": 8,
    "start_time": "2025-05-31T13:57:57.272Z"
   },
   {
    "duration": 10,
    "start_time": "2025-05-31T13:57:57.281Z"
   },
   {
    "duration": 6,
    "start_time": "2025-05-31T13:57:57.293Z"
   },
   {
    "duration": 17,
    "start_time": "2025-05-31T13:57:57.301Z"
   },
   {
    "duration": 79,
    "start_time": "2025-05-31T13:57:57.319Z"
   },
   {
    "duration": 11,
    "start_time": "2025-05-31T13:57:57.400Z"
   },
   {
    "duration": 102,
    "start_time": "2025-05-31T13:57:57.412Z"
   },
   {
    "duration": 10,
    "start_time": "2025-05-31T13:57:57.515Z"
   },
   {
    "duration": 25,
    "start_time": "2025-05-31T13:57:57.527Z"
   },
   {
    "duration": 11,
    "start_time": "2025-05-31T13:57:57.554Z"
   },
   {
    "duration": 14,
    "start_time": "2025-05-31T13:57:57.566Z"
   },
   {
    "duration": 3,
    "start_time": "2025-05-31T13:57:57.582Z"
   },
   {
    "duration": 13,
    "start_time": "2025-05-31T13:57:57.586Z"
   },
   {
    "duration": 6,
    "start_time": "2025-05-31T13:57:57.601Z"
   },
   {
    "duration": 39,
    "start_time": "2025-05-31T13:57:57.608Z"
   },
   {
    "duration": 11,
    "start_time": "2025-05-31T13:57:57.649Z"
   },
   {
    "duration": 16,
    "start_time": "2025-05-31T13:57:57.662Z"
   },
   {
    "duration": 7,
    "start_time": "2025-05-31T13:57:57.680Z"
   },
   {
    "duration": 5,
    "start_time": "2025-05-31T13:57:57.689Z"
   },
   {
    "duration": 26,
    "start_time": "2025-05-31T13:57:57.695Z"
   },
   {
    "duration": 37,
    "start_time": "2025-05-31T13:57:57.725Z"
   },
   {
    "duration": 2,
    "start_time": "2025-05-31T13:57:57.763Z"
   },
   {
    "duration": 12,
    "start_time": "2025-05-31T13:57:57.767Z"
   },
   {
    "duration": 10,
    "start_time": "2025-05-31T13:57:57.780Z"
   },
   {
    "duration": 9,
    "start_time": "2025-05-31T13:57:57.791Z"
   },
   {
    "duration": 36,
    "start_time": "2025-05-31T13:57:57.802Z"
   },
   {
    "duration": 475,
    "start_time": "2025-05-31T13:57:57.840Z"
   },
   {
    "duration": 352,
    "start_time": "2025-05-31T13:57:58.317Z"
   },
   {
    "duration": 406,
    "start_time": "2025-05-31T13:57:58.671Z"
   },
   {
    "duration": 436,
    "start_time": "2025-05-31T13:57:59.078Z"
   },
   {
    "duration": 385,
    "start_time": "2025-05-31T13:57:59.516Z"
   },
   {
    "duration": 293,
    "start_time": "2025-05-31T13:57:59.902Z"
   },
   {
    "duration": 296,
    "start_time": "2025-05-31T13:58:00.197Z"
   },
   {
    "duration": 280,
    "start_time": "2025-05-31T13:58:00.495Z"
   },
   {
    "duration": 291,
    "start_time": "2025-05-31T13:58:00.777Z"
   },
   {
    "duration": 22,
    "start_time": "2025-05-31T13:58:01.069Z"
   },
   {
    "duration": 12,
    "start_time": "2025-05-31T13:58:01.093Z"
   },
   {
    "duration": 577,
    "start_time": "2025-05-31T13:58:01.107Z"
   },
   {
    "duration": 385,
    "start_time": "2025-05-31T13:58:01.686Z"
   },
   {
    "duration": 410,
    "start_time": "2025-05-31T13:58:02.073Z"
   },
   {
    "duration": 325,
    "start_time": "2025-05-31T13:58:02.485Z"
   },
   {
    "duration": 283,
    "start_time": "2025-05-31T13:58:02.812Z"
   },
   {
    "duration": 281,
    "start_time": "2025-05-31T13:58:03.097Z"
   },
   {
    "duration": 297,
    "start_time": "2025-05-31T13:58:03.379Z"
   },
   {
    "duration": 296,
    "start_time": "2025-05-31T13:58:03.677Z"
   },
   {
    "duration": 299,
    "start_time": "2025-05-31T13:58:03.974Z"
   },
   {
    "duration": 512,
    "start_time": "2025-05-31T13:58:04.275Z"
   },
   {
    "duration": 5,
    "start_time": "2025-05-31T13:58:04.788Z"
   },
   {
    "duration": 16,
    "start_time": "2025-05-31T13:58:04.794Z"
   },
   {
    "duration": 38,
    "start_time": "2025-05-31T13:58:04.811Z"
   },
   {
    "duration": 27,
    "start_time": "2025-05-31T13:58:04.851Z"
   },
   {
    "duration": 543,
    "start_time": "2025-05-31T13:58:04.880Z"
   },
   {
    "duration": 13,
    "start_time": "2025-05-31T13:58:05.424Z"
   },
   {
    "duration": 103,
    "start_time": "2025-05-31T13:58:05.439Z"
   },
   {
    "duration": 1484,
    "start_time": "2025-05-31T13:58:05.544Z"
   },
   {
    "duration": 18,
    "start_time": "2025-05-31T13:58:07.029Z"
   },
   {
    "duration": 9906,
    "start_time": "2025-05-31T13:58:07.049Z"
   },
   {
    "duration": 4,
    "start_time": "2025-05-31T13:58:16.956Z"
   },
   {
    "duration": 31,
    "start_time": "2025-05-31T13:58:16.961Z"
   },
   {
    "duration": 7,
    "start_time": "2025-05-31T13:58:16.993Z"
   },
   {
    "duration": 6,
    "start_time": "2025-05-31T13:58:17.001Z"
   },
   {
    "duration": 6,
    "start_time": "2025-05-31T13:58:17.008Z"
   },
   {
    "duration": 5,
    "start_time": "2025-05-31T13:58:17.015Z"
   },
   {
    "duration": 11,
    "start_time": "2025-05-31T13:58:17.022Z"
   },
   {
    "duration": 88,
    "start_time": "2025-05-31T14:11:08.294Z"
   },
   {
    "duration": 4,
    "start_time": "2025-05-31T14:12:33.175Z"
   },
   {
    "duration": 155,
    "start_time": "2025-05-31T14:12:58.598Z"
   },
   {
    "duration": 15,
    "start_time": "2025-05-31T14:14:43.967Z"
   },
   {
    "duration": 16,
    "start_time": "2025-05-31T14:15:05.464Z"
   },
   {
    "duration": 11,
    "start_time": "2025-05-31T14:15:33.102Z"
   },
   {
    "duration": 4,
    "start_time": "2025-05-31T14:15:42.688Z"
   },
   {
    "duration": 4,
    "start_time": "2025-05-31T14:15:44.130Z"
   },
   {
    "duration": 6,
    "start_time": "2025-05-31T14:17:55.043Z"
   },
   {
    "duration": 4,
    "start_time": "2025-05-31T14:18:04.400Z"
   },
   {
    "duration": 4,
    "start_time": "2025-05-31T14:18:21.269Z"
   },
   {
    "duration": 4,
    "start_time": "2025-05-31T14:18:22.287Z"
   },
   {
    "duration": 15,
    "start_time": "2025-05-31T14:19:58.976Z"
   },
   {
    "duration": 4,
    "start_time": "2025-05-31T14:20:11.007Z"
   },
   {
    "duration": 5,
    "start_time": "2025-05-31T14:25:46.485Z"
   },
   {
    "duration": 4,
    "start_time": "2025-05-31T14:25:49.880Z"
   },
   {
    "duration": 3,
    "start_time": "2025-05-31T14:30:14.861Z"
   },
   {
    "duration": 4,
    "start_time": "2025-05-31T14:30:17.128Z"
   },
   {
    "duration": 3,
    "start_time": "2025-05-31T14:34:29.064Z"
   },
   {
    "duration": 17,
    "start_time": "2025-05-31T14:34:30.288Z"
   },
   {
    "duration": 3,
    "start_time": "2025-05-31T14:35:43.288Z"
   },
   {
    "duration": 15,
    "start_time": "2025-05-31T14:35:44.732Z"
   },
   {
    "duration": 11,
    "start_time": "2025-05-31T14:36:02.735Z"
   },
   {
    "duration": 3,
    "start_time": "2025-05-31T14:36:04.528Z"
   },
   {
    "duration": 4,
    "start_time": "2025-05-31T14:36:57.112Z"
   },
   {
    "duration": 4,
    "start_time": "2025-05-31T14:37:42.156Z"
   },
   {
    "duration": 5,
    "start_time": "2025-05-31T14:37:44.167Z"
   },
   {
    "duration": 5,
    "start_time": "2025-05-31T14:37:53.599Z"
   },
   {
    "duration": 3,
    "start_time": "2025-05-31T14:37:54.285Z"
   },
   {
    "duration": 2570,
    "start_time": "2025-05-31T14:38:42.166Z"
   },
   {
    "duration": 2537,
    "start_time": "2025-05-31T14:38:44.742Z"
   },
   {
    "duration": 3082,
    "start_time": "2025-05-31T14:38:47.281Z"
   },
   {
    "duration": 1745,
    "start_time": "2025-05-31T14:38:50.365Z"
   },
   {
    "duration": 4,
    "start_time": "2025-05-31T14:38:52.112Z"
   },
   {
    "duration": 37,
    "start_time": "2025-05-31T14:38:52.117Z"
   },
   {
    "duration": 7,
    "start_time": "2025-05-31T14:38:52.156Z"
   },
   {
    "duration": 8,
    "start_time": "2025-05-31T14:38:52.164Z"
   },
   {
    "duration": 9,
    "start_time": "2025-05-31T14:38:52.173Z"
   },
   {
    "duration": 10,
    "start_time": "2025-05-31T14:38:52.183Z"
   },
   {
    "duration": 13,
    "start_time": "2025-05-31T14:38:52.195Z"
   },
   {
    "duration": 87,
    "start_time": "2025-05-31T14:38:52.210Z"
   },
   {
    "duration": 12,
    "start_time": "2025-05-31T14:38:52.298Z"
   },
   {
    "duration": 15,
    "start_time": "2025-05-31T14:38:52.313Z"
   },
   {
    "duration": 13,
    "start_time": "2025-05-31T14:38:52.330Z"
   },
   {
    "duration": 11,
    "start_time": "2025-05-31T14:38:52.345Z"
   },
   {
    "duration": 12,
    "start_time": "2025-05-31T14:38:52.357Z"
   },
   {
    "duration": 7,
    "start_time": "2025-05-31T14:38:52.370Z"
   },
   {
    "duration": 6,
    "start_time": "2025-05-31T14:38:52.379Z"
   },
   {
    "duration": 13,
    "start_time": "2025-05-31T14:38:52.386Z"
   },
   {
    "duration": 6,
    "start_time": "2025-05-31T14:38:52.401Z"
   },
   {
    "duration": 24,
    "start_time": "2025-05-31T14:38:52.438Z"
   },
   {
    "duration": 16,
    "start_time": "2025-05-31T14:38:52.464Z"
   },
   {
    "duration": 7,
    "start_time": "2025-05-31T14:38:52.482Z"
   },
   {
    "duration": 13,
    "start_time": "2025-05-31T14:38:52.490Z"
   },
   {
    "duration": 9,
    "start_time": "2025-05-31T14:38:52.504Z"
   },
   {
    "duration": 57,
    "start_time": "2025-05-31T14:38:52.515Z"
   },
   {
    "duration": 18,
    "start_time": "2025-05-31T14:38:52.573Z"
   },
   {
    "duration": 3,
    "start_time": "2025-05-31T14:38:52.592Z"
   },
   {
    "duration": 16,
    "start_time": "2025-05-31T14:38:52.597Z"
   },
   {
    "duration": 8,
    "start_time": "2025-05-31T14:38:52.643Z"
   },
   {
    "duration": 10,
    "start_time": "2025-05-31T14:38:52.655Z"
   },
   {
    "duration": 26,
    "start_time": "2025-05-31T14:38:52.667Z"
   },
   {
    "duration": 499,
    "start_time": "2025-05-31T14:38:52.695Z"
   },
   {
    "duration": 386,
    "start_time": "2025-05-31T14:38:53.195Z"
   },
   {
    "duration": 412,
    "start_time": "2025-05-31T14:38:53.582Z"
   },
   {
    "duration": 453,
    "start_time": "2025-05-31T14:38:53.995Z"
   },
   {
    "duration": 354,
    "start_time": "2025-05-31T14:38:54.453Z"
   },
   {
    "duration": 277,
    "start_time": "2025-05-31T14:38:54.809Z"
   },
   {
    "duration": 299,
    "start_time": "2025-05-31T14:38:55.088Z"
   },
   {
    "duration": 290,
    "start_time": "2025-05-31T14:38:55.390Z"
   },
   {
    "duration": 307,
    "start_time": "2025-05-31T14:38:55.681Z"
   },
   {
    "duration": 21,
    "start_time": "2025-05-31T14:38:55.989Z"
   },
   {
    "duration": 52,
    "start_time": "2025-05-31T14:38:56.012Z"
   },
   {
    "duration": 423,
    "start_time": "2025-05-31T14:38:56.065Z"
   },
   {
    "duration": 384,
    "start_time": "2025-05-31T14:38:56.490Z"
   },
   {
    "duration": 452,
    "start_time": "2025-05-31T14:38:56.875Z"
   },
   {
    "duration": 278,
    "start_time": "2025-05-31T14:38:57.328Z"
   },
   {
    "duration": 264,
    "start_time": "2025-05-31T14:38:57.608Z"
   },
   {
    "duration": 228,
    "start_time": "2025-05-31T14:38:57.874Z"
   },
   {
    "duration": 250,
    "start_time": "2025-05-31T14:38:58.135Z"
   },
   {
    "duration": 297,
    "start_time": "2025-05-31T14:38:58.387Z"
   },
   {
    "duration": 397,
    "start_time": "2025-05-31T14:38:58.686Z"
   },
   {
    "duration": 405,
    "start_time": "2025-05-31T14:38:59.084Z"
   },
   {
    "duration": 5,
    "start_time": "2025-05-31T14:38:59.490Z"
   },
   {
    "duration": 5,
    "start_time": "2025-05-31T14:38:59.496Z"
   },
   {
    "duration": 6,
    "start_time": "2025-05-31T14:38:59.502Z"
   },
   {
    "duration": 37,
    "start_time": "2025-05-31T14:38:59.510Z"
   },
   {
    "duration": 571,
    "start_time": "2025-05-31T14:38:59.551Z"
   },
   {
    "duration": 14,
    "start_time": "2025-05-31T14:39:00.123Z"
   },
   {
    "duration": 112,
    "start_time": "2025-05-31T14:39:00.142Z"
   },
   {
    "duration": 1462,
    "start_time": "2025-05-31T14:39:00.262Z"
   },
   {
    "duration": 8,
    "start_time": "2025-05-31T14:39:01.725Z"
   },
   {
    "duration": 10195,
    "start_time": "2025-05-31T14:39:01.734Z"
   },
   {
    "duration": 22,
    "start_time": "2025-05-31T14:39:11.934Z"
   },
   {
    "duration": 73,
    "start_time": "2025-05-31T14:39:11.958Z"
   },
   {
    "duration": 18,
    "start_time": "2025-05-31T14:39:12.032Z"
   },
   {
    "duration": 6,
    "start_time": "2025-05-31T14:39:12.058Z"
   },
   {
    "duration": 6,
    "start_time": "2025-05-31T14:39:12.066Z"
   },
   {
    "duration": 9,
    "start_time": "2025-05-31T14:39:12.074Z"
   },
   {
    "duration": 8,
    "start_time": "2025-05-31T14:39:12.084Z"
   },
   {
    "duration": 3,
    "start_time": "2025-05-31T14:40:27.393Z"
   },
   {
    "duration": 12,
    "start_time": "2025-05-31T14:41:31.147Z"
   },
   {
    "duration": 6,
    "start_time": "2025-05-31T14:42:27.609Z"
   },
   {
    "duration": 141,
    "start_time": "2025-05-31T14:49:44.187Z"
   },
   {
    "duration": 13,
    "start_time": "2025-05-31T14:51:25.595Z"
   },
   {
    "duration": 5,
    "start_time": "2025-05-31T14:54:01.327Z"
   },
   {
    "duration": 10,
    "start_time": "2025-05-31T14:54:36.604Z"
   },
   {
    "duration": 7,
    "start_time": "2025-05-31T14:54:50.742Z"
   },
   {
    "duration": 4,
    "start_time": "2025-05-31T14:57:58.828Z"
   },
   {
    "duration": 3,
    "start_time": "2025-05-31T14:58:10.393Z"
   },
   {
    "duration": 4,
    "start_time": "2025-05-31T15:06:35.990Z"
   },
   {
    "duration": 5,
    "start_time": "2025-05-31T15:06:47.477Z"
   },
   {
    "duration": 5,
    "start_time": "2025-05-31T15:07:29.798Z"
   },
   {
    "duration": 4,
    "start_time": "2025-05-31T15:08:56.747Z"
   },
   {
    "duration": 18829,
    "start_time": "2025-05-31T15:10:27.160Z"
   },
   {
    "duration": 23,
    "start_time": "2025-05-31T15:12:15.393Z"
   },
   {
    "duration": 4,
    "start_time": "2025-05-31T15:23:57.075Z"
   },
   {
    "duration": 4,
    "start_time": "2025-05-31T15:24:23.497Z"
   },
   {
    "duration": 4,
    "start_time": "2025-05-31T15:26:31.319Z"
   },
   {
    "duration": 5,
    "start_time": "2025-05-31T15:26:58.371Z"
   },
   {
    "duration": 4,
    "start_time": "2025-05-31T15:27:04.199Z"
   },
   {
    "duration": 4,
    "start_time": "2025-05-31T15:29:18.865Z"
   },
   {
    "duration": 18311,
    "start_time": "2025-05-31T15:29:20.647Z"
   },
   {
    "duration": 24,
    "start_time": "2025-05-31T15:29:47.688Z"
   },
   {
    "duration": 107,
    "start_time": "2025-05-31T15:47:59.624Z"
   },
   {
    "duration": 4,
    "start_time": "2025-05-31T15:48:07.798Z"
   },
   {
    "duration": 306078,
    "start_time": "2025-05-31T15:49:39.752Z"
   },
   {
    "duration": 21,
    "start_time": "2025-05-31T15:55:25.970Z"
   },
   {
    "duration": 4,
    "start_time": "2025-05-31T15:56:44.822Z"
   },
   {
    "duration": 305473,
    "start_time": "2025-05-31T15:56:54.610Z"
   },
   {
    "duration": 11,
    "start_time": "2025-05-31T16:02:09.138Z"
   },
   {
    "duration": 4,
    "start_time": "2025-05-31T16:02:39.845Z"
   },
   {
    "duration": 140115,
    "start_time": "2025-05-31T16:02:42.142Z"
   },
   {
    "duration": 21,
    "start_time": "2025-05-31T16:05:36.635Z"
   },
   {
    "duration": 3,
    "start_time": "2025-05-31T16:06:54.599Z"
   },
   {
    "duration": 47741,
    "start_time": "2025-05-31T16:06:58.123Z"
   },
   {
    "duration": 3,
    "start_time": "2025-05-31T16:08:45.643Z"
   },
   {
    "duration": 22,
    "start_time": "2025-05-31T16:09:08.898Z"
   },
   {
    "duration": 3,
    "start_time": "2025-05-31T16:10:57.354Z"
   },
   {
    "duration": 115159,
    "start_time": "2025-05-31T16:11:07.516Z"
   },
   {
    "duration": 21,
    "start_time": "2025-05-31T16:13:07.698Z"
   },
   {
    "duration": 3,
    "start_time": "2025-05-31T16:14:12.786Z"
   },
   {
    "duration": 73670,
    "start_time": "2025-05-31T16:14:16.115Z"
   },
   {
    "duration": 20,
    "start_time": "2025-05-31T16:15:34.816Z"
   },
   {
    "duration": 3,
    "start_time": "2025-05-31T16:16:24.700Z"
   },
   {
    "duration": 71909,
    "start_time": "2025-05-31T16:16:26.554Z"
   },
   {
    "duration": 21,
    "start_time": "2025-05-31T16:17:42.703Z"
   },
   {
    "duration": 3,
    "start_time": "2025-05-31T16:18:03.130Z"
   },
   {
    "duration": 2,
    "start_time": "2025-05-31T16:22:11.795Z"
   },
   {
    "duration": 11,
    "start_time": "2025-05-31T16:24:38.595Z"
   },
   {
    "duration": 151,
    "start_time": "2025-05-31T16:24:45.231Z"
   },
   {
    "duration": 10,
    "start_time": "2025-05-31T16:25:44.484Z"
   },
   {
    "duration": 9,
    "start_time": "2025-05-31T16:25:58.512Z"
   },
   {
    "duration": 13,
    "start_time": "2025-05-31T16:26:10.111Z"
   },
   {
    "duration": 2444,
    "start_time": "2025-05-31T16:32:42.631Z"
   },
   {
    "duration": 2410,
    "start_time": "2025-05-31T16:32:45.077Z"
   },
   {
    "duration": 2858,
    "start_time": "2025-05-31T16:32:47.490Z"
   },
   {
    "duration": 1707,
    "start_time": "2025-05-31T16:32:50.350Z"
   },
   {
    "duration": 3,
    "start_time": "2025-05-31T16:32:52.059Z"
   },
   {
    "duration": 5,
    "start_time": "2025-05-31T16:32:52.064Z"
   },
   {
    "duration": 6,
    "start_time": "2025-05-31T16:32:52.070Z"
   },
   {
    "duration": 14,
    "start_time": "2025-05-31T16:32:52.078Z"
   },
   {
    "duration": 5,
    "start_time": "2025-05-31T16:32:52.094Z"
   },
   {
    "duration": 8,
    "start_time": "2025-05-31T16:32:52.101Z"
   },
   {
    "duration": 4,
    "start_time": "2025-05-31T16:32:52.110Z"
   },
   {
    "duration": 70,
    "start_time": "2025-05-31T16:32:52.115Z"
   },
   {
    "duration": 15,
    "start_time": "2025-05-31T16:32:52.187Z"
   },
   {
    "duration": 20,
    "start_time": "2025-05-31T16:32:52.204Z"
   },
   {
    "duration": 11,
    "start_time": "2025-05-31T16:32:52.226Z"
   },
   {
    "duration": 18,
    "start_time": "2025-05-31T16:32:52.238Z"
   },
   {
    "duration": 17,
    "start_time": "2025-05-31T16:32:52.257Z"
   },
   {
    "duration": 9,
    "start_time": "2025-05-31T16:32:52.276Z"
   },
   {
    "duration": 5,
    "start_time": "2025-05-31T16:32:52.287Z"
   },
   {
    "duration": 97,
    "start_time": "2025-05-31T16:32:52.293Z"
   },
   {
    "duration": 5,
    "start_time": "2025-05-31T16:32:52.392Z"
   },
   {
    "duration": 12,
    "start_time": "2025-05-31T16:32:52.398Z"
   },
   {
    "duration": 10,
    "start_time": "2025-05-31T16:32:52.411Z"
   },
   {
    "duration": 7,
    "start_time": "2025-05-31T16:32:52.422Z"
   },
   {
    "duration": 4,
    "start_time": "2025-05-31T16:32:52.430Z"
   },
   {
    "duration": 4,
    "start_time": "2025-05-31T16:32:52.436Z"
   },
   {
    "duration": 24,
    "start_time": "2025-05-31T16:32:52.441Z"
   },
   {
    "duration": 17,
    "start_time": "2025-05-31T16:32:52.469Z"
   },
   {
    "duration": 2,
    "start_time": "2025-05-31T16:32:52.487Z"
   },
   {
    "duration": 44,
    "start_time": "2025-05-31T16:32:52.491Z"
   },
   {
    "duration": 6,
    "start_time": "2025-05-31T16:32:52.536Z"
   },
   {
    "duration": 7,
    "start_time": "2025-05-31T16:32:52.544Z"
   },
   {
    "duration": 47,
    "start_time": "2025-05-31T16:32:52.553Z"
   },
   {
    "duration": 387,
    "start_time": "2025-05-31T16:32:52.602Z"
   },
   {
    "duration": 354,
    "start_time": "2025-05-31T16:32:52.990Z"
   },
   {
    "duration": 369,
    "start_time": "2025-05-31T16:32:53.346Z"
   },
   {
    "duration": 378,
    "start_time": "2025-05-31T16:32:53.716Z"
   },
   {
    "duration": 390,
    "start_time": "2025-05-31T16:32:54.096Z"
   },
   {
    "duration": 287,
    "start_time": "2025-05-31T16:32:54.488Z"
   },
   {
    "duration": 285,
    "start_time": "2025-05-31T16:32:54.776Z"
   },
   {
    "duration": 215,
    "start_time": "2025-05-31T16:32:55.063Z"
   },
   {
    "duration": 287,
    "start_time": "2025-05-31T16:32:55.279Z"
   },
   {
    "duration": 23,
    "start_time": "2025-05-31T16:32:55.568Z"
   },
   {
    "duration": 12,
    "start_time": "2025-05-31T16:32:55.592Z"
   },
   {
    "duration": 374,
    "start_time": "2025-05-31T16:32:55.606Z"
   },
   {
    "duration": 388,
    "start_time": "2025-05-31T16:32:55.982Z"
   },
   {
    "duration": 411,
    "start_time": "2025-05-31T16:32:56.372Z"
   },
   {
    "duration": 328,
    "start_time": "2025-05-31T16:32:56.784Z"
   },
   {
    "duration": 271,
    "start_time": "2025-05-31T16:32:57.114Z"
   },
   {
    "duration": 297,
    "start_time": "2025-05-31T16:32:57.386Z"
   },
   {
    "duration": 275,
    "start_time": "2025-05-31T16:32:57.685Z"
   },
   {
    "duration": 227,
    "start_time": "2025-05-31T16:32:57.962Z"
   },
   {
    "duration": 298,
    "start_time": "2025-05-31T16:32:58.190Z"
   },
   {
    "duration": 504,
    "start_time": "2025-05-31T16:32:58.489Z"
   },
   {
    "duration": 4,
    "start_time": "2025-05-31T16:32:58.994Z"
   },
   {
    "duration": 23,
    "start_time": "2025-05-31T16:32:59.000Z"
   },
   {
    "duration": 10,
    "start_time": "2025-05-31T16:32:59.024Z"
   },
   {
    "duration": 11,
    "start_time": "2025-05-31T16:32:59.036Z"
   },
   {
    "duration": 462,
    "start_time": "2025-05-31T16:32:59.048Z"
   },
   {
    "duration": 4,
    "start_time": "2025-05-31T16:32:59.511Z"
   },
   {
    "duration": 120,
    "start_time": "2025-05-31T16:32:59.517Z"
   },
   {
    "duration": 1437,
    "start_time": "2025-05-31T16:32:59.639Z"
   },
   {
    "duration": 7,
    "start_time": "2025-05-31T16:33:01.078Z"
   },
   {
    "duration": 9810,
    "start_time": "2025-05-31T16:33:01.086Z"
   },
   {
    "duration": 4,
    "start_time": "2025-05-31T16:33:10.897Z"
   },
   {
    "duration": 9,
    "start_time": "2025-05-31T16:33:10.903Z"
   },
   {
    "duration": 5,
    "start_time": "2025-05-31T16:33:10.913Z"
   },
   {
    "duration": 3,
    "start_time": "2025-05-31T16:33:10.936Z"
   },
   {
    "duration": 12,
    "start_time": "2025-05-31T16:33:10.941Z"
   },
   {
    "duration": 4,
    "start_time": "2025-05-31T16:33:10.955Z"
   },
   {
    "duration": 6,
    "start_time": "2025-05-31T16:33:10.961Z"
   },
   {
    "duration": 7,
    "start_time": "2025-05-31T16:33:10.969Z"
   },
   {
    "duration": 7,
    "start_time": "2025-05-31T16:33:10.977Z"
   },
   {
    "duration": 17856,
    "start_time": "2025-05-31T16:33:10.986Z"
   },
   {
    "duration": 23,
    "start_time": "2025-05-31T16:33:28.844Z"
   },
   {
    "duration": 5,
    "start_time": "2025-05-31T16:33:28.869Z"
   },
   {
    "duration": 39446,
    "start_time": "2025-05-31T16:33:28.875Z"
   },
   {
    "duration": 30,
    "start_time": "2025-05-31T16:34:08.323Z"
   },
   {
    "duration": 49,
    "start_time": "2025-05-31T16:34:08.355Z"
   },
   {
    "duration": 163,
    "start_time": "2025-05-31T16:34:08.406Z"
   },
   {
    "duration": 104,
    "start_time": "2025-05-31T17:11:28.282Z"
   },
   {
    "duration": 34,
    "start_time": "2025-05-31T17:15:02.060Z"
   },
   {
    "duration": 16,
    "start_time": "2025-05-31T17:16:17.555Z"
   },
   {
    "duration": 5,
    "start_time": "2025-05-31T17:23:12.336Z"
   },
   {
    "duration": 4,
    "start_time": "2025-05-31T17:24:49.033Z"
   },
   {
    "duration": 57550,
    "start_time": "2025-05-31T17:26:43.805Z"
   },
   {
    "duration": 6,
    "start_time": "2025-05-31T17:29:55.912Z"
   },
   {
    "duration": 138,
    "start_time": "2025-05-31T17:30:33.349Z"
   },
   {
    "duration": 4,
    "start_time": "2025-05-31T17:31:02.045Z"
   },
   {
    "duration": 93917,
    "start_time": "2025-05-31T17:31:05.459Z"
   },
   {
    "duration": 27,
    "start_time": "2025-05-31T17:33:11.668Z"
   },
   {
    "duration": 25,
    "start_time": "2025-05-31T17:37:55.252Z"
   },
   {
    "duration": 32,
    "start_time": "2025-05-31T17:38:46.453Z"
   },
   {
    "duration": 3,
    "start_time": "2025-05-31T17:43:14.637Z"
   },
   {
    "duration": 29587,
    "start_time": "2025-05-31T17:44:10.501Z"
   },
   {
    "duration": 29,
    "start_time": "2025-05-31T17:45:46.274Z"
   },
   {
    "duration": 11,
    "start_time": "2025-05-31T17:48:20.562Z"
   },
   {
    "duration": 64,
    "start_time": "2025-05-31T17:48:24.436Z"
   },
   {
    "duration": 10,
    "start_time": "2025-05-31T17:52:04.836Z"
   },
   {
    "duration": 7,
    "start_time": "2025-05-31T17:52:19.626Z"
   },
   {
    "duration": 9,
    "start_time": "2025-05-31T17:53:20.689Z"
   },
   {
    "duration": 7,
    "start_time": "2025-05-31T17:53:25.265Z"
   },
   {
    "duration": 5,
    "start_time": "2025-05-31T17:56:00.701Z"
   },
   {
    "duration": 11,
    "start_time": "2025-05-31T17:56:10.701Z"
   },
   {
    "duration": 5,
    "start_time": "2025-05-31T17:57:11.331Z"
   },
   {
    "duration": 22,
    "start_time": "2025-05-31T17:57:22.367Z"
   },
   {
    "duration": 2324,
    "start_time": "2025-05-31T18:04:08.370Z"
   },
   {
    "duration": 2293,
    "start_time": "2025-05-31T18:04:10.696Z"
   },
   {
    "duration": 2803,
    "start_time": "2025-05-31T18:04:12.992Z"
   },
   {
    "duration": 1708,
    "start_time": "2025-05-31T18:04:15.798Z"
   },
   {
    "duration": 4,
    "start_time": "2025-05-31T18:04:17.507Z"
   },
   {
    "duration": 50,
    "start_time": "2025-05-31T18:04:17.512Z"
   },
   {
    "duration": 5,
    "start_time": "2025-05-31T18:04:17.564Z"
   },
   {
    "duration": 78,
    "start_time": "2025-05-31T18:04:17.570Z"
   },
   {
    "duration": 5,
    "start_time": "2025-05-31T18:04:17.650Z"
   },
   {
    "duration": 8,
    "start_time": "2025-05-31T18:04:17.657Z"
   },
   {
    "duration": 5,
    "start_time": "2025-05-31T18:04:17.666Z"
   },
   {
    "duration": 68,
    "start_time": "2025-05-31T18:04:17.672Z"
   },
   {
    "duration": 12,
    "start_time": "2025-05-31T18:04:17.741Z"
   },
   {
    "duration": 14,
    "start_time": "2025-05-31T18:04:17.754Z"
   },
   {
    "duration": 10,
    "start_time": "2025-05-31T18:04:17.769Z"
   },
   {
    "duration": 17,
    "start_time": "2025-05-31T18:04:17.780Z"
   },
   {
    "duration": 10,
    "start_time": "2025-05-31T18:04:17.799Z"
   },
   {
    "duration": 30,
    "start_time": "2025-05-31T18:04:17.811Z"
   },
   {
    "duration": 12,
    "start_time": "2025-05-31T18:04:17.843Z"
   },
   {
    "duration": 16,
    "start_time": "2025-05-31T18:04:17.856Z"
   },
   {
    "duration": 5,
    "start_time": "2025-05-31T18:04:17.873Z"
   },
   {
    "duration": 16,
    "start_time": "2025-05-31T18:04:17.879Z"
   },
   {
    "duration": 18,
    "start_time": "2025-05-31T18:04:17.896Z"
   },
   {
    "duration": 214,
    "start_time": "2025-05-31T18:04:17.915Z"
   },
   {
    "duration": 10,
    "start_time": "2025-05-31T18:04:18.131Z"
   },
   {
    "duration": 112,
    "start_time": "2025-05-31T18:04:18.142Z"
   },
   {
    "duration": 16,
    "start_time": "2025-05-31T18:04:18.256Z"
   },
   {
    "duration": 3,
    "start_time": "2025-05-31T18:04:18.276Z"
   },
   {
    "duration": 15,
    "start_time": "2025-05-31T18:04:18.280Z"
   },
   {
    "duration": 6,
    "start_time": "2025-05-31T18:04:18.296Z"
   },
   {
    "duration": 36,
    "start_time": "2025-05-31T18:04:18.304Z"
   },
   {
    "duration": 30,
    "start_time": "2025-05-31T18:04:18.342Z"
   },
   {
    "duration": 407,
    "start_time": "2025-05-31T18:04:18.374Z"
   },
   {
    "duration": 359,
    "start_time": "2025-05-31T18:04:18.783Z"
   },
   {
    "duration": 362,
    "start_time": "2025-05-31T18:04:19.144Z"
   },
   {
    "duration": 390,
    "start_time": "2025-05-31T18:04:19.507Z"
   },
   {
    "duration": 379,
    "start_time": "2025-05-31T18:04:19.899Z"
   },
   {
    "duration": 279,
    "start_time": "2025-05-31T18:04:20.280Z"
   },
   {
    "duration": 228,
    "start_time": "2025-05-31T18:04:20.560Z"
   },
   {
    "duration": 272,
    "start_time": "2025-05-31T18:04:20.789Z"
   },
   {
    "duration": 218,
    "start_time": "2025-05-31T18:04:21.063Z"
   },
   {
    "duration": 53,
    "start_time": "2025-05-31T18:04:21.283Z"
   },
   {
    "duration": 10,
    "start_time": "2025-05-31T18:04:21.338Z"
   },
   {
    "duration": 355,
    "start_time": "2025-05-31T18:04:21.350Z"
   },
   {
    "duration": 342,
    "start_time": "2025-05-31T18:04:21.707Z"
   },
   {
    "duration": 399,
    "start_time": "2025-05-31T18:04:22.051Z"
   },
   {
    "duration": 253,
    "start_time": "2025-05-31T18:04:22.452Z"
   },
   {
    "duration": 257,
    "start_time": "2025-05-31T18:04:22.706Z"
   },
   {
    "duration": 219,
    "start_time": "2025-05-31T18:04:22.965Z"
   },
   {
    "duration": 290,
    "start_time": "2025-05-31T18:04:23.185Z"
   },
   {
    "duration": 278,
    "start_time": "2025-05-31T18:04:23.477Z"
   },
   {
    "duration": 230,
    "start_time": "2025-05-31T18:04:23.756Z"
   },
   {
    "duration": 1095,
    "start_time": "2025-05-31T18:04:23.988Z"
   },
   {
    "duration": 0,
    "start_time": "2025-05-31T18:04:25.085Z"
   },
   {
    "duration": 0,
    "start_time": "2025-05-31T18:04:25.087Z"
   },
   {
    "duration": 0,
    "start_time": "2025-05-31T18:04:25.089Z"
   },
   {
    "duration": 0,
    "start_time": "2025-05-31T18:04:25.090Z"
   },
   {
    "duration": 0,
    "start_time": "2025-05-31T18:04:25.092Z"
   },
   {
    "duration": 0,
    "start_time": "2025-05-31T18:04:25.093Z"
   },
   {
    "duration": 0,
    "start_time": "2025-05-31T18:04:25.095Z"
   },
   {
    "duration": 0,
    "start_time": "2025-05-31T18:04:25.096Z"
   },
   {
    "duration": 0,
    "start_time": "2025-05-31T18:04:25.097Z"
   },
   {
    "duration": 0,
    "start_time": "2025-05-31T18:04:25.099Z"
   },
   {
    "duration": 0,
    "start_time": "2025-05-31T18:04:25.100Z"
   },
   {
    "duration": 0,
    "start_time": "2025-05-31T18:04:25.101Z"
   },
   {
    "duration": 0,
    "start_time": "2025-05-31T18:04:25.103Z"
   },
   {
    "duration": 0,
    "start_time": "2025-05-31T18:04:25.104Z"
   },
   {
    "duration": 0,
    "start_time": "2025-05-31T18:04:25.106Z"
   },
   {
    "duration": 0,
    "start_time": "2025-05-31T18:04:25.107Z"
   },
   {
    "duration": 0,
    "start_time": "2025-05-31T18:04:25.109Z"
   },
   {
    "duration": 0,
    "start_time": "2025-05-31T18:04:25.110Z"
   },
   {
    "duration": 0,
    "start_time": "2025-05-31T18:04:25.112Z"
   },
   {
    "duration": 0,
    "start_time": "2025-05-31T18:04:25.113Z"
   },
   {
    "duration": 0,
    "start_time": "2025-05-31T18:04:25.114Z"
   },
   {
    "duration": 0,
    "start_time": "2025-05-31T18:04:25.115Z"
   },
   {
    "duration": 0,
    "start_time": "2025-05-31T18:04:25.117Z"
   },
   {
    "duration": 0,
    "start_time": "2025-05-31T18:04:25.118Z"
   },
   {
    "duration": 0,
    "start_time": "2025-05-31T18:04:25.268Z"
   },
   {
    "duration": 0,
    "start_time": "2025-05-31T18:04:25.269Z"
   },
   {
    "duration": 10,
    "start_time": "2025-05-31T18:05:41.933Z"
   },
   {
    "duration": 6,
    "start_time": "2025-05-31T18:05:55.457Z"
   },
   {
    "duration": 7,
    "start_time": "2025-05-31T18:06:34.821Z"
   },
   {
    "duration": 6,
    "start_time": "2025-05-31T18:06:37.173Z"
   },
   {
    "duration": 2387,
    "start_time": "2025-05-31T18:07:04.292Z"
   },
   {
    "duration": 2337,
    "start_time": "2025-05-31T18:07:06.681Z"
   },
   {
    "duration": 2838,
    "start_time": "2025-05-31T18:07:09.020Z"
   },
   {
    "duration": 1668,
    "start_time": "2025-05-31T18:07:11.860Z"
   },
   {
    "duration": 3,
    "start_time": "2025-05-31T18:07:13.530Z"
   },
   {
    "duration": 5,
    "start_time": "2025-05-31T18:07:13.535Z"
   },
   {
    "duration": 6,
    "start_time": "2025-05-31T18:07:13.542Z"
   },
   {
    "duration": 6,
    "start_time": "2025-05-31T18:07:13.549Z"
   },
   {
    "duration": 7,
    "start_time": "2025-05-31T18:07:13.556Z"
   },
   {
    "duration": 4,
    "start_time": "2025-05-31T18:07:13.565Z"
   },
   {
    "duration": 3,
    "start_time": "2025-05-31T18:07:13.570Z"
   },
   {
    "duration": 113,
    "start_time": "2025-05-31T18:07:13.575Z"
   },
   {
    "duration": 13,
    "start_time": "2025-05-31T18:07:13.690Z"
   },
   {
    "duration": 14,
    "start_time": "2025-05-31T18:07:13.706Z"
   },
   {
    "duration": 10,
    "start_time": "2025-05-31T18:07:13.721Z"
   },
   {
    "duration": 15,
    "start_time": "2025-05-31T18:07:13.732Z"
   },
   {
    "duration": 11,
    "start_time": "2025-05-31T18:07:13.748Z"
   },
   {
    "duration": 16,
    "start_time": "2025-05-31T18:07:13.760Z"
   },
   {
    "duration": 5,
    "start_time": "2025-05-31T18:07:13.777Z"
   },
   {
    "duration": 23,
    "start_time": "2025-05-31T18:07:13.783Z"
   },
   {
    "duration": 5,
    "start_time": "2025-05-31T18:07:13.808Z"
   },
   {
    "duration": 11,
    "start_time": "2025-05-31T18:07:13.814Z"
   },
   {
    "duration": 14,
    "start_time": "2025-05-31T18:07:13.827Z"
   },
   {
    "duration": 7,
    "start_time": "2025-05-31T18:07:13.842Z"
   },
   {
    "duration": 8,
    "start_time": "2025-05-31T18:07:13.850Z"
   },
   {
    "duration": 24,
    "start_time": "2025-05-31T18:07:13.860Z"
   },
   {
    "duration": 16,
    "start_time": "2025-05-31T18:07:13.886Z"
   },
   {
    "duration": 2,
    "start_time": "2025-05-31T18:07:13.904Z"
   },
   {
    "duration": 38,
    "start_time": "2025-05-31T18:07:13.908Z"
   },
   {
    "duration": 129,
    "start_time": "2025-05-31T18:07:13.948Z"
   },
   {
    "duration": 70,
    "start_time": "2025-05-31T18:07:14.079Z"
   },
   {
    "duration": 34,
    "start_time": "2025-05-31T18:07:14.151Z"
   },
   {
    "duration": 452,
    "start_time": "2025-05-31T18:07:14.189Z"
   },
   {
    "duration": 331,
    "start_time": "2025-05-31T18:07:14.643Z"
   },
   {
    "duration": 397,
    "start_time": "2025-05-31T18:07:14.976Z"
   },
   {
    "duration": 410,
    "start_time": "2025-05-31T18:07:15.374Z"
   },
   {
    "duration": 394,
    "start_time": "2025-05-31T18:07:15.786Z"
   },
   {
    "duration": 288,
    "start_time": "2025-05-31T18:07:16.182Z"
   },
   {
    "duration": 294,
    "start_time": "2025-05-31T18:07:16.471Z"
   },
   {
    "duration": 270,
    "start_time": "2025-05-31T18:07:16.766Z"
   },
   {
    "duration": 248,
    "start_time": "2025-05-31T18:07:17.041Z"
   },
   {
    "duration": 21,
    "start_time": "2025-05-31T18:07:17.291Z"
   },
   {
    "duration": 29,
    "start_time": "2025-05-31T18:07:17.313Z"
   },
   {
    "duration": 400,
    "start_time": "2025-05-31T18:07:17.344Z"
   },
   {
    "duration": 332,
    "start_time": "2025-05-31T18:07:17.746Z"
   },
   {
    "duration": 413,
    "start_time": "2025-05-31T18:07:18.080Z"
   },
   {
    "duration": 311,
    "start_time": "2025-05-31T18:07:18.494Z"
   },
   {
    "duration": 256,
    "start_time": "2025-05-31T18:07:18.806Z"
   },
   {
    "duration": 235,
    "start_time": "2025-05-31T18:07:19.063Z"
   },
   {
    "duration": 285,
    "start_time": "2025-05-31T18:07:19.300Z"
   },
   {
    "duration": 285,
    "start_time": "2025-05-31T18:07:19.587Z"
   },
   {
    "duration": 385,
    "start_time": "2025-05-31T18:07:19.873Z"
   },
   {
    "duration": 409,
    "start_time": "2025-05-31T18:07:20.260Z"
   },
   {
    "duration": 4,
    "start_time": "2025-05-31T18:07:20.671Z"
   },
   {
    "duration": 16,
    "start_time": "2025-05-31T18:07:20.677Z"
   },
   {
    "duration": 7,
    "start_time": "2025-05-31T18:07:20.694Z"
   },
   {
    "duration": 17,
    "start_time": "2025-05-31T18:07:20.702Z"
   },
   {
    "duration": 486,
    "start_time": "2025-05-31T18:07:20.721Z"
   },
   {
    "duration": 5,
    "start_time": "2025-05-31T18:07:21.209Z"
   },
   {
    "duration": 125,
    "start_time": "2025-05-31T18:07:21.215Z"
   },
   {
    "duration": 1398,
    "start_time": "2025-05-31T18:07:21.342Z"
   },
   {
    "duration": 7,
    "start_time": "2025-05-31T18:07:22.742Z"
   },
   {
    "duration": 9467,
    "start_time": "2025-05-31T18:07:22.751Z"
   },
   {
    "duration": 4,
    "start_time": "2025-05-31T18:07:32.220Z"
   },
   {
    "duration": 74,
    "start_time": "2025-05-31T18:07:32.235Z"
   },
   {
    "duration": 12,
    "start_time": "2025-05-31T18:07:32.311Z"
   },
   {
    "duration": 16,
    "start_time": "2025-05-31T18:07:32.324Z"
   },
   {
    "duration": 18,
    "start_time": "2025-05-31T18:07:32.342Z"
   },
   {
    "duration": 12,
    "start_time": "2025-05-31T18:07:32.362Z"
   },
   {
    "duration": 8,
    "start_time": "2025-05-31T18:07:32.376Z"
   },
   {
    "duration": 0,
    "start_time": "2025-05-31T18:07:32.386Z"
   },
   {
    "duration": 0,
    "start_time": "2025-05-31T18:07:32.387Z"
   },
   {
    "duration": 0,
    "start_time": "2025-05-31T18:07:32.388Z"
   },
   {
    "duration": 0,
    "start_time": "2025-05-31T18:07:32.389Z"
   },
   {
    "duration": 0,
    "start_time": "2025-05-31T18:07:32.390Z"
   },
   {
    "duration": 0,
    "start_time": "2025-05-31T18:07:32.391Z"
   },
   {
    "duration": 0,
    "start_time": "2025-05-31T18:07:32.392Z"
   },
   {
    "duration": 0,
    "start_time": "2025-05-31T18:07:32.393Z"
   },
   {
    "duration": 0,
    "start_time": "2025-05-31T18:07:32.394Z"
   },
   {
    "duration": 3,
    "start_time": "2025-05-31T18:08:00.535Z"
   },
   {
    "duration": 4,
    "start_time": "2025-05-31T18:08:03.220Z"
   },
   {
    "duration": 4,
    "start_time": "2025-05-31T18:08:05.527Z"
   },
   {
    "duration": 103212,
    "start_time": "2025-05-31T18:08:08.863Z"
   },
   {
    "duration": 28,
    "start_time": "2025-05-31T18:09:56.852Z"
   },
   {
    "duration": 34,
    "start_time": "2025-05-31T18:10:27.500Z"
   },
   {
    "duration": 3,
    "start_time": "2025-05-31T18:10:40.330Z"
   },
   {
    "duration": 204588,
    "start_time": "2025-05-31T18:10:43.347Z"
   },
   {
    "duration": 31,
    "start_time": "2025-05-31T18:14:20.209Z"
   },
   {
    "duration": 4,
    "start_time": "2025-05-31T18:14:56.995Z"
   },
   {
    "duration": 29609,
    "start_time": "2025-05-31T18:14:58.902Z"
   },
   {
    "duration": 27,
    "start_time": "2025-05-31T18:15:34.330Z"
   },
   {
    "duration": 70,
    "start_time": "2025-05-31T18:15:44.495Z"
   },
   {
    "duration": 9,
    "start_time": "2025-05-31T18:17:44.683Z"
   },
   {
    "duration": 14,
    "start_time": "2025-05-31T18:17:57.120Z"
   },
   {
    "duration": 5,
    "start_time": "2025-05-31T18:18:24.625Z"
   },
   {
    "duration": 4,
    "start_time": "2025-05-31T18:18:30.268Z"
   },
   {
    "duration": 61,
    "start_time": "2025-05-31T18:18:45.572Z"
   },
   {
    "duration": 155,
    "start_time": "2025-05-31T18:18:58.037Z"
   },
   {
    "duration": 65,
    "start_time": "2025-05-31T18:19:02.108Z"
   },
   {
    "duration": 5,
    "start_time": "2025-05-31T18:20:23.391Z"
   },
   {
    "duration": 17,
    "start_time": "2025-05-31T18:21:01.717Z"
   },
   {
    "duration": 4,
    "start_time": "2025-05-31T18:21:09.916Z"
   },
   {
    "duration": 3,
    "start_time": "2025-05-31T18:30:58.676Z"
   },
   {
    "duration": 7,
    "start_time": "2025-05-31T18:34:36.984Z"
   },
   {
    "duration": 8,
    "start_time": "2025-05-31T18:37:12.334Z"
   },
   {
    "duration": 2351,
    "start_time": "2025-05-31T18:37:43.828Z"
   },
   {
    "duration": 2331,
    "start_time": "2025-05-31T18:37:46.182Z"
   },
   {
    "duration": 2752,
    "start_time": "2025-05-31T18:37:48.515Z"
   },
   {
    "duration": 1653,
    "start_time": "2025-05-31T18:37:51.269Z"
   },
   {
    "duration": 3,
    "start_time": "2025-05-31T18:37:52.924Z"
   },
   {
    "duration": 7,
    "start_time": "2025-05-31T18:37:52.928Z"
   },
   {
    "duration": 5,
    "start_time": "2025-05-31T18:37:52.937Z"
   },
   {
    "duration": 13,
    "start_time": "2025-05-31T18:37:52.944Z"
   },
   {
    "duration": 18,
    "start_time": "2025-05-31T18:37:52.958Z"
   },
   {
    "duration": 4,
    "start_time": "2025-05-31T18:37:52.979Z"
   },
   {
    "duration": 7,
    "start_time": "2025-05-31T18:37:52.985Z"
   },
   {
    "duration": 77,
    "start_time": "2025-05-31T18:37:52.993Z"
   },
   {
    "duration": 13,
    "start_time": "2025-05-31T18:37:53.072Z"
   },
   {
    "duration": 14,
    "start_time": "2025-05-31T18:37:53.087Z"
   },
   {
    "duration": 29,
    "start_time": "2025-05-31T18:37:53.103Z"
   },
   {
    "duration": 10,
    "start_time": "2025-05-31T18:37:53.134Z"
   },
   {
    "duration": 10,
    "start_time": "2025-05-31T18:37:53.146Z"
   },
   {
    "duration": 7,
    "start_time": "2025-05-31T18:37:53.158Z"
   },
   {
    "duration": 2,
    "start_time": "2025-05-31T18:37:53.167Z"
   },
   {
    "duration": 11,
    "start_time": "2025-05-31T18:37:53.171Z"
   },
   {
    "duration": 6,
    "start_time": "2025-05-31T18:37:53.183Z"
   },
   {
    "duration": 48,
    "start_time": "2025-05-31T18:37:53.190Z"
   },
   {
    "duration": 11,
    "start_time": "2025-05-31T18:37:53.240Z"
   },
   {
    "duration": 11,
    "start_time": "2025-05-31T18:37:53.253Z"
   },
   {
    "duration": 9,
    "start_time": "2025-05-31T18:37:53.266Z"
   },
   {
    "duration": 23,
    "start_time": "2025-05-31T18:37:53.277Z"
   },
   {
    "duration": 49,
    "start_time": "2025-05-31T18:37:53.302Z"
   },
   {
    "duration": 3,
    "start_time": "2025-05-31T18:37:53.356Z"
   },
   {
    "duration": 12,
    "start_time": "2025-05-31T18:37:53.360Z"
   },
   {
    "duration": 7,
    "start_time": "2025-05-31T18:37:53.373Z"
   },
   {
    "duration": 8,
    "start_time": "2025-05-31T18:37:53.381Z"
   },
   {
    "duration": 73,
    "start_time": "2025-05-31T18:37:53.390Z"
   },
   {
    "duration": 435,
    "start_time": "2025-05-31T18:37:53.465Z"
   },
   {
    "duration": 363,
    "start_time": "2025-05-31T18:37:53.902Z"
   },
   {
    "duration": 423,
    "start_time": "2025-05-31T18:37:54.267Z"
   },
   {
    "duration": 416,
    "start_time": "2025-05-31T18:37:54.692Z"
   },
   {
    "duration": 386,
    "start_time": "2025-05-31T18:37:55.110Z"
   },
   {
    "duration": 277,
    "start_time": "2025-05-31T18:37:55.497Z"
   },
   {
    "duration": 284,
    "start_time": "2025-05-31T18:37:55.776Z"
   },
   {
    "duration": 215,
    "start_time": "2025-05-31T18:37:56.062Z"
   },
   {
    "duration": 285,
    "start_time": "2025-05-31T18:37:56.279Z"
   },
   {
    "duration": 22,
    "start_time": "2025-05-31T18:37:56.565Z"
   },
   {
    "duration": 11,
    "start_time": "2025-05-31T18:37:56.589Z"
   },
   {
    "duration": 383,
    "start_time": "2025-05-31T18:37:56.601Z"
   },
   {
    "duration": 360,
    "start_time": "2025-05-31T18:37:56.986Z"
   },
   {
    "duration": 359,
    "start_time": "2025-05-31T18:37:57.348Z"
   },
   {
    "duration": 279,
    "start_time": "2025-05-31T18:37:57.709Z"
   },
   {
    "duration": 265,
    "start_time": "2025-05-31T18:37:57.989Z"
   },
   {
    "duration": 222,
    "start_time": "2025-05-31T18:37:58.256Z"
   },
   {
    "duration": 281,
    "start_time": "2025-05-31T18:37:58.479Z"
   },
   {
    "duration": 216,
    "start_time": "2025-05-31T18:37:58.761Z"
   },
   {
    "duration": 288,
    "start_time": "2025-05-31T18:37:58.979Z"
   },
   {
    "duration": 519,
    "start_time": "2025-05-31T18:37:59.269Z"
   },
   {
    "duration": 4,
    "start_time": "2025-05-31T18:37:59.790Z"
   },
   {
    "duration": 5,
    "start_time": "2025-05-31T18:37:59.795Z"
   },
   {
    "duration": 5,
    "start_time": "2025-05-31T18:37:59.801Z"
   },
   {
    "duration": 31,
    "start_time": "2025-05-31T18:37:59.808Z"
   },
   {
    "duration": 456,
    "start_time": "2025-05-31T18:37:59.840Z"
   },
   {
    "duration": 4,
    "start_time": "2025-05-31T18:38:00.297Z"
   },
   {
    "duration": 235,
    "start_time": "2025-05-31T18:38:00.302Z"
   },
   {
    "duration": 1329,
    "start_time": "2025-05-31T18:38:00.539Z"
   },
   {
    "duration": 7,
    "start_time": "2025-05-31T18:38:01.871Z"
   },
   {
    "duration": 9306,
    "start_time": "2025-05-31T18:38:01.879Z"
   },
   {
    "duration": 5,
    "start_time": "2025-05-31T18:38:11.187Z"
   },
   {
    "duration": 18,
    "start_time": "2025-05-31T18:38:11.193Z"
   },
   {
    "duration": 4,
    "start_time": "2025-05-31T18:38:11.213Z"
   },
   {
    "duration": 18,
    "start_time": "2025-05-31T18:38:11.218Z"
   },
   {
    "duration": 21,
    "start_time": "2025-05-31T18:38:11.237Z"
   },
   {
    "duration": 4,
    "start_time": "2025-05-31T18:38:11.260Z"
   },
   {
    "duration": 8,
    "start_time": "2025-05-31T18:38:11.265Z"
   },
   {
    "duration": 5,
    "start_time": "2025-05-31T18:38:11.274Z"
   },
   {
    "duration": 17,
    "start_time": "2025-05-31T18:38:11.280Z"
   },
   {
    "duration": 104583,
    "start_time": "2025-05-31T18:38:11.298Z"
   },
   {
    "duration": 25,
    "start_time": "2025-05-31T18:39:55.883Z"
   },
   {
    "duration": 46,
    "start_time": "2025-05-31T18:39:55.910Z"
   },
   {
    "duration": 12,
    "start_time": "2025-05-31T18:39:55.958Z"
   },
   {
    "duration": 29345,
    "start_time": "2025-05-31T18:39:55.971Z"
   },
   {
    "duration": 37,
    "start_time": "2025-05-31T18:40:25.318Z"
   },
   {
    "duration": 83,
    "start_time": "2025-05-31T18:40:25.356Z"
   },
   {
    "duration": 5,
    "start_time": "2025-05-31T18:40:25.441Z"
   },
   {
    "duration": 25,
    "start_time": "2025-05-31T18:40:25.447Z"
   },
   {
    "duration": 4,
    "start_time": "2025-05-31T18:40:25.476Z"
   },
   {
    "duration": 3,
    "start_time": "2025-05-31T18:40:25.482Z"
   },
   {
    "duration": 7,
    "start_time": "2025-05-31T18:46:49.871Z"
   },
   {
    "duration": 9,
    "start_time": "2025-05-31T18:46:59.595Z"
   },
   {
    "duration": 6,
    "start_time": "2025-05-31T18:47:13.161Z"
   },
   {
    "duration": 184,
    "start_time": "2025-05-31T18:50:04.068Z"
   },
   {
    "duration": 58,
    "start_time": "2025-05-31T18:50:26.862Z"
   },
   {
    "duration": 5,
    "start_time": "2025-05-31T18:50:36.810Z"
   },
   {
    "duration": 4,
    "start_time": "2025-05-31T18:51:39.757Z"
   },
   {
    "duration": 4,
    "start_time": "2025-05-31T18:51:56.121Z"
   },
   {
    "duration": 69,
    "start_time": "2025-05-31T18:53:24.780Z"
   },
   {
    "duration": 109,
    "start_time": "2025-05-31T18:55:06.928Z"
   },
   {
    "duration": 23,
    "start_time": "2025-05-31T18:55:13.037Z"
   },
   {
    "duration": 10,
    "start_time": "2025-05-31T18:56:50.490Z"
   },
   {
    "duration": 6,
    "start_time": "2025-05-31T18:56:53.654Z"
   },
   {
    "duration": 102,
    "start_time": "2025-05-31T18:57:44.899Z"
   },
   {
    "duration": 21,
    "start_time": "2025-05-31T18:57:48.374Z"
   },
   {
    "duration": 4,
    "start_time": "2025-05-31T19:02:52.709Z"
   },
   {
    "duration": 22,
    "start_time": "2025-05-31T19:03:04.315Z"
   },
   {
    "duration": 23,
    "start_time": "2025-05-31T19:03:09.623Z"
   },
   {
    "duration": 3,
    "start_time": "2025-05-31T19:05:38.079Z"
   },
   {
    "duration": 4011,
    "start_time": "2025-06-01T09:24:03.738Z"
   },
   {
    "duration": 2877,
    "start_time": "2025-06-01T09:24:07.751Z"
   },
   {
    "duration": 6574,
    "start_time": "2025-06-01T09:24:10.630Z"
   },
   {
    "duration": 2064,
    "start_time": "2025-06-01T09:24:17.207Z"
   },
   {
    "duration": 3,
    "start_time": "2025-06-01T09:24:19.274Z"
   },
   {
    "duration": 70,
    "start_time": "2025-06-01T09:24:19.279Z"
   },
   {
    "duration": 7,
    "start_time": "2025-06-01T09:24:19.351Z"
   },
   {
    "duration": 7,
    "start_time": "2025-06-01T09:24:19.360Z"
   },
   {
    "duration": 5,
    "start_time": "2025-06-01T09:24:19.368Z"
   },
   {
    "duration": 88,
    "start_time": "2025-06-01T09:24:19.375Z"
   },
   {
    "duration": 4,
    "start_time": "2025-06-01T09:24:19.464Z"
   },
   {
    "duration": 77,
    "start_time": "2025-06-01T09:24:19.470Z"
   },
   {
    "duration": 13,
    "start_time": "2025-06-01T09:24:19.549Z"
   },
   {
    "duration": 18,
    "start_time": "2025-06-01T09:24:19.564Z"
   },
   {
    "duration": 11,
    "start_time": "2025-06-01T09:24:19.584Z"
   },
   {
    "duration": 33,
    "start_time": "2025-06-01T09:24:19.597Z"
   },
   {
    "duration": 10,
    "start_time": "2025-06-01T09:24:19.632Z"
   },
   {
    "duration": 25,
    "start_time": "2025-06-01T09:24:19.644Z"
   },
   {
    "duration": 4,
    "start_time": "2025-06-01T09:24:19.670Z"
   },
   {
    "duration": 28,
    "start_time": "2025-06-01T09:24:19.675Z"
   },
   {
    "duration": 5,
    "start_time": "2025-06-01T09:24:19.705Z"
   },
   {
    "duration": 13,
    "start_time": "2025-06-01T09:24:19.712Z"
   },
   {
    "duration": 14,
    "start_time": "2025-06-01T09:24:19.727Z"
   },
   {
    "duration": 9,
    "start_time": "2025-06-01T09:24:19.743Z"
   },
   {
    "duration": 11,
    "start_time": "2025-06-01T09:24:19.753Z"
   },
   {
    "duration": 31,
    "start_time": "2025-06-01T09:24:19.765Z"
   },
   {
    "duration": 51,
    "start_time": "2025-06-01T09:24:19.797Z"
   },
   {
    "duration": 4,
    "start_time": "2025-06-01T09:24:19.850Z"
   },
   {
    "duration": 10,
    "start_time": "2025-06-01T09:24:19.856Z"
   },
   {
    "duration": 6,
    "start_time": "2025-06-01T09:24:19.867Z"
   },
   {
    "duration": 8,
    "start_time": "2025-06-01T09:24:19.874Z"
   },
   {
    "duration": 52,
    "start_time": "2025-06-01T09:24:19.884Z"
   },
   {
    "duration": 519,
    "start_time": "2025-06-01T09:24:19.938Z"
   },
   {
    "duration": 406,
    "start_time": "2025-06-01T09:24:20.459Z"
   },
   {
    "duration": 422,
    "start_time": "2025-06-01T09:24:20.866Z"
   },
   {
    "duration": 398,
    "start_time": "2025-06-01T09:24:21.290Z"
   },
   {
    "duration": 389,
    "start_time": "2025-06-01T09:24:21.689Z"
   },
   {
    "duration": 283,
    "start_time": "2025-06-01T09:24:22.079Z"
   },
   {
    "duration": 292,
    "start_time": "2025-06-01T09:24:22.363Z"
   },
   {
    "duration": 222,
    "start_time": "2025-06-01T09:24:22.656Z"
   },
   {
    "duration": 274,
    "start_time": "2025-06-01T09:24:22.882Z"
   },
   {
    "duration": 22,
    "start_time": "2025-06-01T09:24:23.158Z"
   },
   {
    "duration": 27,
    "start_time": "2025-06-01T09:24:23.183Z"
   },
   {
    "duration": 385,
    "start_time": "2025-06-01T09:24:23.212Z"
   },
   {
    "duration": 369,
    "start_time": "2025-06-01T09:24:23.599Z"
   },
   {
    "duration": 403,
    "start_time": "2025-06-01T09:24:23.970Z"
   },
   {
    "duration": 303,
    "start_time": "2025-06-01T09:24:24.375Z"
   },
   {
    "duration": 275,
    "start_time": "2025-06-01T09:24:24.679Z"
   },
   {
    "duration": 229,
    "start_time": "2025-06-01T09:24:24.956Z"
   },
   {
    "duration": 278,
    "start_time": "2025-06-01T09:24:25.187Z"
   },
   {
    "duration": 296,
    "start_time": "2025-06-01T09:24:25.467Z"
   },
   {
    "duration": 389,
    "start_time": "2025-06-01T09:24:25.764Z"
   },
   {
    "duration": 438,
    "start_time": "2025-06-01T09:24:26.154Z"
   },
   {
    "duration": 5,
    "start_time": "2025-06-01T09:24:26.594Z"
   },
   {
    "duration": 72,
    "start_time": "2025-06-01T09:24:26.600Z"
   },
   {
    "duration": 7,
    "start_time": "2025-06-01T09:24:26.673Z"
   },
   {
    "duration": 11,
    "start_time": "2025-06-01T09:24:26.682Z"
   },
   {
    "duration": 512,
    "start_time": "2025-06-01T09:24:26.694Z"
   },
   {
    "duration": 4,
    "start_time": "2025-06-01T09:24:27.208Z"
   },
   {
    "duration": 124,
    "start_time": "2025-06-01T09:24:27.213Z"
   },
   {
    "duration": 1377,
    "start_time": "2025-06-01T09:24:27.339Z"
   },
   {
    "duration": 7,
    "start_time": "2025-06-01T09:24:28.717Z"
   },
   {
    "duration": 9475,
    "start_time": "2025-06-01T09:24:28.726Z"
   },
   {
    "duration": 4,
    "start_time": "2025-06-01T09:24:38.203Z"
   },
   {
    "duration": 9,
    "start_time": "2025-06-01T09:24:38.209Z"
   },
   {
    "duration": 17,
    "start_time": "2025-06-01T09:24:38.220Z"
   },
   {
    "duration": 4,
    "start_time": "2025-06-01T09:24:38.239Z"
   },
   {
    "duration": 15,
    "start_time": "2025-06-01T09:24:38.245Z"
   },
   {
    "duration": 64,
    "start_time": "2025-06-01T09:24:38.262Z"
   },
   {
    "duration": 85,
    "start_time": "2025-06-01T09:24:38.328Z"
   },
   {
    "duration": 16,
    "start_time": "2025-06-01T09:24:38.415Z"
   },
   {
    "duration": 6,
    "start_time": "2025-06-01T09:24:38.433Z"
   },
   {
    "duration": 115385,
    "start_time": "2025-06-01T09:24:38.440Z"
   },
   {
    "duration": 29,
    "start_time": "2025-06-01T09:26:33.835Z"
   },
   {
    "duration": 75,
    "start_time": "2025-06-01T09:29:37.292Z"
   },
   {
    "duration": 2,
    "start_time": "2025-06-01T09:32:49.513Z"
   },
   {
    "duration": 23,
    "start_time": "2025-06-01T09:49:10.830Z"
   },
   {
    "duration": 99743,
    "start_time": "2025-06-01T09:50:46.730Z"
   },
   {
    "duration": 6,
    "start_time": "2025-06-01T09:54:14.860Z"
   },
   {
    "duration": 144,
    "start_time": "2025-06-01T09:54:55.259Z"
   },
   {
    "duration": 4,
    "start_time": "2025-06-01T09:55:17.617Z"
   },
   {
    "duration": 18,
    "start_time": "2025-06-01T09:55:29.430Z"
   },
   {
    "duration": 82,
    "start_time": "2025-06-01T09:55:42.606Z"
   },
   {
    "duration": 1130,
    "start_time": "2025-06-01T09:55:46.680Z"
   },
   {
    "duration": 632,
    "start_time": "2025-06-01T09:57:33.708Z"
   },
   {
    "duration": 4404,
    "start_time": "2025-06-01T11:31:34.000Z"
   },
   {
    "duration": 3257,
    "start_time": "2025-06-01T11:31:38.406Z"
   },
   {
    "duration": 7850,
    "start_time": "2025-06-01T11:31:41.665Z"
   },
   {
    "duration": 2297,
    "start_time": "2025-06-01T11:31:49.518Z"
   },
   {
    "duration": 4,
    "start_time": "2025-06-01T11:31:51.817Z"
   },
   {
    "duration": 10,
    "start_time": "2025-06-01T11:31:51.822Z"
   },
   {
    "duration": 5,
    "start_time": "2025-06-01T11:31:51.834Z"
   },
   {
    "duration": 11,
    "start_time": "2025-06-01T11:31:51.842Z"
   },
   {
    "duration": 17,
    "start_time": "2025-06-01T11:31:51.854Z"
   },
   {
    "duration": 5,
    "start_time": "2025-06-01T11:31:51.874Z"
   },
   {
    "duration": 20,
    "start_time": "2025-06-01T11:31:51.881Z"
   },
   {
    "duration": 85,
    "start_time": "2025-06-01T11:31:51.903Z"
   },
   {
    "duration": 15,
    "start_time": "2025-06-01T11:31:51.989Z"
   },
   {
    "duration": 17,
    "start_time": "2025-06-01T11:31:52.006Z"
   },
   {
    "duration": 11,
    "start_time": "2025-06-01T11:31:52.025Z"
   },
   {
    "duration": 11,
    "start_time": "2025-06-01T11:31:52.038Z"
   },
   {
    "duration": 11,
    "start_time": "2025-06-01T11:31:52.051Z"
   },
   {
    "duration": 11,
    "start_time": "2025-06-01T11:31:52.064Z"
   },
   {
    "duration": 3,
    "start_time": "2025-06-01T11:31:52.106Z"
   },
   {
    "duration": 28,
    "start_time": "2025-06-01T11:31:52.110Z"
   },
   {
    "duration": 7,
    "start_time": "2025-06-01T11:31:52.139Z"
   },
   {
    "duration": 24,
    "start_time": "2025-06-01T11:31:52.148Z"
   },
   {
    "duration": 49,
    "start_time": "2025-06-01T11:31:52.173Z"
   },
   {
    "duration": 48,
    "start_time": "2025-06-01T11:31:52.224Z"
   },
   {
    "duration": 9,
    "start_time": "2025-06-01T11:31:52.273Z"
   },
   {
    "duration": 35,
    "start_time": "2025-06-01T11:31:52.283Z"
   },
   {
    "duration": 24,
    "start_time": "2025-06-01T11:31:52.319Z"
   },
   {
    "duration": 3,
    "start_time": "2025-06-01T11:31:52.348Z"
   },
   {
    "duration": 51,
    "start_time": "2025-06-01T11:31:52.352Z"
   },
   {
    "duration": 6,
    "start_time": "2025-06-01T11:31:52.405Z"
   },
   {
    "duration": 7,
    "start_time": "2025-06-01T11:31:52.413Z"
   },
   {
    "duration": 26,
    "start_time": "2025-06-01T11:31:52.422Z"
   },
   {
    "duration": 488,
    "start_time": "2025-06-01T11:31:52.450Z"
   },
   {
    "duration": 400,
    "start_time": "2025-06-01T11:31:52.939Z"
   },
   {
    "duration": 430,
    "start_time": "2025-06-01T11:31:53.341Z"
   },
   {
    "duration": 438,
    "start_time": "2025-06-01T11:31:53.773Z"
   },
   {
    "duration": 420,
    "start_time": "2025-06-01T11:31:54.212Z"
   },
   {
    "duration": 324,
    "start_time": "2025-06-01T11:31:54.634Z"
   },
   {
    "duration": 313,
    "start_time": "2025-06-01T11:31:54.960Z"
   },
   {
    "duration": 282,
    "start_time": "2025-06-01T11:31:55.274Z"
   },
   {
    "duration": 285,
    "start_time": "2025-06-01T11:31:55.558Z"
   },
   {
    "duration": 23,
    "start_time": "2025-06-01T11:31:55.845Z"
   },
   {
    "duration": 13,
    "start_time": "2025-06-01T11:31:55.870Z"
   },
   {
    "duration": 414,
    "start_time": "2025-06-01T11:31:55.905Z"
   },
   {
    "duration": 414,
    "start_time": "2025-06-01T11:31:56.321Z"
   },
   {
    "duration": 429,
    "start_time": "2025-06-01T11:31:56.737Z"
   },
   {
    "duration": 307,
    "start_time": "2025-06-01T11:31:57.168Z"
   },
   {
    "duration": 273,
    "start_time": "2025-06-01T11:31:57.476Z"
   },
   {
    "duration": 298,
    "start_time": "2025-06-01T11:31:57.751Z"
   },
   {
    "duration": 296,
    "start_time": "2025-06-01T11:31:58.051Z"
   },
   {
    "duration": 298,
    "start_time": "2025-06-01T11:31:58.349Z"
   },
   {
    "duration": 295,
    "start_time": "2025-06-01T11:31:58.649Z"
   },
   {
    "duration": 548,
    "start_time": "2025-06-01T11:31:58.946Z"
   },
   {
    "duration": 12,
    "start_time": "2025-06-01T11:31:59.496Z"
   },
   {
    "duration": 28,
    "start_time": "2025-06-01T11:31:59.510Z"
   },
   {
    "duration": 9,
    "start_time": "2025-06-01T11:31:59.540Z"
   },
   {
    "duration": 12,
    "start_time": "2025-06-01T11:31:59.551Z"
   },
   {
    "duration": 533,
    "start_time": "2025-06-01T11:31:59.564Z"
   },
   {
    "duration": 9,
    "start_time": "2025-06-01T11:32:00.098Z"
   },
   {
    "duration": 98,
    "start_time": "2025-06-01T11:32:00.109Z"
   },
   {
    "duration": 1568,
    "start_time": "2025-06-01T11:32:00.210Z"
   },
   {
    "duration": 7,
    "start_time": "2025-06-01T11:32:01.780Z"
   },
   {
    "duration": 10806,
    "start_time": "2025-06-01T11:32:01.789Z"
   },
   {
    "duration": 11,
    "start_time": "2025-06-01T11:32:12.596Z"
   },
   {
    "duration": 41,
    "start_time": "2025-06-01T11:32:12.608Z"
   },
   {
    "duration": 24,
    "start_time": "2025-06-01T11:32:12.651Z"
   },
   {
    "duration": 33,
    "start_time": "2025-06-01T11:32:12.677Z"
   },
   {
    "duration": 40,
    "start_time": "2025-06-01T11:32:12.711Z"
   },
   {
    "duration": 21,
    "start_time": "2025-06-01T11:32:12.753Z"
   },
   {
    "duration": 9,
    "start_time": "2025-06-01T11:32:12.775Z"
   },
   {
    "duration": 5,
    "start_time": "2025-06-01T11:32:12.786Z"
   },
   {
    "duration": 6,
    "start_time": "2025-06-01T11:32:12.792Z"
   },
   {
    "duration": 124355,
    "start_time": "2025-06-01T11:32:12.799Z"
   },
   {
    "duration": 32,
    "start_time": "2025-06-01T11:34:17.156Z"
   },
   {
    "duration": 204,
    "start_time": "2025-06-01T11:34:17.190Z"
   },
   {
    "duration": 2,
    "start_time": "2025-06-01T11:34:17.396Z"
   },
   {
    "duration": 22,
    "start_time": "2025-06-01T11:34:17.400Z"
   },
   {
    "duration": 106183,
    "start_time": "2025-06-01T11:34:17.424Z"
   },
   {
    "duration": 5,
    "start_time": "2025-06-01T11:36:03.609Z"
   },
   {
    "duration": 1196,
    "start_time": "2025-06-01T11:36:03.616Z"
   },
   {
    "duration": 669,
    "start_time": "2025-06-01T11:36:04.814Z"
   },
   {
    "duration": 4468,
    "start_time": "2025-06-01T14:18:38.909Z"
   },
   {
    "duration": 3166,
    "start_time": "2025-06-01T14:18:43.380Z"
   },
   {
    "duration": 7716,
    "start_time": "2025-06-01T14:18:46.549Z"
   },
   {
    "duration": 2100,
    "start_time": "2025-06-01T14:18:54.268Z"
   },
   {
    "duration": 4,
    "start_time": "2025-06-01T14:18:56.369Z"
   },
   {
    "duration": 7,
    "start_time": "2025-06-01T14:18:56.375Z"
   },
   {
    "duration": 13,
    "start_time": "2025-06-01T14:18:56.384Z"
   },
   {
    "duration": 7,
    "start_time": "2025-06-01T14:18:56.399Z"
   },
   {
    "duration": 8,
    "start_time": "2025-06-01T14:18:56.408Z"
   },
   {
    "duration": 12,
    "start_time": "2025-06-01T14:18:56.418Z"
   },
   {
    "duration": 7,
    "start_time": "2025-06-01T14:18:56.431Z"
   },
   {
    "duration": 107,
    "start_time": "2025-06-01T14:18:56.439Z"
   },
   {
    "duration": 15,
    "start_time": "2025-06-01T14:18:56.548Z"
   },
   {
    "duration": 28,
    "start_time": "2025-06-01T14:18:56.565Z"
   },
   {
    "duration": 13,
    "start_time": "2025-06-01T14:18:56.594Z"
   },
   {
    "duration": 11,
    "start_time": "2025-06-01T14:18:56.608Z"
   },
   {
    "duration": 22,
    "start_time": "2025-06-01T14:18:56.621Z"
   },
   {
    "duration": 9,
    "start_time": "2025-06-01T14:18:56.644Z"
   },
   {
    "duration": 6,
    "start_time": "2025-06-01T14:18:56.655Z"
   },
   {
    "duration": 22,
    "start_time": "2025-06-01T14:18:56.663Z"
   },
   {
    "duration": 7,
    "start_time": "2025-06-01T14:18:56.686Z"
   },
   {
    "duration": 12,
    "start_time": "2025-06-01T14:18:56.694Z"
   },
   {
    "duration": 38,
    "start_time": "2025-06-01T14:18:56.708Z"
   },
   {
    "duration": 11,
    "start_time": "2025-06-01T14:18:56.748Z"
   },
   {
    "duration": 7,
    "start_time": "2025-06-01T14:18:56.760Z"
   },
   {
    "duration": 26,
    "start_time": "2025-06-01T14:18:56.769Z"
   },
   {
    "duration": 53,
    "start_time": "2025-06-01T14:18:56.797Z"
   },
   {
    "duration": 146,
    "start_time": "2025-06-01T14:18:56.855Z"
   },
   {
    "duration": 18,
    "start_time": "2025-06-01T14:18:57.003Z"
   },
   {
    "duration": 14,
    "start_time": "2025-06-01T14:18:57.022Z"
   },
   {
    "duration": 10,
    "start_time": "2025-06-01T14:18:57.037Z"
   },
   {
    "duration": 27,
    "start_time": "2025-06-01T14:18:57.049Z"
   },
   {
    "duration": 586,
    "start_time": "2025-06-01T14:18:57.078Z"
   },
   {
    "duration": 406,
    "start_time": "2025-06-01T14:18:57.666Z"
   },
   {
    "duration": 433,
    "start_time": "2025-06-01T14:18:58.074Z"
   },
   {
    "duration": 420,
    "start_time": "2025-06-01T14:18:58.508Z"
   },
   {
    "duration": 412,
    "start_time": "2025-06-01T14:18:58.936Z"
   },
   {
    "duration": 256,
    "start_time": "2025-06-01T14:18:59.350Z"
   },
   {
    "duration": 276,
    "start_time": "2025-06-01T14:18:59.608Z"
   },
   {
    "duration": 290,
    "start_time": "2025-06-01T14:18:59.886Z"
   },
   {
    "duration": 291,
    "start_time": "2025-06-01T14:19:00.178Z"
   },
   {
    "duration": 23,
    "start_time": "2025-06-01T14:19:00.470Z"
   },
   {
    "duration": 42,
    "start_time": "2025-06-01T14:19:00.494Z"
   },
   {
    "duration": 474,
    "start_time": "2025-06-01T14:19:00.537Z"
   },
   {
    "duration": 376,
    "start_time": "2025-06-01T14:19:01.013Z"
   },
   {
    "duration": 448,
    "start_time": "2025-06-01T14:19:01.391Z"
   },
   {
    "duration": 276,
    "start_time": "2025-06-01T14:19:01.841Z"
   },
   {
    "duration": 267,
    "start_time": "2025-06-01T14:19:02.119Z"
   },
   {
    "duration": 293,
    "start_time": "2025-06-01T14:19:02.388Z"
   },
   {
    "duration": 301,
    "start_time": "2025-06-01T14:19:02.683Z"
   },
   {
    "duration": 296,
    "start_time": "2025-06-01T14:19:02.986Z"
   },
   {
    "duration": 290,
    "start_time": "2025-06-01T14:19:03.283Z"
   },
   {
    "duration": 536,
    "start_time": "2025-06-01T14:19:03.575Z"
   },
   {
    "duration": 5,
    "start_time": "2025-06-01T14:19:04.113Z"
   },
   {
    "duration": 27,
    "start_time": "2025-06-01T14:19:04.119Z"
   },
   {
    "duration": 25,
    "start_time": "2025-06-01T14:19:04.147Z"
   },
   {
    "duration": 44,
    "start_time": "2025-06-01T14:19:04.174Z"
   },
   {
    "duration": 519,
    "start_time": "2025-06-01T14:19:04.220Z"
   },
   {
    "duration": 4,
    "start_time": "2025-06-01T14:19:04.741Z"
   },
   {
    "duration": 99,
    "start_time": "2025-06-01T14:19:04.747Z"
   },
   {
    "duration": 1606,
    "start_time": "2025-06-01T14:19:04.847Z"
   },
   {
    "duration": 8,
    "start_time": "2025-06-01T14:19:06.455Z"
   },
   {
    "duration": 10813,
    "start_time": "2025-06-01T14:19:06.465Z"
   },
   {
    "duration": 5,
    "start_time": "2025-06-01T14:19:17.280Z"
   },
   {
    "duration": 15,
    "start_time": "2025-06-01T14:19:17.286Z"
   },
   {
    "duration": 40,
    "start_time": "2025-06-01T14:19:17.302Z"
   },
   {
    "duration": 96,
    "start_time": "2025-06-01T14:19:17.344Z"
   },
   {
    "duration": 9,
    "start_time": "2025-06-01T14:19:17.442Z"
   },
   {
    "duration": 8,
    "start_time": "2025-06-01T14:19:17.452Z"
   },
   {
    "duration": 14,
    "start_time": "2025-06-01T14:19:17.462Z"
   },
   {
    "duration": 12,
    "start_time": "2025-06-01T14:19:17.478Z"
   },
   {
    "duration": 6,
    "start_time": "2025-06-01T14:19:17.491Z"
   },
   {
    "duration": 125919,
    "start_time": "2025-06-01T14:19:17.499Z"
   },
   {
    "duration": 41,
    "start_time": "2025-06-01T14:21:23.420Z"
   },
   {
    "duration": 114,
    "start_time": "2025-06-01T14:21:23.463Z"
   },
   {
    "duration": 3,
    "start_time": "2025-06-01T14:21:23.578Z"
   },
   {
    "duration": 81,
    "start_time": "2025-06-01T14:21:23.582Z"
   },
   {
    "duration": 103465,
    "start_time": "2025-06-01T14:21:23.664Z"
   },
   {
    "duration": 7,
    "start_time": "2025-06-01T14:23:07.130Z"
   },
   {
    "duration": 1180,
    "start_time": "2025-06-01T14:23:07.139Z"
   },
   {
    "duration": 693,
    "start_time": "2025-06-01T14:23:08.321Z"
   },
   {
    "duration": 62,
    "start_time": "2025-06-01T14:33:42.861Z"
   },
   {
    "duration": 13,
    "start_time": "2025-06-01T14:34:14.116Z"
   },
   {
    "duration": 11,
    "start_time": "2025-06-01T14:34:57.936Z"
   },
   {
    "duration": 12,
    "start_time": "2025-06-01T14:38:44.181Z"
   },
   {
    "duration": 11,
    "start_time": "2025-06-01T14:39:13.749Z"
   },
   {
    "duration": 10,
    "start_time": "2025-06-01T14:43:28.546Z"
   },
   {
    "duration": 7,
    "start_time": "2025-06-01T14:43:57.074Z"
   },
   {
    "duration": 3,
    "start_time": "2025-06-01T14:46:46.166Z"
   },
   {
    "duration": 11,
    "start_time": "2025-06-01T14:47:57.949Z"
   },
   {
    "duration": 1466,
    "start_time": "2025-06-01T14:48:52.706Z"
   },
   {
    "duration": 6,
    "start_time": "2025-06-01T14:49:20.169Z"
   },
   {
    "duration": 14,
    "start_time": "2025-06-01T14:51:42.317Z"
   },
   {
    "duration": 12,
    "start_time": "2025-06-01T14:51:46.057Z"
   },
   {
    "duration": 8,
    "start_time": "2025-06-01T14:51:50.232Z"
   },
   {
    "duration": 6,
    "start_time": "2025-06-01T14:53:38.446Z"
   },
   {
    "duration": 31,
    "start_time": "2025-06-01T14:54:38.190Z"
   },
   {
    "duration": 20,
    "start_time": "2025-06-01T14:56:21.717Z"
   },
   {
    "duration": 8,
    "start_time": "2025-06-01T14:57:58.293Z"
   },
   {
    "duration": 2,
    "start_time": "2025-06-01T14:59:44.265Z"
   },
   {
    "duration": 12,
    "start_time": "2025-06-01T14:59:47.036Z"
   },
   {
    "duration": 8,
    "start_time": "2025-06-01T15:02:40.135Z"
   },
   {
    "duration": 8,
    "start_time": "2025-06-01T15:03:07.716Z"
   },
   {
    "duration": 22,
    "start_time": "2025-06-01T15:26:21.711Z"
   },
   {
    "duration": 395,
    "start_time": "2025-06-01T15:27:51.901Z"
   },
   {
    "duration": 373,
    "start_time": "2025-06-01T15:30:55.016Z"
   },
   {
    "duration": 419,
    "start_time": "2025-06-01T15:32:49.585Z"
   },
   {
    "duration": 279,
    "start_time": "2025-06-01T15:36:59.416Z"
   },
   {
    "duration": 281,
    "start_time": "2025-06-01T15:38:05.016Z"
   },
   {
    "duration": 294,
    "start_time": "2025-06-01T15:38:17.477Z"
   },
   {
    "duration": 417,
    "start_time": "2025-06-01T15:41:48.248Z"
   },
   {
    "duration": 249,
    "start_time": "2025-06-01T15:43:58.552Z"
   },
   {
    "duration": 303,
    "start_time": "2025-06-01T15:45:35.288Z"
   },
   {
    "duration": 312,
    "start_time": "2025-06-01T15:47:14.368Z"
   },
   {
    "duration": 13,
    "start_time": "2025-06-01T15:52:48.289Z"
   },
   {
    "duration": 23,
    "start_time": "2025-06-01T15:53:35.866Z"
   },
   {
    "duration": 24,
    "start_time": "2025-06-01T15:53:45.542Z"
   },
   {
    "duration": 14,
    "start_time": "2025-06-01T15:54:11.418Z"
   },
   {
    "duration": 414,
    "start_time": "2025-06-01T15:56:58.998Z"
   },
   {
    "duration": 410,
    "start_time": "2025-06-01T15:57:02.685Z"
   },
   {
    "duration": 378,
    "start_time": "2025-06-01T16:47:24.123Z"
   },
   {
    "duration": 343,
    "start_time": "2025-06-01T16:47:26.623Z"
   },
   {
    "duration": 412,
    "start_time": "2025-06-01T16:47:53.788Z"
   },
   {
    "duration": 391,
    "start_time": "2025-06-01T16:47:55.817Z"
   },
   {
    "duration": 311,
    "start_time": "2025-06-01T16:52:54.164Z"
   },
   {
    "duration": 283,
    "start_time": "2025-06-01T16:52:56.411Z"
   },
   {
    "duration": 227,
    "start_time": "2025-06-01T16:53:18.263Z"
   },
   {
    "duration": 452,
    "start_time": "2025-06-01T16:53:20.450Z"
   },
   {
    "duration": 223,
    "start_time": "2025-06-01T16:56:10.369Z"
   },
   {
    "duration": 232,
    "start_time": "2025-06-01T16:56:12.456Z"
   },
   {
    "duration": 256,
    "start_time": "2025-06-01T16:58:13.538Z"
   },
   {
    "duration": 265,
    "start_time": "2025-06-01T16:58:16.508Z"
   },
   {
    "duration": 280,
    "start_time": "2025-06-01T16:59:10.772Z"
   },
   {
    "duration": 266,
    "start_time": "2025-06-01T16:59:13.315Z"
   },
   {
    "duration": 246,
    "start_time": "2025-06-01T17:02:55.437Z"
   },
   {
    "duration": 4911,
    "start_time": "2025-06-02T06:05:33.715Z"
   },
   {
    "duration": 3115,
    "start_time": "2025-06-02T06:05:38.629Z"
   },
   {
    "duration": 7087,
    "start_time": "2025-06-02T06:05:41.746Z"
   },
   {
    "duration": 2049,
    "start_time": "2025-06-02T06:05:48.836Z"
   },
   {
    "duration": 4,
    "start_time": "2025-06-02T06:05:50.887Z"
   },
   {
    "duration": 82,
    "start_time": "2025-06-02T06:05:50.892Z"
   },
   {
    "duration": 117,
    "start_time": "2025-06-02T06:05:50.975Z"
   },
   {
    "duration": 119,
    "start_time": "2025-06-02T06:05:51.094Z"
   },
   {
    "duration": 68,
    "start_time": "2025-06-02T06:05:51.215Z"
   },
   {
    "duration": 41,
    "start_time": "2025-06-02T06:05:51.284Z"
   },
   {
    "duration": 11,
    "start_time": "2025-06-02T06:05:51.326Z"
   },
   {
    "duration": 90,
    "start_time": "2025-06-02T06:05:51.338Z"
   },
   {
    "duration": 13,
    "start_time": "2025-06-02T06:05:51.430Z"
   },
   {
    "duration": 51,
    "start_time": "2025-06-02T06:05:51.446Z"
   },
   {
    "duration": 46,
    "start_time": "2025-06-02T06:05:51.499Z"
   },
   {
    "duration": 46,
    "start_time": "2025-06-02T06:05:51.547Z"
   },
   {
    "duration": 15,
    "start_time": "2025-06-02T06:05:51.595Z"
   },
   {
    "duration": 29,
    "start_time": "2025-06-02T06:05:51.611Z"
   },
   {
    "duration": 30,
    "start_time": "2025-06-02T06:05:51.642Z"
   },
   {
    "duration": 25,
    "start_time": "2025-06-02T06:05:51.673Z"
   },
   {
    "duration": 21,
    "start_time": "2025-06-02T06:05:51.700Z"
   },
   {
    "duration": 31,
    "start_time": "2025-06-02T06:05:51.722Z"
   },
   {
    "duration": 54,
    "start_time": "2025-06-02T06:05:51.755Z"
   },
   {
    "duration": 8,
    "start_time": "2025-06-02T06:05:51.810Z"
   },
   {
    "duration": 42,
    "start_time": "2025-06-02T06:05:51.819Z"
   },
   {
    "duration": 27,
    "start_time": "2025-06-02T06:05:51.863Z"
   },
   {
    "duration": 28,
    "start_time": "2025-06-02T06:05:51.892Z"
   },
   {
    "duration": 13,
    "start_time": "2025-06-02T06:05:51.922Z"
   },
   {
    "duration": 106,
    "start_time": "2025-06-02T06:05:51.937Z"
   },
   {
    "duration": 28,
    "start_time": "2025-06-02T06:05:52.046Z"
   },
   {
    "duration": 38,
    "start_time": "2025-06-02T06:05:52.077Z"
   },
   {
    "duration": 36,
    "start_time": "2025-06-02T06:05:52.117Z"
   },
   {
    "duration": 532,
    "start_time": "2025-06-02T06:05:52.154Z"
   },
   {
    "duration": 405,
    "start_time": "2025-06-02T06:05:52.687Z"
   },
   {
    "duration": 447,
    "start_time": "2025-06-02T06:05:53.093Z"
   },
   {
    "duration": 421,
    "start_time": "2025-06-02T06:05:53.542Z"
   },
   {
    "duration": 417,
    "start_time": "2025-06-02T06:05:53.965Z"
   },
   {
    "duration": 278,
    "start_time": "2025-06-02T06:05:54.384Z"
   },
   {
    "duration": 253,
    "start_time": "2025-06-02T06:05:54.663Z"
   },
   {
    "duration": 288,
    "start_time": "2025-06-02T06:05:54.917Z"
   },
   {
    "duration": 291,
    "start_time": "2025-06-02T06:05:55.211Z"
   },
   {
    "duration": 23,
    "start_time": "2025-06-02T06:05:55.504Z"
   },
   {
    "duration": 33,
    "start_time": "2025-06-02T06:05:55.528Z"
   },
   {
    "duration": 461,
    "start_time": "2025-06-02T06:05:55.563Z"
   },
   {
    "duration": 381,
    "start_time": "2025-06-02T06:05:56.026Z"
   },
   {
    "duration": 440,
    "start_time": "2025-06-02T06:05:56.408Z"
   },
   {
    "duration": 300,
    "start_time": "2025-06-02T06:05:56.850Z"
   },
   {
    "duration": 260,
    "start_time": "2025-06-02T06:05:57.152Z"
   },
   {
    "duration": 297,
    "start_time": "2025-06-02T06:05:57.413Z"
   },
   {
    "duration": 298,
    "start_time": "2025-06-02T06:05:57.711Z"
   },
   {
    "duration": 289,
    "start_time": "2025-06-02T06:05:58.011Z"
   },
   {
    "duration": 403,
    "start_time": "2025-06-02T06:05:58.301Z"
   },
   {
    "duration": 418,
    "start_time": "2025-06-02T06:05:58.706Z"
   },
   {
    "duration": 6,
    "start_time": "2025-06-02T06:05:59.125Z"
   },
   {
    "duration": 87,
    "start_time": "2025-06-02T06:05:59.132Z"
   },
   {
    "duration": 52,
    "start_time": "2025-06-02T06:05:59.221Z"
   },
   {
    "duration": 31,
    "start_time": "2025-06-02T06:05:59.275Z"
   },
   {
    "duration": 464,
    "start_time": "2025-06-02T06:05:59.307Z"
   },
   {
    "duration": 4,
    "start_time": "2025-06-02T06:05:59.773Z"
   },
   {
    "duration": 85,
    "start_time": "2025-06-02T06:05:59.778Z"
   },
   {
    "duration": 1504,
    "start_time": "2025-06-02T06:05:59.865Z"
   },
   {
    "duration": 8,
    "start_time": "2025-06-02T06:06:01.371Z"
   },
   {
    "duration": 10749,
    "start_time": "2025-06-02T06:06:01.381Z"
   },
   {
    "duration": 4,
    "start_time": "2025-06-02T06:06:12.132Z"
   },
   {
    "duration": 24,
    "start_time": "2025-06-02T06:06:12.138Z"
   },
   {
    "duration": 9,
    "start_time": "2025-06-02T06:06:12.164Z"
   },
   {
    "duration": 7,
    "start_time": "2025-06-02T06:06:12.174Z"
   },
   {
    "duration": 9,
    "start_time": "2025-06-02T06:06:12.183Z"
   },
   {
    "duration": 4,
    "start_time": "2025-06-02T06:06:12.194Z"
   },
   {
    "duration": 7,
    "start_time": "2025-06-02T06:06:12.199Z"
   },
   {
    "duration": 7,
    "start_time": "2025-06-02T06:06:12.207Z"
   },
   {
    "duration": 7,
    "start_time": "2025-06-02T06:06:12.215Z"
   },
   {
    "duration": 122018,
    "start_time": "2025-06-02T06:06:12.223Z"
   },
   {
    "duration": 41,
    "start_time": "2025-06-02T06:08:14.242Z"
   },
   {
    "duration": 94,
    "start_time": "2025-06-02T06:08:14.285Z"
   },
   {
    "duration": 34,
    "start_time": "2025-06-02T06:08:14.380Z"
   },
   {
    "duration": 21,
    "start_time": "2025-06-02T06:08:14.416Z"
   },
   {
    "duration": 102007,
    "start_time": "2025-06-02T06:08:14.439Z"
   },
   {
    "duration": 5,
    "start_time": "2025-06-02T06:09:56.448Z"
   },
   {
    "duration": 1311,
    "start_time": "2025-06-02T06:09:56.460Z"
   },
   {
    "duration": 653,
    "start_time": "2025-06-02T06:09:57.772Z"
   },
   {
    "duration": 70,
    "start_time": "2025-06-02T06:09:58.426Z"
   },
   {
    "duration": 11,
    "start_time": "2025-06-02T06:09:58.498Z"
   },
   {
    "duration": 124,
    "start_time": "2025-06-02T06:09:58.510Z"
   },
   {
    "duration": 33,
    "start_time": "2025-06-02T06:09:58.637Z"
   },
   {
    "duration": 39,
    "start_time": "2025-06-02T06:09:58.672Z"
   },
   {
    "duration": 32,
    "start_time": "2025-06-02T06:09:58.714Z"
   },
   {
    "duration": 22,
    "start_time": "2025-06-02T06:09:58.748Z"
   },
   {
    "duration": 31,
    "start_time": "2025-06-02T06:09:58.772Z"
   },
   {
    "duration": 28,
    "start_time": "2025-06-02T06:09:58.805Z"
   },
   {
    "duration": 13,
    "start_time": "2025-06-02T06:09:58.835Z"
   },
   {
    "duration": 21,
    "start_time": "2025-06-02T06:09:58.850Z"
   },
   {
    "duration": 12,
    "start_time": "2025-06-02T06:09:58.873Z"
   },
   {
    "duration": 12,
    "start_time": "2025-06-02T06:09:58.887Z"
   },
   {
    "duration": 33,
    "start_time": "2025-06-02T06:09:58.901Z"
   },
   {
    "duration": 32,
    "start_time": "2025-06-02T06:09:58.936Z"
   },
   {
    "duration": 18,
    "start_time": "2025-06-02T06:09:58.970Z"
   },
   {
    "duration": 259,
    "start_time": "2025-06-02T06:09:58.990Z"
   },
   {
    "duration": 6,
    "start_time": "2025-06-02T06:09:59.251Z"
   },
   {
    "duration": 16,
    "start_time": "2025-06-02T06:09:59.259Z"
   },
   {
    "duration": 8,
    "start_time": "2025-06-02T06:09:59.276Z"
   },
   {
    "duration": 10,
    "start_time": "2025-06-02T06:09:59.285Z"
   },
   {
    "duration": 22,
    "start_time": "2025-06-02T06:09:59.297Z"
   },
   {
    "duration": 412,
    "start_time": "2025-06-02T06:09:59.321Z"
   },
   {
    "duration": 356,
    "start_time": "2025-06-02T06:09:59.735Z"
   },
   {
    "duration": 433,
    "start_time": "2025-06-02T06:10:00.093Z"
   },
   {
    "duration": 434,
    "start_time": "2025-06-02T06:10:00.528Z"
   },
   {
    "duration": 254,
    "start_time": "2025-06-02T06:10:00.964Z"
   },
   {
    "duration": 281,
    "start_time": "2025-06-02T06:10:01.219Z"
   },
   {
    "duration": 295,
    "start_time": "2025-06-02T06:10:01.502Z"
   },
   {
    "duration": 303,
    "start_time": "2025-06-02T06:10:01.799Z"
   },
   {
    "duration": 290,
    "start_time": "2025-06-02T06:10:02.104Z"
   },
   {
    "duration": 23,
    "start_time": "2025-06-02T06:10:02.395Z"
   },
   {
    "duration": 68,
    "start_time": "2025-06-02T06:10:02.419Z"
   },
   {
    "duration": 561,
    "start_time": "2025-06-02T06:10:02.489Z"
   },
   {
    "duration": 392,
    "start_time": "2025-06-02T06:10:03.052Z"
   },
   {
    "duration": 431,
    "start_time": "2025-06-02T06:10:03.446Z"
   },
   {
    "duration": 299,
    "start_time": "2025-06-02T06:10:03.879Z"
   },
   {
    "duration": 236,
    "start_time": "2025-06-02T06:10:04.180Z"
   },
   {
    "duration": 290,
    "start_time": "2025-06-02T06:10:04.418Z"
   },
   {
    "duration": 294,
    "start_time": "2025-06-02T06:10:04.709Z"
   },
   {
    "duration": 291,
    "start_time": "2025-06-02T06:10:05.010Z"
   },
   {
    "duration": 295,
    "start_time": "2025-06-02T06:10:05.302Z"
   },
   {
    "duration": 7,
    "start_time": "2025-06-02T06:13:05.257Z"
   },
   {
    "duration": 18,
    "start_time": "2025-06-02T06:14:08.024Z"
   },
   {
    "duration": 154,
    "start_time": "2025-06-02T06:23:24.510Z"
   },
   {
    "duration": 14,
    "start_time": "2025-06-02T06:23:35.871Z"
   },
   {
    "duration": 21,
    "start_time": "2025-06-02T06:23:48.384Z"
   },
   {
    "duration": 13,
    "start_time": "2025-06-02T06:23:57.587Z"
   },
   {
    "duration": 36,
    "start_time": "2025-06-02T06:24:11.753Z"
   },
   {
    "duration": 13,
    "start_time": "2025-06-02T06:25:48.705Z"
   },
   {
    "duration": 35,
    "start_time": "2025-06-02T06:26:22.834Z"
   },
   {
    "duration": 18,
    "start_time": "2025-06-02T06:27:55.489Z"
   },
   {
    "duration": 20,
    "start_time": "2025-06-02T06:29:28.953Z"
   },
   {
    "duration": 19,
    "start_time": "2025-06-02T06:30:41.378Z"
   },
   {
    "duration": 22,
    "start_time": "2025-06-02T06:34:38.186Z"
   },
   {
    "duration": 14,
    "start_time": "2025-06-02T06:34:45.224Z"
   },
   {
    "duration": 13,
    "start_time": "2025-06-02T06:34:47.210Z"
   },
   {
    "duration": 21,
    "start_time": "2025-06-02T06:34:55.039Z"
   },
   {
    "duration": 19,
    "start_time": "2025-06-02T06:35:15.321Z"
   },
   {
    "duration": 20,
    "start_time": "2025-06-02T06:35:45.177Z"
   },
   {
    "duration": 21,
    "start_time": "2025-06-02T06:39:07.722Z"
   },
   {
    "duration": 24,
    "start_time": "2025-06-02T06:40:27.417Z"
   },
   {
    "duration": 291,
    "start_time": "2025-06-02T06:46:14.431Z"
   },
   {
    "duration": 470,
    "start_time": "2025-06-02T06:47:51.857Z"
   },
   {
    "duration": 315,
    "start_time": "2025-06-02T06:48:37.347Z"
   },
   {
    "duration": 303,
    "start_time": "2025-06-02T06:50:23.026Z"
   },
   {
    "duration": 21,
    "start_time": "2025-06-02T06:54:35.022Z"
   },
   {
    "duration": 304,
    "start_time": "2025-06-02T06:55:56.122Z"
   },
   {
    "duration": 262,
    "start_time": "2025-06-02T06:56:12.753Z"
   },
   {
    "duration": 21,
    "start_time": "2025-06-02T07:00:10.336Z"
   },
   {
    "duration": 23,
    "start_time": "2025-06-02T07:01:01.824Z"
   },
   {
    "duration": 312,
    "start_time": "2025-06-02T07:01:59.595Z"
   },
   {
    "duration": 13,
    "start_time": "2025-06-02T07:04:35.266Z"
   },
   {
    "duration": 18,
    "start_time": "2025-06-02T07:06:47.908Z"
   },
   {
    "duration": 243,
    "start_time": "2025-06-02T07:08:54.782Z"
   },
   {
    "duration": 79,
    "start_time": "2025-06-02T07:14:39.926Z"
   },
   {
    "duration": 18,
    "start_time": "2025-06-02T07:15:52.097Z"
   },
   {
    "duration": 184,
    "start_time": "2025-06-02T07:16:43.662Z"
   },
   {
    "duration": 276,
    "start_time": "2025-06-02T07:17:08.685Z"
   },
   {
    "duration": 7,
    "start_time": "2025-06-02T07:23:15.148Z"
   },
   {
    "duration": 76,
    "start_time": "2025-06-02T07:25:11.389Z"
   },
   {
    "duration": 6,
    "start_time": "2025-06-02T07:28:50.643Z"
   },
   {
    "duration": 410,
    "start_time": "2025-06-02T07:30:52.707Z"
   },
   {
    "duration": 364,
    "start_time": "2025-06-02T07:34:05.660Z"
   },
   {
    "duration": 388,
    "start_time": "2025-06-02T07:34:16.092Z"
   },
   {
    "duration": 76,
    "start_time": "2025-06-02T07:36:15.812Z"
   },
   {
    "duration": 413,
    "start_time": "2025-06-02T07:37:18.530Z"
   },
   {
    "duration": 4665,
    "start_time": "2025-06-02T16:40:44.715Z"
   },
   {
    "duration": 3262,
    "start_time": "2025-06-02T16:40:49.382Z"
   },
   {
    "duration": 7025,
    "start_time": "2025-06-02T16:40:52.646Z"
   },
   {
    "duration": 2119,
    "start_time": "2025-06-02T16:40:59.674Z"
   },
   {
    "duration": 6,
    "start_time": "2025-06-02T16:41:01.795Z"
   },
   {
    "duration": 49,
    "start_time": "2025-06-02T16:41:01.803Z"
   },
   {
    "duration": 37,
    "start_time": "2025-06-02T16:41:01.854Z"
   },
   {
    "duration": 50,
    "start_time": "2025-06-02T16:41:01.893Z"
   },
   {
    "duration": 55,
    "start_time": "2025-06-02T16:41:01.945Z"
   },
   {
    "duration": 44,
    "start_time": "2025-06-02T16:41:02.003Z"
   },
   {
    "duration": 146,
    "start_time": "2025-06-02T16:41:02.048Z"
   },
   {
    "duration": 43,
    "start_time": "2025-06-02T16:41:02.196Z"
   },
   {
    "duration": 113,
    "start_time": "2025-06-02T16:41:02.241Z"
   },
   {
    "duration": 15,
    "start_time": "2025-06-02T16:41:02.355Z"
   },
   {
    "duration": 68,
    "start_time": "2025-06-02T16:41:02.372Z"
   },
   {
    "duration": 20,
    "start_time": "2025-06-02T16:41:02.442Z"
   },
   {
    "duration": 41,
    "start_time": "2025-06-02T16:41:02.464Z"
   },
   {
    "duration": 36,
    "start_time": "2025-06-02T16:41:02.507Z"
   },
   {
    "duration": 129,
    "start_time": "2025-06-02T16:41:02.545Z"
   },
   {
    "duration": 170,
    "start_time": "2025-06-02T16:41:02.675Z"
   },
   {
    "duration": 113,
    "start_time": "2025-06-02T16:41:02.847Z"
   },
   {
    "duration": 130,
    "start_time": "2025-06-02T16:41:02.961Z"
   },
   {
    "duration": 42,
    "start_time": "2025-06-02T16:41:03.093Z"
   },
   {
    "duration": 19,
    "start_time": "2025-06-02T16:41:03.137Z"
   },
   {
    "duration": 24,
    "start_time": "2025-06-02T16:41:03.158Z"
   },
   {
    "duration": 26,
    "start_time": "2025-06-02T16:41:03.184Z"
   },
   {
    "duration": 46,
    "start_time": "2025-06-02T16:41:03.212Z"
   },
   {
    "duration": 19,
    "start_time": "2025-06-02T16:41:03.261Z"
   },
   {
    "duration": 27,
    "start_time": "2025-06-02T16:41:03.282Z"
   },
   {
    "duration": 53,
    "start_time": "2025-06-02T16:41:03.311Z"
   },
   {
    "duration": 9,
    "start_time": "2025-06-02T16:41:03.366Z"
   },
   {
    "duration": 19,
    "start_time": "2025-06-02T16:41:03.376Z"
   },
   {
    "duration": 41,
    "start_time": "2025-06-02T16:41:03.397Z"
   },
   {
    "duration": 519,
    "start_time": "2025-06-02T16:41:03.440Z"
   },
   {
    "duration": 405,
    "start_time": "2025-06-02T16:41:03.961Z"
   },
   {
    "duration": 444,
    "start_time": "2025-06-02T16:41:04.367Z"
   },
   {
    "duration": 436,
    "start_time": "2025-06-02T16:41:04.813Z"
   },
   {
    "duration": 428,
    "start_time": "2025-06-02T16:41:05.251Z"
   },
   {
    "duration": 303,
    "start_time": "2025-06-02T16:41:05.681Z"
   },
   {
    "duration": 300,
    "start_time": "2025-06-02T16:41:05.986Z"
   },
   {
    "duration": 282,
    "start_time": "2025-06-02T16:41:06.288Z"
   },
   {
    "duration": 297,
    "start_time": "2025-06-02T16:41:06.572Z"
   },
   {
    "duration": 25,
    "start_time": "2025-06-02T16:41:06.872Z"
   },
   {
    "duration": 41,
    "start_time": "2025-06-02T16:41:06.900Z"
   },
   {
    "duration": 570,
    "start_time": "2025-06-02T16:41:06.944Z"
   },
   {
    "duration": 384,
    "start_time": "2025-06-02T16:41:07.516Z"
   },
   {
    "duration": 410,
    "start_time": "2025-06-02T16:41:07.902Z"
   },
   {
    "duration": 292,
    "start_time": "2025-06-02T16:41:08.314Z"
   },
   {
    "duration": 269,
    "start_time": "2025-06-02T16:41:08.608Z"
   },
   {
    "duration": 307,
    "start_time": "2025-06-02T16:41:08.879Z"
   },
   {
    "duration": 297,
    "start_time": "2025-06-02T16:41:09.188Z"
   },
   {
    "duration": 291,
    "start_time": "2025-06-02T16:41:09.487Z"
   },
   {
    "duration": 292,
    "start_time": "2025-06-02T16:41:09.780Z"
   },
   {
    "duration": 535,
    "start_time": "2025-06-02T16:41:10.074Z"
   },
   {
    "duration": 5,
    "start_time": "2025-06-02T16:41:44.103Z"
   },
   {
    "duration": 11,
    "start_time": "2025-06-02T16:43:40.171Z"
   },
   {
    "duration": 4,
    "start_time": "2025-06-02T16:43:44.422Z"
   },
   {
    "duration": 6,
    "start_time": "2025-06-02T16:43:50.643Z"
   },
   {
    "duration": 13,
    "start_time": "2025-06-02T16:43:52.489Z"
   },
   {
    "duration": 529,
    "start_time": "2025-06-02T16:44:07.094Z"
   },
   {
    "duration": 3,
    "start_time": "2025-06-02T16:44:41.906Z"
   },
   {
    "duration": 83,
    "start_time": "2025-06-02T16:44:46.358Z"
   },
   {
    "duration": 1384,
    "start_time": "2025-06-02T16:44:53.937Z"
   },
   {
    "duration": 8,
    "start_time": "2025-06-02T16:45:29.818Z"
   },
   {
    "duration": 10373,
    "start_time": "2025-06-02T16:45:32.515Z"
   },
   {
    "duration": 2682,
    "start_time": "2025-06-02T16:47:37.792Z"
   },
   {
    "duration": 2550,
    "start_time": "2025-06-02T16:47:40.476Z"
   },
   {
    "duration": 3189,
    "start_time": "2025-06-02T16:47:43.028Z"
   },
   {
    "duration": 1916,
    "start_time": "2025-06-02T16:47:46.220Z"
   },
   {
    "duration": 4,
    "start_time": "2025-06-02T16:47:48.138Z"
   },
   {
    "duration": 6,
    "start_time": "2025-06-02T16:47:48.144Z"
   },
   {
    "duration": 13,
    "start_time": "2025-06-02T16:47:48.151Z"
   },
   {
    "duration": 12,
    "start_time": "2025-06-02T16:47:48.165Z"
   },
   {
    "duration": 11,
    "start_time": "2025-06-02T16:47:48.179Z"
   },
   {
    "duration": 21,
    "start_time": "2025-06-02T16:47:48.192Z"
   },
   {
    "duration": 6,
    "start_time": "2025-06-02T16:47:48.215Z"
   },
   {
    "duration": 13,
    "start_time": "2025-06-02T16:47:48.223Z"
   },
   {
    "duration": 74,
    "start_time": "2025-06-02T16:47:48.239Z"
   },
   {
    "duration": 13,
    "start_time": "2025-06-02T16:47:48.315Z"
   },
   {
    "duration": 20,
    "start_time": "2025-06-02T16:47:48.330Z"
   },
   {
    "duration": 11,
    "start_time": "2025-06-02T16:47:48.352Z"
   },
   {
    "duration": 18,
    "start_time": "2025-06-02T16:47:48.365Z"
   },
   {
    "duration": 12,
    "start_time": "2025-06-02T16:47:48.385Z"
   },
   {
    "duration": 9,
    "start_time": "2025-06-02T16:47:48.399Z"
   },
   {
    "duration": 28,
    "start_time": "2025-06-02T16:47:48.410Z"
   },
   {
    "duration": 15,
    "start_time": "2025-06-02T16:47:48.440Z"
   },
   {
    "duration": 6,
    "start_time": "2025-06-02T16:47:48.457Z"
   },
   {
    "duration": 21,
    "start_time": "2025-06-02T16:47:48.465Z"
   },
   {
    "duration": 13,
    "start_time": "2025-06-02T16:47:48.488Z"
   },
   {
    "duration": 7,
    "start_time": "2025-06-02T16:47:48.503Z"
   },
   {
    "duration": 7,
    "start_time": "2025-06-02T16:47:48.537Z"
   },
   {
    "duration": 90,
    "start_time": "2025-06-02T16:47:48.546Z"
   },
   {
    "duration": 53,
    "start_time": "2025-06-02T16:47:48.641Z"
   },
   {
    "duration": 3,
    "start_time": "2025-06-02T16:47:48.696Z"
   },
   {
    "duration": 21,
    "start_time": "2025-06-02T16:47:48.701Z"
   },
   {
    "duration": 109,
    "start_time": "2025-06-02T16:47:48.724Z"
   },
   {
    "duration": 20,
    "start_time": "2025-06-02T16:47:48.835Z"
   },
   {
    "duration": 26,
    "start_time": "2025-06-02T16:47:48.856Z"
   },
   {
    "duration": 471,
    "start_time": "2025-06-02T16:47:48.883Z"
   },
   {
    "duration": 405,
    "start_time": "2025-06-02T16:47:49.356Z"
   },
   {
    "duration": 436,
    "start_time": "2025-06-02T16:47:49.762Z"
   },
   {
    "duration": 426,
    "start_time": "2025-06-02T16:47:50.200Z"
   },
   {
    "duration": 381,
    "start_time": "2025-06-02T16:47:50.627Z"
   },
   {
    "duration": 286,
    "start_time": "2025-06-02T16:47:51.009Z"
   },
   {
    "duration": 310,
    "start_time": "2025-06-02T16:47:51.296Z"
   },
   {
    "duration": 289,
    "start_time": "2025-06-02T16:47:51.608Z"
   },
   {
    "duration": 280,
    "start_time": "2025-06-02T16:47:51.898Z"
   },
   {
    "duration": 24,
    "start_time": "2025-06-02T16:47:52.180Z"
   },
   {
    "duration": 44,
    "start_time": "2025-06-02T16:47:52.206Z"
   },
   {
    "duration": 434,
    "start_time": "2025-06-02T16:47:52.252Z"
   },
   {
    "duration": 390,
    "start_time": "2025-06-02T16:47:52.688Z"
   },
   {
    "duration": 418,
    "start_time": "2025-06-02T16:47:53.080Z"
   },
   {
    "duration": 304,
    "start_time": "2025-06-02T16:47:53.500Z"
   },
   {
    "duration": 275,
    "start_time": "2025-06-02T16:47:53.806Z"
   },
   {
    "duration": 299,
    "start_time": "2025-06-02T16:47:54.084Z"
   },
   {
    "duration": 301,
    "start_time": "2025-06-02T16:47:54.387Z"
   },
   {
    "duration": 296,
    "start_time": "2025-06-02T16:47:54.690Z"
   },
   {
    "duration": 297,
    "start_time": "2025-06-02T16:47:54.988Z"
   },
   {
    "duration": 574,
    "start_time": "2025-06-02T16:47:55.287Z"
   },
   {
    "duration": 6,
    "start_time": "2025-06-02T16:47:55.863Z"
   },
   {
    "duration": 14,
    "start_time": "2025-06-02T16:47:55.870Z"
   },
   {
    "duration": 4,
    "start_time": "2025-06-02T16:47:55.886Z"
   },
   {
    "duration": 40,
    "start_time": "2025-06-02T16:47:55.892Z"
   },
   {
    "duration": 15,
    "start_time": "2025-06-02T16:47:55.934Z"
   },
   {
    "duration": 506,
    "start_time": "2025-06-02T16:47:55.951Z"
   },
   {
    "duration": 5,
    "start_time": "2025-06-02T16:47:56.458Z"
   },
   {
    "duration": 174,
    "start_time": "2025-06-02T16:47:56.465Z"
   },
   {
    "duration": 1488,
    "start_time": "2025-06-02T16:47:56.641Z"
   },
   {
    "duration": 9,
    "start_time": "2025-06-02T16:47:58.132Z"
   },
   {
    "duration": 10746,
    "start_time": "2025-06-02T16:47:58.143Z"
   },
   {
    "duration": 6,
    "start_time": "2025-06-02T16:48:08.891Z"
   },
   {
    "duration": 38,
    "start_time": "2025-06-02T16:48:08.899Z"
   },
   {
    "duration": 170,
    "start_time": "2025-06-02T16:48:08.939Z"
   },
   {
    "duration": 23,
    "start_time": "2025-06-02T16:48:09.111Z"
   },
   {
    "duration": 7,
    "start_time": "2025-06-02T16:48:09.136Z"
   },
   {
    "duration": 7,
    "start_time": "2025-06-02T16:48:09.144Z"
   },
   {
    "duration": 6,
    "start_time": "2025-06-02T16:48:09.153Z"
   },
   {
    "duration": 5,
    "start_time": "2025-06-02T16:48:09.161Z"
   },
   {
    "duration": 5,
    "start_time": "2025-06-02T16:48:09.168Z"
   },
   {
    "duration": 119877,
    "start_time": "2025-06-02T16:48:09.175Z"
   },
   {
    "duration": 35,
    "start_time": "2025-06-02T16:50:09.055Z"
   },
   {
    "duration": 123,
    "start_time": "2025-06-02T16:50:09.091Z"
   },
   {
    "duration": 3,
    "start_time": "2025-06-02T16:50:09.216Z"
   },
   {
    "duration": 43,
    "start_time": "2025-06-02T16:50:09.220Z"
   },
   {
    "duration": 104204,
    "start_time": "2025-06-02T16:50:09.265Z"
   },
   {
    "duration": 5,
    "start_time": "2025-06-02T16:51:53.471Z"
   },
   {
    "duration": 1303,
    "start_time": "2025-06-02T16:51:53.483Z"
   },
   {
    "duration": 625,
    "start_time": "2025-06-02T16:51:54.788Z"
   },
   {
    "duration": 60,
    "start_time": "2025-06-02T16:51:55.416Z"
   },
   {
    "duration": 14,
    "start_time": "2025-06-02T16:51:55.478Z"
   },
   {
    "duration": 21,
    "start_time": "2025-06-02T16:51:55.494Z"
   },
   {
    "duration": 15,
    "start_time": "2025-06-02T16:51:55.517Z"
   },
   {
    "duration": 20,
    "start_time": "2025-06-02T16:51:55.534Z"
   },
   {
    "duration": 42,
    "start_time": "2025-06-02T16:51:55.556Z"
   },
   {
    "duration": 17,
    "start_time": "2025-06-02T16:51:55.600Z"
   },
   {
    "duration": 5,
    "start_time": "2025-06-02T16:51:55.618Z"
   },
   {
    "duration": 22,
    "start_time": "2025-06-02T16:51:55.624Z"
   },
   {
    "duration": 5,
    "start_time": "2025-06-02T16:51:55.648Z"
   },
   {
    "duration": 19,
    "start_time": "2025-06-02T16:51:55.655Z"
   },
   {
    "duration": 31,
    "start_time": "2025-06-02T16:51:55.676Z"
   },
   {
    "duration": 15,
    "start_time": "2025-06-02T16:51:55.709Z"
   },
   {
    "duration": 13,
    "start_time": "2025-06-02T16:51:55.727Z"
   },
   {
    "duration": 30,
    "start_time": "2025-06-02T16:51:55.742Z"
   },
   {
    "duration": 19,
    "start_time": "2025-06-02T16:51:55.774Z"
   },
   {
    "duration": 9,
    "start_time": "2025-06-02T16:51:55.795Z"
   },
   {
    "duration": 33,
    "start_time": "2025-06-02T16:51:55.806Z"
   },
   {
    "duration": 20,
    "start_time": "2025-06-02T16:51:55.841Z"
   },
   {
    "duration": 16,
    "start_time": "2025-06-02T16:51:55.863Z"
   },
   {
    "duration": 8,
    "start_time": "2025-06-02T16:51:55.881Z"
   },
   {
    "duration": 34,
    "start_time": "2025-06-02T16:51:55.890Z"
   },
   {
    "duration": 467,
    "start_time": "2025-06-02T16:51:55.926Z"
   },
   {
    "duration": 368,
    "start_time": "2025-06-02T16:51:56.395Z"
   },
   {
    "duration": 434,
    "start_time": "2025-06-02T16:51:56.764Z"
   },
   {
    "duration": 295,
    "start_time": "2025-06-02T16:51:57.200Z"
   },
   {
    "duration": 288,
    "start_time": "2025-06-02T16:51:57.496Z"
   },
   {
    "duration": 400,
    "start_time": "2025-06-02T16:51:57.786Z"
   },
   {
    "duration": 282,
    "start_time": "2025-06-02T16:51:58.188Z"
   },
   {
    "duration": 312,
    "start_time": "2025-06-02T16:51:58.471Z"
   },
   {
    "duration": 311,
    "start_time": "2025-06-02T16:51:58.785Z"
   },
   {
    "duration": 23,
    "start_time": "2025-06-02T16:51:59.098Z"
   },
   {
    "duration": 25,
    "start_time": "2025-06-02T16:51:59.123Z"
   },
   {
    "duration": 444,
    "start_time": "2025-06-02T16:51:59.150Z"
   },
   {
    "duration": 389,
    "start_time": "2025-06-02T16:51:59.595Z"
   },
   {
    "duration": 423,
    "start_time": "2025-06-02T16:51:59.986Z"
   },
   {
    "duration": 299,
    "start_time": "2025-06-02T16:52:00.410Z"
   },
   {
    "duration": 272,
    "start_time": "2025-06-02T16:52:00.711Z"
   },
   {
    "duration": 301,
    "start_time": "2025-06-02T16:52:00.985Z"
   },
   {
    "duration": 294,
    "start_time": "2025-06-02T16:52:01.288Z"
   },
   {
    "duration": 294,
    "start_time": "2025-06-02T16:52:01.584Z"
   },
   {
    "duration": 298,
    "start_time": "2025-06-02T16:52:01.879Z"
   },
   {
    "duration": 7,
    "start_time": "2025-06-02T16:52:02.178Z"
   },
   {
    "duration": 134,
    "start_time": "2025-06-02T16:52:02.188Z"
   },
   {
    "duration": 347,
    "start_time": "2025-06-02T16:52:02.324Z"
   },
   {
    "duration": 305,
    "start_time": "2025-06-02T16:52:02.674Z"
   },
   {
    "duration": 322,
    "start_time": "2025-06-02T16:52:02.981Z"
   },
   {
    "duration": 467,
    "start_time": "2025-06-02T16:52:03.305Z"
   },
   {
    "duration": 316,
    "start_time": "2025-06-02T16:52:03.775Z"
   },
   {
    "duration": 8,
    "start_time": "2025-06-02T16:52:04.094Z"
   },
   {
    "duration": 440,
    "start_time": "2025-06-02T16:52:04.104Z"
   },
   {
    "duration": 407,
    "start_time": "2025-06-02T16:52:04.546Z"
   },
   {
    "duration": 464,
    "start_time": "2025-06-02T16:52:04.955Z"
   },
   {
    "duration": 256,
    "start_time": "2025-06-02T16:57:41.202Z"
   },
   {
    "duration": 115,
    "start_time": "2025-06-02T16:58:52.058Z"
   },
   {
    "duration": 115,
    "start_time": "2025-06-02T16:59:06.201Z"
   },
   {
    "duration": 131,
    "start_time": "2025-06-02T17:01:53.450Z"
   },
   {
    "duration": 6,
    "start_time": "2025-06-02T17:10:37.198Z"
   },
   {
    "duration": 448,
    "start_time": "2025-06-02T17:13:35.934Z"
   },
   {
    "duration": 442,
    "start_time": "2025-06-02T17:14:17.222Z"
   },
   {
    "duration": 409,
    "start_time": "2025-06-02T17:14:27.856Z"
   },
   {
    "duration": 373,
    "start_time": "2025-06-02T17:14:44.610Z"
   },
   {
    "duration": 182,
    "start_time": "2025-06-02T17:15:06.224Z"
   },
   {
    "duration": 405,
    "start_time": "2025-06-02T17:15:36.267Z"
   },
   {
    "duration": 401,
    "start_time": "2025-06-02T17:15:47.721Z"
   },
   {
    "duration": 401,
    "start_time": "2025-06-02T17:15:57.673Z"
   },
   {
    "duration": 118,
    "start_time": "2025-06-02T17:31:32.059Z"
   },
   {
    "duration": 383,
    "start_time": "2025-06-02T17:31:39.404Z"
   },
   {
    "duration": 160,
    "start_time": "2025-06-02T17:36:30.789Z"
   },
   {
    "duration": 299,
    "start_time": "2025-06-02T17:38:17.186Z"
   },
   {
    "duration": 2655,
    "start_time": "2025-06-02T17:40:31.199Z"
   },
   {
    "duration": 2614,
    "start_time": "2025-06-02T17:40:33.856Z"
   },
   {
    "duration": 3180,
    "start_time": "2025-06-02T17:40:36.472Z"
   },
   {
    "duration": 2252,
    "start_time": "2025-06-02T17:40:39.654Z"
   },
   {
    "duration": 5,
    "start_time": "2025-06-02T17:40:41.908Z"
   },
   {
    "duration": 10,
    "start_time": "2025-06-02T17:40:41.915Z"
   },
   {
    "duration": 4,
    "start_time": "2025-06-02T17:40:41.930Z"
   },
   {
    "duration": 11,
    "start_time": "2025-06-02T17:40:41.936Z"
   },
   {
    "duration": 9,
    "start_time": "2025-06-02T17:40:41.949Z"
   },
   {
    "duration": 5,
    "start_time": "2025-06-02T17:40:41.960Z"
   },
   {
    "duration": 5,
    "start_time": "2025-06-02T17:40:41.966Z"
   },
   {
    "duration": 7,
    "start_time": "2025-06-02T17:40:41.973Z"
   },
   {
    "duration": 88,
    "start_time": "2025-06-02T17:40:41.981Z"
   },
   {
    "duration": 13,
    "start_time": "2025-06-02T17:40:42.073Z"
   },
   {
    "duration": 22,
    "start_time": "2025-06-02T17:40:42.087Z"
   },
   {
    "duration": 15,
    "start_time": "2025-06-02T17:40:42.111Z"
   },
   {
    "duration": 16,
    "start_time": "2025-06-02T17:40:42.127Z"
   },
   {
    "duration": 13,
    "start_time": "2025-06-02T17:40:42.146Z"
   },
   {
    "duration": 10,
    "start_time": "2025-06-02T17:40:42.161Z"
   },
   {
    "duration": 3,
    "start_time": "2025-06-02T17:40:42.173Z"
   },
   {
    "duration": 23,
    "start_time": "2025-06-02T17:40:42.177Z"
   },
   {
    "duration": 11,
    "start_time": "2025-06-02T17:40:42.201Z"
   },
   {
    "duration": 29,
    "start_time": "2025-06-02T17:40:42.214Z"
   },
   {
    "duration": 43,
    "start_time": "2025-06-02T17:40:42.245Z"
   },
   {
    "duration": 22,
    "start_time": "2025-06-02T17:40:42.289Z"
   },
   {
    "duration": 13,
    "start_time": "2025-06-02T17:40:42.313Z"
   },
   {
    "duration": 32,
    "start_time": "2025-06-02T17:40:42.328Z"
   },
   {
    "duration": 19,
    "start_time": "2025-06-02T17:40:42.362Z"
   },
   {
    "duration": 8,
    "start_time": "2025-06-02T17:40:42.382Z"
   },
   {
    "duration": 29,
    "start_time": "2025-06-02T17:40:42.391Z"
   },
   {
    "duration": 15,
    "start_time": "2025-06-02T17:40:42.422Z"
   },
   {
    "duration": 8,
    "start_time": "2025-06-02T17:40:42.439Z"
   },
   {
    "duration": 36,
    "start_time": "2025-06-02T17:40:42.448Z"
   },
   {
    "duration": 437,
    "start_time": "2025-06-02T17:40:42.485Z"
   },
   {
    "duration": 372,
    "start_time": "2025-06-02T17:40:42.924Z"
   },
   {
    "duration": 412,
    "start_time": "2025-06-02T17:40:43.298Z"
   },
   {
    "duration": 430,
    "start_time": "2025-06-02T17:40:43.712Z"
   },
   {
    "duration": 444,
    "start_time": "2025-06-02T17:40:44.144Z"
   },
   {
    "duration": 291,
    "start_time": "2025-06-02T17:40:44.590Z"
   },
   {
    "duration": 299,
    "start_time": "2025-06-02T17:40:44.883Z"
   },
   {
    "duration": 287,
    "start_time": "2025-06-02T17:40:45.188Z"
   },
   {
    "duration": 296,
    "start_time": "2025-06-02T17:40:45.477Z"
   },
   {
    "duration": 26,
    "start_time": "2025-06-02T17:40:45.775Z"
   },
   {
    "duration": 38,
    "start_time": "2025-06-02T17:40:45.802Z"
   },
   {
    "duration": 416,
    "start_time": "2025-06-02T17:40:45.842Z"
   },
   {
    "duration": 406,
    "start_time": "2025-06-02T17:40:46.260Z"
   },
   {
    "duration": 433,
    "start_time": "2025-06-02T17:40:46.667Z"
   },
   {
    "duration": 305,
    "start_time": "2025-06-02T17:40:47.102Z"
   },
   {
    "duration": 272,
    "start_time": "2025-06-02T17:40:47.409Z"
   },
   {
    "duration": 293,
    "start_time": "2025-06-02T17:40:47.683Z"
   },
   {
    "duration": 301,
    "start_time": "2025-06-02T17:40:47.978Z"
   },
   {
    "duration": 295,
    "start_time": "2025-06-02T17:40:48.280Z"
   },
   {
    "duration": 414,
    "start_time": "2025-06-02T17:40:48.577Z"
   },
   {
    "duration": 422,
    "start_time": "2025-06-02T17:40:48.994Z"
   },
   {
    "duration": 4,
    "start_time": "2025-06-02T17:40:49.418Z"
   },
   {
    "duration": 22,
    "start_time": "2025-06-02T17:40:49.424Z"
   },
   {
    "duration": 8,
    "start_time": "2025-06-02T17:40:49.448Z"
   },
   {
    "duration": 14,
    "start_time": "2025-06-02T17:40:49.457Z"
   },
   {
    "duration": 12,
    "start_time": "2025-06-02T17:40:49.473Z"
   },
   {
    "duration": 536,
    "start_time": "2025-06-02T17:40:49.487Z"
   },
   {
    "duration": 13,
    "start_time": "2025-06-02T17:40:50.025Z"
   },
   {
    "duration": 99,
    "start_time": "2025-06-02T17:40:50.040Z"
   },
   {
    "duration": 1492,
    "start_time": "2025-06-02T17:40:50.141Z"
   },
   {
    "duration": 9,
    "start_time": "2025-06-02T17:40:51.636Z"
   },
   {
    "duration": 10531,
    "start_time": "2025-06-02T17:40:51.647Z"
   },
   {
    "duration": 6,
    "start_time": "2025-06-02T17:41:02.180Z"
   },
   {
    "duration": 30,
    "start_time": "2025-06-02T17:41:02.188Z"
   },
   {
    "duration": 16,
    "start_time": "2025-06-02T17:41:02.220Z"
   },
   {
    "duration": 21,
    "start_time": "2025-06-02T17:41:02.238Z"
   },
   {
    "duration": 57,
    "start_time": "2025-06-02T17:41:02.261Z"
   },
   {
    "duration": 12,
    "start_time": "2025-06-02T17:41:02.320Z"
   },
   {
    "duration": 23,
    "start_time": "2025-06-02T17:41:02.334Z"
   },
   {
    "duration": 26,
    "start_time": "2025-06-02T17:41:02.359Z"
   },
   {
    "duration": 29,
    "start_time": "2025-06-02T17:41:02.387Z"
   },
   {
    "duration": 119137,
    "start_time": "2025-06-02T17:41:02.417Z"
   },
   {
    "duration": 37,
    "start_time": "2025-06-02T17:43:01.555Z"
   },
   {
    "duration": 103,
    "start_time": "2025-06-02T17:43:01.594Z"
   },
   {
    "duration": 3,
    "start_time": "2025-06-02T17:43:01.699Z"
   },
   {
    "duration": 35,
    "start_time": "2025-06-02T17:43:01.703Z"
   },
   {
    "duration": 101166,
    "start_time": "2025-06-02T17:43:01.740Z"
   },
   {
    "duration": 5,
    "start_time": "2025-06-02T17:44:42.908Z"
   },
   {
    "duration": 1271,
    "start_time": "2025-06-02T17:44:42.915Z"
   },
   {
    "duration": 634,
    "start_time": "2025-06-02T17:44:44.188Z"
   },
   {
    "duration": 61,
    "start_time": "2025-06-02T17:44:44.824Z"
   },
   {
    "duration": 12,
    "start_time": "2025-06-02T17:44:44.887Z"
   },
   {
    "duration": 14,
    "start_time": "2025-06-02T17:44:44.901Z"
   },
   {
    "duration": 13,
    "start_time": "2025-06-02T17:44:44.916Z"
   },
   {
    "duration": 13,
    "start_time": "2025-06-02T17:44:44.930Z"
   },
   {
    "duration": 17,
    "start_time": "2025-06-02T17:44:44.944Z"
   },
   {
    "duration": 119,
    "start_time": "2025-06-02T17:44:44.963Z"
   },
   {
    "duration": 22,
    "start_time": "2025-06-02T17:44:45.083Z"
   },
   {
    "duration": 15,
    "start_time": "2025-06-02T17:44:45.108Z"
   },
   {
    "duration": 51,
    "start_time": "2025-06-02T17:44:45.124Z"
   },
   {
    "duration": 40,
    "start_time": "2025-06-02T17:44:45.176Z"
   },
   {
    "duration": 35,
    "start_time": "2025-06-02T17:44:45.218Z"
   },
   {
    "duration": 145,
    "start_time": "2025-06-02T17:44:45.255Z"
   },
   {
    "duration": 21,
    "start_time": "2025-06-02T17:44:45.401Z"
   },
   {
    "duration": 44,
    "start_time": "2025-06-02T17:44:45.424Z"
   },
   {
    "duration": 19,
    "start_time": "2025-06-02T17:44:45.470Z"
   },
   {
    "duration": 8,
    "start_time": "2025-06-02T17:44:45.490Z"
   },
   {
    "duration": 4,
    "start_time": "2025-06-02T17:44:45.499Z"
   },
   {
    "duration": 39,
    "start_time": "2025-06-02T17:44:45.505Z"
   },
   {
    "duration": 7,
    "start_time": "2025-06-02T17:44:45.545Z"
   },
   {
    "duration": 27,
    "start_time": "2025-06-02T17:44:45.553Z"
   },
   {
    "duration": 40,
    "start_time": "2025-06-02T17:44:45.582Z"
   },
   {
    "duration": 416,
    "start_time": "2025-06-02T17:44:45.624Z"
   },
   {
    "duration": 365,
    "start_time": "2025-06-02T17:44:46.041Z"
   },
   {
    "duration": 402,
    "start_time": "2025-06-02T17:44:46.408Z"
   },
   {
    "duration": 436,
    "start_time": "2025-06-02T17:44:46.812Z"
   },
   {
    "duration": 243,
    "start_time": "2025-06-02T17:44:47.250Z"
   },
   {
    "duration": 299,
    "start_time": "2025-06-02T17:44:47.495Z"
   },
   {
    "duration": 282,
    "start_time": "2025-06-02T17:44:47.796Z"
   },
   {
    "duration": 302,
    "start_time": "2025-06-02T17:44:48.079Z"
   },
   {
    "duration": 291,
    "start_time": "2025-06-02T17:44:48.383Z"
   },
   {
    "duration": 24,
    "start_time": "2025-06-02T17:44:48.676Z"
   },
   {
    "duration": 50,
    "start_time": "2025-06-02T17:44:48.702Z"
   },
   {
    "duration": 452,
    "start_time": "2025-06-02T17:44:48.753Z"
   },
   {
    "duration": 378,
    "start_time": "2025-06-02T17:44:49.207Z"
   },
   {
    "duration": 442,
    "start_time": "2025-06-02T17:44:49.586Z"
   },
   {
    "duration": 276,
    "start_time": "2025-06-02T17:44:50.037Z"
   },
   {
    "duration": 269,
    "start_time": "2025-06-02T17:44:50.315Z"
   },
   {
    "duration": 295,
    "start_time": "2025-06-02T17:44:50.591Z"
   },
   {
    "duration": 289,
    "start_time": "2025-06-02T17:44:50.888Z"
   },
   {
    "duration": 290,
    "start_time": "2025-06-02T17:44:51.179Z"
   },
   {
    "duration": 298,
    "start_time": "2025-06-02T17:44:51.471Z"
   },
   {
    "duration": 5,
    "start_time": "2025-06-02T17:44:51.771Z"
   },
   {
    "duration": 31,
    "start_time": "2025-06-02T17:44:51.778Z"
   },
   {
    "duration": 298,
    "start_time": "2025-06-02T17:44:51.811Z"
   },
   {
    "duration": 458,
    "start_time": "2025-06-02T17:44:52.111Z"
   },
   {
    "duration": 315,
    "start_time": "2025-06-02T17:44:52.570Z"
   },
   {
    "duration": 294,
    "start_time": "2025-06-02T17:44:52.886Z"
   },
   {
    "duration": 299,
    "start_time": "2025-06-02T17:44:53.182Z"
   },
   {
    "duration": 7,
    "start_time": "2025-06-02T17:44:53.482Z"
   },
   {
    "duration": 414,
    "start_time": "2025-06-02T17:44:53.491Z"
   },
   {
    "duration": 373,
    "start_time": "2025-06-02T17:44:53.906Z"
   },
   {
    "duration": 447,
    "start_time": "2025-06-02T17:44:54.280Z"
   },
   {
    "duration": 124,
    "start_time": "2025-06-02T17:44:54.729Z"
   },
   {
    "duration": 409,
    "start_time": "2025-06-02T17:44:54.855Z"
   },
   {
    "duration": 179,
    "start_time": "2025-06-02T17:44:55.266Z"
   },
   {
    "duration": 147,
    "start_time": "2025-06-02T17:46:47.118Z"
   },
   {
    "duration": 11,
    "start_time": "2025-06-02T17:46:52.045Z"
   },
   {
    "duration": 12,
    "start_time": "2025-06-02T17:47:10.190Z"
   },
   {
    "duration": 160,
    "start_time": "2025-06-02T17:49:15.235Z"
   },
   {
    "duration": 13,
    "start_time": "2025-06-02T17:49:20.887Z"
   },
   {
    "duration": 13,
    "start_time": "2025-06-02T17:49:38.247Z"
   },
   {
    "duration": 61,
    "start_time": "2025-06-02T17:51:26.286Z"
   },
   {
    "duration": 13,
    "start_time": "2025-06-02T17:51:26.350Z"
   },
   {
    "duration": 15,
    "start_time": "2025-06-02T17:51:26.364Z"
   },
   {
    "duration": 12,
    "start_time": "2025-06-02T17:51:26.381Z"
   },
   {
    "duration": 11,
    "start_time": "2025-06-02T17:51:26.395Z"
   },
   {
    "duration": 36,
    "start_time": "2025-06-02T17:51:26.408Z"
   },
   {
    "duration": 11,
    "start_time": "2025-06-02T17:51:26.446Z"
   },
   {
    "duration": 8,
    "start_time": "2025-06-02T17:51:26.459Z"
   },
   {
    "duration": 20,
    "start_time": "2025-06-02T17:51:26.469Z"
   },
   {
    "duration": 8,
    "start_time": "2025-06-02T17:51:26.492Z"
   },
   {
    "duration": 24,
    "start_time": "2025-06-02T17:51:26.502Z"
   },
   {
    "duration": 14,
    "start_time": "2025-06-02T17:51:26.537Z"
   },
   {
    "duration": 9,
    "start_time": "2025-06-02T17:51:26.553Z"
   },
   {
    "duration": 10,
    "start_time": "2025-06-02T17:51:26.563Z"
   },
   {
    "duration": 63,
    "start_time": "2025-06-02T17:51:26.575Z"
   },
   {
    "duration": 21,
    "start_time": "2025-06-02T17:51:26.639Z"
   },
   {
    "duration": 110,
    "start_time": "2025-06-02T17:51:26.662Z"
   },
   {
    "duration": 14,
    "start_time": "2025-06-02T17:51:26.774Z"
   },
   {
    "duration": 15,
    "start_time": "2025-06-02T17:51:26.790Z"
   },
   {
    "duration": 9,
    "start_time": "2025-06-02T17:51:26.807Z"
   },
   {
    "duration": 9,
    "start_time": "2025-06-02T17:51:26.818Z"
   },
   {
    "duration": 25,
    "start_time": "2025-06-02T17:51:26.829Z"
   },
   {
    "duration": 517,
    "start_time": "2025-06-02T17:51:26.856Z"
   },
   {
    "duration": 389,
    "start_time": "2025-06-02T17:51:27.374Z"
   },
   {
    "duration": 442,
    "start_time": "2025-06-02T17:51:27.767Z"
   },
   {
    "duration": 297,
    "start_time": "2025-06-02T17:51:28.210Z"
   },
   {
    "duration": 460,
    "start_time": "2025-06-02T17:51:28.509Z"
   },
   {
    "duration": 304,
    "start_time": "2025-06-02T17:51:28.973Z"
   },
   {
    "duration": 288,
    "start_time": "2025-06-02T17:51:29.279Z"
   },
   {
    "duration": 307,
    "start_time": "2025-06-02T17:51:29.569Z"
   },
   {
    "duration": 309,
    "start_time": "2025-06-02T17:51:29.878Z"
   },
   {
    "duration": 23,
    "start_time": "2025-06-02T17:51:30.189Z"
   },
   {
    "duration": 45,
    "start_time": "2025-06-02T17:51:30.214Z"
   },
   {
    "duration": 443,
    "start_time": "2025-06-02T17:51:30.260Z"
   },
   {
    "duration": 378,
    "start_time": "2025-06-02T17:51:30.705Z"
   },
   {
    "duration": 415,
    "start_time": "2025-06-02T17:51:31.084Z"
   },
   {
    "duration": 319,
    "start_time": "2025-06-02T17:51:31.501Z"
   },
   {
    "duration": 267,
    "start_time": "2025-06-02T17:51:31.822Z"
   },
   {
    "duration": 289,
    "start_time": "2025-06-02T17:51:32.091Z"
   },
   {
    "duration": 297,
    "start_time": "2025-06-02T17:51:32.382Z"
   },
   {
    "duration": 295,
    "start_time": "2025-06-02T17:51:32.682Z"
   },
   {
    "duration": 292,
    "start_time": "2025-06-02T17:51:32.978Z"
   },
   {
    "duration": 8,
    "start_time": "2025-06-02T17:51:33.271Z"
   },
   {
    "duration": 169,
    "start_time": "2025-06-02T17:51:33.281Z"
   },
   {
    "duration": 338,
    "start_time": "2025-06-02T17:51:33.452Z"
   },
   {
    "duration": 451,
    "start_time": "2025-06-02T17:51:33.792Z"
   },
   {
    "duration": 298,
    "start_time": "2025-06-02T17:51:34.245Z"
   },
   {
    "duration": 253,
    "start_time": "2025-06-02T17:51:34.545Z"
   },
   {
    "duration": 295,
    "start_time": "2025-06-02T17:51:34.799Z"
   },
   {
    "duration": 8,
    "start_time": "2025-06-02T17:51:35.096Z"
   },
   {
    "duration": 426,
    "start_time": "2025-06-02T17:51:35.105Z"
   },
   {
    "duration": 362,
    "start_time": "2025-06-02T17:51:35.538Z"
   },
   {
    "duration": 430,
    "start_time": "2025-06-02T17:51:35.902Z"
   },
   {
    "duration": 130,
    "start_time": "2025-06-02T17:51:36.336Z"
   },
   {
    "duration": 403,
    "start_time": "2025-06-02T17:51:36.468Z"
   },
   {
    "duration": 170,
    "start_time": "2025-06-02T17:51:36.873Z"
   },
   {
    "duration": 12,
    "start_time": "2025-06-02T17:51:37.044Z"
   },
   {
    "duration": 64,
    "start_time": "2025-06-02T17:51:37.058Z"
   },
   {
    "duration": 63,
    "start_time": "2025-06-02T17:52:30.013Z"
   },
   {
    "duration": 13,
    "start_time": "2025-06-02T17:52:30.078Z"
   },
   {
    "duration": 37,
    "start_time": "2025-06-02T17:52:30.093Z"
   },
   {
    "duration": 55,
    "start_time": "2025-06-02T17:52:30.133Z"
   },
   {
    "duration": 60,
    "start_time": "2025-06-02T17:52:30.189Z"
   },
   {
    "duration": 32,
    "start_time": "2025-06-02T17:52:30.251Z"
   },
   {
    "duration": 64,
    "start_time": "2025-06-02T17:52:30.285Z"
   },
   {
    "duration": 53,
    "start_time": "2025-06-02T17:52:30.351Z"
   },
   {
    "duration": 34,
    "start_time": "2025-06-02T17:52:30.405Z"
   },
   {
    "duration": 32,
    "start_time": "2025-06-02T17:52:30.442Z"
   },
   {
    "duration": 39,
    "start_time": "2025-06-02T17:52:30.476Z"
   },
   {
    "duration": 47,
    "start_time": "2025-06-02T17:52:30.517Z"
   },
   {
    "duration": 14,
    "start_time": "2025-06-02T17:52:30.565Z"
   },
   {
    "duration": 52,
    "start_time": "2025-06-02T17:52:30.580Z"
   },
   {
    "duration": 44,
    "start_time": "2025-06-02T17:52:30.634Z"
   },
   {
    "duration": 18,
    "start_time": "2025-06-02T17:52:30.680Z"
   },
   {
    "duration": 111,
    "start_time": "2025-06-02T17:52:30.699Z"
   },
   {
    "duration": 23,
    "start_time": "2025-06-02T17:52:30.812Z"
   },
   {
    "duration": 74,
    "start_time": "2025-06-02T17:52:30.837Z"
   },
   {
    "duration": 89,
    "start_time": "2025-06-02T17:52:30.913Z"
   },
   {
    "duration": 140,
    "start_time": "2025-06-02T17:52:31.004Z"
   },
   {
    "duration": 29,
    "start_time": "2025-06-02T17:52:31.146Z"
   },
   {
    "duration": 440,
    "start_time": "2025-06-02T17:52:31.177Z"
   },
   {
    "duration": 361,
    "start_time": "2025-06-02T17:52:31.619Z"
   },
   {
    "duration": 434,
    "start_time": "2025-06-02T17:52:31.982Z"
   },
   {
    "duration": 293,
    "start_time": "2025-06-02T17:52:32.418Z"
   },
   {
    "duration": 436,
    "start_time": "2025-06-02T17:52:32.713Z"
   },
   {
    "duration": 245,
    "start_time": "2025-06-02T17:52:33.154Z"
   },
   {
    "duration": 286,
    "start_time": "2025-06-02T17:52:33.401Z"
   },
   {
    "duration": 293,
    "start_time": "2025-06-02T17:52:33.689Z"
   },
   {
    "duration": 296,
    "start_time": "2025-06-02T17:52:33.984Z"
   },
   {
    "duration": 25,
    "start_time": "2025-06-02T17:52:34.281Z"
   },
   {
    "duration": 31,
    "start_time": "2025-06-02T17:52:34.308Z"
   },
   {
    "duration": 471,
    "start_time": "2025-06-02T17:52:34.341Z"
   },
   {
    "duration": 381,
    "start_time": "2025-06-02T17:52:34.814Z"
   },
   {
    "duration": 415,
    "start_time": "2025-06-02T17:52:35.197Z"
   },
   {
    "duration": 303,
    "start_time": "2025-06-02T17:52:35.613Z"
   },
   {
    "duration": 269,
    "start_time": "2025-06-02T17:52:35.918Z"
   },
   {
    "duration": 294,
    "start_time": "2025-06-02T17:52:36.189Z"
   },
   {
    "duration": 298,
    "start_time": "2025-06-02T17:52:36.485Z"
   },
   {
    "duration": 290,
    "start_time": "2025-06-02T17:52:36.785Z"
   },
   {
    "duration": 287,
    "start_time": "2025-06-02T17:52:37.078Z"
   },
   {
    "duration": 6,
    "start_time": "2025-06-02T17:52:37.367Z"
   },
   {
    "duration": 93,
    "start_time": "2025-06-02T17:52:37.375Z"
   },
   {
    "duration": 328,
    "start_time": "2025-06-02T17:52:37.470Z"
   },
   {
    "duration": 446,
    "start_time": "2025-06-02T17:52:37.800Z"
   },
   {
    "duration": 290,
    "start_time": "2025-06-02T17:52:38.248Z"
   },
   {
    "duration": 254,
    "start_time": "2025-06-02T17:52:38.540Z"
   },
   {
    "duration": 306,
    "start_time": "2025-06-02T17:52:38.796Z"
   },
   {
    "duration": 7,
    "start_time": "2025-06-02T17:52:39.104Z"
   },
   {
    "duration": 418,
    "start_time": "2025-06-02T17:52:39.113Z"
   },
   {
    "duration": 361,
    "start_time": "2025-06-02T17:52:39.537Z"
   },
   {
    "duration": 430,
    "start_time": "2025-06-02T17:52:39.899Z"
   },
   {
    "duration": 125,
    "start_time": "2025-06-02T17:52:40.336Z"
   },
   {
    "duration": 412,
    "start_time": "2025-06-02T17:52:40.463Z"
   },
   {
    "duration": 171,
    "start_time": "2025-06-02T17:52:40.876Z"
   },
   {
    "duration": 13,
    "start_time": "2025-06-02T17:52:41.049Z"
   },
   {
    "duration": 40,
    "start_time": "2025-06-02T17:52:41.063Z"
   },
   {
    "duration": 73,
    "start_time": "2025-06-02T17:55:13.128Z"
   },
   {
    "duration": 13,
    "start_time": "2025-06-02T17:55:13.203Z"
   },
   {
    "duration": 20,
    "start_time": "2025-06-02T17:55:13.218Z"
   },
   {
    "duration": 31,
    "start_time": "2025-06-02T17:55:13.240Z"
   },
   {
    "duration": 175,
    "start_time": "2025-06-02T17:55:13.274Z"
   },
   {
    "duration": 24,
    "start_time": "2025-06-02T17:55:13.451Z"
   },
   {
    "duration": 29,
    "start_time": "2025-06-02T17:55:13.477Z"
   },
   {
    "duration": 22,
    "start_time": "2025-06-02T17:55:13.508Z"
   },
   {
    "duration": 17,
    "start_time": "2025-06-02T17:55:13.531Z"
   },
   {
    "duration": 5,
    "start_time": "2025-06-02T17:55:13.550Z"
   },
   {
    "duration": 22,
    "start_time": "2025-06-02T17:55:13.557Z"
   },
   {
    "duration": 18,
    "start_time": "2025-06-02T17:55:13.581Z"
   },
   {
    "duration": 34,
    "start_time": "2025-06-02T17:55:13.601Z"
   },
   {
    "duration": 19,
    "start_time": "2025-06-02T17:55:13.639Z"
   },
   {
    "duration": 46,
    "start_time": "2025-06-02T17:55:13.660Z"
   },
   {
    "duration": 20,
    "start_time": "2025-06-02T17:55:13.708Z"
   },
   {
    "duration": 16,
    "start_time": "2025-06-02T17:55:13.729Z"
   },
   {
    "duration": 3,
    "start_time": "2025-06-02T17:55:13.748Z"
   },
   {
    "duration": 35,
    "start_time": "2025-06-02T17:55:13.753Z"
   },
   {
    "duration": 11,
    "start_time": "2025-06-02T17:55:13.790Z"
   },
   {
    "duration": 13,
    "start_time": "2025-06-02T17:55:13.804Z"
   },
   {
    "duration": 26,
    "start_time": "2025-06-02T17:55:13.835Z"
   },
   {
    "duration": 440,
    "start_time": "2025-06-02T17:55:13.862Z"
   },
   {
    "duration": 383,
    "start_time": "2025-06-02T17:55:14.304Z"
   },
   {
    "duration": 418,
    "start_time": "2025-06-02T17:55:14.688Z"
   },
   {
    "duration": 299,
    "start_time": "2025-06-02T17:55:15.108Z"
   },
   {
    "duration": 389,
    "start_time": "2025-06-02T17:55:15.408Z"
   },
   {
    "duration": 305,
    "start_time": "2025-06-02T17:55:15.799Z"
   },
   {
    "duration": 270,
    "start_time": "2025-06-02T17:55:16.105Z"
   },
   {
    "duration": 294,
    "start_time": "2025-06-02T17:55:16.377Z"
   },
   {
    "duration": 298,
    "start_time": "2025-06-02T17:55:16.673Z"
   },
   {
    "duration": 23,
    "start_time": "2025-06-02T17:55:16.972Z"
   },
   {
    "duration": 106,
    "start_time": "2025-06-02T17:55:16.997Z"
   },
   {
    "duration": 401,
    "start_time": "2025-06-02T17:55:17.105Z"
   },
   {
    "duration": 381,
    "start_time": "2025-06-02T17:55:17.508Z"
   },
   {
    "duration": 412,
    "start_time": "2025-06-02T17:55:17.891Z"
   },
   {
    "duration": 296,
    "start_time": "2025-06-02T17:55:18.304Z"
   },
   {
    "duration": 281,
    "start_time": "2025-06-02T17:55:18.602Z"
   },
   {
    "duration": 310,
    "start_time": "2025-06-02T17:55:18.884Z"
   },
   {
    "duration": 291,
    "start_time": "2025-06-02T17:55:19.196Z"
   },
   {
    "duration": 287,
    "start_time": "2025-06-02T17:55:19.493Z"
   },
   {
    "duration": 294,
    "start_time": "2025-06-02T17:55:19.782Z"
   },
   {
    "duration": 7,
    "start_time": "2025-06-02T17:55:20.078Z"
   },
   {
    "duration": 36,
    "start_time": "2025-06-02T17:55:20.086Z"
   },
   {
    "duration": 287,
    "start_time": "2025-06-02T17:55:20.124Z"
   },
   {
    "duration": 447,
    "start_time": "2025-06-02T17:55:20.437Z"
   },
   {
    "duration": 309,
    "start_time": "2025-06-02T17:55:20.886Z"
   },
   {
    "duration": 282,
    "start_time": "2025-06-02T17:55:21.196Z"
   },
   {
    "duration": 305,
    "start_time": "2025-06-02T17:55:21.480Z"
   },
   {
    "duration": 7,
    "start_time": "2025-06-02T17:55:21.787Z"
   },
   {
    "duration": 420,
    "start_time": "2025-06-02T17:55:21.795Z"
   },
   {
    "duration": 358,
    "start_time": "2025-06-02T17:55:22.218Z"
   },
   {
    "duration": 437,
    "start_time": "2025-06-02T17:55:22.578Z"
   },
   {
    "duration": 130,
    "start_time": "2025-06-02T17:55:23.017Z"
   },
   {
    "duration": 420,
    "start_time": "2025-06-02T17:55:23.149Z"
   },
   {
    "duration": 4,
    "start_time": "2025-06-02T17:55:43.566Z"
   },
   {
    "duration": 3,
    "start_time": "2025-06-02T17:56:25.911Z"
   },
   {
    "duration": 87,
    "start_time": "2025-06-02T17:57:07.354Z"
   },
   {
    "duration": 21,
    "start_time": "2025-06-02T17:57:56.336Z"
   },
   {
    "duration": 76,
    "start_time": "2025-06-02T17:58:26.279Z"
   },
   {
    "duration": 22,
    "start_time": "2025-06-02T17:58:52.578Z"
   },
   {
    "duration": 5,
    "start_time": "2025-06-02T18:07:41.138Z"
   },
   {
    "duration": 14,
    "start_time": "2025-06-02T18:09:00.936Z"
   },
   {
    "duration": 5,
    "start_time": "2025-06-02T18:10:59.629Z"
   },
   {
    "duration": 3,
    "start_time": "2025-06-02T18:11:01.984Z"
   },
   {
    "duration": 9,
    "start_time": "2025-06-02T18:11:49.426Z"
   },
   {
    "duration": 18,
    "start_time": "2025-06-02T18:11:52.228Z"
   },
   {
    "duration": 12,
    "start_time": "2025-06-02T18:12:14.504Z"
   },
   {
    "duration": 518,
    "start_time": "2025-06-02T18:15:56.105Z"
   },
   {
    "duration": 25,
    "start_time": "2025-06-02T18:19:27.921Z"
   },
   {
    "duration": 1595,
    "start_time": "2025-06-02T18:23:56.137Z"
   },
   {
    "duration": 4735,
    "start_time": "2025-06-03T06:10:41.467Z"
   },
   {
    "duration": 3114,
    "start_time": "2025-06-03T06:10:46.204Z"
   },
   {
    "duration": 6980,
    "start_time": "2025-06-03T06:10:49.321Z"
   },
   {
    "duration": 2114,
    "start_time": "2025-06-03T06:10:56.303Z"
   },
   {
    "duration": 4,
    "start_time": "2025-06-03T06:10:58.418Z"
   },
   {
    "duration": 29,
    "start_time": "2025-06-03T06:10:58.424Z"
   },
   {
    "duration": 6,
    "start_time": "2025-06-03T06:10:58.455Z"
   },
   {
    "duration": 7,
    "start_time": "2025-06-03T06:10:58.462Z"
   },
   {
    "duration": 12,
    "start_time": "2025-06-03T06:10:58.471Z"
   },
   {
    "duration": 6,
    "start_time": "2025-06-03T06:10:58.485Z"
   },
   {
    "duration": 11,
    "start_time": "2025-06-03T06:10:58.492Z"
   },
   {
    "duration": 11,
    "start_time": "2025-06-03T06:10:58.505Z"
   },
   {
    "duration": 97,
    "start_time": "2025-06-03T06:10:58.518Z"
   },
   {
    "duration": 13,
    "start_time": "2025-06-03T06:10:58.617Z"
   },
   {
    "duration": 41,
    "start_time": "2025-06-03T06:10:58.632Z"
   },
   {
    "duration": 14,
    "start_time": "2025-06-03T06:10:58.674Z"
   },
   {
    "duration": 16,
    "start_time": "2025-06-03T06:10:58.689Z"
   },
   {
    "duration": 90,
    "start_time": "2025-06-03T06:10:58.707Z"
   },
   {
    "duration": 8,
    "start_time": "2025-06-03T06:10:58.799Z"
   },
   {
    "duration": 5,
    "start_time": "2025-06-03T06:10:58.809Z"
   },
   {
    "duration": 21,
    "start_time": "2025-06-03T06:10:58.815Z"
   },
   {
    "duration": 23,
    "start_time": "2025-06-03T06:10:58.838Z"
   },
   {
    "duration": 44,
    "start_time": "2025-06-03T06:10:58.863Z"
   },
   {
    "duration": 32,
    "start_time": "2025-06-03T06:10:58.909Z"
   },
   {
    "duration": 8,
    "start_time": "2025-06-03T06:10:58.942Z"
   },
   {
    "duration": 7,
    "start_time": "2025-06-03T06:10:58.952Z"
   },
   {
    "duration": 27,
    "start_time": "2025-06-03T06:10:58.961Z"
   },
   {
    "duration": 20,
    "start_time": "2025-06-03T06:10:58.993Z"
   },
   {
    "duration": 18,
    "start_time": "2025-06-03T06:10:59.014Z"
   },
   {
    "duration": 13,
    "start_time": "2025-06-03T06:10:59.033Z"
   },
   {
    "duration": 9,
    "start_time": "2025-06-03T06:10:59.049Z"
   },
   {
    "duration": 9,
    "start_time": "2025-06-03T06:10:59.076Z"
   },
   {
    "duration": 187,
    "start_time": "2025-06-03T06:10:59.086Z"
   },
   {
    "duration": 539,
    "start_time": "2025-06-03T06:10:59.274Z"
   },
   {
    "duration": 401,
    "start_time": "2025-06-03T06:10:59.815Z"
   },
   {
    "duration": 442,
    "start_time": "2025-06-03T06:11:00.218Z"
   },
   {
    "duration": 452,
    "start_time": "2025-06-03T06:11:00.662Z"
   },
   {
    "duration": 430,
    "start_time": "2025-06-03T06:11:01.116Z"
   },
   {
    "duration": 290,
    "start_time": "2025-06-03T06:11:01.547Z"
   },
   {
    "duration": 293,
    "start_time": "2025-06-03T06:11:01.838Z"
   },
   {
    "duration": 286,
    "start_time": "2025-06-03T06:11:02.132Z"
   },
   {
    "duration": 291,
    "start_time": "2025-06-03T06:11:02.420Z"
   },
   {
    "duration": 25,
    "start_time": "2025-06-03T06:11:02.713Z"
   },
   {
    "duration": 132,
    "start_time": "2025-06-03T06:11:02.741Z"
   },
   {
    "duration": 406,
    "start_time": "2025-06-03T06:11:02.875Z"
   },
   {
    "duration": 380,
    "start_time": "2025-06-03T06:11:03.283Z"
   },
   {
    "duration": 433,
    "start_time": "2025-06-03T06:11:03.665Z"
   },
   {
    "duration": 340,
    "start_time": "2025-06-03T06:11:04.100Z"
   },
   {
    "duration": 285,
    "start_time": "2025-06-03T06:11:04.442Z"
   },
   {
    "duration": 296,
    "start_time": "2025-06-03T06:11:04.729Z"
   },
   {
    "duration": 299,
    "start_time": "2025-06-03T06:11:05.027Z"
   },
   {
    "duration": 295,
    "start_time": "2025-06-03T06:11:05.328Z"
   },
   {
    "duration": 305,
    "start_time": "2025-06-03T06:11:05.625Z"
   },
   {
    "duration": 607,
    "start_time": "2025-06-03T06:11:05.932Z"
   },
   {
    "duration": 5,
    "start_time": "2025-06-03T06:11:06.541Z"
   },
   {
    "duration": 52,
    "start_time": "2025-06-03T06:11:06.548Z"
   },
   {
    "duration": 28,
    "start_time": "2025-06-03T06:11:06.602Z"
   },
   {
    "duration": 53,
    "start_time": "2025-06-03T06:11:06.633Z"
   },
   {
    "duration": 20,
    "start_time": "2025-06-03T06:11:06.688Z"
   },
   {
    "duration": 552,
    "start_time": "2025-06-03T06:11:06.709Z"
   },
   {
    "duration": 16,
    "start_time": "2025-06-03T06:11:07.262Z"
   },
   {
    "duration": 197,
    "start_time": "2025-06-03T06:11:07.280Z"
   },
   {
    "duration": 1522,
    "start_time": "2025-06-03T06:11:07.479Z"
   },
   {
    "duration": 8,
    "start_time": "2025-06-03T06:11:09.003Z"
   },
   {
    "duration": 10701,
    "start_time": "2025-06-03T06:11:09.012Z"
   },
   {
    "duration": 4,
    "start_time": "2025-06-03T06:11:19.715Z"
   },
   {
    "duration": 17,
    "start_time": "2025-06-03T06:11:19.721Z"
   },
   {
    "duration": 38,
    "start_time": "2025-06-03T06:11:19.740Z"
   },
   {
    "duration": 14,
    "start_time": "2025-06-03T06:11:19.780Z"
   },
   {
    "duration": 28,
    "start_time": "2025-06-03T06:11:19.796Z"
   },
   {
    "duration": 24,
    "start_time": "2025-06-03T06:11:19.825Z"
   },
   {
    "duration": 19,
    "start_time": "2025-06-03T06:11:19.851Z"
   },
   {
    "duration": 11,
    "start_time": "2025-06-03T06:11:19.871Z"
   },
   {
    "duration": 15,
    "start_time": "2025-06-03T06:11:19.883Z"
   },
   {
    "duration": 121020,
    "start_time": "2025-06-03T06:11:19.900Z"
   },
   {
    "duration": 34,
    "start_time": "2025-06-03T06:13:20.922Z"
   },
   {
    "duration": 103,
    "start_time": "2025-06-03T06:13:20.958Z"
   },
   {
    "duration": 3,
    "start_time": "2025-06-03T06:13:21.063Z"
   },
   {
    "duration": 36,
    "start_time": "2025-06-03T06:13:21.068Z"
   },
   {
    "duration": 104731,
    "start_time": "2025-06-03T06:13:21.105Z"
   },
   {
    "duration": 6,
    "start_time": "2025-06-03T06:15:05.838Z"
   },
   {
    "duration": 1231,
    "start_time": "2025-06-03T06:15:05.851Z"
   },
   {
    "duration": 667,
    "start_time": "2025-06-03T06:15:07.084Z"
   },
   {
    "duration": 61,
    "start_time": "2025-06-03T06:15:07.753Z"
   },
   {
    "duration": 13,
    "start_time": "2025-06-03T06:15:07.816Z"
   },
   {
    "duration": 25,
    "start_time": "2025-06-03T06:15:07.830Z"
   },
   {
    "duration": 18,
    "start_time": "2025-06-03T06:15:07.857Z"
   },
   {
    "duration": 20,
    "start_time": "2025-06-03T06:15:07.877Z"
   },
   {
    "duration": 24,
    "start_time": "2025-06-03T06:15:07.899Z"
   },
   {
    "duration": 24,
    "start_time": "2025-06-03T06:15:07.925Z"
   },
   {
    "duration": 31,
    "start_time": "2025-06-03T06:15:07.950Z"
   },
   {
    "duration": 46,
    "start_time": "2025-06-03T06:15:07.983Z"
   },
   {
    "duration": 8,
    "start_time": "2025-06-03T06:15:08.031Z"
   },
   {
    "duration": 54,
    "start_time": "2025-06-03T06:15:08.041Z"
   },
   {
    "duration": 11,
    "start_time": "2025-06-03T06:15:08.097Z"
   },
   {
    "duration": 10,
    "start_time": "2025-06-03T06:15:08.110Z"
   },
   {
    "duration": 24,
    "start_time": "2025-06-03T06:15:08.122Z"
   },
   {
    "duration": 55,
    "start_time": "2025-06-03T06:15:08.148Z"
   },
   {
    "duration": 26,
    "start_time": "2025-06-03T06:15:08.204Z"
   },
   {
    "duration": 8,
    "start_time": "2025-06-03T06:15:08.232Z"
   },
   {
    "duration": 15,
    "start_time": "2025-06-03T06:15:08.242Z"
   },
   {
    "duration": 65,
    "start_time": "2025-06-03T06:15:08.259Z"
   },
   {
    "duration": 99,
    "start_time": "2025-06-03T06:15:08.326Z"
   },
   {
    "duration": 10,
    "start_time": "2025-06-03T06:15:08.426Z"
   },
   {
    "duration": 46,
    "start_time": "2025-06-03T06:15:08.437Z"
   },
   {
    "duration": 434,
    "start_time": "2025-06-03T06:15:08.484Z"
   },
   {
    "duration": 381,
    "start_time": "2025-06-03T06:15:08.920Z"
   },
   {
    "duration": 499,
    "start_time": "2025-06-03T06:15:09.302Z"
   },
   {
    "duration": 354,
    "start_time": "2025-06-03T06:15:09.803Z"
   },
   {
    "duration": 269,
    "start_time": "2025-06-03T06:15:10.159Z"
   },
   {
    "duration": 401,
    "start_time": "2025-06-03T06:15:10.430Z"
   },
   {
    "duration": 281,
    "start_time": "2025-06-03T06:15:10.833Z"
   },
   {
    "duration": 303,
    "start_time": "2025-06-03T06:15:11.116Z"
   },
   {
    "duration": 296,
    "start_time": "2025-06-03T06:15:11.421Z"
   },
   {
    "duration": 25,
    "start_time": "2025-06-03T06:15:11.718Z"
   },
   {
    "duration": 34,
    "start_time": "2025-06-03T06:15:11.745Z"
   },
   {
    "duration": 481,
    "start_time": "2025-06-03T06:15:11.781Z"
   },
   {
    "duration": 373,
    "start_time": "2025-06-03T06:15:12.264Z"
   },
   {
    "duration": 409,
    "start_time": "2025-06-03T06:15:12.639Z"
   },
   {
    "duration": 314,
    "start_time": "2025-06-03T06:15:13.050Z"
   },
   {
    "duration": 265,
    "start_time": "2025-06-03T06:15:13.376Z"
   },
   {
    "duration": 304,
    "start_time": "2025-06-03T06:15:13.643Z"
   },
   {
    "duration": 278,
    "start_time": "2025-06-03T06:15:13.948Z"
   },
   {
    "duration": 289,
    "start_time": "2025-06-03T06:15:14.228Z"
   },
   {
    "duration": 289,
    "start_time": "2025-06-03T06:15:14.518Z"
   },
   {
    "duration": 7,
    "start_time": "2025-06-03T06:15:14.809Z"
   },
   {
    "duration": 50,
    "start_time": "2025-06-03T06:15:14.817Z"
   },
   {
    "duration": 281,
    "start_time": "2025-06-03T06:15:14.869Z"
   },
   {
    "duration": 280,
    "start_time": "2025-06-03T06:15:15.152Z"
   },
   {
    "duration": 312,
    "start_time": "2025-06-03T06:15:15.433Z"
   },
   {
    "duration": 464,
    "start_time": "2025-06-03T06:15:15.747Z"
   },
   {
    "duration": 332,
    "start_time": "2025-06-03T06:15:16.213Z"
   },
   {
    "duration": 7,
    "start_time": "2025-06-03T06:15:16.546Z"
   },
   {
    "duration": 459,
    "start_time": "2025-06-03T06:15:16.555Z"
   },
   {
    "duration": 398,
    "start_time": "2025-06-03T06:15:17.016Z"
   },
   {
    "duration": 449,
    "start_time": "2025-06-03T06:15:17.416Z"
   },
   {
    "duration": 125,
    "start_time": "2025-06-03T06:15:17.867Z"
   },
   {
    "duration": 417,
    "start_time": "2025-06-03T06:15:17.993Z"
   },
   {
    "duration": 3,
    "start_time": "2025-06-03T06:15:18.412Z"
   },
   {
    "duration": 76,
    "start_time": "2025-06-03T06:15:18.417Z"
   },
   {
    "duration": 90,
    "start_time": "2025-06-03T06:15:18.494Z"
   },
   {
    "duration": 23,
    "start_time": "2025-06-03T06:15:18.586Z"
   },
   {
    "duration": 98,
    "start_time": "2025-06-03T06:15:18.611Z"
   },
   {
    "duration": 21,
    "start_time": "2025-06-03T06:15:18.711Z"
   },
   {
    "duration": 89,
    "start_time": "2025-06-03T06:15:18.734Z"
   },
   {
    "duration": 33,
    "start_time": "2025-06-03T06:15:18.826Z"
   },
   {
    "duration": 28,
    "start_time": "2025-06-03T06:15:18.861Z"
   },
   {
    "duration": 49,
    "start_time": "2025-06-03T06:15:18.891Z"
   },
   {
    "duration": 17,
    "start_time": "2025-06-03T06:15:18.942Z"
   },
   {
    "duration": 507,
    "start_time": "2025-06-03T06:15:18.961Z"
   },
   {
    "duration": 102,
    "start_time": "2025-06-03T06:15:19.476Z"
   },
   {
    "duration": 1664,
    "start_time": "2025-06-03T06:15:19.582Z"
   },
   {
    "duration": 8,
    "start_time": "2025-06-03T06:22:11.460Z"
   },
   {
    "duration": 4,
    "start_time": "2025-06-03T06:22:18.992Z"
   },
   {
    "duration": 9,
    "start_time": "2025-06-03T06:23:16.155Z"
   },
   {
    "duration": 3,
    "start_time": "2025-06-03T06:23:18.460Z"
   },
   {
    "duration": 4,
    "start_time": "2025-06-03T06:23:24.394Z"
   },
   {
    "duration": 114,
    "start_time": "2025-06-03T06:27:05.782Z"
   },
   {
    "duration": 154,
    "start_time": "2025-06-03T06:27:10.361Z"
   },
   {
    "duration": 2096,
    "start_time": "2025-06-03T06:32:50.612Z"
   },
   {
    "duration": 2205,
    "start_time": "2025-06-03T06:33:51.183Z"
   },
   {
    "duration": 2019,
    "start_time": "2025-06-03T06:34:03.458Z"
   },
   {
    "duration": 6,
    "start_time": "2025-06-03T06:34:37.210Z"
   },
   {
    "duration": 1668,
    "start_time": "2025-06-03T06:34:39.370Z"
   },
   {
    "duration": 14,
    "start_time": "2025-06-03T06:36:20.468Z"
   },
   {
    "duration": 563,
    "start_time": "2025-06-03T06:36:44.150Z"
   },
   {
    "duration": 1629,
    "start_time": "2025-06-03T06:36:56.859Z"
   },
   {
    "duration": 5,
    "start_time": "2025-06-03T06:51:41.675Z"
   },
   {
    "duration": 9,
    "start_time": "2025-06-03T07:00:07.338Z"
   },
   {
    "duration": 3,
    "start_time": "2025-06-03T07:00:14.027Z"
   },
   {
    "duration": 10,
    "start_time": "2025-06-03T07:00:26.519Z"
   },
   {
    "duration": 4,
    "start_time": "2025-06-03T07:00:28.554Z"
   },
   {
    "duration": 4,
    "start_time": "2025-06-03T07:00:41.035Z"
   },
   {
    "duration": 4631,
    "start_time": "2025-06-03T17:04:42.064Z"
   },
   {
    "duration": 3310,
    "start_time": "2025-06-03T17:04:46.698Z"
   },
   {
    "duration": 7305,
    "start_time": "2025-06-03T17:04:50.011Z"
   },
   {
    "duration": 2114,
    "start_time": "2025-06-03T17:04:57.318Z"
   },
   {
    "duration": 4,
    "start_time": "2025-06-03T17:04:59.434Z"
   },
   {
    "duration": 11,
    "start_time": "2025-06-03T17:04:59.440Z"
   },
   {
    "duration": 6,
    "start_time": "2025-06-03T17:04:59.452Z"
   },
   {
    "duration": 14,
    "start_time": "2025-06-03T17:04:59.460Z"
   },
   {
    "duration": 24,
    "start_time": "2025-06-03T17:04:59.476Z"
   },
   {
    "duration": 24,
    "start_time": "2025-06-03T17:04:59.502Z"
   },
   {
    "duration": 4,
    "start_time": "2025-06-03T17:04:59.528Z"
   },
   {
    "duration": 7,
    "start_time": "2025-06-03T17:04:59.534Z"
   },
   {
    "duration": 90,
    "start_time": "2025-06-03T17:04:59.543Z"
   },
   {
    "duration": 14,
    "start_time": "2025-06-03T17:04:59.635Z"
   },
   {
    "duration": 16,
    "start_time": "2025-06-03T17:04:59.651Z"
   },
   {
    "duration": 17,
    "start_time": "2025-06-03T17:04:59.669Z"
   },
   {
    "duration": 16,
    "start_time": "2025-06-03T17:04:59.688Z"
   },
   {
    "duration": 12,
    "start_time": "2025-06-03T17:04:59.706Z"
   },
   {
    "duration": 8,
    "start_time": "2025-06-03T17:04:59.720Z"
   },
   {
    "duration": 3,
    "start_time": "2025-06-03T17:04:59.730Z"
   },
   {
    "duration": 13,
    "start_time": "2025-06-03T17:04:59.734Z"
   },
   {
    "duration": 5,
    "start_time": "2025-06-03T17:04:59.763Z"
   },
   {
    "duration": 19,
    "start_time": "2025-06-03T17:04:59.769Z"
   },
   {
    "duration": 10,
    "start_time": "2025-06-03T17:04:59.790Z"
   },
   {
    "duration": 8,
    "start_time": "2025-06-03T17:04:59.802Z"
   },
   {
    "duration": 10,
    "start_time": "2025-06-03T17:04:59.811Z"
   },
   {
    "duration": 58,
    "start_time": "2025-06-03T17:04:59.822Z"
   },
   {
    "duration": 23,
    "start_time": "2025-06-03T17:04:59.886Z"
   },
   {
    "duration": 3,
    "start_time": "2025-06-03T17:04:59.910Z"
   },
   {
    "duration": 14,
    "start_time": "2025-06-03T17:04:59.914Z"
   },
   {
    "duration": 38,
    "start_time": "2025-06-03T17:04:59.930Z"
   },
   {
    "duration": 19,
    "start_time": "2025-06-03T17:04:59.970Z"
   },
   {
    "duration": 29,
    "start_time": "2025-06-03T17:04:59.991Z"
   },
   {
    "duration": 563,
    "start_time": "2025-06-03T17:05:00.022Z"
   },
   {
    "duration": 404,
    "start_time": "2025-06-03T17:05:00.587Z"
   },
   {
    "duration": 441,
    "start_time": "2025-06-03T17:05:00.993Z"
   },
   {
    "duration": 550,
    "start_time": "2025-06-03T17:05:01.436Z"
   },
   {
    "duration": 326,
    "start_time": "2025-06-03T17:05:01.988Z"
   },
   {
    "duration": 294,
    "start_time": "2025-06-03T17:05:02.316Z"
   },
   {
    "duration": 296,
    "start_time": "2025-06-03T17:05:02.612Z"
   },
   {
    "duration": 283,
    "start_time": "2025-06-03T17:05:02.910Z"
   },
   {
    "duration": 300,
    "start_time": "2025-06-03T17:05:03.195Z"
   },
   {
    "duration": 25,
    "start_time": "2025-06-03T17:05:03.497Z"
   },
   {
    "duration": 33,
    "start_time": "2025-06-03T17:05:03.524Z"
   },
   {
    "duration": 420,
    "start_time": "2025-06-03T17:05:03.562Z"
   },
   {
    "duration": 428,
    "start_time": "2025-06-03T17:05:03.984Z"
   },
   {
    "duration": 418,
    "start_time": "2025-06-03T17:05:04.413Z"
   },
   {
    "duration": 304,
    "start_time": "2025-06-03T17:05:04.833Z"
   },
   {
    "duration": 283,
    "start_time": "2025-06-03T17:05:05.139Z"
   },
   {
    "duration": 286,
    "start_time": "2025-06-03T17:05:05.424Z"
   },
   {
    "duration": 303,
    "start_time": "2025-06-03T17:05:05.712Z"
   },
   {
    "duration": 402,
    "start_time": "2025-06-03T17:05:06.017Z"
   },
   {
    "duration": 291,
    "start_time": "2025-06-03T17:05:06.421Z"
   },
   {
    "duration": 425,
    "start_time": "2025-06-03T17:05:06.714Z"
   },
   {
    "duration": 5,
    "start_time": "2025-06-03T17:05:07.141Z"
   },
   {
    "duration": 99,
    "start_time": "2025-06-03T17:05:07.147Z"
   },
   {
    "duration": 8,
    "start_time": "2025-06-03T17:05:07.248Z"
   },
   {
    "duration": 15,
    "start_time": "2025-06-03T17:05:07.258Z"
   },
   {
    "duration": 25,
    "start_time": "2025-06-03T17:05:07.274Z"
   },
   {
    "duration": 552,
    "start_time": "2025-06-03T17:05:07.301Z"
   },
   {
    "duration": 9,
    "start_time": "2025-06-03T17:05:07.855Z"
   },
   {
    "duration": 104,
    "start_time": "2025-06-03T17:05:07.866Z"
   },
   {
    "duration": 1502,
    "start_time": "2025-06-03T17:05:07.973Z"
   },
   {
    "duration": 9,
    "start_time": "2025-06-03T17:05:09.477Z"
   },
   {
    "duration": 10720,
    "start_time": "2025-06-03T17:05:09.488Z"
   },
   {
    "duration": 4,
    "start_time": "2025-06-03T17:05:20.210Z"
   },
   {
    "duration": 20,
    "start_time": "2025-06-03T17:05:20.216Z"
   },
   {
    "duration": 14,
    "start_time": "2025-06-03T17:05:20.237Z"
   },
   {
    "duration": 9,
    "start_time": "2025-06-03T17:05:20.253Z"
   },
   {
    "duration": 18,
    "start_time": "2025-06-03T17:05:20.264Z"
   },
   {
    "duration": 28,
    "start_time": "2025-06-03T17:05:20.284Z"
   },
   {
    "duration": 24,
    "start_time": "2025-06-03T17:05:20.314Z"
   },
   {
    "duration": 11,
    "start_time": "2025-06-03T17:05:20.340Z"
   },
   {
    "duration": 12,
    "start_time": "2025-06-03T17:05:20.353Z"
   },
   {
    "duration": 121552,
    "start_time": "2025-06-03T17:05:20.367Z"
   },
   {
    "duration": 41,
    "start_time": "2025-06-03T17:07:21.921Z"
   },
   {
    "duration": 81,
    "start_time": "2025-06-03T17:07:21.964Z"
   },
   {
    "duration": 2,
    "start_time": "2025-06-03T17:07:22.062Z"
   },
   {
    "duration": 24,
    "start_time": "2025-06-03T17:07:22.066Z"
   },
   {
    "duration": 105312,
    "start_time": "2025-06-03T17:07:22.091Z"
   },
   {
    "duration": 5,
    "start_time": "2025-06-03T17:09:07.405Z"
   },
   {
    "duration": 1292,
    "start_time": "2025-06-03T17:09:07.418Z"
   },
   {
    "duration": 632,
    "start_time": "2025-06-03T17:09:08.712Z"
   },
   {
    "duration": 73,
    "start_time": "2025-06-03T17:09:09.346Z"
   },
   {
    "duration": 14,
    "start_time": "2025-06-03T17:09:09.420Z"
   },
   {
    "duration": 13,
    "start_time": "2025-06-03T17:09:09.436Z"
   },
   {
    "duration": 12,
    "start_time": "2025-06-03T17:09:09.450Z"
   },
   {
    "duration": 11,
    "start_time": "2025-06-03T17:09:09.464Z"
   },
   {
    "duration": 11,
    "start_time": "2025-06-03T17:09:09.477Z"
   },
   {
    "duration": 8,
    "start_time": "2025-06-03T17:09:09.490Z"
   },
   {
    "duration": 3,
    "start_time": "2025-06-03T17:09:09.500Z"
   },
   {
    "duration": 21,
    "start_time": "2025-06-03T17:09:09.505Z"
   },
   {
    "duration": 38,
    "start_time": "2025-06-03T17:09:09.528Z"
   },
   {
    "duration": 14,
    "start_time": "2025-06-03T17:09:09.568Z"
   },
   {
    "duration": 12,
    "start_time": "2025-06-03T17:09:09.583Z"
   },
   {
    "duration": 9,
    "start_time": "2025-06-03T17:09:09.597Z"
   },
   {
    "duration": 7,
    "start_time": "2025-06-03T17:09:09.607Z"
   },
   {
    "duration": 71,
    "start_time": "2025-06-03T17:09:09.615Z"
   },
   {
    "duration": 22,
    "start_time": "2025-06-03T17:09:09.689Z"
   },
   {
    "duration": 10,
    "start_time": "2025-06-03T17:09:09.713Z"
   },
   {
    "duration": 4,
    "start_time": "2025-06-03T17:09:09.725Z"
   },
   {
    "duration": 15,
    "start_time": "2025-06-03T17:09:09.764Z"
   },
   {
    "duration": 8,
    "start_time": "2025-06-03T17:09:09.782Z"
   },
   {
    "duration": 11,
    "start_time": "2025-06-03T17:09:09.792Z"
   },
   {
    "duration": 67,
    "start_time": "2025-06-03T17:09:09.805Z"
   },
   {
    "duration": 469,
    "start_time": "2025-06-03T17:09:09.874Z"
   },
   {
    "duration": 376,
    "start_time": "2025-06-03T17:09:10.345Z"
   },
   {
    "duration": 432,
    "start_time": "2025-06-03T17:09:10.723Z"
   },
   {
    "duration": 489,
    "start_time": "2025-06-03T17:09:11.162Z"
   },
   {
    "duration": 268,
    "start_time": "2025-06-03T17:09:11.653Z"
   },
   {
    "duration": 296,
    "start_time": "2025-06-03T17:09:11.923Z"
   },
   {
    "duration": 288,
    "start_time": "2025-06-03T17:09:12.221Z"
   },
   {
    "duration": 304,
    "start_time": "2025-06-03T17:09:12.511Z"
   },
   {
    "duration": 297,
    "start_time": "2025-06-03T17:09:12.817Z"
   },
   {
    "duration": 26,
    "start_time": "2025-06-03T17:09:13.116Z"
   },
   {
    "duration": 15,
    "start_time": "2025-06-03T17:09:13.162Z"
   },
   {
    "duration": 498,
    "start_time": "2025-06-03T17:09:13.179Z"
   },
   {
    "duration": 434,
    "start_time": "2025-06-03T17:09:13.679Z"
   },
   {
    "duration": 437,
    "start_time": "2025-06-03T17:09:14.115Z"
   },
   {
    "duration": 307,
    "start_time": "2025-06-03T17:09:14.561Z"
   },
   {
    "duration": 258,
    "start_time": "2025-06-03T17:09:14.870Z"
   },
   {
    "duration": 290,
    "start_time": "2025-06-03T17:09:15.131Z"
   },
   {
    "duration": 294,
    "start_time": "2025-06-03T17:09:15.424Z"
   },
   {
    "duration": 293,
    "start_time": "2025-06-03T17:09:15.720Z"
   },
   {
    "duration": 293,
    "start_time": "2025-06-03T17:09:16.016Z"
   },
   {
    "duration": 8,
    "start_time": "2025-06-03T17:09:16.311Z"
   },
   {
    "duration": 20,
    "start_time": "2025-06-03T17:09:16.320Z"
   },
   {
    "duration": 317,
    "start_time": "2025-06-03T17:09:16.363Z"
   },
   {
    "duration": 451,
    "start_time": "2025-06-03T17:09:16.682Z"
   },
   {
    "duration": 303,
    "start_time": "2025-06-03T17:09:17.135Z"
   },
   {
    "duration": 295,
    "start_time": "2025-06-03T17:09:17.440Z"
   },
   {
    "duration": 310,
    "start_time": "2025-06-03T17:09:17.737Z"
   },
   {
    "duration": 20,
    "start_time": "2025-06-03T17:09:18.049Z"
   },
   {
    "duration": 490,
    "start_time": "2025-06-03T17:09:18.072Z"
   },
   {
    "duration": 403,
    "start_time": "2025-06-03T17:09:18.564Z"
   },
   {
    "duration": 498,
    "start_time": "2025-06-03T17:09:18.968Z"
   },
   {
    "duration": 136,
    "start_time": "2025-06-03T17:09:19.467Z"
   },
   {
    "duration": 439,
    "start_time": "2025-06-03T17:09:19.605Z"
   },
   {
    "duration": 17,
    "start_time": "2025-06-03T17:09:20.046Z"
   },
   {
    "duration": 17,
    "start_time": "2025-06-03T17:09:20.065Z"
   },
   {
    "duration": 114,
    "start_time": "2025-06-03T17:09:20.085Z"
   },
   {
    "duration": 24,
    "start_time": "2025-06-03T17:09:20.201Z"
   },
   {
    "duration": 100,
    "start_time": "2025-06-03T17:09:20.227Z"
   },
   {
    "duration": 35,
    "start_time": "2025-06-03T17:09:20.329Z"
   },
   {
    "duration": 9,
    "start_time": "2025-06-03T17:09:20.367Z"
   },
   {
    "duration": 14,
    "start_time": "2025-06-03T17:09:20.378Z"
   },
   {
    "duration": 25,
    "start_time": "2025-06-03T17:09:20.394Z"
   },
   {
    "duration": 68,
    "start_time": "2025-06-03T17:09:20.420Z"
   },
   {
    "duration": 14,
    "start_time": "2025-06-03T17:09:20.490Z"
   },
   {
    "duration": 556,
    "start_time": "2025-06-03T17:09:20.506Z"
   },
   {
    "duration": 205,
    "start_time": "2025-06-03T17:09:21.064Z"
   },
   {
    "duration": 1736,
    "start_time": "2025-06-03T17:09:21.271Z"
   },
   {
    "duration": 6,
    "start_time": "2025-06-03T17:09:23.009Z"
   },
   {
    "duration": 2003,
    "start_time": "2025-06-03T17:09:23.018Z"
   },
   {
    "duration": 5,
    "start_time": "2025-06-03T17:09:25.023Z"
   },
   {
    "duration": 68,
    "start_time": "2025-06-03T17:09:25.030Z"
   },
   {
    "duration": 5,
    "start_time": "2025-06-03T17:09:41.636Z"
   },
   {
    "duration": 4,
    "start_time": "2025-06-03T17:10:10.645Z"
   },
   {
    "duration": 5,
    "start_time": "2025-06-03T17:11:43.954Z"
   },
   {
    "duration": 4,
    "start_time": "2025-06-03T17:11:46.931Z"
   },
   {
    "duration": 4,
    "start_time": "2025-06-03T17:11:58.838Z"
   },
   {
    "duration": 4,
    "start_time": "2025-06-03T17:13:32.603Z"
   },
   {
    "duration": 3,
    "start_time": "2025-06-03T17:17:57.005Z"
   },
   {
    "duration": 144,
    "start_time": "2025-06-03T17:18:18.956Z"
   },
   {
    "duration": 10,
    "start_time": "2025-06-03T17:19:37.106Z"
   },
   {
    "duration": 13,
    "start_time": "2025-06-03T17:19:43.110Z"
   },
   {
    "duration": 28,
    "start_time": "2025-06-03T17:19:43.126Z"
   },
   {
    "duration": 14,
    "start_time": "2025-06-03T17:19:43.157Z"
   },
   {
    "duration": 21,
    "start_time": "2025-06-03T17:19:43.175Z"
   },
   {
    "duration": 4,
    "start_time": "2025-06-03T17:19:43.198Z"
   },
   {
    "duration": 83,
    "start_time": "2025-06-03T17:19:43.204Z"
   },
   {
    "duration": 14,
    "start_time": "2025-06-03T17:46:12.350Z"
   },
   {
    "duration": 32,
    "start_time": "2025-06-03T17:51:56.719Z"
   },
   {
    "duration": 3,
    "start_time": "2025-06-03T18:03:53.799Z"
   },
   {
    "duration": 5,
    "start_time": "2025-06-03T18:06:07.470Z"
   },
   {
    "duration": 9,
    "start_time": "2025-06-03T18:06:35.805Z"
   },
   {
    "duration": 4,
    "start_time": "2025-06-03T18:06:38.295Z"
   },
   {
    "duration": 4,
    "start_time": "2025-06-03T18:06:42.135Z"
   },
   {
    "duration": 3,
    "start_time": "2025-06-03T18:06:43.952Z"
   },
   {
    "duration": 3,
    "start_time": "2025-06-03T18:06:45.879Z"
   },
   {
    "duration": 3,
    "start_time": "2025-06-03T18:06:47.463Z"
   },
   {
    "duration": 3,
    "start_time": "2025-06-03T18:06:50.642Z"
   },
   {
    "duration": 11,
    "start_time": "2025-06-03T18:06:53.096Z"
   },
   {
    "duration": 5,
    "start_time": "2025-06-03T18:08:07.806Z"
   },
   {
    "duration": 5,
    "start_time": "2025-06-03T18:09:18.200Z"
   },
   {
    "duration": 6,
    "start_time": "2025-06-03T18:12:56.269Z"
   },
   {
    "duration": 19213,
    "start_time": "2025-06-03T18:16:11.413Z"
   },
   {
    "duration": 6,
    "start_time": "2025-06-03T18:23:18.703Z"
   },
   {
    "duration": 4,
    "start_time": "2025-06-03T18:25:18.472Z"
   },
   {
    "duration": 3,
    "start_time": "2025-06-03T18:25:22.128Z"
   },
   {
    "duration": 3,
    "start_time": "2025-06-03T18:25:25.268Z"
   },
   {
    "duration": 5,
    "start_time": "2025-06-03T18:25:26.634Z"
   },
   {
    "duration": 9427,
    "start_time": "2025-06-03T18:25:30.255Z"
   },
   {
    "duration": 4,
    "start_time": "2025-06-03T18:28:11.734Z"
   },
   {
    "duration": 5,
    "start_time": "2025-06-03T18:29:00.467Z"
   },
   {
    "duration": 80,
    "start_time": "2025-06-03T18:29:00.474Z"
   },
   {
    "duration": 5,
    "start_time": "2025-06-03T18:29:00.556Z"
   },
   {
    "duration": 51,
    "start_time": "2025-06-03T18:29:00.562Z"
   },
   {
    "duration": 11,
    "start_time": "2025-06-03T18:29:00.615Z"
   },
   {
    "duration": 31,
    "start_time": "2025-06-03T18:29:00.628Z"
   },
   {
    "duration": 45,
    "start_time": "2025-06-03T18:29:00.661Z"
   },
   {
    "duration": 6,
    "start_time": "2025-06-03T18:29:00.708Z"
   },
   {
    "duration": 9,
    "start_time": "2025-06-03T18:29:00.716Z"
   },
   {
    "duration": 6,
    "start_time": "2025-06-03T18:29:00.727Z"
   },
   {
    "duration": 21,
    "start_time": "2025-06-03T18:29:00.734Z"
   },
   {
    "duration": 34052,
    "start_time": "2025-06-03T18:29:12.177Z"
   },
   {
    "duration": 6,
    "start_time": "2025-06-03T18:34:29.961Z"
   },
   {
    "duration": 6,
    "start_time": "2025-06-03T18:34:36.728Z"
   },
   {
    "duration": 33185,
    "start_time": "2025-06-03T18:34:38.957Z"
   },
   {
    "duration": 6,
    "start_time": "2025-06-03T18:36:25.458Z"
   },
   {
    "duration": 41663,
    "start_time": "2025-06-03T18:36:29.265Z"
   },
   {
    "duration": 4,
    "start_time": "2025-06-03T18:39:48.341Z"
   },
   {
    "duration": 4,
    "start_time": "2025-06-03T18:40:14.709Z"
   },
   {
    "duration": 6,
    "start_time": "2025-06-03T18:41:00.707Z"
   },
   {
    "duration": 52432,
    "start_time": "2025-06-03T18:41:05.264Z"
   },
   {
    "duration": 6,
    "start_time": "2025-06-03T18:43:39.702Z"
   },
   {
    "duration": 5,
    "start_time": "2025-06-03T18:44:28.571Z"
   },
   {
    "duration": 5,
    "start_time": "2025-06-03T18:46:22.548Z"
   },
   {
    "duration": 5,
    "start_time": "2025-06-03T18:46:27.348Z"
   },
   {
    "duration": 46023,
    "start_time": "2025-06-03T18:46:29.630Z"
   },
   {
    "duration": 34,
    "start_time": "2025-06-03T18:48:38.662Z"
   },
   {
    "duration": 31,
    "start_time": "2025-06-03T18:50:19.912Z"
   },
   {
    "duration": 5,
    "start_time": "2025-06-03T18:51:08.945Z"
   },
   {
    "duration": 35898,
    "start_time": "2025-06-03T18:51:11.873Z"
   },
   {
    "duration": 2,
    "start_time": "2025-06-03T18:55:26.326Z"
   },
   {
    "duration": 5,
    "start_time": "2025-06-03T18:55:28.304Z"
   },
   {
    "duration": 34451,
    "start_time": "2025-06-03T18:55:30.738Z"
   },
   {
    "duration": 5,
    "start_time": "2025-06-03T18:59:10.745Z"
   },
   {
    "duration": 34334,
    "start_time": "2025-06-03T18:59:13.930Z"
   },
   {
    "duration": 5,
    "start_time": "2025-06-03T18:59:53.946Z"
   },
   {
    "duration": 35052,
    "start_time": "2025-06-03T18:59:55.777Z"
   },
   {
    "duration": 28,
    "start_time": "2025-06-03T19:00:37.361Z"
   },
   {
    "duration": 5,
    "start_time": "2025-06-03T19:02:09.274Z"
   },
   {
    "duration": 38143,
    "start_time": "2025-06-03T19:02:11.038Z"
   },
   {
    "duration": 29,
    "start_time": "2025-06-03T19:02:54.777Z"
   },
   {
    "duration": 3918,
    "start_time": "2025-06-04T06:06:12.757Z"
   },
   {
    "duration": 2805,
    "start_time": "2025-06-04T06:06:16.677Z"
   },
   {
    "duration": 6302,
    "start_time": "2025-06-04T06:06:19.484Z"
   },
   {
    "duration": 1891,
    "start_time": "2025-06-04T06:06:25.788Z"
   },
   {
    "duration": 3,
    "start_time": "2025-06-04T06:06:27.681Z"
   },
   {
    "duration": 68,
    "start_time": "2025-06-04T06:06:27.685Z"
   },
   {
    "duration": 5,
    "start_time": "2025-06-04T06:06:27.755Z"
   },
   {
    "duration": 10,
    "start_time": "2025-06-04T06:06:27.761Z"
   },
   {
    "duration": 9,
    "start_time": "2025-06-04T06:06:27.773Z"
   },
   {
    "duration": 40,
    "start_time": "2025-06-04T06:06:27.785Z"
   },
   {
    "duration": 9,
    "start_time": "2025-06-04T06:06:27.827Z"
   },
   {
    "duration": 19,
    "start_time": "2025-06-04T06:06:27.837Z"
   },
   {
    "duration": 82,
    "start_time": "2025-06-04T06:06:27.857Z"
   },
   {
    "duration": 13,
    "start_time": "2025-06-04T06:06:27.940Z"
   },
   {
    "duration": 14,
    "start_time": "2025-06-04T06:06:27.954Z"
   },
   {
    "duration": 10,
    "start_time": "2025-06-04T06:06:27.970Z"
   },
   {
    "duration": 116,
    "start_time": "2025-06-04T06:06:27.981Z"
   },
   {
    "duration": 46,
    "start_time": "2025-06-04T06:06:28.098Z"
   },
   {
    "duration": 7,
    "start_time": "2025-06-04T06:06:28.146Z"
   },
   {
    "duration": 3,
    "start_time": "2025-06-04T06:06:28.155Z"
   },
   {
    "duration": 29,
    "start_time": "2025-06-04T06:06:28.159Z"
   },
   {
    "duration": 4,
    "start_time": "2025-06-04T06:06:28.189Z"
   },
   {
    "duration": 22,
    "start_time": "2025-06-04T06:06:28.194Z"
   },
   {
    "duration": 10,
    "start_time": "2025-06-04T06:06:28.218Z"
   },
   {
    "duration": 11,
    "start_time": "2025-06-04T06:06:28.229Z"
   },
   {
    "duration": 6,
    "start_time": "2025-06-04T06:06:28.242Z"
   },
   {
    "duration": 23,
    "start_time": "2025-06-04T06:06:28.249Z"
   },
   {
    "duration": 17,
    "start_time": "2025-06-04T06:06:28.276Z"
   },
   {
    "duration": 3,
    "start_time": "2025-06-04T06:06:28.294Z"
   },
   {
    "duration": 48,
    "start_time": "2025-06-04T06:06:28.298Z"
   },
   {
    "duration": 8,
    "start_time": "2025-06-04T06:06:28.348Z"
   },
   {
    "duration": 26,
    "start_time": "2025-06-04T06:06:28.358Z"
   },
   {
    "duration": 28,
    "start_time": "2025-06-04T06:06:28.386Z"
   },
   {
    "duration": 425,
    "start_time": "2025-06-04T06:06:28.416Z"
   },
   {
    "duration": 332,
    "start_time": "2025-06-04T06:06:28.842Z"
   },
   {
    "duration": 385,
    "start_time": "2025-06-04T06:06:29.176Z"
   },
   {
    "duration": 409,
    "start_time": "2025-06-04T06:06:29.562Z"
   },
   {
    "duration": 396,
    "start_time": "2025-06-04T06:06:29.972Z"
   },
   {
    "duration": 224,
    "start_time": "2025-06-04T06:06:30.369Z"
   },
   {
    "duration": 284,
    "start_time": "2025-06-04T06:06:30.595Z"
   },
   {
    "duration": 281,
    "start_time": "2025-06-04T06:06:30.881Z"
   },
   {
    "duration": 212,
    "start_time": "2025-06-04T06:06:31.164Z"
   },
   {
    "duration": 20,
    "start_time": "2025-06-04T06:06:31.378Z"
   },
   {
    "duration": 40,
    "start_time": "2025-06-04T06:06:31.400Z"
   },
   {
    "duration": 403,
    "start_time": "2025-06-04T06:06:31.442Z"
   },
   {
    "duration": 334,
    "start_time": "2025-06-04T06:06:31.847Z"
   },
   {
    "duration": 374,
    "start_time": "2025-06-04T06:06:32.183Z"
   },
   {
    "duration": 313,
    "start_time": "2025-06-04T06:06:32.559Z"
   },
   {
    "duration": 280,
    "start_time": "2025-06-04T06:06:32.874Z"
   },
   {
    "duration": 230,
    "start_time": "2025-06-04T06:06:33.156Z"
   },
   {
    "duration": 283,
    "start_time": "2025-06-04T06:06:33.388Z"
   },
   {
    "duration": 277,
    "start_time": "2025-06-04T06:06:33.673Z"
   },
   {
    "duration": 254,
    "start_time": "2025-06-04T06:06:33.952Z"
   },
   {
    "duration": 477,
    "start_time": "2025-06-04T06:06:34.208Z"
   },
   {
    "duration": 6,
    "start_time": "2025-06-04T06:06:34.687Z"
   },
   {
    "duration": 39,
    "start_time": "2025-06-04T06:06:34.694Z"
   },
   {
    "duration": 37,
    "start_time": "2025-06-04T06:06:34.735Z"
   },
   {
    "duration": 30,
    "start_time": "2025-06-04T06:06:34.774Z"
   },
   {
    "duration": 41,
    "start_time": "2025-06-04T06:06:34.806Z"
   },
   {
    "duration": 455,
    "start_time": "2025-06-04T06:06:34.848Z"
   },
   {
    "duration": 4,
    "start_time": "2025-06-04T06:06:35.305Z"
   },
   {
    "duration": 224,
    "start_time": "2025-06-04T06:06:35.311Z"
   },
   {
    "duration": 1410,
    "start_time": "2025-06-04T06:06:35.538Z"
   },
   {
    "duration": 7,
    "start_time": "2025-06-04T06:06:36.949Z"
   },
   {
    "duration": 9297,
    "start_time": "2025-06-04T06:06:36.958Z"
   },
   {
    "duration": 4,
    "start_time": "2025-06-04T06:06:46.257Z"
   },
   {
    "duration": 11,
    "start_time": "2025-06-04T06:06:46.262Z"
   },
   {
    "duration": 4,
    "start_time": "2025-06-04T06:06:46.274Z"
   },
   {
    "duration": 4,
    "start_time": "2025-06-04T06:06:46.280Z"
   },
   {
    "duration": 6,
    "start_time": "2025-06-04T06:06:46.285Z"
   },
   {
    "duration": 5,
    "start_time": "2025-06-04T06:06:46.292Z"
   },
   {
    "duration": 25,
    "start_time": "2025-06-04T06:06:46.298Z"
   },
   {
    "duration": 11,
    "start_time": "2025-06-04T06:06:46.324Z"
   },
   {
    "duration": 5,
    "start_time": "2025-06-04T06:06:46.337Z"
   },
   {
    "duration": 113436,
    "start_time": "2025-06-04T06:06:46.343Z"
   },
   {
    "duration": 29,
    "start_time": "2025-06-04T06:08:39.780Z"
   },
   {
    "duration": 91,
    "start_time": "2025-06-04T06:08:39.811Z"
   },
   {
    "duration": 3,
    "start_time": "2025-06-04T06:08:39.904Z"
   },
   {
    "duration": 35,
    "start_time": "2025-06-04T06:08:39.908Z"
   },
   {
    "duration": 92591,
    "start_time": "2025-06-04T06:08:39.944Z"
   },
   {
    "duration": 5,
    "start_time": "2025-06-04T06:10:12.537Z"
   },
   {
    "duration": 1110,
    "start_time": "2025-06-04T06:10:12.549Z"
   },
   {
    "duration": 620,
    "start_time": "2025-06-04T06:10:13.661Z"
   },
   {
    "duration": 72,
    "start_time": "2025-06-04T06:10:14.283Z"
   },
   {
    "duration": 13,
    "start_time": "2025-06-04T06:10:14.357Z"
   },
   {
    "duration": 12,
    "start_time": "2025-06-04T06:10:14.371Z"
   },
   {
    "duration": 12,
    "start_time": "2025-06-04T06:10:14.384Z"
   },
   {
    "duration": 14,
    "start_time": "2025-06-04T06:10:14.397Z"
   },
   {
    "duration": 11,
    "start_time": "2025-06-04T06:10:14.413Z"
   },
   {
    "duration": 7,
    "start_time": "2025-06-04T06:10:14.435Z"
   },
   {
    "duration": 4,
    "start_time": "2025-06-04T06:10:14.444Z"
   },
   {
    "duration": 11,
    "start_time": "2025-06-04T06:10:14.450Z"
   },
   {
    "duration": 6,
    "start_time": "2025-06-04T06:10:14.463Z"
   },
   {
    "duration": 12,
    "start_time": "2025-06-04T06:10:14.470Z"
   },
   {
    "duration": 14,
    "start_time": "2025-06-04T06:10:14.484Z"
   },
   {
    "duration": 8,
    "start_time": "2025-06-04T06:10:14.536Z"
   },
   {
    "duration": 7,
    "start_time": "2025-06-04T06:10:14.546Z"
   },
   {
    "duration": 27,
    "start_time": "2025-06-04T06:10:14.555Z"
   },
   {
    "duration": 19,
    "start_time": "2025-06-04T06:10:14.584Z"
   },
   {
    "duration": 8,
    "start_time": "2025-06-04T06:10:14.635Z"
   },
   {
    "duration": 14,
    "start_time": "2025-06-04T06:10:14.645Z"
   },
   {
    "duration": 15,
    "start_time": "2025-06-04T06:10:14.661Z"
   },
   {
    "duration": 8,
    "start_time": "2025-06-04T06:10:14.677Z"
   },
   {
    "duration": 9,
    "start_time": "2025-06-04T06:10:14.686Z"
   },
   {
    "duration": 52,
    "start_time": "2025-06-04T06:10:14.697Z"
   },
   {
    "duration": 411,
    "start_time": "2025-06-04T06:10:14.752Z"
   },
   {
    "duration": 362,
    "start_time": "2025-06-04T06:10:15.165Z"
   },
   {
    "duration": 354,
    "start_time": "2025-06-04T06:10:15.536Z"
   },
   {
    "duration": 290,
    "start_time": "2025-06-04T06:10:15.892Z"
   },
   {
    "duration": 280,
    "start_time": "2025-06-04T06:10:16.184Z"
   },
   {
    "duration": 402,
    "start_time": "2025-06-04T06:10:16.466Z"
   },
   {
    "duration": 210,
    "start_time": "2025-06-04T06:10:16.870Z"
   },
   {
    "duration": 290,
    "start_time": "2025-06-04T06:10:17.082Z"
   },
   {
    "duration": 280,
    "start_time": "2025-06-04T06:10:17.374Z"
   },
   {
    "duration": 22,
    "start_time": "2025-06-04T06:10:17.656Z"
   },
   {
    "duration": 81,
    "start_time": "2025-06-04T06:10:17.680Z"
   },
   {
    "duration": 398,
    "start_time": "2025-06-04T06:10:17.763Z"
   },
   {
    "duration": 382,
    "start_time": "2025-06-04T06:10:18.163Z"
   },
   {
    "duration": 360,
    "start_time": "2025-06-04T06:10:18.546Z"
   },
   {
    "duration": 279,
    "start_time": "2025-06-04T06:10:18.908Z"
   },
   {
    "duration": 269,
    "start_time": "2025-06-04T06:10:19.189Z"
   },
   {
    "duration": 222,
    "start_time": "2025-06-04T06:10:19.460Z"
   },
   {
    "duration": 278,
    "start_time": "2025-06-04T06:10:19.684Z"
   },
   {
    "duration": 218,
    "start_time": "2025-06-04T06:10:19.963Z"
   },
   {
    "duration": 272,
    "start_time": "2025-06-04T06:10:20.183Z"
   },
   {
    "duration": 5,
    "start_time": "2025-06-04T06:10:20.457Z"
   },
   {
    "duration": 47,
    "start_time": "2025-06-04T06:10:20.464Z"
   },
   {
    "duration": 276,
    "start_time": "2025-06-04T06:10:20.512Z"
   },
   {
    "duration": 276,
    "start_time": "2025-06-04T06:10:20.789Z"
   },
   {
    "duration": 314,
    "start_time": "2025-06-04T06:10:21.067Z"
   },
   {
    "duration": 394,
    "start_time": "2025-06-04T06:10:21.382Z"
   },
   {
    "duration": 284,
    "start_time": "2025-06-04T06:10:21.777Z"
   },
   {
    "duration": 7,
    "start_time": "2025-06-04T06:10:22.063Z"
   },
   {
    "duration": 400,
    "start_time": "2025-06-04T06:10:22.071Z"
   },
   {
    "duration": 363,
    "start_time": "2025-06-04T06:10:22.473Z"
   },
   {
    "duration": 371,
    "start_time": "2025-06-04T06:10:22.838Z"
   },
   {
    "duration": 120,
    "start_time": "2025-06-04T06:10:23.211Z"
   },
   {
    "duration": 347,
    "start_time": "2025-06-04T06:10:23.336Z"
   },
   {
    "duration": 3,
    "start_time": "2025-06-04T06:10:23.684Z"
   },
   {
    "duration": 97,
    "start_time": "2025-06-04T06:10:23.689Z"
   },
   {
    "duration": 87,
    "start_time": "2025-06-04T06:10:23.788Z"
   },
   {
    "duration": 19,
    "start_time": "2025-06-04T06:10:23.876Z"
   },
   {
    "duration": 69,
    "start_time": "2025-06-04T06:10:23.896Z"
   },
   {
    "duration": 17,
    "start_time": "2025-06-04T06:10:23.966Z"
   },
   {
    "duration": 108,
    "start_time": "2025-06-04T06:10:23.984Z"
   },
   {
    "duration": 42,
    "start_time": "2025-06-04T06:10:24.093Z"
   },
   {
    "duration": 24,
    "start_time": "2025-06-04T06:10:24.138Z"
   },
   {
    "duration": 49,
    "start_time": "2025-06-04T06:10:24.164Z"
   },
   {
    "duration": 35,
    "start_time": "2025-06-04T06:10:24.215Z"
   },
   {
    "duration": 458,
    "start_time": "2025-06-04T06:10:24.252Z"
   },
   {
    "duration": 124,
    "start_time": "2025-06-04T06:10:24.712Z"
   },
   {
    "duration": 1473,
    "start_time": "2025-06-04T06:10:24.838Z"
   },
   {
    "duration": 5,
    "start_time": "2025-06-04T06:10:26.313Z"
   },
   {
    "duration": 1526,
    "start_time": "2025-06-04T06:10:26.319Z"
   },
   {
    "duration": 5,
    "start_time": "2025-06-04T06:10:27.846Z"
   },
   {
    "duration": 34,
    "start_time": "2025-06-04T06:10:27.852Z"
   },
   {
    "duration": 5,
    "start_time": "2025-06-04T06:10:27.887Z"
   },
   {
    "duration": 9,
    "start_time": "2025-06-04T06:10:27.893Z"
   },
   {
    "duration": 4,
    "start_time": "2025-06-04T06:10:27.904Z"
   },
   {
    "duration": 6,
    "start_time": "2025-06-04T06:10:27.909Z"
   },
   {
    "duration": 8,
    "start_time": "2025-06-04T06:10:27.916Z"
   },
   {
    "duration": 39,
    "start_time": "2025-06-04T06:10:27.925Z"
   },
   {
    "duration": 10,
    "start_time": "2025-06-04T06:10:27.965Z"
   },
   {
    "duration": 5,
    "start_time": "2025-06-04T06:10:27.976Z"
   },
   {
    "duration": 36207,
    "start_time": "2025-06-04T06:10:27.982Z"
   },
   {
    "duration": 27,
    "start_time": "2025-06-04T06:11:04.191Z"
   },
   {
    "duration": 4,
    "start_time": "2025-06-04T06:14:22.762Z"
   },
   {
    "duration": 6,
    "start_time": "2025-06-04T06:15:16.557Z"
   },
   {
    "duration": 72,
    "start_time": "2025-06-04T06:19:29.921Z"
   },
   {
    "duration": 12,
    "start_time": "2025-06-04T06:19:29.994Z"
   },
   {
    "duration": 56,
    "start_time": "2025-06-04T06:19:30.008Z"
   },
   {
    "duration": 33,
    "start_time": "2025-06-04T06:19:30.066Z"
   },
   {
    "duration": 62,
    "start_time": "2025-06-04T06:19:30.101Z"
   },
   {
    "duration": 20,
    "start_time": "2025-06-04T06:19:30.165Z"
   },
   {
    "duration": 20,
    "start_time": "2025-06-04T06:19:30.187Z"
   },
   {
    "duration": 5,
    "start_time": "2025-06-04T06:19:30.209Z"
   },
   {
    "duration": 17,
    "start_time": "2025-06-04T06:19:30.215Z"
   },
   {
    "duration": 14,
    "start_time": "2025-06-04T06:19:30.235Z"
   },
   {
    "duration": 33,
    "start_time": "2025-06-04T06:19:30.250Z"
   },
   {
    "duration": 39,
    "start_time": "2025-06-04T06:19:30.284Z"
   },
   {
    "duration": 54,
    "start_time": "2025-06-04T06:19:30.324Z"
   },
   {
    "duration": 49,
    "start_time": "2025-06-04T06:19:30.380Z"
   },
   {
    "duration": 38,
    "start_time": "2025-06-04T06:19:30.430Z"
   },
   {
    "duration": 17,
    "start_time": "2025-06-04T06:19:30.469Z"
   },
   {
    "duration": 7,
    "start_time": "2025-06-04T06:19:30.488Z"
   },
   {
    "duration": 53,
    "start_time": "2025-06-04T06:19:30.497Z"
   },
   {
    "duration": 51,
    "start_time": "2025-06-04T06:19:30.552Z"
   },
   {
    "duration": 30,
    "start_time": "2025-06-04T06:19:30.604Z"
   },
   {
    "duration": 24,
    "start_time": "2025-06-04T06:19:30.635Z"
   },
   {
    "duration": 36,
    "start_time": "2025-06-04T06:19:30.660Z"
   },
   {
    "duration": 373,
    "start_time": "2025-06-04T06:19:30.697Z"
   },
   {
    "duration": 364,
    "start_time": "2025-06-04T06:19:31.072Z"
   },
   {
    "duration": 373,
    "start_time": "2025-06-04T06:19:31.438Z"
   },
   {
    "duration": 276,
    "start_time": "2025-06-04T06:19:31.813Z"
   },
   {
    "duration": 277,
    "start_time": "2025-06-04T06:19:32.091Z"
   },
   {
    "duration": 284,
    "start_time": "2025-06-04T06:19:32.373Z"
   },
   {
    "duration": 218,
    "start_time": "2025-06-04T06:19:32.659Z"
   },
   {
    "duration": 289,
    "start_time": "2025-06-04T06:19:32.879Z"
   },
   {
    "duration": 287,
    "start_time": "2025-06-04T06:19:33.170Z"
   },
   {
    "duration": 22,
    "start_time": "2025-06-04T06:19:33.459Z"
   },
   {
    "duration": 12,
    "start_time": "2025-06-04T06:19:33.483Z"
   },
   {
    "duration": 381,
    "start_time": "2025-06-04T06:19:33.497Z"
   },
   {
    "duration": 386,
    "start_time": "2025-06-04T06:19:33.880Z"
   },
   {
    "duration": 397,
    "start_time": "2025-06-04T06:19:34.268Z"
   },
   {
    "duration": 420,
    "start_time": "2025-06-04T06:19:34.667Z"
   },
   {
    "duration": 274,
    "start_time": "2025-06-04T06:19:35.088Z"
   },
   {
    "duration": 225,
    "start_time": "2025-06-04T06:19:35.363Z"
   },
   {
    "duration": 280,
    "start_time": "2025-06-04T06:19:35.590Z"
   },
   {
    "duration": 216,
    "start_time": "2025-06-04T06:19:35.872Z"
   },
   {
    "duration": 280,
    "start_time": "2025-06-04T06:19:36.089Z"
   },
   {
    "duration": 7,
    "start_time": "2025-06-04T06:19:36.370Z"
   },
   {
    "duration": 20,
    "start_time": "2025-06-04T06:19:36.378Z"
   },
   {
    "duration": 300,
    "start_time": "2025-06-04T06:19:36.399Z"
   },
   {
    "duration": 267,
    "start_time": "2025-06-04T06:19:36.700Z"
   },
   {
    "duration": 330,
    "start_time": "2025-06-04T06:19:36.968Z"
   },
   {
    "duration": 284,
    "start_time": "2025-06-04T06:19:37.300Z"
   },
   {
    "duration": 311,
    "start_time": "2025-06-04T06:19:37.585Z"
   },
   {
    "duration": 6,
    "start_time": "2025-06-04T06:19:37.897Z"
   },
   {
    "duration": 381,
    "start_time": "2025-06-04T06:19:37.904Z"
   },
   {
    "duration": 349,
    "start_time": "2025-06-04T06:19:38.286Z"
   },
   {
    "duration": 365,
    "start_time": "2025-06-04T06:19:38.637Z"
   },
   {
    "duration": 114,
    "start_time": "2025-06-04T06:19:39.004Z"
   },
   {
    "duration": 361,
    "start_time": "2025-06-04T06:19:39.119Z"
   },
   {
    "duration": 4,
    "start_time": "2025-06-04T06:19:39.481Z"
   },
   {
    "duration": 8,
    "start_time": "2025-06-04T06:19:39.487Z"
   },
   {
    "duration": 82,
    "start_time": "2025-06-04T06:19:39.497Z"
   },
   {
    "duration": 19,
    "start_time": "2025-06-04T06:19:39.581Z"
   },
   {
    "duration": 222,
    "start_time": "2025-06-04T06:19:39.602Z"
   },
   {
    "duration": 24,
    "start_time": "2025-06-04T06:19:39.825Z"
   },
   {
    "duration": 7,
    "start_time": "2025-06-04T06:19:39.850Z"
   },
   {
    "duration": 7,
    "start_time": "2025-06-04T06:19:39.859Z"
   },
   {
    "duration": 8,
    "start_time": "2025-06-04T06:19:39.867Z"
   },
   {
    "duration": 15,
    "start_time": "2025-06-04T06:19:39.877Z"
   },
   {
    "duration": 11,
    "start_time": "2025-06-04T06:19:39.893Z"
   },
   {
    "duration": 503,
    "start_time": "2025-06-04T06:19:39.906Z"
   },
   {
    "duration": 127,
    "start_time": "2025-06-04T06:19:40.410Z"
   },
   {
    "duration": 1502,
    "start_time": "2025-06-04T06:19:40.540Z"
   },
   {
    "duration": 5,
    "start_time": "2025-06-04T06:19:42.044Z"
   },
   {
    "duration": 1611,
    "start_time": "2025-06-04T06:19:42.051Z"
   },
   {
    "duration": 5,
    "start_time": "2025-06-04T06:19:43.663Z"
   },
   {
    "duration": 108,
    "start_time": "2025-06-04T06:19:43.669Z"
   },
   {
    "duration": 5,
    "start_time": "2025-06-04T06:19:43.778Z"
   },
   {
    "duration": 8,
    "start_time": "2025-06-04T06:19:43.784Z"
   },
   {
    "duration": 10,
    "start_time": "2025-06-04T06:19:43.794Z"
   },
   {
    "duration": 7,
    "start_time": "2025-06-04T06:19:43.806Z"
   },
   {
    "duration": 5,
    "start_time": "2025-06-04T06:19:43.815Z"
   },
   {
    "duration": 5,
    "start_time": "2025-06-04T06:19:43.821Z"
   },
   {
    "duration": 5,
    "start_time": "2025-06-04T06:19:43.828Z"
   },
   {
    "duration": 6,
    "start_time": "2025-06-04T06:19:43.835Z"
   },
   {
    "duration": 36863,
    "start_time": "2025-06-04T06:19:43.846Z"
   },
   {
    "duration": 36,
    "start_time": "2025-06-04T06:20:20.711Z"
   },
   {
    "duration": 3,
    "start_time": "2025-06-04T06:20:20.749Z"
   },
   {
    "duration": 153,
    "start_time": "2025-06-04T06:20:20.754Z"
   },
   {
    "duration": 4,
    "start_time": "2025-06-04T06:21:12.479Z"
   },
   {
    "duration": 41,
    "start_time": "2025-06-04T06:23:00.705Z"
   },
   {
    "duration": 86,
    "start_time": "2025-06-04T06:24:06.496Z"
   },
   {
    "duration": 13,
    "start_time": "2025-06-04T06:26:07.027Z"
   },
   {
    "duration": 286,
    "start_time": "2025-06-04T06:28:13.108Z"
   },
   {
    "duration": 3,
    "start_time": "2025-06-04T06:41:22.282Z"
   },
   {
    "duration": 20,
    "start_time": "2025-06-04T06:42:12.589Z"
   },
   {
    "duration": 2842,
    "start_time": "2025-06-04T06:42:37.954Z"
   },
   {
    "duration": 5,
    "start_time": "2025-06-04T06:43:18.566Z"
   },
   {
    "duration": 2826,
    "start_time": "2025-06-04T06:44:44.742Z"
   },
   {
    "duration": 769,
    "start_time": "2025-06-04T06:45:04.881Z"
   },
   {
    "duration": 768,
    "start_time": "2025-06-04T06:45:58.276Z"
   },
   {
    "duration": 884,
    "start_time": "2025-06-04T06:46:56.384Z"
   },
   {
    "duration": 19,
    "start_time": "2025-06-04T06:48:14.997Z"
   },
   {
    "duration": 2885,
    "start_time": "2025-06-04T06:48:15.018Z"
   },
   {
    "duration": 5,
    "start_time": "2025-06-04T06:48:17.905Z"
   },
   {
    "duration": 801,
    "start_time": "2025-06-04T06:48:17.912Z"
   },
   {
    "duration": 840,
    "start_time": "2025-06-04T06:48:18.714Z"
   },
   {
    "duration": 5,
    "start_time": "2025-06-04T06:50:17.093Z"
   },
   {
    "duration": 957,
    "start_time": "2025-06-04T06:50:38.704Z"
   },
   {
    "duration": 761,
    "start_time": "2025-06-04T06:51:12.869Z"
   },
   {
    "duration": 2472,
    "start_time": "2025-06-04T07:48:27.895Z"
   },
   {
    "duration": 2390,
    "start_time": "2025-06-04T07:48:30.369Z"
   },
   {
    "duration": 3355,
    "start_time": "2025-06-04T07:48:32.761Z"
   },
   {
    "duration": 1825,
    "start_time": "2025-06-04T07:48:36.119Z"
   },
   {
    "duration": 4,
    "start_time": "2025-06-04T07:48:37.945Z"
   },
   {
    "duration": 124,
    "start_time": "2025-06-04T07:48:37.950Z"
   },
   {
    "duration": 23,
    "start_time": "2025-06-04T07:48:38.075Z"
   },
   {
    "duration": 13,
    "start_time": "2025-06-04T07:48:38.100Z"
   },
   {
    "duration": 14,
    "start_time": "2025-06-04T07:48:38.114Z"
   },
   {
    "duration": 16,
    "start_time": "2025-06-04T07:48:38.132Z"
   },
   {
    "duration": 5,
    "start_time": "2025-06-04T07:48:38.149Z"
   },
   {
    "duration": 17,
    "start_time": "2025-06-04T07:48:38.156Z"
   },
   {
    "duration": 69,
    "start_time": "2025-06-04T07:48:38.175Z"
   },
   {
    "duration": 12,
    "start_time": "2025-06-04T07:48:38.245Z"
   },
   {
    "duration": 14,
    "start_time": "2025-06-04T07:48:38.259Z"
   },
   {
    "duration": 9,
    "start_time": "2025-06-04T07:48:38.275Z"
   },
   {
    "duration": 14,
    "start_time": "2025-06-04T07:48:38.286Z"
   },
   {
    "duration": 17,
    "start_time": "2025-06-04T07:48:38.301Z"
   },
   {
    "duration": 17,
    "start_time": "2025-06-04T07:48:38.319Z"
   },
   {
    "duration": 6,
    "start_time": "2025-06-04T07:48:38.337Z"
   },
   {
    "duration": 76,
    "start_time": "2025-06-04T07:48:38.344Z"
   },
   {
    "duration": 40,
    "start_time": "2025-06-04T07:48:38.422Z"
   },
   {
    "duration": 26,
    "start_time": "2025-06-04T07:48:38.464Z"
   },
   {
    "duration": 10,
    "start_time": "2025-06-04T07:48:38.492Z"
   },
   {
    "duration": 22,
    "start_time": "2025-06-04T07:48:38.504Z"
   },
   {
    "duration": 9,
    "start_time": "2025-06-04T07:48:38.528Z"
   },
   {
    "duration": 23,
    "start_time": "2025-06-04T07:48:38.539Z"
   },
   {
    "duration": 22,
    "start_time": "2025-06-04T07:48:38.566Z"
   },
   {
    "duration": 3,
    "start_time": "2025-06-04T07:48:38.590Z"
   },
   {
    "duration": 17,
    "start_time": "2025-06-04T07:48:38.594Z"
   },
   {
    "duration": 24,
    "start_time": "2025-06-04T07:48:38.613Z"
   },
   {
    "duration": 8,
    "start_time": "2025-06-04T07:48:38.638Z"
   },
   {
    "duration": 26,
    "start_time": "2025-06-04T07:48:38.647Z"
   },
   {
    "duration": 417,
    "start_time": "2025-06-04T07:48:38.674Z"
   },
   {
    "duration": 354,
    "start_time": "2025-06-04T07:48:39.093Z"
   },
   {
    "duration": 375,
    "start_time": "2025-06-04T07:48:39.449Z"
   },
   {
    "duration": 383,
    "start_time": "2025-06-04T07:48:39.835Z"
   },
   {
    "duration": 364,
    "start_time": "2025-06-04T07:48:40.220Z"
   },
   {
    "duration": 281,
    "start_time": "2025-06-04T07:48:40.586Z"
   },
   {
    "duration": 293,
    "start_time": "2025-06-04T07:48:40.869Z"
   },
   {
    "duration": 216,
    "start_time": "2025-06-04T07:48:41.165Z"
   },
   {
    "duration": 290,
    "start_time": "2025-06-04T07:48:41.383Z"
   },
   {
    "duration": 21,
    "start_time": "2025-06-04T07:48:41.674Z"
   },
   {
    "duration": 90,
    "start_time": "2025-06-04T07:48:41.697Z"
   },
   {
    "duration": 400,
    "start_time": "2025-06-04T07:48:41.788Z"
   },
   {
    "duration": 367,
    "start_time": "2025-06-04T07:48:42.189Z"
   },
   {
    "duration": 421,
    "start_time": "2025-06-04T07:48:42.558Z"
   },
   {
    "duration": 308,
    "start_time": "2025-06-04T07:48:42.981Z"
   },
   {
    "duration": 270,
    "start_time": "2025-06-04T07:48:43.291Z"
   },
   {
    "duration": 232,
    "start_time": "2025-06-04T07:48:43.563Z"
   },
   {
    "duration": 287,
    "start_time": "2025-06-04T07:48:43.797Z"
   },
   {
    "duration": 296,
    "start_time": "2025-06-04T07:48:44.086Z"
   },
   {
    "duration": 300,
    "start_time": "2025-06-04T07:48:44.383Z"
   },
   {
    "duration": 499,
    "start_time": "2025-06-04T07:48:44.685Z"
   },
   {
    "duration": 5,
    "start_time": "2025-06-04T07:48:45.185Z"
   },
   {
    "duration": 10,
    "start_time": "2025-06-04T07:48:45.192Z"
   },
   {
    "duration": 24,
    "start_time": "2025-06-04T07:48:45.203Z"
   },
   {
    "duration": 14,
    "start_time": "2025-06-04T07:48:45.229Z"
   },
   {
    "duration": 14,
    "start_time": "2025-06-04T07:48:45.245Z"
   },
   {
    "duration": 545,
    "start_time": "2025-06-04T07:48:45.260Z"
   },
   {
    "duration": 4,
    "start_time": "2025-06-04T07:48:45.807Z"
   },
   {
    "duration": 126,
    "start_time": "2025-06-04T07:48:45.813Z"
   },
   {
    "duration": 1415,
    "start_time": "2025-06-04T07:48:45.941Z"
   },
   {
    "duration": 7,
    "start_time": "2025-06-04T07:48:47.358Z"
   },
   {
    "duration": 9558,
    "start_time": "2025-06-04T07:48:47.366Z"
   },
   {
    "duration": 5,
    "start_time": "2025-06-04T07:48:56.925Z"
   },
   {
    "duration": 9,
    "start_time": "2025-06-04T07:48:56.935Z"
   },
   {
    "duration": 6,
    "start_time": "2025-06-04T07:48:56.945Z"
   },
   {
    "duration": 4,
    "start_time": "2025-06-04T07:48:56.952Z"
   },
   {
    "duration": 9,
    "start_time": "2025-06-04T07:48:56.958Z"
   },
   {
    "duration": 9,
    "start_time": "2025-06-04T07:48:56.968Z"
   },
   {
    "duration": 15,
    "start_time": "2025-06-04T07:48:56.978Z"
   },
   {
    "duration": 3,
    "start_time": "2025-06-04T07:48:56.995Z"
   },
   {
    "duration": 6,
    "start_time": "2025-06-04T07:48:56.999Z"
   },
   {
    "duration": 114391,
    "start_time": "2025-06-04T07:48:57.006Z"
   },
   {
    "duration": 39,
    "start_time": "2025-06-04T07:50:51.399Z"
   },
   {
    "duration": 87,
    "start_time": "2025-06-04T07:50:51.440Z"
   },
   {
    "duration": 6,
    "start_time": "2025-06-04T07:50:51.529Z"
   },
   {
    "duration": 34,
    "start_time": "2025-06-04T07:50:51.536Z"
   },
   {
    "duration": 96376,
    "start_time": "2025-06-04T07:50:51.571Z"
   },
   {
    "duration": 5,
    "start_time": "2025-06-04T07:52:27.948Z"
   },
   {
    "duration": 1103,
    "start_time": "2025-06-04T07:52:27.961Z"
   },
   {
    "duration": 626,
    "start_time": "2025-06-04T07:52:29.066Z"
   },
   {
    "duration": 59,
    "start_time": "2025-06-04T07:52:29.694Z"
   },
   {
    "duration": 46,
    "start_time": "2025-06-04T07:52:29.755Z"
   },
   {
    "duration": 22,
    "start_time": "2025-06-04T07:52:29.803Z"
   },
   {
    "duration": 11,
    "start_time": "2025-06-04T07:52:29.826Z"
   },
   {
    "duration": 9,
    "start_time": "2025-06-04T07:52:29.838Z"
   },
   {
    "duration": 10,
    "start_time": "2025-06-04T07:52:29.849Z"
   },
   {
    "duration": 8,
    "start_time": "2025-06-04T07:52:29.860Z"
   },
   {
    "duration": 3,
    "start_time": "2025-06-04T07:52:29.870Z"
   },
   {
    "duration": 10,
    "start_time": "2025-06-04T07:52:29.875Z"
   },
   {
    "duration": 5,
    "start_time": "2025-06-04T07:52:29.887Z"
   },
   {
    "duration": 51,
    "start_time": "2025-06-04T07:52:29.894Z"
   },
   {
    "duration": 16,
    "start_time": "2025-06-04T07:52:29.948Z"
   },
   {
    "duration": 8,
    "start_time": "2025-06-04T07:52:29.965Z"
   },
   {
    "duration": 156,
    "start_time": "2025-06-04T07:52:29.975Z"
   },
   {
    "duration": 46,
    "start_time": "2025-06-04T07:52:30.133Z"
   },
   {
    "duration": 19,
    "start_time": "2025-06-04T07:52:30.181Z"
   },
   {
    "duration": 14,
    "start_time": "2025-06-04T07:52:30.202Z"
   },
   {
    "duration": 15,
    "start_time": "2025-06-04T07:52:30.218Z"
   },
   {
    "duration": 17,
    "start_time": "2025-06-04T07:52:30.235Z"
   },
   {
    "duration": 26,
    "start_time": "2025-06-04T07:52:30.253Z"
   },
   {
    "duration": 12,
    "start_time": "2025-06-04T07:52:30.281Z"
   },
   {
    "duration": 51,
    "start_time": "2025-06-04T07:52:30.294Z"
   },
   {
    "duration": 391,
    "start_time": "2025-06-04T07:52:30.347Z"
   },
   {
    "duration": 317,
    "start_time": "2025-06-04T07:52:30.740Z"
   },
   {
    "duration": 412,
    "start_time": "2025-06-04T07:52:31.059Z"
   },
   {
    "duration": 318,
    "start_time": "2025-06-04T07:52:31.473Z"
   },
   {
    "duration": 270,
    "start_time": "2025-06-04T07:52:31.793Z"
   },
   {
    "duration": 398,
    "start_time": "2025-06-04T07:52:32.066Z"
   },
   {
    "duration": 284,
    "start_time": "2025-06-04T07:52:32.467Z"
   },
   {
    "duration": 234,
    "start_time": "2025-06-04T07:52:32.752Z"
   },
   {
    "duration": 280,
    "start_time": "2025-06-04T07:52:32.987Z"
   },
   {
    "duration": 22,
    "start_time": "2025-06-04T07:52:33.269Z"
   },
   {
    "duration": 12,
    "start_time": "2025-06-04T07:52:33.292Z"
   },
   {
    "duration": 394,
    "start_time": "2025-06-04T07:52:33.305Z"
   },
   {
    "duration": 367,
    "start_time": "2025-06-04T07:52:33.700Z"
   },
   {
    "duration": 431,
    "start_time": "2025-06-04T07:52:34.068Z"
   },
   {
    "duration": 309,
    "start_time": "2025-06-04T07:52:34.500Z"
   },
   {
    "duration": 260,
    "start_time": "2025-06-04T07:52:34.812Z"
   },
   {
    "duration": 283,
    "start_time": "2025-06-04T07:52:35.074Z"
   },
   {
    "duration": 303,
    "start_time": "2025-06-04T07:52:35.359Z"
   },
   {
    "duration": 299,
    "start_time": "2025-06-04T07:52:35.664Z"
   },
   {
    "duration": 291,
    "start_time": "2025-06-04T07:52:35.965Z"
   },
   {
    "duration": 6,
    "start_time": "2025-06-04T07:52:36.258Z"
   },
   {
    "duration": 44,
    "start_time": "2025-06-04T07:52:36.265Z"
   },
   {
    "duration": 304,
    "start_time": "2025-06-04T07:52:36.311Z"
   },
   {
    "duration": 264,
    "start_time": "2025-06-04T07:52:36.617Z"
   },
   {
    "duration": 314,
    "start_time": "2025-06-04T07:52:36.883Z"
   },
   {
    "duration": 445,
    "start_time": "2025-06-04T07:52:37.200Z"
   },
   {
    "duration": 249,
    "start_time": "2025-06-04T07:52:37.646Z"
   },
   {
    "duration": 6,
    "start_time": "2025-06-04T07:52:37.897Z"
   },
   {
    "duration": 382,
    "start_time": "2025-06-04T07:52:37.905Z"
   },
   {
    "duration": 353,
    "start_time": "2025-06-04T07:52:38.289Z"
   },
   {
    "duration": 386,
    "start_time": "2025-06-04T07:52:38.644Z"
   },
   {
    "duration": 119,
    "start_time": "2025-06-04T07:52:39.035Z"
   },
   {
    "duration": 386,
    "start_time": "2025-06-04T07:52:39.156Z"
   },
   {
    "duration": 3,
    "start_time": "2025-06-04T07:52:39.544Z"
   },
   {
    "duration": 4,
    "start_time": "2025-06-04T07:52:39.549Z"
   },
   {
    "duration": 92,
    "start_time": "2025-06-04T07:52:39.555Z"
   },
   {
    "duration": 21,
    "start_time": "2025-06-04T07:52:39.648Z"
   },
   {
    "duration": 168,
    "start_time": "2025-06-04T07:52:39.671Z"
   },
   {
    "duration": 19,
    "start_time": "2025-06-04T07:52:39.841Z"
   },
   {
    "duration": 5,
    "start_time": "2025-06-04T07:52:39.862Z"
   },
   {
    "duration": 4,
    "start_time": "2025-06-04T07:52:39.869Z"
   },
   {
    "duration": 8,
    "start_time": "2025-06-04T07:52:39.874Z"
   },
   {
    "duration": 15,
    "start_time": "2025-06-04T07:52:39.883Z"
   },
   {
    "duration": 45,
    "start_time": "2025-06-04T07:52:39.900Z"
   },
   {
    "duration": 470,
    "start_time": "2025-06-04T07:52:39.946Z"
   },
   {
    "duration": 118,
    "start_time": "2025-06-04T07:52:40.418Z"
   },
   {
    "duration": 1498,
    "start_time": "2025-06-04T07:52:40.538Z"
   },
   {
    "duration": 6,
    "start_time": "2025-06-04T07:52:42.037Z"
   },
   {
    "duration": 1548,
    "start_time": "2025-06-04T07:52:42.045Z"
   },
   {
    "duration": 5,
    "start_time": "2025-06-04T07:52:43.594Z"
   },
   {
    "duration": 177,
    "start_time": "2025-06-04T07:52:43.600Z"
   },
   {
    "duration": 5,
    "start_time": "2025-06-04T07:52:43.778Z"
   },
   {
    "duration": 9,
    "start_time": "2025-06-04T07:52:43.785Z"
   },
   {
    "duration": 4,
    "start_time": "2025-06-04T07:52:43.795Z"
   },
   {
    "duration": 6,
    "start_time": "2025-06-04T07:52:43.801Z"
   },
   {
    "duration": 8,
    "start_time": "2025-06-04T07:52:43.808Z"
   },
   {
    "duration": 5,
    "start_time": "2025-06-04T07:52:43.817Z"
   },
   {
    "duration": 8,
    "start_time": "2025-06-04T07:52:43.823Z"
   },
   {
    "duration": 8,
    "start_time": "2025-06-04T07:52:43.833Z"
   },
   {
    "duration": 36640,
    "start_time": "2025-06-04T07:52:43.842Z"
   },
   {
    "duration": 27,
    "start_time": "2025-06-04T07:53:20.484Z"
   },
   {
    "duration": 3,
    "start_time": "2025-06-04T07:53:20.512Z"
   },
   {
    "duration": 21,
    "start_time": "2025-06-04T07:53:20.516Z"
   },
   {
    "duration": 74,
    "start_time": "2025-06-04T07:53:20.539Z"
   },
   {
    "duration": 27,
    "start_time": "2025-06-04T07:53:20.615Z"
   },
   {
    "duration": 270,
    "start_time": "2025-06-04T07:53:20.643Z"
   },
   {
    "duration": 3,
    "start_time": "2025-06-04T07:53:20.915Z"
   },
   {
    "duration": 36,
    "start_time": "2025-06-04T07:53:20.919Z"
   },
   {
    "duration": 2845,
    "start_time": "2025-06-04T07:53:20.957Z"
   },
   {
    "duration": 6,
    "start_time": "2025-06-04T07:53:23.804Z"
   },
   {
    "duration": 1030,
    "start_time": "2025-06-04T07:53:23.812Z"
   },
   {
    "duration": 536,
    "start_time": "2025-06-04T07:53:24.843Z"
   },
   {
    "duration": 2487,
    "start_time": "2025-06-04T08:18:27.396Z"
   },
   {
    "duration": 2365,
    "start_time": "2025-06-04T08:18:29.885Z"
   },
   {
    "duration": 3256,
    "start_time": "2025-06-04T08:18:32.253Z"
   },
   {
    "duration": 1943,
    "start_time": "2025-06-04T08:18:35.511Z"
   },
   {
    "duration": 3,
    "start_time": "2025-06-04T08:18:37.456Z"
   },
   {
    "duration": 34,
    "start_time": "2025-06-04T08:18:37.460Z"
   },
   {
    "duration": 16,
    "start_time": "2025-06-04T08:18:37.496Z"
   },
   {
    "duration": 39,
    "start_time": "2025-06-04T08:18:37.514Z"
   },
   {
    "duration": 5,
    "start_time": "2025-06-04T08:18:37.555Z"
   },
   {
    "duration": 8,
    "start_time": "2025-06-04T08:18:37.563Z"
   },
   {
    "duration": 15,
    "start_time": "2025-06-04T08:18:37.572Z"
   },
   {
    "duration": 34,
    "start_time": "2025-06-04T08:18:37.589Z"
   },
   {
    "duration": 60,
    "start_time": "2025-06-04T08:18:37.625Z"
   },
   {
    "duration": 13,
    "start_time": "2025-06-04T08:18:37.687Z"
   },
   {
    "duration": 47,
    "start_time": "2025-06-04T08:18:37.702Z"
   },
   {
    "duration": 11,
    "start_time": "2025-06-04T08:18:37.751Z"
   },
   {
    "duration": 128,
    "start_time": "2025-06-04T08:18:37.763Z"
   },
   {
    "duration": 9,
    "start_time": "2025-06-04T08:18:37.893Z"
   },
   {
    "duration": 10,
    "start_time": "2025-06-04T08:18:37.903Z"
   },
   {
    "duration": 4,
    "start_time": "2025-06-04T08:18:37.914Z"
   },
   {
    "duration": 13,
    "start_time": "2025-06-04T08:18:37.920Z"
   },
   {
    "duration": 5,
    "start_time": "2025-06-04T08:18:37.934Z"
   },
   {
    "duration": 16,
    "start_time": "2025-06-04T08:18:37.941Z"
   },
   {
    "duration": 25,
    "start_time": "2025-06-04T08:18:37.958Z"
   },
   {
    "duration": 74,
    "start_time": "2025-06-04T08:18:37.984Z"
   },
   {
    "duration": 49,
    "start_time": "2025-06-04T08:18:38.060Z"
   },
   {
    "duration": 135,
    "start_time": "2025-06-04T08:18:38.111Z"
   },
   {
    "duration": 16,
    "start_time": "2025-06-04T08:18:38.250Z"
   },
   {
    "duration": 3,
    "start_time": "2025-06-04T08:18:38.267Z"
   },
   {
    "duration": 19,
    "start_time": "2025-06-04T08:18:38.271Z"
   },
   {
    "duration": 5,
    "start_time": "2025-06-04T08:18:38.292Z"
   },
   {
    "duration": 27,
    "start_time": "2025-06-04T08:18:38.299Z"
   },
   {
    "duration": 28,
    "start_time": "2025-06-04T08:18:38.328Z"
   },
   {
    "duration": 434,
    "start_time": "2025-06-04T08:18:38.357Z"
   },
   {
    "duration": 364,
    "start_time": "2025-06-04T08:18:38.792Z"
   },
   {
    "duration": 413,
    "start_time": "2025-06-04T08:18:39.157Z"
   },
   {
    "duration": 444,
    "start_time": "2025-06-04T08:18:39.571Z"
   },
   {
    "duration": 374,
    "start_time": "2025-06-04T08:18:40.016Z"
   },
   {
    "duration": 273,
    "start_time": "2025-06-04T08:18:40.392Z"
   },
   {
    "duration": 305,
    "start_time": "2025-06-04T08:18:40.666Z"
   },
   {
    "duration": 277,
    "start_time": "2025-06-04T08:18:40.973Z"
   },
   {
    "duration": 229,
    "start_time": "2025-06-04T08:18:41.252Z"
   },
   {
    "duration": 23,
    "start_time": "2025-06-04T08:18:41.483Z"
   },
   {
    "duration": 33,
    "start_time": "2025-06-04T08:18:41.507Z"
   },
   {
    "duration": 413,
    "start_time": "2025-06-04T08:18:41.542Z"
   },
   {
    "duration": 394,
    "start_time": "2025-06-04T08:18:41.957Z"
   },
   {
    "duration": 404,
    "start_time": "2025-06-04T08:18:42.352Z"
   },
   {
    "duration": 296,
    "start_time": "2025-06-04T08:18:42.757Z"
   },
   {
    "duration": 233,
    "start_time": "2025-06-04T08:18:43.055Z"
   },
   {
    "duration": 274,
    "start_time": "2025-06-04T08:18:43.290Z"
   },
   {
    "duration": 293,
    "start_time": "2025-06-04T08:18:43.565Z"
   },
   {
    "duration": 227,
    "start_time": "2025-06-04T08:18:43.860Z"
   },
   {
    "duration": 289,
    "start_time": "2025-06-04T08:18:44.089Z"
   },
   {
    "duration": 495,
    "start_time": "2025-06-04T08:18:44.379Z"
   },
   {
    "duration": 5,
    "start_time": "2025-06-04T08:18:44.875Z"
   },
   {
    "duration": 7,
    "start_time": "2025-06-04T08:18:44.881Z"
   },
   {
    "duration": 5,
    "start_time": "2025-06-04T08:18:44.889Z"
   },
   {
    "duration": 13,
    "start_time": "2025-06-04T08:18:44.895Z"
   },
   {
    "duration": 36,
    "start_time": "2025-06-04T08:18:44.910Z"
   },
   {
    "duration": 461,
    "start_time": "2025-06-04T08:18:44.948Z"
   },
   {
    "duration": 4,
    "start_time": "2025-06-04T08:18:45.410Z"
   },
   {
    "duration": 122,
    "start_time": "2025-06-04T08:18:45.415Z"
   },
   {
    "duration": 1408,
    "start_time": "2025-06-04T08:18:45.540Z"
   },
   {
    "duration": 8,
    "start_time": "2025-06-04T08:18:46.949Z"
   },
   {
    "duration": 9212,
    "start_time": "2025-06-04T08:18:46.958Z"
   },
   {
    "duration": 5,
    "start_time": "2025-06-04T08:18:56.172Z"
   },
   {
    "duration": 46,
    "start_time": "2025-06-04T08:18:56.178Z"
   },
   {
    "duration": 4,
    "start_time": "2025-06-04T08:18:56.225Z"
   },
   {
    "duration": 4,
    "start_time": "2025-06-04T08:18:56.230Z"
   },
   {
    "duration": 4,
    "start_time": "2025-06-04T08:18:56.235Z"
   },
   {
    "duration": 5,
    "start_time": "2025-06-04T08:18:56.241Z"
   },
   {
    "duration": 4,
    "start_time": "2025-06-04T08:18:56.247Z"
   },
   {
    "duration": 3,
    "start_time": "2025-06-04T08:18:56.253Z"
   },
   {
    "duration": 5,
    "start_time": "2025-06-04T08:18:56.257Z"
   },
   {
    "duration": 118454,
    "start_time": "2025-06-04T08:18:56.263Z"
   },
   {
    "duration": 32,
    "start_time": "2025-06-04T08:20:54.719Z"
   },
   {
    "duration": 83,
    "start_time": "2025-06-04T08:20:54.753Z"
   },
   {
    "duration": 2,
    "start_time": "2025-06-04T08:20:54.838Z"
   },
   {
    "duration": 36,
    "start_time": "2025-06-04T08:20:54.842Z"
   },
   {
    "duration": 93568,
    "start_time": "2025-06-04T08:20:54.880Z"
   },
   {
    "duration": 5,
    "start_time": "2025-06-04T08:22:28.450Z"
   },
   {
    "duration": 1212,
    "start_time": "2025-06-04T08:22:28.462Z"
   },
   {
    "duration": 601,
    "start_time": "2025-06-04T08:22:29.676Z"
   },
   {
    "duration": 53,
    "start_time": "2025-06-04T08:22:30.279Z"
   },
   {
    "duration": 11,
    "start_time": "2025-06-04T08:22:30.334Z"
   },
   {
    "duration": 46,
    "start_time": "2025-06-04T08:22:30.347Z"
   },
   {
    "duration": 25,
    "start_time": "2025-06-04T08:22:30.395Z"
   },
   {
    "duration": 18,
    "start_time": "2025-06-04T08:22:30.422Z"
   },
   {
    "duration": 107,
    "start_time": "2025-06-04T08:22:30.442Z"
   },
   {
    "duration": 16,
    "start_time": "2025-06-04T08:22:30.551Z"
   },
   {
    "duration": 11,
    "start_time": "2025-06-04T08:22:30.568Z"
   },
   {
    "duration": 37,
    "start_time": "2025-06-04T08:22:30.580Z"
   },
   {
    "duration": 6,
    "start_time": "2025-06-04T08:22:30.618Z"
   },
   {
    "duration": 24,
    "start_time": "2025-06-04T08:22:30.625Z"
   },
   {
    "duration": 51,
    "start_time": "2025-06-04T08:22:30.651Z"
   },
   {
    "duration": 8,
    "start_time": "2025-06-04T08:22:30.704Z"
   },
   {
    "duration": 20,
    "start_time": "2025-06-04T08:22:30.714Z"
   },
   {
    "duration": 28,
    "start_time": "2025-06-04T08:22:30.735Z"
   },
   {
    "duration": 54,
    "start_time": "2025-06-04T08:22:30.765Z"
   },
   {
    "duration": 7,
    "start_time": "2025-06-04T08:22:30.820Z"
   },
   {
    "duration": 6,
    "start_time": "2025-06-04T08:22:30.829Z"
   },
   {
    "duration": 11,
    "start_time": "2025-06-04T08:22:30.837Z"
   },
   {
    "duration": 6,
    "start_time": "2025-06-04T08:22:30.850Z"
   },
   {
    "duration": 13,
    "start_time": "2025-06-04T08:22:30.857Z"
   },
   {
    "duration": 21,
    "start_time": "2025-06-04T08:22:30.871Z"
   },
   {
    "duration": 388,
    "start_time": "2025-06-04T08:22:30.894Z"
   },
   {
    "duration": 371,
    "start_time": "2025-06-04T08:22:31.283Z"
   },
   {
    "duration": 413,
    "start_time": "2025-06-04T08:22:31.655Z"
   },
   {
    "duration": 301,
    "start_time": "2025-06-04T08:22:32.070Z"
   },
   {
    "duration": 299,
    "start_time": "2025-06-04T08:22:32.373Z"
   },
   {
    "duration": 396,
    "start_time": "2025-06-04T08:22:32.674Z"
   },
   {
    "duration": 219,
    "start_time": "2025-06-04T08:22:33.071Z"
   },
   {
    "duration": 291,
    "start_time": "2025-06-04T08:22:33.292Z"
   },
   {
    "duration": 272,
    "start_time": "2025-06-04T08:22:33.584Z"
   },
   {
    "duration": 20,
    "start_time": "2025-06-04T08:22:33.858Z"
   },
   {
    "duration": 32,
    "start_time": "2025-06-04T08:22:33.879Z"
   },
   {
    "duration": 394,
    "start_time": "2025-06-04T08:22:33.913Z"
   },
   {
    "duration": 361,
    "start_time": "2025-06-04T08:22:34.309Z"
   },
   {
    "duration": 402,
    "start_time": "2025-06-04T08:22:34.671Z"
   },
   {
    "duration": 311,
    "start_time": "2025-06-04T08:22:35.074Z"
   },
   {
    "duration": 278,
    "start_time": "2025-06-04T08:22:35.386Z"
   },
   {
    "duration": 297,
    "start_time": "2025-06-04T08:22:35.666Z"
   },
   {
    "duration": 293,
    "start_time": "2025-06-04T08:22:35.965Z"
   },
   {
    "duration": 225,
    "start_time": "2025-06-04T08:22:36.260Z"
   },
   {
    "duration": 280,
    "start_time": "2025-06-04T08:22:36.487Z"
   },
   {
    "duration": 8,
    "start_time": "2025-06-04T08:22:36.769Z"
   },
   {
    "duration": 18,
    "start_time": "2025-06-04T08:22:36.779Z"
   },
   {
    "duration": 297,
    "start_time": "2025-06-04T08:22:36.798Z"
   },
   {
    "duration": 276,
    "start_time": "2025-06-04T08:22:37.097Z"
   },
   {
    "duration": 296,
    "start_time": "2025-06-04T08:22:37.375Z"
   },
   {
    "duration": 401,
    "start_time": "2025-06-04T08:22:37.673Z"
   },
   {
    "duration": 290,
    "start_time": "2025-06-04T08:22:38.076Z"
   },
   {
    "duration": 7,
    "start_time": "2025-06-04T08:22:38.368Z"
   },
   {
    "duration": 394,
    "start_time": "2025-06-04T08:22:38.376Z"
   },
   {
    "duration": 389,
    "start_time": "2025-06-04T08:22:38.772Z"
   },
   {
    "duration": 419,
    "start_time": "2025-06-04T08:22:39.162Z"
   },
   {
    "duration": 118,
    "start_time": "2025-06-04T08:22:39.582Z"
   },
   {
    "duration": 365,
    "start_time": "2025-06-04T08:22:39.702Z"
   },
   {
    "duration": 3,
    "start_time": "2025-06-04T08:22:40.069Z"
   },
   {
    "duration": 13,
    "start_time": "2025-06-04T08:22:40.074Z"
   },
   {
    "duration": 77,
    "start_time": "2025-06-04T08:22:40.089Z"
   },
   {
    "duration": 20,
    "start_time": "2025-06-04T08:22:40.167Z"
   },
   {
    "duration": 116,
    "start_time": "2025-06-04T08:22:40.188Z"
   },
   {
    "duration": 19,
    "start_time": "2025-06-04T08:22:40.306Z"
   },
   {
    "duration": 14,
    "start_time": "2025-06-04T08:22:40.326Z"
   },
   {
    "duration": 7,
    "start_time": "2025-06-04T08:22:40.341Z"
   },
   {
    "duration": 25,
    "start_time": "2025-06-04T08:22:40.349Z"
   },
   {
    "duration": 42,
    "start_time": "2025-06-04T08:22:40.376Z"
   },
   {
    "duration": 10,
    "start_time": "2025-06-04T08:22:40.420Z"
   },
   {
    "duration": 573,
    "start_time": "2025-06-04T08:22:40.432Z"
   },
   {
    "duration": 132,
    "start_time": "2025-06-04T08:22:41.007Z"
   },
   {
    "duration": 1496,
    "start_time": "2025-06-04T08:22:41.141Z"
   },
   {
    "duration": 5,
    "start_time": "2025-06-04T08:22:42.639Z"
   },
   {
    "duration": 1623,
    "start_time": "2025-06-04T08:22:42.646Z"
   },
   {
    "duration": 5,
    "start_time": "2025-06-04T08:22:44.270Z"
   },
   {
    "duration": 6,
    "start_time": "2025-06-04T08:22:44.276Z"
   },
   {
    "duration": 4,
    "start_time": "2025-06-04T08:22:44.284Z"
   },
   {
    "duration": 23,
    "start_time": "2025-06-04T08:22:44.290Z"
   },
   {
    "duration": 9,
    "start_time": "2025-06-04T08:22:44.315Z"
   },
   {
    "duration": 15,
    "start_time": "2025-06-04T08:22:44.326Z"
   },
   {
    "duration": 7,
    "start_time": "2025-06-04T08:22:44.343Z"
   },
   {
    "duration": 26,
    "start_time": "2025-06-04T08:22:44.351Z"
   },
   {
    "duration": 9,
    "start_time": "2025-06-04T08:22:44.379Z"
   },
   {
    "duration": 6,
    "start_time": "2025-06-04T08:22:44.389Z"
   },
   {
    "duration": 37689,
    "start_time": "2025-06-04T08:22:44.396Z"
   },
   {
    "duration": 29,
    "start_time": "2025-06-04T08:23:22.087Z"
   },
   {
    "duration": 17,
    "start_time": "2025-06-04T08:23:22.118Z"
   },
   {
    "duration": 95,
    "start_time": "2025-06-04T08:23:22.137Z"
   },
   {
    "duration": 88,
    "start_time": "2025-06-04T08:23:22.233Z"
   },
   {
    "duration": 13,
    "start_time": "2025-06-04T08:23:22.323Z"
   },
   {
    "duration": 253,
    "start_time": "2025-06-04T08:23:22.338Z"
   },
   {
    "duration": 3,
    "start_time": "2025-06-04T08:23:22.593Z"
   },
   {
    "duration": 19,
    "start_time": "2025-06-04T08:23:22.598Z"
   },
   {
    "duration": 2905,
    "start_time": "2025-06-04T08:23:22.635Z"
   },
   {
    "duration": 5,
    "start_time": "2025-06-04T08:23:25.542Z"
   },
   {
    "duration": 1024,
    "start_time": "2025-06-04T08:23:25.548Z"
   },
   {
    "duration": 524,
    "start_time": "2025-06-04T08:23:26.574Z"
   }
  ],
  "kernelspec": {
   "display_name": "Python 3 (ipykernel)",
   "language": "python",
   "name": "python3"
  },
  "language_info": {
   "codemirror_mode": {
    "name": "ipython",
    "version": 3
   },
   "file_extension": ".py",
   "mimetype": "text/x-python",
   "name": "python",
   "nbconvert_exporter": "python",
   "pygments_lexer": "ipython3",
   "version": "3.11.12"
  },
  "toc": {
   "base_numbering": 1,
   "nav_menu": {},
   "number_sections": true,
   "sideBar": true,
   "skip_h1_title": true,
   "title_cell": "Table of Contents",
   "title_sidebar": "Contents",
   "toc_cell": false,
   "toc_position": {
    "height": "calc(100% - 180px)",
    "left": "10px",
    "top": "150px",
    "width": "257.7px"
   },
   "toc_section_display": true,
   "toc_window_display": true
  }
 },
 "nbformat": 4,
 "nbformat_minor": 5
}
